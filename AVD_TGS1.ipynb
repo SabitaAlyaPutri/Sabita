<!DOCTYPE html>
<!-- saved from url=(0095)https://colab.research.google.com/drive/1XwRUBhhMyewidBQ9kb-MQHKncez4l_pF#scrollTo=qe0vtaLVeZKb -->
<html lang="en" theme="light" editor="Default Light"><head><meta http-equiv="Content-Type" content="text/html; charset=UTF-8"><meta http-equiv="origin-trial" content="A/kargTFyk8MR5ueravczef/wIlTkbVk1qXQesp39nV+xNECPdLBVeYffxrM8TmZT6RArWGQVCJ0LRivD7glcAUAAACQeyJvcmlnaW4iOiJodHRwczovL2dvb2dsZS5jb206NDQzIiwiZmVhdHVyZSI6IkRpc2FibGVUaGlyZFBhcnR5U3RvcmFnZVBhcnRpdGlvbmluZzIiLCJleHBpcnkiOjE3NDIzNDIzOTksImlzU3ViZG9tYWluIjp0cnVlLCJpc1RoaXJkUGFydHkiOnRydWV9"><meta http-equiv="origin-trial" content="A/kargTFyk8MR5ueravczef/wIlTkbVk1qXQesp39nV+xNECPdLBVeYffxrM8TmZT6RArWGQVCJ0LRivD7glcAUAAACQeyJvcmlnaW4iOiJodHRwczovL2dvb2dsZS5jb206NDQzIiwiZmVhdHVyZSI6IkRpc2FibGVUaGlyZFBhcnR5U3RvcmFnZVBhcnRpdGlvbmluZzIiLCJleHBpcnkiOjE3NDIzNDIzOTksImlzU3ViZG9tYWluIjp0cnVlLCJpc1RoaXJkUGFydHkiOnRydWV9"><script type="text/javascript" async="" charset="utf-8" src="./AVD_TGS1_files/recaptcha__en.js.download" crossorigin="anonymous" integrity="sha384-61VR//KO5vDNAFE1O0P7MzEOKj68zRELxJeYIL5DD4Cj1hdU5Cro7XZfUD04Ca7S" nonce=""></script><script type="text/javascript" async="" charset="utf-8" src="./AVD_TGS1_files/recaptcha__en.js.download" crossorigin="anonymous" integrity="sha384-61VR//KO5vDNAFE1O0P7MzEOKj68zRELxJeYIL5DD4Cj1hdU5Cro7XZfUD04Ca7S" nonce=""></script><script type="text/javascript" async="" src="./AVD_TGS1_files/js" nonce=""></script><script src="./AVD_TGS1_files/cb=gapi.loaded_1" nonce="" async=""></script><script src="./AVD_TGS1_files/cb=gapi.loaded_0" nonce="" async=""></script><script async="" src="./AVD_TGS1_files/analytics.js.download"></script><script nonce="">
      document.addEventListener('keydown', (e) => {
        // Stop propagation on ESC because otherwise it will halt outbound XHRs
        // See b/131755324 for more info.
        if (e.key === 'Escape') {
          e.stopPropagation();
          e.preventDefault();
        }
      });
    </script><meta name="referrer" content="origin"><meta name="viewport" content="width=device-width, initial-scale=1"><title>AVD_TGS1.ipynb - Colab</title><link href="./AVD_TGS1_files/css2" rel="stylesheet"><link href="./AVD_TGS1_files/css" rel="stylesheet"><link rel="search" type="application/opensearchdescription+xml" href="https://colab.research.google.com/opensearch.xml" title="Google Colab"><style>.gb_2d{font:13px/27px Roboto,Arial,sans-serif;z-index:986}@-webkit-keyframes gb__a{0%{opacity:0}50%{opacity:1}}@keyframes gb__a{0%{opacity:0}50%{opacity:1}}a.gb_Qa{border:none;color:#4285f4;cursor:default;font-weight:bold;outline:none;position:relative;text-align:center;text-decoration:none;text-transform:uppercase;white-space:nowrap;-webkit-user-select:none}a.gb_Qa:hover::after,a.gb_Qa:focus::after{background-color:rgba(0,0,0,.12);content:"";height:100%;left:0;position:absolute;top:0;width:100%}a.gb_Qa:hover,a.gb_Qa:focus{text-decoration:none}a.gb_Qa:active{background-color:rgba(153,153,153,.4);text-decoration:none}a.gb_Ra{background-color:#4285f4;color:#fff}a.gb_Ra:active{background-color:#0043b2}.gb_Sa{box-shadow:0 1px 1px rgba(0,0,0,.16)}.gb_Qa,.gb_Ra,.gb_Ta,.gb_Ua{display:inline-block;line-height:28px;padding:0 12px;border-radius:2px}.gb_Ta{background:#f8f8f8;border:1px solid #c6c6c6}.gb_Ua{background:#f8f8f8}.gb_Ta,#gb a.gb_Ta.gb_Ta,.gb_Ua{color:#666;cursor:default;text-decoration:none}#gb a.gb_Ua{cursor:default;text-decoration:none}.gb_Ua{border:1px solid #4285f4;font-weight:bold;outline:none;background:#4285f4;background:-webkit-gradient(linear,left top,left bottom,from(top),color-stop(#4387fd),to(#4683ea));background:-webkit-linear-gradient(top,#4387fd,#4683ea);background:linear-gradient(top,#4387fd,#4683ea);filter:progid:DXImageTransform.Microsoft.gradient(startColorstr=#4387fd,endColorstr=#4683ea,GradientType=0)}#gb a.gb_Ua{color:#fff}.gb_Ua:hover{box-shadow:0 1px 0 rgba(0,0,0,.15)}.gb_Ua:active{box-shadow:inset 0 2px 0 rgba(0,0,0,.15);background:#3c78dc;background:-webkit-gradient(linear,left top,left bottom,from(top),color-stop(#3c7ae4),to(#3f76d3));background:-webkit-linear-gradient(top,#3c7ae4,#3f76d3);background:linear-gradient(top,#3c7ae4,#3f76d3);filter:progid:DXImageTransform.Microsoft.gradient(startColorstr=#3c7ae4,endColorstr=#3f76d3,GradientType=0)}#gb .gb_Va{background:#fff;border:1px solid #dadce0;color:#1a73e8;display:inline-block;text-decoration:none}#gb .gb_Va:hover{background:#f8fbff;border-color:#dadce0;color:#174ea6}#gb .gb_Va:focus{background:#f4f8ff;color:#174ea6;outline:1px solid #174ea6}#gb .gb_Va:active,#gb .gb_Va:focus:active{background:#ecf3fe;color:#174ea6}#gb .gb_Va.gb_H{background:transparent;border:1px solid #5f6368;color:#8ab4f8;text-decoration:none}#gb .gb_Va.gb_H:hover{background:rgba(255,255,255,.04);color:#e8eaed}#gb .gb_Va.gb_H:focus{background:rgba(232,234,237,.12);color:#e8eaed;outline:1px solid #e8eaed}#gb .gb_Va.gb_H:active,#gb .gb_Va.gb_H:focus:active{background:rgba(232,234,237,.1);color:#e8eaed}.gb_cd{display:inline-block;vertical-align:middle}.gb_Ne .gb_Q{bottom:-3px;right:-5px}.gb_D{position:relative}.gb_B{display:inline-block;outline:none;vertical-align:middle;border-radius:2px;box-sizing:border-box;height:40px;width:40px;cursor:pointer;text-decoration:none}#gb#gb a.gb_B{cursor:pointer;text-decoration:none}.gb_B,a.gb_B{color:#000}.gb_dd{border-color:transparent;border-bottom-color:#fff;border-style:dashed dashed solid;border-width:0 8.5px 8.5px;display:none;position:absolute;left:11.5px;top:33px;z-index:1;height:0;width:0;-webkit-animation:gb__a .2s;animation:gb__a .2s}.gb_ed{border-color:transparent;border-style:dashed dashed solid;border-width:0 8.5px 8.5px;display:none;position:absolute;left:11.5px;z-index:1;height:0;width:0;-webkit-animation:gb__a .2s;animation:gb__a .2s;border-bottom-color:rgba(0,0,0,.2);top:32px}x:-o-prefocus,div.gb_ed{border-bottom-color:#ccc}.gb_la{background:#fff;border:1px solid #ccc;border-color:rgba(0,0,0,.2);color:#000;-webkit-box-shadow:0 2px 10px rgba(0,0,0,.2);box-shadow:0 2px 10px rgba(0,0,0,.2);display:none;outline:none;overflow:hidden;position:absolute;right:8px;top:62px;-webkit-animation:gb__a .2s;animation:gb__a .2s;border-radius:2px;-webkit-user-select:text}.gb_cd.gb_Tc .gb_dd,.gb_cd.gb_Tc .gb_ed,.gb_cd.gb_Tc .gb_la,.gb_Tc.gb_la{display:block}.gb_cd.gb_Tc.gb_fd .gb_dd,.gb_cd.gb_Tc.gb_fd .gb_ed{display:none}.gb_Oe{position:absolute;right:8px;top:62px;z-index:-1}.gb_gd .gb_dd,.gb_gd .gb_ed,.gb_gd .gb_la{margin-top:-10px}.gb_cd:first-child,#gbsfw:first-child+.gb_cd{padding-left:4px}.gb_Fa.gb_Pe .gb_cd:first-child{padding-left:0}.gb_Qe{position:relative}.gb_2c .gb_Qe,.gb_Jd .gb_Qe{float:right}.gb_B{padding:8px;cursor:pointer}.gb_B::after{content:"";position:absolute;top:-4px;bottom:-4px;left:-4px;right:-4px}.gb_Fa .gb_hd:not(.gb_Qa):focus img{background-color:rgba(0,0,0,.2);outline:none;-webkit-border-radius:50%;border-radius:50%}.gb_id button svg,.gb_B{-webkit-border-radius:50%;border-radius:50%}.gb_id button:focus:not(:focus-visible) svg,.gb_id button:hover svg,.gb_id button:active svg,.gb_B:focus:not(:focus-visible),.gb_B:hover,.gb_B:active,.gb_B[aria-expanded=true]{outline:none}.gb_Lc .gb_id.gb_jd button:focus-visible svg,.gb_id button:focus-visible svg,.gb_B:focus-visible{outline:1px solid #202124}.gb_Lc .gb_id button:focus-visible svg,.gb_Lc .gb_B:focus-visible{outline:1px solid #f1f3f4}@media (forced-colors:active){.gb_Lc .gb_id.gb_jd button:focus-visible svg,.gb_id button:focus-visible svg,.gb_Lc .gb_id button:focus-visible svg{outline:1px solid currentcolor}}.gb_Lc .gb_id.gb_jd button:focus svg,.gb_Lc .gb_id.gb_jd button:focus:hover svg,.gb_id button:focus svg,.gb_id button:focus:hover svg,.gb_B:focus,.gb_B:focus:hover{background-color:rgba(60,64,67,.1)}.gb_Lc .gb_id.gb_jd button:active svg,.gb_id button:active svg,.gb_B:active{background-color:rgba(60,64,67,.12)}.gb_Lc .gb_id.gb_jd button:hover svg,.gb_id button:hover svg,.gb_B:hover{background-color:rgba(60,64,67,.08)}.gb_Wa .gb_B.gb_Za:hover{background-color:transparent}.gb_B[aria-expanded=true],.gb_B:hover[aria-expanded=true]{background-color:rgba(95,99,104,.24)}.gb_B[aria-expanded=true] .gb_F{fill:#5f6368;opacity:1}.gb_Lc .gb_id button:hover svg,.gb_Lc .gb_B:hover{background-color:rgba(232,234,237,.08)}.gb_Lc .gb_id button:focus svg,.gb_Lc .gb_id button:focus:hover svg,.gb_Lc .gb_B:focus,.gb_Lc .gb_B:focus:hover{background-color:rgba(232,234,237,.1)}.gb_Lc .gb_id button:active svg,.gb_Lc .gb_B:active{background-color:rgba(232,234,237,.12)}.gb_Lc .gb_B[aria-expanded=true],.gb_Lc .gb_B:hover[aria-expanded=true]{background-color:rgba(255,255,255,.12)}.gb_Lc .gb_B[aria-expanded=true] .gb_F{fill:#fff;opacity:1}.gb_cd{padding:4px}.gb_Fa.gb_Pe .gb_cd{padding:4px 2px}.gb_Fa.gb_Pe .gb_z.gb_cd{padding-left:6px}.gb_la{z-index:991;line-height:normal}.gb_la.gb_kd{left:0;right:auto}@media (max-width:350px){.gb_la.gb_kd{left:0}}.gb_Re .gb_la{top:56px}.gb_R{display:none!important}.gb_nd{visibility:hidden}.gb_J .gb_B,.gb_ka .gb_J .gb_B{background-position:-64px -29px}.gb_1 .gb_J .gb_B{background-position:-29px -29px;opacity:1}.gb_J .gb_B,.gb_J .gb_B:hover,.gb_J .gb_B:focus{opacity:1}.gb_L{display:none}@media screen and (max-width:319px){.gb_ld:not(.gb_md) .gb_J{display:none;visibility:hidden}}.gb_Q{display:none}.gb_9c{font-family:Google Sans,Roboto,Helvetica,Arial,sans-serif;font-size:20px;font-weight:400;letter-spacing:0.25px;line-height:48px;margin-bottom:2px;opacity:1;overflow:hidden;padding-left:16px;position:relative;text-overflow:ellipsis;vertical-align:middle;top:2px;white-space:nowrap;-webkit-flex:1 1 auto;-webkit-box-flex:1;flex:1 1 auto}.gb_9c.gb_ad{color:#3c4043}.gb_Fa.gb_cc .gb_9c{margin-bottom:0}.gb_sd.gb_ud .gb_9c{padding-left:4px}.gb_Fa.gb_cc .gb_vd{position:relative;top:-2px}.gb_bd{display:none}.gb_Fa{color:black;min-width:160px;position:relative;-webkit-transition:box-shadow 250ms;transition:box-shadow 250ms}.gb_Fa.gb_Sc{min-width:120px}.gb_Fa.gb_wd .gb_xd{display:none}.gb_Fa.gb_wd .gb_ld{height:56px}header.gb_Fa{display:block}.gb_Fa svg{fill:currentColor}.gb_Dd{position:fixed;top:0;width:100%}.gb_yd{-webkit-box-shadow:0 4px 5px 0 rgba(0,0,0,.14),0 1px 10px 0 rgba(0,0,0,.12),0 2px 4px -1px rgba(0,0,0,.2);box-shadow:0 4px 5px 0 rgba(0,0,0,.14),0 1px 10px 0 rgba(0,0,0,.12),0 2px 4px -1px rgba(0,0,0,.2)}.gb_Ed{height:64px}.gb_ld{-webkit-box-sizing:border-box;box-sizing:border-box;position:relative;width:100%;display:-webkit-box;display:-webkit-flex;display:flex;-webkit-box-pack:space-between;-webkit-justify-content:space-between;justify-content:space-between;min-width:-webkit-min-content;min-width:min-content}.gb_Fa:not(.gb_cc) .gb_ld{padding:8px}.gb_Fa.gb_Fd .gb_ld{-webkit-flex:1 0 auto;-webkit-box-flex:1;flex:1 0 auto}.gb_Fa .gb_ld.gb_md.gb_Hd{min-width:0}.gb_Fa.gb_cc .gb_ld{padding:4px;padding-left:8px;min-width:0}.gb_xd{height:48px;vertical-align:middle;white-space:nowrap;-webkit-box-align:center;-webkit-align-items:center;align-items:center;display:-webkit-box;display:-webkit-flex;display:flex;-webkit-user-select:none}.gb_Ad>.gb_xd{display:table-cell;width:100%}.gb_sd{padding-right:30px;box-sizing:border-box;-webkit-flex:1 0 auto;-webkit-box-flex:1;flex:1 0 auto}.gb_Fa.gb_cc .gb_sd{padding-right:14px}.gb_Bd{-webkit-flex:1 1 100%;-webkit-box-flex:1;flex:1 1 100%}.gb_Bd>:only-child{display:inline-block}.gb_Cd.gb_3c{padding-left:4px}.gb_Cd.gb_Id,.gb_Fa.gb_Fd .gb_Cd,.gb_Fa.gb_cc:not(.gb_Jd) .gb_Cd{padding-left:0}.gb_Fa.gb_cc .gb_Cd.gb_Id{padding-right:0}.gb_Fa.gb_cc .gb_Cd.gb_Id .gb_Wa{margin-left:10px}.gb_3c{display:inline}.gb_Fa.gb_Wc .gb_Cd.gb_Kd,.gb_Fa.gb_Jd .gb_Cd.gb_Kd{padding-left:2px}.gb_9c{display:inline-block}.gb_Cd{-webkit-box-sizing:border-box;box-sizing:border-box;height:48px;line-height:normal;padding:0 4px;padding-left:30px;-webkit-flex:0 0 auto;-webkit-box-flex:0;flex:0 0 auto;-webkit-box-pack:flex-end;-webkit-justify-content:flex-end;justify-content:flex-end}.gb_Jd{height:48px}.gb_Fa.gb_Jd{min-width:auto}.gb_Jd .gb_Cd{float:right;padding-left:32px}.gb_Jd .gb_Cd.gb_Ld{padding-left:0}.gb_Md{font-size:14px;max-width:200px;overflow:hidden;padding:0 12px;text-overflow:ellipsis;white-space:nowrap;-webkit-user-select:text}.gb_pd{-webkit-transition:background-color .4s;-webkit-transition:background-color .4s;transition:background-color .4s}.gb_Nd{color:black}.gb_Lc{color:white}.gb_Fa a,.gb_Pc a{color:inherit}.gb_ba{color:rgba(0,0,0,.87)}.gb_Fa svg,.gb_Pc svg,.gb_sd .gb_td,.gb_2c .gb_td{color:#5f6368;opacity:1}.gb_Lc svg,.gb_Pc.gb_Uc svg,.gb_Lc .gb_sd .gb_td,.gb_Lc .gb_sd .gb_Kc,.gb_Lc .gb_sd .gb_vd,.gb_Pc.gb_Uc .gb_td{color:rgba(255,255,255,.87)}.gb_Lc .gb_sd .gb_Od:not(.gb_Pd){opacity:.87}.gb_ad{color:inherit;opacity:1;text-rendering:optimizeLegibility;-webkit-font-smoothing:antialiased}.gb_Lc .gb_ad,.gb_Nd .gb_ad{opacity:1}.gb_Qd{position:relative}.gb_M{font-family:arial,sans-serif;line-height:normal;padding-right:15px}a.gb_X,span.gb_X{color:rgba(0,0,0,.87);text-decoration:none}.gb_Lc a.gb_X,.gb_Lc span.gb_X{color:white}a.gb_X:focus{outline-offset:2px}a.gb_X:hover{text-decoration:underline}.gb_Z{display:inline-block;padding-left:15px}.gb_Z .gb_X{display:inline-block;line-height:24px;vertical-align:middle}.gb_qd{font-family:Google Sans,Roboto,Helvetica,Arial,sans-serif;font-weight:500;font-size:14px;letter-spacing:.25px;line-height:16px;margin-left:10px;margin-right:8px;min-width:96px;padding:9px 23px;text-align:center;vertical-align:middle;border-radius:4px;box-sizing:border-box}.gb_Fa.gb_Jd .gb_qd{margin-left:8px}#gb a.gb_Ua.gb_qd{cursor:pointer}.gb_Ua.gb_qd:hover{background:#1b66c9;-webkit-box-shadow:0 1px 3px 1px rgba(66,64,67,.15),0 1px 2px 0 rgba(60,64,67,.3);box-shadow:0 1px 3px 1px rgba(66,64,67,.15),0 1px 2px 0 rgba(60,64,67,.3)}.gb_Ua.gb_qd:focus,.gb_Ua.gb_qd:hover:focus{background:#1c5fba;-webkit-box-shadow:0 1px 3px 1px rgba(66,64,67,.15),0 1px 2px 0 rgba(60,64,67,.3);box-shadow:0 1px 3px 1px rgba(66,64,67,.15),0 1px 2px 0 rgba(60,64,67,.3)}.gb_Ua.gb_qd:active{background:#1b63c1;-webkit-box-shadow:0 1px 3px 1px rgba(66,64,67,.15),0 1px 2px 0 rgba(60,64,67,.3);box-shadow:0 1px 3px 1px rgba(66,64,67,.15),0 1px 2px 0 rgba(60,64,67,.3)}.gb_qd{background:#1a73e8;border:1px solid transparent}.gb_Fa.gb_cc .gb_qd{padding:9px 15px;min-width:80px}.gb_Rd{text-align:left}#gb .gb_Lc a.gb_qd:not(.gb_H),#gb.gb_Lc a.gb_qd{background:#fff;border-color:#dadce0;-webkit-box-shadow:none;box-shadow:none;color:#1a73e8}#gb a.gb_Ua.gb_H.gb_qd{background:#8ab4f8;border:1px solid transparent;-webkit-box-shadow:none;box-shadow:none;color:#202124}#gb .gb_Lc a.gb_qd:hover:not(.gb_H),#gb.gb_Lc a.gb_qd:hover{background:#f8fbff;border-color:#cce0fc}#gb a.gb_Ua.gb_H.gb_qd:hover{background:#93baf9;border-color:transparent;-webkit-box-shadow:0 1px 3px 1px rgba(0,0,0,.15),0 1px 2px rgba(0,0,0,.3);box-shadow:0 1px 3px 1px rgba(0,0,0,.15),0 1px 2px rgba(0,0,0,.3)}#gb .gb_Lc a.gb_qd:focus:not(.gb_H),#gb .gb_Lc a.gb_qd:focus:hover:not(.gb_H),#gb.gb_Lc a.gb_qd:focus:not(.gb_H),#gb.gb_Lc a.gb_qd:focus:hover:not(.gb_H){background:#f4f8ff;outline:1px solid #c9ddfc}#gb a.gb_Ua.gb_H.gb_qd:focus,#gb a.gb_Ua.gb_H.gb_qd:focus:hover{background:#a6c6fa;border-color:transparent;-webkit-box-shadow:none;box-shadow:none}#gb .gb_Lc a.gb_qd:active:not(.gb_H),#gb.gb_Lc a.gb_qd:active{background:#ecf3fe}#gb a.gb_Ua.gb_H.gb_qd:active{background:#a1c3f9;-webkit-box-shadow:0 1px 2px rgba(60,64,67,.3),0 2px 6px 2px rgba(60,64,67,.15);box-shadow:0 1px 2px rgba(60,64,67,.3),0 2px 6px 2px rgba(60,64,67,.15)}.gb_K{display:none}@media screen and (max-width:319px){.gb_ld .gb_J{display:none;visibility:hidden}}.gb_Wa{background-color:rgba(255,255,255,.88);border:1px solid #dadce0;-webkit-box-sizing:border-box;box-sizing:border-box;cursor:pointer;display:inline-block;max-height:48px;overflow:hidden;outline:none;padding:0;vertical-align:middle;width:134px;-webkit-border-radius:8px;border-radius:8px}.gb_Wa.gb_H{background-color:transparent;border:1px solid #5f6368}.gb_3a{display:inherit}.gb_Wa.gb_H .gb_3a{background:#fff;-webkit-border-radius:4px;border-radius:4px;display:inline-block;left:8px;margin-right:5px;position:relative;padding:3px;top:-1px}.gb_Wa:hover{border:1px solid #d2e3fc;background-color:rgba(248,250,255,.88)}.gb_Wa.gb_H:hover{background-color:rgba(241,243,244,.04);border:1px solid #5f6368}.gb_Wa:focus-visible,.gb_Wa:focus{background-color:#fff;outline:1px solid #202124;-webkit-box-shadow:0 1px 2px 0 rgba(60,64,67,.3),0 1px 3px 1px rgba(60,64,67,.15);box-shadow:0 1px 2px 0 rgba(60,64,67,.3),0 1px 3px 1px rgba(60,64,67,.15)}.gb_Wa.gb_H:focus-visible,.gb_Wa.gb_H:focus{background-color:rgba(241,243,244,.12);outline:1px solid #f1f3f4;-webkit-box-shadow:0 1px 3px 1px rgba(0,0,0,.15),0 1px 2px 0 rgba(0,0,0,.3);box-shadow:0 1px 3px 1px rgba(0,0,0,.15),0 1px 2px 0 rgba(0,0,0,.3)}.gb_Wa.gb_H:active,.gb_Wa.gb_Tc.gb_H:focus{background-color:rgba(241,243,244,.1);border:1px solid #5f6368}.gb_4a{display:inline-block;padding-bottom:2px;padding-left:7px;padding-top:2px;text-align:center;vertical-align:middle;line-height:32px;width:78px}.gb_Wa.gb_H .gb_4a{line-height:26px;margin-left:0;padding-bottom:0;padding-left:0;padding-top:0;width:72px}.gb_4a.gb_5a{background-color:#f1f3f4;-webkit-border-radius:4px;border-radius:4px;margin-left:8px;padding-left:0;line-height:30px}.gb_4a.gb_5a .gb_Ic{vertical-align:middle}.gb_Fa:not(.gb_cc) .gb_Wa{margin-left:10px;margin-right:4px}.gb_Sd{max-height:32px;width:78px}.gb_Wa.gb_H .gb_Sd{max-height:26px;width:72px}.gb_P{-webkit-background-size:32px 32px;background-size:32px 32px;border:0;-webkit-border-radius:50%;border-radius:50%;display:block;margin:0px;position:relative;height:32px;width:32px;z-index:0}.gb_eb{background-color:#e8f0fe;border:1px solid rgba(32,33,36,.08);position:relative}.gb_eb.gb_P{height:30px;width:30px}.gb_eb.gb_P:hover,.gb_eb.gb_P:active{-webkit-box-shadow:none;box-shadow:none}.gb_fb{background:#fff;border:none;-webkit-border-radius:50%;border-radius:50%;bottom:2px;-webkit-box-shadow:0px 1px 2px 0px rgba(60,64,67,.30),0px 1px 3px 1px rgba(60,64,67,.15);box-shadow:0px 1px 2px 0px rgba(60,64,67,.30),0px 1px 3px 1px rgba(60,64,67,.15);height:14px;margin:2px;position:absolute;right:0;width:14px}.gb_wc{color:#1f71e7;font:400 22px/32px Google Sans,Roboto,Helvetica,Arial,sans-serif;text-align:center;text-transform:uppercase}@media (-webkit-min-device-pixel-ratio:1.25),(min-resolution:1.25dppx),(min-device-pixel-ratio:1.25){.gb_P::before,.gb_gb::before{display:inline-block;-webkit-transform:scale(0.5);-webkit-transform:scale(0.5);transform:scale(0.5);-webkit-transform-origin:left 0;-webkit-transform-origin:left 0;transform-origin:left 0}.gb_3 .gb_gb::before{-webkit-transform:scale(scale(0.416666667));-webkit-transform:scale(scale(0.416666667));transform:scale(scale(0.416666667))}}.gb_P:hover,.gb_P:focus{-webkit-box-shadow:0 1px 0 rgba(0,0,0,.15);box-shadow:0 1px 0 rgba(0,0,0,.15)}.gb_P:active{-webkit-box-shadow:inset 0 2px 0 rgba(0,0,0,.15);box-shadow:inset 0 2px 0 rgba(0,0,0,.15)}.gb_P:active::after{background:rgba(0,0,0,.1);-webkit-border-radius:50%;border-radius:50%;content:"";display:block;height:100%}.gb_hb{cursor:pointer;line-height:40px;min-width:30px;opacity:.75;overflow:hidden;vertical-align:middle;text-overflow:ellipsis}.gb_B.gb_hb{width:auto}.gb_hb:hover,.gb_hb:focus{opacity:.85}.gb_gd .gb_hb,.gb_gd .gb_Ud{line-height:26px}#gb#gb.gb_gd a.gb_hb,.gb_gd .gb_Ud{font-size:11px;height:auto}.gb_ib{border-top:4px solid #000;border-left:4px dashed transparent;border-right:4px dashed transparent;display:inline-block;margin-left:6px;opacity:.75;vertical-align:middle}.gb_Za:hover .gb_ib{opacity:.85}.gb_Wa>.gb_z{padding:3px 3px 3px 4px}.gb_Vd.gb_nd{color:#fff}.gb_1 .gb_hb,.gb_1 .gb_ib{opacity:1}#gb#gb.gb_1.gb_1 a.gb_hb,#gb#gb .gb_1.gb_1 a.gb_hb{color:#fff}.gb_1.gb_1 .gb_ib{border-top-color:#fff;opacity:1}.gb_ka .gb_P:hover,.gb_1 .gb_P:hover,.gb_ka .gb_P:focus,.gb_1 .gb_P:focus{-webkit-box-shadow:0 1px 0 rgba(0,0,0,.15),0 1px 2px rgba(0,0,0,.2);box-shadow:0 1px 0 rgba(0,0,0,.15),0 1px 2px rgba(0,0,0,.2)}.gb_Wd .gb_z,.gb_Xd .gb_z{position:absolute;right:1px}.gb_z.gb_0,.gb_jb.gb_0,.gb_Za.gb_0{-webkit-flex:0 1 auto;-webkit-box-flex:0;flex:0 1 auto}.gb_Zd.gb_0d .gb_hb{width:30px!important}.gb_1d{height:40px;position:absolute;right:-5px;top:-5px;width:40px}.gb_2d .gb_1d,.gb_3d .gb_1d{right:0;top:0}.gb_z .gb_B{padding:4px}.gb_S{display:none}sentinel{}</style><script nonce="">;this.gbar_={CONFIG:[[[0,"www.gstatic.com","og.qtm.en_US.eebVy_fNKiM.2019.O","co.id","en","425",0,[4,2,"","","","735207307","0"],null,"ikTQZ6GTJaSowN4Pt8m4uAE",null,0,"og.qtm.sDa5bc0wD58.L.W.O","AA2YrTv9PWxAWOkNMB0THY2YxYWamdWWtA","AA2YrTucClwlLUqaQmlTybxGncrc_XS2Pg","",2,1,200,"IDN",null,null,"425","425",1,null,null,114591953,null,0],null,[1,0.1000000014901161,2,1],null,[1,0,0,null,"0","sabitaalyap16@gmail.com","","AAc6HT3ye3ys5VJwPGmnBZikaFEUoYyrdw6hV_DWG8g0Qw-ZLeDHFmE71yZrbObJPZc2hoSG-bUX2IrYjkXYPFv6s9OGN7nxAg",0,0,0,""],[0,0,"",1,0,0,0,0,0,0,null,0,0,null,0,0,null,null,0,0,0,"","","","","","",null,0,0,0,0,0,null,null,null,"rgba(32,33,36,1)","rgba(255,255,255,1)",0,0,0,null,null,null,0],["%1$s (default)","Brand account",1,"%1$s (delegated)",1,null,83,"https://colab.research.google.com/drive/1XwRUBhhMyewidBQ9kb-MQHKncez4l_pF?authuser=$authuser",null,null,null,1,"https://accounts.google.com/ListAccounts?listPages=0\u0026pid=425\u0026gpsia=1\u0026source=ogb\u0026atic=1\u0026mo=1\u0026mn=1\u0026hl=en\u0026ts=250",0,"dashboard",null,null,null,null,"Profile","",1,null,"Signed out","https://accounts.google.com/AccountChooser?source=ogb\u0026continue=$continue\u0026Email=$email\u0026ec=GAhAqQM","https://accounts.google.com/RemoveLocalAccount?source=ogb","Remove","Sign in",0,1,1,0,1,1,0,null,null,null,"Session expired",null,null,null,"Visitor",null,"Default","Delegated","Sign out of all accounts",0,null,null,0,null,null,"myaccount.google.com","https",0,1,0],null,["1","gci_91f30755d6a6b787dcc2a4062e6e9824.js","googleapis.client:gapi.iframes","0","en"],null,null,null,null,["m;/_/scs/abc-static/_/js/k=gapi.gapi.en.uiLLJjqnhCQ.O/d=1/rs=AHpOoo8NP2y291iiPDmfAN0GV3dvCuqlYA/m=__features__","https://apis.google.com","","","1","",null,1,"es_plusone_gc_20250210.0_p0","en",null,0],[0.009999999776482582,"co.id","425",[null,"","0",null,1,5184000,null,null,"",null,null,null,null,null,0,null,0,null,1,0,0,0,null,null,0,0,null,0,0,0,0,0],null,null,null,0],[1,null,null,40400,425,"IDN","en","735207307.0",8,null,1,0,null,null,null,null,"3700949",null,null,null,"ikTQZ6GTJaSowN4Pt8m4uAE",0,0,0,null,2,5,"nn",134,0,0,0,0,1,114591953,0,0],[[null,null,null,"https://www.gstatic.com/og/_/js/k=og.qtm.en_US.eebVy_fNKiM.2019.O/rt=j/m=qabr,qgl,q_dnp,qcwid,qbd,qapid,qads,qrcd,q_dg/exm=qaaw,qadd,qaid,qein,qhaw,qhba,qhbr,qhch,qhga,qhid,qhin/d=1/ed=1/rs=AA2YrTv9PWxAWOkNMB0THY2YxYWamdWWtA"],[null,null,null,"https://www.gstatic.com/og/_/ss/k=og.qtm.sDa5bc0wD58.L.W.O/m=qcwid,qba/excm=qaaw,qadd,qaid,qein,qhaw,qhba,qhbr,qhch,qhga,qhid,qhin/d=1/ed=1/ct=zgms/rs=AA2YrTucClwlLUqaQmlTybxGncrc_XS2Pg"]],null,null,null,[[[null,null,[null,null,null,"https://ogs.google.com/u/0/widget/account?yac=1\u0026amb=1"],0,414,436,57,4,1,0,0,65,66,8000,"https://accounts.google.com/SignOutOptions?hl=en\u0026continue=https://colab.research.google.com/drive/1XwRUBhhMyewidBQ9kb-MQHKncez4l_pF\u0026ec=GBRAqQM",68,2,null,null,1,113,"Something went wrong.%1$s Refresh to try again or %2$schoose another account%3$s.",3,null,null,75,0,null,null,null,null,null,null,null,"/widget/account",["https","myaccount.google.com",0,32,83,0],0,0,1,["Critical security alert","Important account alert","Storage usage alert",1,1],0,1,null,1,1,1,1,null,null,0,0,0,null,0,0],[null,null,[null,null,null,"https://ogs.google.com/u/0/widget/callout/sid?dc=1"],null,280,420,70,25,0,null,0,null,null,8000,null,71,4,null,null,null,null,null,null,null,null,76,null,null,null,107,108,109,"",null,null,null,null,null,null,null,null,null,null,null,null,null,null,null,null,null,null,null,null,0]],null,null,"425","425",1,0,null,"en",0,["https://colab.research.google.com/drive/1XwRUBhhMyewidBQ9kb-MQHKncez4l_pF?authuser=$authuser","https://accounts.google.com/AddSession?hl=en\u0026continue=https://colab.research.google.com/drive/1XwRUBhhMyewidBQ9kb-MQHKncez4l_pF\u0026ec=GAlAqQM","https://accounts.google.com/Logout?hl=en\u0026continue=https://colab.research.google.com/drive/1XwRUBhhMyewidBQ9kb-MQHKncez4l_pF\u0026timeStmp=1741702282\u0026secTok=.AG5fkS_FeCCmlVJm0k8-K4kZvlpnGfa6EA\u0026ec=GAdAqQM","https://accounts.google.com/ListAccounts?listPages=0\u0026pid=425\u0026gpsia=1\u0026source=ogb\u0026atic=1\u0026mo=1\u0026mn=1\u0026hl=en\u0026ts=250",0,0,"",0,0,null,0,0,"https://accounts.google.com/ServiceLogin?passive=true\u0026continue=https%3A%2F%2Fcolab.research.google.com%2Fdrive%2F1XwRUBhhMyewidBQ9kb-MQHKncez4l_pF\u0026ec=GAZAqQM",1,1,0,0,null,0],0,0,0,[null,"",null,null,null,1,null,0,0,"","19036484-1:","","https://ogads-pa.clients6.google.com",0,0,0,"","",0,0,null,86400,null,1,1,null,0,null,0,0,"8559284470"],0,null,null,null,1,0],null,[["mousedown","touchstart","touchmove","wheel","keydown"],300000],[[null,null,null,"https://accounts.google.com/RotateCookiesPage"],3,null,null,null,0,1]]],};this.gbar_=this.gbar_||{};(function(_){var window=this;
try{
_._F_toggles_initialize=function(a){(typeof globalThis!=="undefined"?globalThis:typeof self!=="undefined"?self:this)._F_toggles=a||[]};(0,_._F_toggles_initialize)([]);
/*

 Copyright The Closure Library Authors.
 SPDX-License-Identifier: Apache-2.0
*/
var ca,ka,la,qa,sa,ta,Aa,Ia,Ja,Na,Qa,Ka,Pa,Oa,Ma,La,Ra,hb,lb,ib,mb,xb,yb,zb,Ab;_.aa=function(a,b){if(Error.captureStackTrace)Error.captureStackTrace(this,_.aa);else{const c=Error().stack;c&&(this.stack=c)}a&&(this.message=String(a));b!==void 0&&(this.cause=b)};_.ba=function(a){a.Gj=!0;return a};ca=function(a,b){if(a.length>b.length)return!1;if(a.length<b.length||a===b)return!0;for(let c=0;c<a.length;c++){const d=a[c],e=b[c];if(d>e)return!1;if(d<e)return!0}};
_.ea=function(a){_.t.setTimeout(()=>{throw a;},0)};_.ha=function(){return _.fa().toLowerCase().indexOf("webkit")!=-1};_.fa=function(){var a=_.t.navigator;return a&&(a=a.userAgent)?a:""};ka=function(a){if(!ia||!ja)return!1;for(let b=0;b<ja.brands.length;b++){const {brand:c}=ja.brands[b];if(c&&c.indexOf(a)!=-1)return!0}return!1};_.u=function(a){return _.fa().indexOf(a)!=-1};la=function(){return ia?!!ja&&ja.brands.length>0:!1};_.ma=function(){return la()?!1:_.u("Opera")};
_.oa=function(){return la()?!1:_.u("Trident")||_.u("MSIE")};_.pa=function(){return _.u("Firefox")||_.u("FxiOS")};_.ra=function(){return _.u("Safari")&&!(qa()||(la()?0:_.u("Coast"))||_.ma()||(la()?0:_.u("Edge"))||(la()?ka("Microsoft Edge"):_.u("Edg/"))||(la()?ka("Opera"):_.u("OPR"))||_.pa()||_.u("Silk")||_.u("Android"))};qa=function(){return la()?ka("Chromium"):(_.u("Chrome")||_.u("CriOS"))&&!(la()?0:_.u("Edge"))||_.u("Silk")};sa=function(){return ia?!!ja&&!!ja.platform:!1};
ta=function(){return _.u("iPhone")&&!_.u("iPod")&&!_.u("iPad")};_.ua=function(){return ta()||_.u("iPad")||_.u("iPod")};_.va=function(){return sa()?ja.platform==="macOS":_.u("Macintosh")};_.xa=function(a,b){return _.wa(a,b)>=0};_.ya=function(a){let b="",c=0;const d=a.length-10240;for(;c<d;)b+=String.fromCharCode.apply(null,a.subarray(c,c+=10240));b+=String.fromCharCode.apply(null,c?a.subarray(c):a);return btoa(b)};_.za=function(a){return a!=null&&a instanceof Uint8Array};
Aa=function(a,b){a.__closure__error__context__984382||(a.__closure__error__context__984382={});a.__closure__error__context__984382.severity=b};_.Ba=function(a){a=Error(a);Aa(a,"warning");return a};_.Da=function(a,b){if(a!=null){var c;var d=(c=Ca)!=null?c:Ca={};c=d[a]||0;c>=b||(d[a]=c+1,a=Error(),Aa(a,"incident"),_.ea(a))}};_.Ea=function(a,b=!1){return b&&Symbol.for&&a?Symbol.for(a):a!=null?Symbol(a):Symbol()};_.Fa=function(a,b){a[_.v]&=~b};
_.Ga=function(a){return a!==null&&typeof a==="object"&&!Array.isArray(a)&&a.constructor===Object};_.Ha=function(a){if(a&2)throw Error();};Ia=function(a){return a};Ja=function(a){return a};Na=function(a,b,c,d){return Ka(a,b,c,d,La,Ma)};Qa=function(a,b,c,d){return Ka(a,b,c,d,Oa,Pa)};
Ka=function(a,b,c,d,e,f){if(!c.length&&!d)return 1;var g=0;let h=0,k=0;var l=0;let m=0;for(var n=c.length-1;n>=0;n--){var r=c[n];d&&n===c.length-1&&r===d||(l++,r!=null&&k++)}if(d)for(var q in d)n=+q,isNaN(n)||(m+=Ra(n),h++,n>g&&(g=n));l=e(l,k)+f(h,g,m);q=k;n=h;r=g;let w=m;for(let I=c.length-1;I>=0;I--){var B=c[I];if(B==null||d&&I===c.length-1&&B===d)continue;B=I-b;const N=e(B,q)+f(n,r,w);N<l&&(a=1+B,l=N);n++;q--;w+=Ra(B);r=Math.max(r,B)}b=e(0,0)+f(n,r,w);b<l&&(a=1,l=b);if(d){n=h;r=g;w=m;q=k;for(const I in d)d=
+I,isNaN(d)||d>=1024||(n--,q++,w-=I.length,g=e(d,q)+f(n,r,w),g<l&&(a=1+d,l=g))}return a};Pa=function(a,b,c){return c+a*3+(a>1?a-1:0)};Oa=function(a,b){return(a>1?a-1:0)+(a-b)*4};Ma=function(a,b){return a==0?0:9*Math.max(1<<32-Math.clz32(a+a/2-1),4)<=b?a==0?0:a<4?100+(a-1)*16:a<6?148+(a-4)*16:a<12?244+(a-6)*16:a<22?436+(a-12)*19:a<44?820+(a-22)*17:52+32*a:40+4*b};La=function(a){return 40+4*a};Ra=function(a){return a>=100?a>=1E4?Math.ceil(Math.log10(1+a)):a<1E3?3:4:a<10?1:2};
_.Ta=function(a){if(typeof a!=="boolean")throw Error("s`"+_.Sa(a)+"`"+a);return a};_.Va=function(a){if(!(0,_.Ua)(a))throw _.Ba("enum");return a|0};_.Wa=function(a){if(typeof a!=="number")throw _.Ba("int32");if(!(0,_.Ua)(a))throw _.Ba("int32");return a|0};_.Xa=function(a){if(a!=null&&typeof a!=="string")throw Error();return a};_.Ya=function(a){return a==null||typeof a==="string"?a:void 0};
_.$a=function(a,b,c){if(a!=null&&typeof a==="object"&&a.Ed===_.Za)return a;if(Array.isArray(a)){var d=a[_.v]|0,e=d;e===0&&(e|=c&32);e|=c&2;e!==d&&(a[_.v]=e);return new b(a)}};_.cb=function(a){const b=_.ab(_.bb);return b?a[b]:void 0};
_.fb=function(a,b,c,d,e){const f=d?!!(b&32):void 0;d=[];var g=a.length;let h,k,l,m=!1;if(b&64){if(b&256?(g--,h=a[g],k=g):(k=4294967295,h=void 0),!(e||b&512)){m=!0;var n;l=((n=db)!=null?n:Ja)(h?k- -1:b>>15&1023||536870912,-1,a,h);k=l+-1}}else k=4294967295,b&1||(h=g&&a[g-1],_.Ga(h)?(g--,k=g,l=0):h=void 0);n=void 0;for(let q=0;q<g;q++){let w=a[q];if(w!=null&&(w=c(w,f))!=null)if(q>=k){var r=void 0;((r=n)!=null?r:n={})[q- -1]=w}else d[q]=w}if(h)for(let q in h)if(r=h[q],r!=null&&(r=c(r,f))!=null)if(g=+q,
g<l)d[g+-1]=r;else{let w;((w=n)!=null?w:n={})[q]=r}n&&(m?d.push(n):d[k]=n);e&&(d[_.v]=b&33522241|(n!=null?290:34),_.ab(_.bb)&&(a=_.cb(a))&&"function"==typeof _.eb&&a instanceof _.eb&&(d[_.bb]=a.j()));return d};
hb=function(a){switch(typeof a){case "number":return Number.isFinite(a)?a:""+a;case "bigint":return(0,_.gb)(a)?Number(a):""+a;case "boolean":return a?1:0;case "object":if(Array.isArray(a)){const b=a[_.v]|0;return a.length===0&&b&1?void 0:_.fb(a,b,hb,!1,!1)}if(a.Ed===_.Za)return ib(a);if("function"==typeof _.jb&&a instanceof _.jb)return a.j();if(_.za(a))return _.za(a)&&_.Da(kb,5),_.ya(a);return}return a};lb=function(a,b){if(b){db=b===Ja||b!==Ia&&b!==Na&&b!==Qa?Ja:b;try{return ib(a)}finally{db=void 0}}return ib(a)};
ib=function(a){a=a.ha;return _.fb(a,a[_.v]|0,hb,void 0,!1)};
_.nb=function(a,b,c,d){if(a==null){var e=96;c?(a=[c],e|=512):a=[];b&&(e=e&-33521665|(b&1023)<<15)}else{if(!Array.isArray(a))throw Error("v");e=a[_.v]|0;8192&e||!(64&e)||2&e||mb();if(e&1024)throw Error("x");if(e&64)return d!==3||e&16384||(a[_.v]=e|16384),a;d===1||d===2||(e|=64);if(c&&(e|=512,c!==a[0]))throw Error("y");a:{c=a;var f=c.length;if(f){var g=f-1;const k=c[g];if(_.Ga(k)){e|=256;b=e&512?0:-1;g-=b;if(g>=1024)throw Error("A");for(var h in k)if(f=+h,f<g)c[f+b]=k[h],delete k[h];else break;e=e&
-33521665|(g&1023)<<15;break a}}if(b){h=Math.max(b,f-(e&512?0:-1));if(h>1024)throw Error("B");e=e&-33521665|(h&1023)<<15}}}d===3&&(e|=16384);a[_.v]=e;return a};mb=function(){_.Da(ob,5)};
_.pb=function(a,b){if(typeof a!=="object")return a;if(Array.isArray(a)){const d=a[_.v]|0;if(a.length===0&&d&1)return;if(d&2)return a;var c;if(c=b)c=d===0||!!(d&32)&&!(d&64||!(d&16));return c?(a[_.v]|=34,d&4&&Object.freeze(a),a):_.fb(a,d,_.pb,b!==void 0,!0)}if(a.Ed===_.Za)return b=a.ha,c=b[_.v]|0,c&2?a:_.fb(b,c,_.pb,!0,!0);if("function"==typeof _.jb&&a instanceof _.jb)return a;if(_.za(a))return _.za(a)&&_.Da(kb,5),new Uint8Array(a)};
_.qb=function(a){const b=a.ha;if(!((b[_.v]|0)&2))return a;a=new a.constructor(_.fb(b,b[_.v]|0,_.pb,!0,!0));_.Fa(a.ha,2);return a};_.rb=function(a,b,c,d){const e=b&512?0:-1,f=c+e;var g=a.length-1;if(f>=g&&b&256)return a[g][c]=d,b;if(f<=g)return a[f]=d,b;d!==void 0&&(g=b>>15&1023||536870912,c>=g?d!=null&&(a[g+e]={[c]:d},b|=256,a[_.v]=b):a[f]=d);return b};_.tb=function(a,b,c){a=a.ha;let d=a[_.v]|0;const e=_.sb(a,d,c);b=_.$a(e,b,d);b!==e&&b!=null&&_.rb(a,d,c,b);return b};
_.ub=function(){const a=class{constructor(){throw Error();}};Object.setPrototypeOf(a,a.prototype);return a};_.x=function(a,b){return a!=null?!!a:!!b};_.y=function(a,b){b==void 0&&(b="");return a!=null?a:b};_.vb=function(a,b,c){for(const d in a)b.call(c,a[d],d,a)};_.wb=function(a){for(const b in a)return!1;return!0};xb=Object.defineProperty;
yb=function(a){a=["object"==typeof globalThis&&globalThis,a,"object"==typeof window&&window,"object"==typeof self&&self,"object"==typeof global&&global];for(var b=0;b<a.length;++b){var c=a[b];if(c&&c.Math==Math)return c}throw Error("a");};zb=yb(this);Ab=function(a,b){if(b)a:{var c=zb;a=a.split(".");for(var d=0;d<a.length-1;d++){var e=a[d];if(!(e in c))break a;c=c[e]}a=a[a.length-1];d=c[a];b=b(d);b!=d&&b!=null&&xb(c,a,{configurable:!0,writable:!0,value:b})}};Ab("globalThis",function(a){return a||zb});
Ab("Symbol.dispose",function(a){return a?a:Symbol("b")});Ab("Promise.prototype.finally",function(a){return a?a:function(b){return this.then(function(c){return Promise.resolve(b()).then(function(){return c})},function(c){return Promise.resolve(b()).then(function(){throw c;})})}});
Ab("Array.prototype.flat",function(a){return a?a:function(b){b=b===void 0?1:b;var c=[];Array.prototype.forEach.call(this,function(d){Array.isArray(d)&&b>0?(d=Array.prototype.flat.call(d,b-1),c.push.apply(c,d)):c.push(d)});return c}});var Cb,Gb;_.Bb=_.Bb||{};_.t=this||self;Cb=_.t._F_toggles||[];_.Db=function(a,b){a=a.split(".");b=b||_.t;for(var c=0;c<a.length;c++)if(b=b[a[c]],b==null)return null;return b};_.Sa=function(a){var b=typeof a;return b!="object"?b:a?Array.isArray(a)?"array":b:"null"};_.Eb=function(a){var b=typeof a;return b=="object"&&a!=null||b=="function"};_.Fb="closure_uid_"+(Math.random()*1E9>>>0);Gb=function(a,b,c){return a.call.apply(a.bind,arguments)};_.z=function(a,b,c){_.z=Gb;return _.z.apply(null,arguments)};
_.Hb=function(a,b){var c=Array.prototype.slice.call(arguments,1);return function(){var d=c.slice();d.push.apply(d,arguments);return a.apply(this,d)}};_.A=function(a,b){a=a.split(".");for(var c=_.t,d;a.length&&(d=a.shift());)a.length||b===void 0?c[d]&&c[d]!==Object.prototype[d]?c=c[d]:c=c[d]={}:c[d]=b};_.ab=function(a){return a};
_.C=function(a,b){function c(){}c.prototype=b.prototype;a.X=b.prototype;a.prototype=new c;a.prototype.constructor=a;a.yj=function(d,e,f){for(var g=Array(arguments.length-2),h=2;h<arguments.length;h++)g[h-2]=arguments[h];return b.prototype[e].apply(d,g)}};_.C(_.aa,Error);_.aa.prototype.name="CustomError";_.Ib=_.ba(a=>typeof a==="number");_.Jb=_.ba(a=>typeof a==="string");_.Kb=_.ba(a=>typeof a==="boolean");_.Lb=typeof _.t.BigInt==="function"&&typeof _.t.BigInt(0)==="bigint";var Ob,Mb,Pb,Nb;_.gb=_.ba(a=>_.Lb?a>=Mb&&a<=Nb:a[0]==="-"?ca(a,Ob):ca(a,Pb));Ob=Number.MIN_SAFE_INTEGER.toString();Mb=_.Lb?BigInt(Number.MIN_SAFE_INTEGER):void 0;Pb=Number.MAX_SAFE_INTEGER.toString();Nb=_.Lb?BigInt(Number.MAX_SAFE_INTEGER):void 0;_.Qb=typeof TextDecoder!=="undefined";_.Rb=typeof TextEncoder!=="undefined";var Sb=!!(Cb[0]&2048);var Tb;if(Cb[0]&1024)Tb=Sb;else{var Ub=_.Db("WIZ_global_data.oxN3nb"),Vb=Ub&&Ub[610401301];Tb=Vb!=null?Vb:!1}var ia=Tb;var ja,Wb=_.t.navigator;ja=Wb?Wb.userAgentData||null:null;_.wa=function(a,b){return Array.prototype.indexOf.call(a,b,void 0)};_.Xb=function(a,b,c){Array.prototype.forEach.call(a,b,c)};_.Yb=function(a,b){return Array.prototype.some.call(a,b,void 0)};_.Zb=function(a){_.Zb[" "](a);return a};_.Zb[" "]=function(){};var lc;_.$b=_.ma();_.ac=_.oa();_.bc=_.u("Edge");_.cc=_.u("Gecko")&&!(_.ha()&&!_.u("Edge"))&&!(_.u("Trident")||_.u("MSIE"))&&!_.u("Edge");_.dc=_.ha()&&!_.u("Edge");_.ec=_.va();_.fc=sa()?ja.platform==="Windows":_.u("Windows");_.gc=sa()?ja.platform==="Android":_.u("Android");_.hc=ta();_.ic=_.u("iPad");_.jc=_.u("iPod");_.kc=_.ua();
a:{let a="";const b=function(){const c=_.fa();if(_.cc)return/rv:([^\);]+)(\)|;)/.exec(c);if(_.bc)return/Edge\/([\d\.]+)/.exec(c);if(_.ac)return/\b(?:MSIE|rv)[: ]([^\);]+)(\)|;)/.exec(c);if(_.dc)return/WebKit\/(\S+)/.exec(c);if(_.$b)return/(?:Version)[ \/]?(\S+)/.exec(c)}();b&&(a=b?b[1]:"");if(_.ac){var mc;const c=_.t.document;mc=c?c.documentMode:void 0;if(mc!=null&&mc>parseFloat(a)){lc=String(mc);break a}}lc=a}_.nc=lc;_.oc=_.pa();_.pc=ta()||_.u("iPod");_.qc=_.u("iPad");_.rc=_.u("Android")&&!(qa()||_.pa()||_.ma()||_.u("Silk"));_.sc=qa();_.tc=_.ra()&&!_.ua();var Ca=void 0;var ob,kb;_.bb=_.Ea();_.uc=_.Ea();ob=_.Ea();kb=_.Ea();_.v=_.Ea("jas",!0);var wc;_.Za={};wc=[];wc[_.v]=55;_.vc=Object.freeze(wc);_.xc=Object.freeze({});_.yc=typeof BigInt==="function"?BigInt.asIntN:void 0;_.zc=Number.isSafeInteger;_.Ua=Number.isFinite;_.Ac=Math.trunc;var db;_.Bc=function(a,b){a=a.ha;return _.sb(a,a[_.v]|0,b)};_.sb=function(a,b,c){if(c===-1)return null;const d=c+(b&512?0:-1),e=a.length-1;if(d>=e&&b&256)return a[e][c];if(d<=e)return a[d]};_.Cc=function(a,b,c){const d=a.ha;let e=d[_.v]|0;_.Ha(e);_.rb(d,e,b,c);return a};_.D=function(a,b,c){b=_.tb(a,b,c);if(b==null)return b;a=a.ha;let d=a[_.v]|0;if(!(d&2)){const e=_.qb(b);e!==b&&(b=e,_.rb(a,d,c,b))}return b};_.E=function(a,b,c){c==null&&(c=void 0);return _.Cc(a,b,c)};
_.F=function(a,b){a=_.Bc(a,b);return a==null||typeof a==="boolean"?a:typeof a==="number"?!!a:void 0};_.G=function(a,b){return _.Ya(_.Bc(a,b))};_.H=function(a,b){let c;return(c=_.F(a,b))!=null?c:!1};_.J=function(a,b){let c;return(c=_.G(a,b))!=null?c:""};_.K=function(a,b,c){return _.Cc(a,b,c==null?c:_.Ta(c))};_.L=function(a,b,c){return _.Cc(a,b,c==null?c:_.Wa(c))};_.M=function(a,b,c){return _.Cc(a,b,_.Xa(c))};_.O=function(a,b,c){return _.Cc(a,b,c==null?c:_.Va(c))};_.P=class{constructor(a,b,c){this.ha=_.nb(a,b,c,3)}toJSON(){return lb(this)}ya(a){return JSON.stringify(lb(this,a))}qc(){return!!((this.ha[_.v]|0)&2)}};_.P.prototype.Ed=_.Za;_.P.prototype.toString=function(){return this.ha.toString()};_.Dc=_.ub();_.Ec=_.ub();_.Fc=_.ub();_.Gc=Symbol();var Jc=class extends _.P{constructor(a){super(a)}};_.Kc=class extends _.P{constructor(a){super(a)}D(a){return _.L(this,3,a)}};var Lc=class extends _.P{constructor(a){super(a)}Ic(a){return _.M(this,24,a)}};_.Mc=class extends _.P{constructor(a){super(a)}};_.Q=function(){this.qa=this.qa;this.Y=this.Y};_.Q.prototype.qa=!1;_.Q.prototype.isDisposed=function(){return this.qa};_.Q.prototype.dispose=function(){this.qa||(this.qa=!0,this.P())};_.Q.prototype[Symbol.dispose]=function(){this.dispose()};_.Q.prototype.P=function(){if(this.Y)for(;this.Y.length;)this.Y.shift()()};var Nc=class extends _.Q{constructor(){var a=window;super();this.o=a;this.i=[];this.j={}}resolve(a){let b=this.o;a=a.split(".");const c=a.length;for(let d=0;d<c;++d)if(b[a[d]])b=b[a[d]];else return null;return b instanceof Function?b:null}ob(){const a=this.i.length,b=this.i,c=[];for(let d=0;d<a;++d){const e=b[d].i(),f=this.resolve(e);if(f&&f!=this.j[e])try{b[d].ob(f)}catch(g){}else c.push(b[d])}this.i=c.concat(b.slice(a))}};var Pc=class extends _.Q{constructor(){var a=_.Oc;super();this.o=a;this.A=this.i=null;this.v=0;this.B={};this.j=!1;a=window.navigator.userAgent;a.indexOf("MSIE")>=0&&a.indexOf("Trident")>=0&&(a=/\b(?:MSIE|rv)[: ]([^\);]+)(\)|;)/.exec(a))&&a[1]&&parseFloat(a[1])<9&&(this.j=!0)}C(a,b){this.i=b;this.A=a;b.preventDefault?b.preventDefault():b.returnValue=!1}};_.Qc=class extends _.P{constructor(a){super(a)}};var Rc=class extends _.P{constructor(a){super(a)}};var Tc;_.Sc=function(a,b,c=98,d=new _.Kc){if(a.i){const e=new Jc;_.M(e,1,b.message);_.M(e,2,b.stack);_.L(e,3,b.lineNumber);_.O(e,5,1);_.E(d,40,e);a.i.log(c,d)}};Tc=class{constructor(){this.i=null}log(a,b,c=new _.Kc){_.Sc(this,a,98,c)}};var Uc,Vc;Uc=function(a){if(a.o.length>0){var b=a.i!==void 0,c=a.j!==void 0;if(b||c){b=b?a.v:a.A;c=a.o;a.o=[];try{_.Xb(c,b,a)}catch(d){console.error(d)}}}};_.Wc=class{constructor(a){this.i=a;this.j=void 0;this.o=[]}then(a,b,c){this.o.push(new Vc(a,b,c));Uc(this)}resolve(a){if(this.i!==void 0||this.j!==void 0)throw Error("F");this.i=a;Uc(this)}reject(a){if(this.i!==void 0||this.j!==void 0)throw Error("F");this.j=a;Uc(this)}v(a){a.j&&a.j.call(a.i,this.i)}A(a){a.o&&a.o.call(a.i,this.j)}};
Vc=class{constructor(a,b,c){this.j=a;this.o=b;this.i=c}};_.Xc=a=>{var b="lc";if(a.lc&&a.hasOwnProperty(b))return a.lc;b=new a;return a.lc=b};_.R=class{constructor(){this.v=new _.Wc;this.i=new _.Wc;this.D=new _.Wc;this.B=new _.Wc;this.C=new _.Wc;this.A=new _.Wc;this.o=new _.Wc;this.j=new _.Wc;this.F=new _.Wc}Y(){return this.v}M(){return this.i}N(){return this.D}L(){return this.B}qa(){return this.C}K(){return this.A}J(){return this.o}G(){return this.j}static i(){return _.Xc(_.R)}};var ad;_.Zc=function(){return _.D(_.Yc,Lc,1)};_.$c=function(){return _.D(_.Yc,_.Mc,5)};ad=class extends _.P{constructor(a){super(a)}};var bd;window.gbar_&&window.gbar_.CONFIG?bd=window.gbar_.CONFIG[0]||{}:bd=[];_.Yc=new ad(bd);_.D(_.Yc,Rc,3)||new Rc;_.Zc()||new Lc;_.Oc=new Tc;_.A("gbar_._DumpException",function(a){_.Oc?_.Oc.log(a):console.error(a)});_.cd=new Pc;var ed;_.fd=function(a,b){var c=_.dd.i();if(a in c.i){if(c.i[a]!=b)throw new ed;}else{c.i[a]=b;const h=c.j[a];if(h)for(let k=0,l=h.length;k<l;k++){b=h[k];var d=c.i;delete b.i[a];if(_.wb(b.i)){for(var e=b.j.length,f=Array(e),g=0;g<e;g++)f[g]=d[b.j[g]];b.o.apply(b.v,f)}}delete c.j[a]}};_.dd=class{constructor(){this.i={};this.j={}}static i(){return _.Xc(_.dd)}};_.gd=class extends _.aa{constructor(){super()}};ed=class extends _.gd{};_.A("gbar.A",_.Wc);_.Wc.prototype.aa=_.Wc.prototype.then;_.A("gbar.B",_.R);_.R.prototype.ba=_.R.prototype.M;_.R.prototype.bb=_.R.prototype.N;_.R.prototype.bd=_.R.prototype.qa;_.R.prototype.bf=_.R.prototype.Y;_.R.prototype.bg=_.R.prototype.L;_.R.prototype.bh=_.R.prototype.K;_.R.prototype.bj=_.R.prototype.J;_.R.prototype.bk=_.R.prototype.G;_.A("gbar.a",_.R.i());window.gbar&&window.gbar.ap&&window.gbar.ap(window.gbar.a);var hd=new Nc;_.fd("api",hd);var id=_.$c()||new _.Mc;window.__PVT=_.y(_.G(id,8));
_.fd("eq",_.cd);
}catch(e){_._DumpException(e)}
try{
_.jd=class extends _.P{constructor(a){super(a)}};
}catch(e){_._DumpException(e)}
try{
var kd=class extends _.P{constructor(a){super(a)}};var ld=class extends _.Q{constructor(){super();this.j=[];this.i=[]}o(a,b){this.j.push({features:a,options:b!=null?b:null})}init(a,b,c){window.gapi={};const d=window.___jsl={};d.h=_.y(_.G(a,1));_.F(a,12)!=null&&(d.dpo=_.x(_.H(a,12)));d.ms=_.y(_.G(a,2));d.m=_.y(_.G(a,3));d.l=[];_.J(b,1)&&(a=_.G(b,3))&&this.i.push(a);_.J(c,1)&&(c=_.G(c,2))&&this.i.push(c);_.A("gapi.load",(0,_.z)(this.o,this));return this}};var md=_.D(_.Yc,_.Qc,14);if(md){var nd=_.D(_.Yc,_.jd,9)||new _.jd,od=new kd,pd=new ld;pd.init(md,nd,od);_.fd("gs",pd)};
}catch(e){_._DumpException(e)}
})(this.gbar_);
// Google Inc.
</script><script nonce="">try {const preferences = JSON.parse(window.localStorage.getItem("datalab_prefs_sabitaalyap16@gmail.com")); document.querySelector('html') .setAttribute('theme', preferences['siteTheme'] || 'default');} catch (e) {}</script><script nonce="">window.performance.mark('head_start');</script><link rel="stylesheet" href="./AVD_TGS1_files/bundle.css"><script nonce="">var colabVersionTag = 'colab_20250307-060105_RC00_734515950'; var colabScsVersion = '02c113afb31f45e79f7afe7969b93943'; var hl = 'en'; var colabExperiments = JSON.parse('\x7b\x22add_df_vars_in_ai_conversation_context\x22: false, \x22add_prompt_cell\x22: false, \x22agent_scroll_delay_ms\x22: 200, \x22ai_banner\x22: false, \x22ai_unsubscribed_warning\x22: false, \x22ai_user_input_char_limit\x22: 2000, \x22aida_complete_code_model_id\x22: \x22\x22, \x22aida_converse_max_facts\x22: 20, \x22aida_do_conversation_model_id\x22: \x22\x22, \x22aida_generate_code_model_id\x22: \x22\x22, \x22allow_dsa_page_interaction\x22: true, \x22allow_readonly_cells\x22: true, \x22allowed_public_url_domains\x22: \x5b\x22huggingface.co\x22, \x22dagshub.com\x22, \x22storage.googleapis.com\x22\x5d, \x22auto_open_chat_on_empty_notebook\x22: false, \x22backend_url_allowlist\x22: \x5b\x22localhost\x22, \x22127.0.0.1\x22, \x22\x5b::1\x5d\x22, \x22kkb-production.jupyter-proxy.kaggle.net\x22\x5d, \x22backend_version\x22: \x22next\x22, \x22backtracking_strategy\x22: \x22non-literals\x22, \x22cell_markdown_toolbar_tooltips\x22: true, \x22cell_output_actions_tooltip\x22: true, \x22cell_tags\x22: false, \x22cell_toolbar_ai_menu\x22: true, \x22cell_toolbar_tooltips\x22: true, \x22cell_ui_refresh\x22: false, \x22chat_explain_error_temp\x22: \x221.0\x22, \x22chat_model_id_override\x22: \x22\x22, \x22chat_reduce_refusals\x22: true, \x22classified_generate\x22: false, \x22classroom_iframe_parent_origin\x22: \x22\x22, \x22client_text_compose\x22: true, \x22client_trim_completion_text\x22: 400, \x22cloud_origin\x22: \x22\x22, \x22code_report_millis\x22: 600000, \x22commands_in_toolbar\x22: true, \x22comment_poll_long\x22: 900000, \x22comment_poll_short\x22: 60000, \x22compose_skip_suffix_check\x22: false, \x22composer\x22: false, \x22converse_server_side_history\x22: false, \x22converse_temp\x22: \x22\x22, \x22corp_third_party_widgets\x22: false, \x22crawler\x22: false, \x22create_gemini_api_key\x22: false, \x22critique_comments\x22: false, \x22dbu\x22: \x22\x22, \x22debug_external\x22: \x22external\x22, \x22debug_prod\x22: \x22prod\x22, \x22dep_cells_commands\x22: true, \x22dep_cells_enabled\x22: false, \x22dep_graph\x22: false, \x22deprecate_prompt\x22: false, \x22development\x22: false, \x22document_change_poll_interval\x22: 30000, \x22drive_anon_api_key\x22: \x22AIzaSyB10s2vWUTwP0pj20wZoxmpZIt3rRodYeg\x22, \x22drive_api_key\x22: \x22AIzaSyCN_sSPJMpYrAzC5AtTrltNC8oRmLtoqBk\x22, \x22drive_background_save_project_number\x22: \x22948411933973\x22, \x22drive_realtime_project_number\x22: \x22\x22, \x22drop_chat_links\x22: true, \x22dsa\x22: true, \x22dsa_sample_datasets_toast\x22: true, \x22embedding_app\x22: \x22\x22, \x22enable_adhoc_backends\x22: false, \x22enable_agent_connect_to_new_vm\x22: true, \x22enable_completions_backend_switching\x22: false, \x22enable_dasher_subscription_ui\x22: true, \x22enable_more_reprs\x22: true, \x22enable_mpp_orc_model_overrides\x22: true, \x22enable_rt_on_create\x22: false, \x22execution_announcements\x22: true, \x22execution_status_propagation\x22: true, \x22explain_cell\x22: true, \x22explain_error\x22: true, \x22explain_error_model_id_override\x22: \x22\x22, \x22explain_error_trim_traceback\x22: true, \x22explicit_ai_backend\x22: \x22\x22, \x22external_trusted_github_org_repos_quick_add\x22: \x22GoogleChrome\/CrUX,google\/generative-ai-docs,google-health\/cxr-foundation,google-health\/derm-foundation,google-health\/path-foundation\x22, \x22file_browser_poll_interval_millis\x22: 10000, \x22file_upload_rate_limit\x22: 5, \x22filter_repetitive_suggestions\x22: false, \x22first_party_auth\x22: true, \x22fix_imports\x22: false, \x22generate_code\x22: true, \x22generate_df\x22: true, \x22generate_prompt_reduce_blank_responses\x22: false, \x22generate_prompt_reduce_name_errors\x22: false, \x22generate_temp\x22: \x22\x22, \x22get_started\x22: false, \x22gis_auth\x22: true, \x22github_client_id\x22: \x225036cf6d81e65aaa6340\x22, \x22gpu_utilization_check_interval_ms\x22: 600000, \x22granular_browser_permissions\x22: true, \x22hats_surveys\x22: true, \x22hrc\x22: false, \x22i18n_runtime_labels\x22: true, \x22import_data\x22: false, \x22import_gemini_api_key\x22: true, \x22include_df_vars_in_ai_conversation_context\x22: false, \x22inline_completion_ai_campaign_max_views\x22: 3, \x22inline_completion_ai_campaign_throttle_ms\x22: 600000, \x22interactive_sheet_next_steps\x22: true, \x22is_prober\x22: false, \x22jsraw\x22: \x22compiled\x22, \x22key_promoter\x22: false, \x22kr\x22: false, \x22latest_notebook_context_for_converse\x22: true, \x22link_id_assignments\x22: true, \x22link_imports_to_installs\x22: true, \x22local_cloud_apis\x22: false, \x22local_service_worker\x22: false, \x22lsp_diagnostics_reporting\x22: false, \x22lsp_inlay_hint\x22: false, \x22makersuite_api_key\x22: \x22AIzaSyAmDcruecW4rCL1KdwcbIVHL4LkXxahIgw\x22, \x22makersuite_service_url\x22: \x22https:\/\/alkalimakersuite-pa.clients6.google.com\x22, \x22markdown_spellchecker\x22: false, \x22min_dep_cells_runtime_kernel_cl\x22: 694609395, \x22ml_enabled\x22: true, \x22mlpp_multiline\x22: false, \x22mobile\x22: false, \x22mpp_orc_temperature_override\x22: \x221.0\x22, \x22next_steps\x22: true, \x22nl2code_missing_imports\x22: false, \x22no_fun\x22: false, \x22notebook_context_length\x22: 40000, \x22outage_notification\x22: \x22\x22, \x22outage_notification_link\x22: \x22\x22, \x22outputframe_version\x22: \x22\x22, \x22override_suf_params_for_test\x22: false, \x22parallel_prompting\x22: true, \x22pds_minting\x22: false, \x22prereq_cells_next_steps\x22: true, \x22prevent_ai_long_response_generate\x22: false, \x22prevent_ai_long_response_generate_with_df\x22: false, \x22prevent_ai_long_response_suggest_fix\x22: false, \x22prompt_for_dsa_trusted_tester_consent\x22: false, \x22recaptcha_polling_frequency_ms\x22: 300000, \x22recaptcha_v2_site_key\x22: \x226LfQttQUAAAAADuPanA_VZMaZgBAOnHZNuuqUewp\x22, \x22recaptcha_v3_site_key\x22: \x226LfQPtEUAAAAAHBpAdFng54jyuB1V5w5dofknpip\x22, \x22reconnect_max_delay_seconds\x22: 300, \x22remove_ai_explain_cell_fencing\x22: true, \x22remove_ai_explain_error_fencing\x22: true, \x22remove_ai_generate_fencing\x22: true, \x22require_ai_consent\x22: true, \x22resource_poll_interval_ms\x22: 10000, \x22rp_kws\x22: true, \x22rp_kxhr_skip_fallback\x22: false, \x22rp_serve_kernel_port\x22: false, \x22rp_socketio_fallback\x22: true, \x22rp_token_refresh_headroom_millis\x22: 300000, \x22rt_opt_in\x22: \x22OFF\x22, \x22run_mode\x22: false, \x22runtime_env_overrides\x22: \x22\\n          \x5b\\n            \x5b\\\x22ENABLE_DIRECTORYPREFETCHER\\\x22, \\\x221\\\x22\x5d\\n          \x5d\\n        \x22, \x22runtime_type_for_test\x22: \x22\x22, \x22server_execution_queue\x22: true, \x22server_side_generate_prompt_formatting_cloud\x22: false, \x22session_resume_coalesce\x22: true, \x22show_empty_notebook_actions\x22: true, \x22show_gemini_button_text_label\x22: false, \x22show_payments_interstitial\x22: false, \x22show_rel_notes_on_open\x22: true, \x22show_signup_survey\x22: true, \x22show_subscription_renewal_time\x22: false, \x22show_switch_to_prod_link\x22: false, \x22single_page_consent_form\x22: true, \x22smartpaste\x22: false, \x22smartpaste_serving_config\x22: \x22pl_700m_smart_paste_3.0.32_60\x22, \x22sql_cell\x22: false, \x22sql_cell_buttons\x22: false, \x22storage_partition_trial\x22: true, \x22storage_partition_trial_token\x22: \x22Agk\/t4Bt05W7j6CHeqXH9+6ccDayrBsQPqCLDPSElphe\/7cUobayuvN0A3huajTbJenIjp6qibLteh6e0IEWrgIAAAB4eyJvcmlnaW4iOiJodHRwczovL2NvbGFiLnJlc2VhcmNoLmdvb2dsZS5jb206NDQzIiwiZmVhdHVyZSI6IkRpc2FibGVUaGlyZFBhcnR5U3RvcmFnZVBhcnRpdGlvbmluZzIiLCJleHBpcnkiOjE3NDIzNDIzOTl9\x22, \x22task_service_max_poll_count\x22: 45, \x22task_service_poll_interval_ms\x22: 2000, \x22task_service_wait_before_polling_ms\x22: 5000, \x22term4all\x22: false, \x22text_compose_report_changes_millis\x22: 10000, \x22text_span_comments\x22: false, \x22toolbar_above_left_pane\x22: true, \x22tpu_node_redirect\x22: true, \x22tpu_resource_stats\x22: false, \x22tpu_v5e1\x22: true, \x22transform_code\x22: false, \x22transform_code_context_file_per_cell\x22: false, \x22turn_off_agent_mode_when_safe\x22: true, \x22unmanaged_vm_min_label_block\x22: \x22\x22, \x22unmanaged_vm_min_label_warn\x22: \x22\x22, \x22unmanaged_vm_min_release_tag_block\x22: \x22\x22, \x22unmanaged_vm_min_release_tag_warn\x22: \x22\x22, \x22unsupported_magics_check\x22: true, \x22updated_inline_cell_diff\x22: false, \x22use_corplogin\x22: true, \x22use_tpu_eligibility_lists\x22: false, \x22user_visible_accelerator_models\x22: \x5b\x22T4\x22, \x22A100\x22, \x22L4\x22, \x22V28\x22, \x22V5E1\x22\x5d, \x22user_visible_gpu_types\x22: \x5b\x22T4\x22, \x22A100\x22, \x22L4\x22\x5d, \x22v_100_redirect\x22: true, \x22verbose_warnings\x22: false, \x22vertex_ai_api_environment_override\x22: \x22\x22, \x22want_completions_ai_consent_campaign\x22: true, \x22workstations\x22: false, \x22ids\x22: \x5b20730369, 20730315, 20730297, 20730150, 20730366, 20730363, 20730177, 20730265, 20730324, 20730185, 20730182, 20730230\x5d, \x22flag_ids\x22: \x7b\x22add_df_vars_in_ai_conversation_context\x22: 45678289, \x22add_prompt_cell\x22: 45644995, \x22agent_scroll_delay_ms\x22: 45680776, \x22ai_banner\x22: 45670540, \x22ai_unsubscribed_warning\x22: 45504730, \x22ai_user_input_char_limit\x22: 45661098, \x22aida_complete_code_model_id\x22: 45427660, \x22aida_converse_max_facts\x22: 45680037, \x22aida_do_conversation_model_id\x22: 45427664, \x22aida_generate_code_model_id\x22: 45427663, \x22allow_dsa_page_interaction\x22: 45675785, \x22allow_readonly_cells\x22: 45671718, \x22allowed_public_url_domains\x22: 45425558, \x22auto_open_chat_on_empty_notebook\x22: 45669599, \x22backend_url_allowlist\x22: 45660303, \x22backend_version\x22: 45425541, \x22backtracking_strategy\x22: 45644832, \x22cell_markdown_toolbar_tooltips\x22: 45654223, \x22cell_output_actions_tooltip\x22: 45650940, \x22cell_tags\x22: 45425779, \x22cell_toolbar_ai_menu\x22: 45647581, \x22cell_toolbar_tooltips\x22: 45649981, \x22cell_ui_refresh\x22: 45673630, \x22chat_explain_error_temp\x22: 45655973, \x22chat_model_id_override\x22: 45631876, \x22chat_reduce_refusals\x22: 45656767, \x22classified_generate\x22: 45425499, \x22classroom_iframe_parent_origin\x22: 45425537, \x22client_text_compose\x22: 45425512, \x22client_trim_completion_text\x22: 45425628, \x22cloud_origin\x22: 45425538, \x22code_report_millis\x22: 45658073, \x22commands_in_toolbar\x22: 45425502, \x22comment_poll_long\x22: 45425588, \x22comment_poll_short\x22: 45425587, \x22compose_skip_suffix_check\x22: 45615470, \x22composer\x22: 45683351, \x22converse_server_side_history\x22: 45634472, \x22converse_temp\x22: 45425509, \x22corp_third_party_widgets\x22: 45678906, \x22crawler\x22: 45425491, \x22create_gemini_api_key\x22: 45654552, \x22critique_comments\x22: 45612076, \x22dbu\x22: 45425545, \x22debug_external\x22: 45425470, \x22debug_prod\x22: 45425471, \x22dep_cells_commands\x22: 45622249, \x22dep_cells_enabled\x22: 45653551, \x22dep_graph\x22: 45629071, \x22deprecate_prompt\x22: 45679897, \x22development\x22: 45425544, \x22document_change_poll_interval\x22: 45425589, \x22drive_anon_api_key\x22: 45425478, \x22drive_api_key\x22: 45425473, \x22drive_background_save_project_number\x22: 45425479, \x22drive_realtime_project_number\x22: 45425629, \x22drop_chat_links\x22: 45646864, \x22dsa\x22: 45656258, \x22dsa_sample_datasets_toast\x22: 45682045, \x22enable_adhoc_backends\x22: 45425506, \x22enable_agent_connect_to_new_vm\x22: 45670252, \x22enable_completions_backend_switching\x22: 45662651, \x22enable_dasher_subscription_ui\x22: 45639531, \x22enable_more_reprs\x22: 45613354, \x22enable_mpp_orc_model_overrides\x22: 45649913, \x22enable_rt_on_create\x22: 45667583, \x22execution_announcements\x22: 45651325, \x22execution_status_propagation\x22: 45644828, \x22explain_cell\x22: 45425505, \x22explain_error\x22: 45425487, \x22explain_error_model_id_override\x22: 45631875, \x22explain_error_trim_traceback\x22: 45618831, \x22explicit_ai_backend\x22: 45638548, \x22external_trusted_github_org_repos_quick_add\x22: 45425555, \x22file_browser_poll_interval_millis\x22: 45643722, \x22file_upload_rate_limit\x22: 45637799, \x22filter_repetitive_suggestions\x22: 45615781, \x22first_party_auth\x22: 45425560, \x22fix_imports\x22: 45624140, \x22generate_code\x22: 45425492, \x22generate_df\x22: 45425503, \x22generate_prompt_reduce_blank_responses\x22: 45643396, \x22generate_prompt_reduce_name_errors\x22: 45634392, \x22generate_temp\x22: 45425508, \x22get_started\x22: 45430267, \x22gis_auth\x22: 45425625, \x22github_client_id\x22: 45425556, \x22gpu_utilization_check_interval_ms\x22: 45425561, \x22granular_browser_permissions\x22: 45630936, \x22hats_surveys\x22: 45425559, \x22i18n_runtime_labels\x22: 45662916, \x22import_data\x22: 45430411, \x22import_gemini_api_key\x22: 45654551, \x22include_df_vars_in_ai_conversation_context\x22: 45676033, \x22inline_completion_ai_campaign_max_views\x22: 45676328, \x22inline_completion_ai_campaign_throttle_ms\x22: 45671534, \x22interactive_sheet_next_steps\x22: 45634324, \x22is_prober\x22: 45429104, \x22jsraw\x22: 45425557, \x22key_promoter\x22: 45425570, \x22latest_notebook_context_for_converse\x22: 45668776, \x22link_id_assignments\x22: 45644831, \x22link_imports_to_installs\x22: 45644830, \x22local_cloud_apis\x22: 45425630, \x22local_service_worker\x22: 45425550, \x22lsp_diagnostics_reporting\x22: 45425604, \x22lsp_inlay_hint\x22: 45614695, \x22makersuite_api_key\x22: 45655361, \x22makersuite_service_url\x22: 45655362, \x22markdown_spellchecker\x22: 45671479, \x22min_dep_cells_runtime_kernel_cl\x22: 45654240, \x22ml_enabled\x22: 45425493, \x22mlpp_multiline\x22: 45425623, \x22mobile\x22: 45425562, \x22mpp_orc_temperature_override\x22: 45649914, \x22next_steps\x22: 45428239, \x22nl2code_missing_imports\x22: 45615676, \x22no_fun\x22: 45425540, \x22notebook_context_length\x22: 45633457, \x22outage_notification\x22: 45425584, \x22outage_notification_link\x22: 45425585, \x22outputframe_version\x22: 45425591, \x22override_suf_params_for_test\x22: 45425592, \x22parallel_prompting\x22: 45666384, \x22pds_minting\x22: 45648255, \x22prereq_cells_next_steps\x22: 45640400, \x22prevent_ai_long_response_generate\x22: 45680972, \x22prevent_ai_long_response_generate_with_df\x22: 45681123, \x22prevent_ai_long_response_suggest_fix\x22: 45681124, \x22prompt_for_dsa_trusted_tester_consent\x22: 45670923, \x22recaptcha_polling_frequency_ms\x22: 45425582, \x22recaptcha_v2_site_key\x22: 45425581, \x22recaptcha_v3_site_key\x22: 45425580, \x22reconnect_max_delay_seconds\x22: 45425539, \x22remove_ai_explain_cell_fencing\x22: 45677303, \x22remove_ai_explain_error_fencing\x22: 45677302, \x22remove_ai_generate_fencing\x22: 45673079, \x22require_ai_consent\x22: 45425489, \x22resource_poll_interval_ms\x22: 45425590, \x22rp_kws\x22: 45650184, \x22rp_kxhr_skip_fallback\x22: 45656329, \x22rp_serve_kernel_port\x22: 45572083, \x22rp_socketio_fallback\x22: 45658495, \x22rp_token_refresh_headroom_millis\x22: 45517773, \x22rt_opt_in\x22: 45667546, \x22run_mode\x22: 45642857, \x22runtime_env_overrides\x22: 45425583, \x22runtime_type_for_test\x22: 45425586, \x22server_execution_queue\x22: 45425600, \x22server_side_generate_prompt_formatting_cloud\x22: 45655196, \x22session_resume_coalesce\x22: 45425603, \x22show_empty_notebook_actions\x22: 45677304, \x22show_gemini_button_text_label\x22: 45681647, \x22show_payments_interstitial\x22: 45425543, \x22show_rel_notes_on_open\x22: 45644210, \x22show_signup_survey\x22: 45425620, \x22show_subscription_renewal_time\x22: 45425569, \x22show_switch_to_prod_link\x22: 45425483, \x22single_page_consent_form\x22: 45656775, \x22smartpaste\x22: 45627425, \x22smartpaste_serving_config\x22: 45630585, \x22sql_cell\x22: 45425497, \x22sql_cell_buttons\x22: 45425498, \x22task_service_max_poll_count\x22: 45669592, \x22task_service_poll_interval_ms\x22: 45669591, \x22task_service_wait_before_polling_ms\x22: 45669590, \x22term4all\x22: 45425542, \x22text_compose_report_changes_millis\x22: 45425568, \x22text_span_comments\x22: 45545873, \x22toolbar_above_left_pane\x22: 45683504, \x22tpu_node_redirect\x22: 45634372, \x22tpu_resource_stats\x22: 45655215, \x22tpu_v5e1\x22: 45652002, \x22transform_code\x22: 45667102, \x22transform_code_context_file_per_cell\x22: 45671260, \x22turn_off_agent_mode_when_safe\x22: 45679577, \x22unmanaged_vm_min_label_block\x22: 45425546, \x22unmanaged_vm_min_label_warn\x22: 45425547, \x22unmanaged_vm_min_release_tag_block\x22: 45425548, \x22unmanaged_vm_min_release_tag_warn\x22: 45425549, \x22unsupported_magics_check\x22: 45644829, \x22updated_inline_cell_diff\x22: 45667103, \x22use_corplogin\x22: 45425606, \x22use_tpu_eligibility_lists\x22: 45682573, \x22user_visible_accelerator_models\x22: 45682571, \x22user_visible_gpu_types\x22: 45620529, \x22v_100_redirect\x22: 45644963, \x22verbose_warnings\x22: 45425551, \x22vertex_ai_api_environment_override\x22: 45612077, \x22want_completions_ai_consent_campaign\x22: 45671138, \x22workstations\x22: 45425626\x7d\x7d'); var colabUserEmail = 'sabitaalyap16@gmail.com'; var colabRenderDataToken = 'AFWLbD2a8-Pu3H1PSG2017j7uBMTTsj5zFB3wzQdZowU3JW2_uux6Fewo73K0V0I6Cwab4uYC8Aucq1IWJ2cfPS1etfzy_rFBdQE'; var colabConfig = '\x5b\x5b\x22sabitaalyap16@gmail.com\x22,\x5b1,\x22AHXL0D2C78Vyt+aUEu4Y7lWLZARf2GAPC01aECnoaPs27YlkyjeNjmZcBJAPVD4Oubb\/wl07noQURWfo0iQnzkoLlHaewTqyLEOqMuvVq+eZOt4TE96+w9QRDhlQ3IjEZnU8yyKOk\/AHIKueerrZ4z3uyM1c4ja3mFdxBXuGii8DMdUknS4ndD14ufY+oHSv\/KtmfFUP+7YbFRT+DnsljX+9\/or2GcwRH324Arh89vnTHPr1XiU3AqJTiFEYjQAoE45PtPZsxesHeKlrQynanhOoVrx4+KW7N5dyv6XhxAT83BaAs6nRjqIuF5on2+tvns7nZAokge83\/+Gv0\/tjtCvVM9kkCP8UGkEHsmGI5sHBMV7tOgIMddlosLLpL+2t7f45nMKGl1ZdZfHZehuPtqU4n6ga+FW0AstOUmBBCAltgeW9FCZW9MiopbOF6gkPCyxfE172rS1Bq6ZKcpMSnzK74PWsW8R\/\/2eEcXPTu71Z1sT2y5SV+GocIBVb3mxm5gdLJs1Pb7u8YAvGnFVXFtO9jlnIoaEMjkS\/4h6ksyR9F\/JFljqbDUJlAONVoU1\/HX\/lvXlGYiMz2VoXKvDiSs65GTBfftQnKTdu1kXWjxVVxR5M0rupmJvDPreFapBXyORHx+uOhJsuSnwmqEzs6Zh6JKNFTwzJyU+i0uULeiaUh2hCd+RCzyT9pD\/3xDzufAsP0L7Ea1q9toBCOqI6sJaYfUkNeWuzZj+xdglyc8nb\/lZSx1K8KdSrQhfALW8LMzJBlKi9tiSsrzkRtptUYhafXuo2jNdscipSNMNb2tx251EMeWc21j0xo5qr2Sbn4GfQ4H8\/9W6poHBuTnS\/6Pofex4Yx0QUG1zMz9roSsfiD\/8QKAtGgOzowyCvN9pN0eFm\/sxDCcY+b0IdcGBSdyow3hHRyH0Ha1tsoxBvTIKr+e3FQJJopJ42kOpsmGfQuQCm5\/xAzm5hUx900XH+l0\/IWjEaYfunk2XmNA\/SJteCBezRykiLFvXYM5tevJ8ugC4yJXmPRS2stx6g90zXB+yfny9\/ottCZC8thINRdWWG+rORgvJQT9LMyzrmNNPYWme+2PTEUnsnMAH+ufQsmQWpDCnqG5uHhMqZtqiFTam5s4a+HZ+ROcvi0Eg6Rqd8zRku14SDJv5LgozizgBXmaQTKSardJ3QH\/YBGKsYcjtB5ucchMrHYioTRh3ITkM41tzW\/j\/PgLk5GiJO7Q801PuHfN\/ltjDMa9neiqD25A5nneejS3yjq+oyscdifQwmSSQqvfwWMCaOP2gvwcojzWdycNaCnz6TUB1Qlrl7oRB1JZlpMpbArybs2e\/XqdMPC4QkHaPGcOwc4fs+aZgeE2Kl3v4+uPcsFLdtBTKmaH0kA28qWdKzYvORoNvfFWr8N37UQ3PcNFwQ4ByC6rGQzcnuE4Pg100EJEjJWoG11RW1s0fCK5ZwTmadSQ3UhcsUJX25TqbuG6eFqgDgnXRLb9eRvaxEmoT4imWSIgCO6fULOs2jZzQuYhP6ZtPI+OuvqLIY98vP7XfcwjuuK51gEXuooHgocfwDSqqtGC9\/9UV\/bcIk1SUIqTrofEU+xCh3zL49a5ujr70xYguDWmEnbhc3QhSkTgcJF2oz+m0on\/xblLaccAe+SQ8V1qXy0QXqY3a9IGhsDMhx+yMFLbsnrLLHuN7lP5ZNGpjHdNnorWth6iw43B3PnXMWnkDDnpWmuAJoV7OB\/6VyCJvIy63b4W+Gssw56Eox9VwUHGtvLZAN\/zez5jWsVA8fu6pUuYKMDGBkqS9TFr+oSr4gkO0w0d6sJh3812+pClh4a6hQ6W\/ia\/Dt6eH4H4sAFtmJZ5uptb2AJo9le+RObvv7QS0qAWakESORxurhO59h6zqdgKLRd\/Z5rvFWoLI\x3d\x22,\x22AJ9oCCygk4T5ImtOq+3IBaCJImXtJX86vr2E\/Qp7cmU4y6AcZQJX593NcHR39FIFrsvnLkgEIGNgSwu8gre8hg10oXsxFnrzD2eo3zOavksBy2iGdmIBXJSUulOUcQ5GEnZF3Lu5l17p\x22,\x22https:\/\/payments.google.com\/payments\x22,0,0,null,null,null,\x22US$9,99\x22,\x22US$49,99\x22,\x22US$9,99\x22,\x22US$49,99\x22\x5d,\x5b1,4,5\x5d,\x22ID\x22,0\x5d\x5d';</script><link id="favicon-link" rel="shortcut icon" href="https://ssl.gstatic.com/colaboratory-static/common/02c113afb31f45e79f7afe7969b93943/img%2Ffavicon.ico"><meta name="google-site-verification" content="wRgpUU3mIRZPD1GORBPNonaotM72092B_DsqQFWNa4s"><meta name="google-site-verification" content="f5qdvL6RAXlBgHezvCLpPtvx2wU5ZgIzzPULroprlnA"><meta name="google-site-verification" content="sNOroO9gXrazN-oMODOm0Bs0_vw1R5QwZ-BfrSHn8Io"><meta name="google-site-verification" content="K1UdZBHJXQYnJGXIK1KuutmVy6dn3vG2sEyV9D1C6dM"><meta name="google-site-verification" content="wdGthzzfu0IjM3qpFqTuQL9poAQZAvAaFKyuzetLpIM"><meta name="google-site-verification" content="qZJ77guHGO0TObHUBRYVdXQlIhXBBuz8dahJVmIlzCo"><meta name="google-site-verification" content="7ahoeOOKT2ZR781GZ5xK4L9t7yO1ZOHc-gaoUALEYgw"><meta name="google-site-verification" content="PHgaSKwdxZELS21aixtLhfpvaHtKen9pnVJ25EI35Zs"><meta name="google-site-verification" content="qylwTsZSLomIg1JrChne7cPcXmtC2Xh_5ZxlJWLlAH0"><meta name="google-site-verification" content="BQfukMqFy1nu2Q2gjGbNTDA8MJ_Y4L2brCYA1h6ewkY"><meta name="google-site-verification" content="Ozey1ptWUQW13_lCEhpPMOcmRBLqdyB3WEL-TJUjskU"><meta name="google-site-verification" content="rF5iXzWe9KZXJes1dQNhOUkS4_z_e97IrsVoCx2trek"><meta name="google-site-verification" content="z-WR3zzv8XZ5FFfBLLDbyTiN35UXm01nWUS2Uej5pwg"><meta name="google-site-verification" content="vsXaeD7OD0m3iK8Z54fG8TYGC5eT17KeL_xMHtdiyWI"><meta name="google-site-verification" content="cpB5oulaGwqSxsg4E-9q2MVbK87iE9NAUUVxdveucPw"><meta name="google-site-verification" content="8P-D5fVWgUIhw8X2BxnKJbf5itK0zxX0QhoBjbJFTe8"><meta name="google-site-verification" content="88fgsZDoVRBuRnDPMIEjcHCxsEXzODOqEsJoqtvQsDc"><meta name="google-site-verification" content="sMarhZgb4va_L_7UTdMR43gDZ2gVqc_5GHN4REpQPGY"><meta name="google-site-verification" content="26aKGBCw3XblB5Ou01UhxY5WDtMqHjoTm6P-lvF6AqE"><meta name="google-site-verification" content="DGionF7db9g0dOgeBXwOAN2tmCzWBdo5yOdc_-5UcuE"><meta name="google-site-verification" content="Q9LlidR0toR7UtSyVO23xNeaqJmRp8I6r4ghBQTtntU"><meta name="google-site-verification" content="rQawcZaTEK_UrDG30cz_7nVKOVvBass61QEes0Tm04g"><meta name="google-site-verification" content="8L3ghjzKIj241AYAmEygniTe604tsXFkIrb1v-DBtGo"><meta name="google-site-verification" content="Gz6pcDgVFH_aS-aPTYW21rSHcWl0LAgKCWJtdXPVTNo"><meta name="google-site-verification" content="KiunYPvrY5x8umvAWcjhwPrB677xCar2LeT_8yaVrDg"><meta name="google-site-verification" content="LypEVvHhYiLSzDs9PabhmOmsfMfEjVGq2rLXJbtqdzY"><meta name="google-site-verification" content="b6bOMRzMVX2bJABYDGBPtpGcB_AUZ-o2SOTggQXErkg"><meta name="google-site-verification" content="v2MQvJk6wTiBarKTbe1mdivqYCVtw-5m6w0HDzV5X_4"><meta name="google-site-verification" content="-N1hdkiHJQ6kwJALkHVh2ZzV2fFNER0schZl2AU6zvc"><meta name="google-site-verification" content="dsf7CRwnDkQv6Ot4gXTXx8_nVf8A9cb5o30hZ7cGAIo"><meta property="og:type" content="article"><meta property="og:image" content="https://colab.research.google.com/img/colab_favicon_256px.png"><meta property="og:title" content="Google Colab"><meta http-equiv="origin-trial" content="Agk/t4Bt05W7j6CHeqXH9+6ccDayrBsQPqCLDPSElphe/7cUobayuvN0A3huajTbJenIjp6qibLteh6e0IEWrgIAAAB4eyJvcmlnaW4iOiJodHRwczovL2NvbGFiLnJlc2VhcmNoLmdvb2dsZS5jb206NDQzIiwiZmVhdHVyZSI6IkRpc2FibGVUaGlyZFBhcnR5U3RvcmFnZVBhcnRpdGlvbmluZzIiLCJleHBpcnkiOjE3NDIzNDIzOTl9"><script nonce="">window.performance.mark('head_end'); window.performance.measure('head', 'head_start', 'head_end');</script><script async="" src="./AVD_TGS1_files/lazy.min.js.download" nonce=""></script><style id="inert-style">
[inert] {
  pointer-events: none;
  cursor: default;
}

[inert], [inert] * {
  user-select: none;
  -webkit-user-select: none;
  -moz-user-select: none;
  -ms-user-select: none;
}
</style><script async="async" type="text/javascript" src="./AVD_TGS1_files/editor.main.js.download"></script><script async="" type="text/javascript" charset="UTF-8" src="./AVD_TGS1_files/rs=AA2YrTv9PWxAWOkNMB0THY2YxYWamdWWtA" nonce=""></script><link type="text/css" href="./AVD_TGS1_files/rs=AA2YrTucClwlLUqaQmlTybxGncrc_XS2Pg" rel="stylesheet"><link rel="stylesheet" type="text/css" data-name="vs/editor/editor.main" href="./AVD_TGS1_files/editor.main.css"><script async="async" type="text/javascript" src="./AVD_TGS1_files/editor.main.nls.js.download"></script><style type="text/css">.MathJax_Hover_Frame {border-radius: .25em; -webkit-border-radius: .25em; -moz-border-radius: .25em; -khtml-border-radius: .25em; box-shadow: 0px 0px 15px #83A; -webkit-box-shadow: 0px 0px 15px #83A; -moz-box-shadow: 0px 0px 15px #83A; -khtml-box-shadow: 0px 0px 15px #83A; border: 1px solid #A6D ! important; display: inline-block; position: absolute}
.MathJax_Menu_Button .MathJax_Hover_Arrow {position: absolute; cursor: pointer; display: inline-block; border: 2px solid #AAA; border-radius: 4px; -webkit-border-radius: 4px; -moz-border-radius: 4px; -khtml-border-radius: 4px; font-family: 'Courier New',Courier; font-size: 9px; color: #F0F0F0}
.MathJax_Menu_Button .MathJax_Hover_Arrow span {display: block; background-color: #AAA; border: 1px solid; border-radius: 3px; line-height: 0; padding: 4px}
.MathJax_Hover_Arrow:hover {color: white!important; border: 2px solid #CCC!important}
.MathJax_Hover_Arrow:hover span {background-color: #CCC!important}
</style><style type="text/css">#MathJax_About {position: fixed; left: 50%; width: auto; text-align: center; border: 3px outset; padding: 1em 2em; background-color: #DDDDDD; color: black; cursor: default; font-family: message-box; font-size: 120%; font-style: normal; text-indent: 0; text-transform: none; line-height: normal; letter-spacing: normal; word-spacing: normal; word-wrap: normal; white-space: nowrap; float: none; z-index: 201; border-radius: 15px; -webkit-border-radius: 15px; -moz-border-radius: 15px; -khtml-border-radius: 15px; box-shadow: 0px 10px 20px #808080; -webkit-box-shadow: 0px 10px 20px #808080; -moz-box-shadow: 0px 10px 20px #808080; -khtml-box-shadow: 0px 10px 20px #808080; filter: progid:DXImageTransform.Microsoft.dropshadow(OffX=2, OffY=2, Color='gray', Positive='true')}
#MathJax_About.MathJax_MousePost {outline: none}
.MathJax_Menu {position: absolute; background-color: white; color: black; width: auto; padding: 2px; border: 1px solid #CCCCCC; margin: 0; cursor: default; font: menu; text-align: left; text-indent: 0; text-transform: none; line-height: normal; letter-spacing: normal; word-spacing: normal; word-wrap: normal; white-space: nowrap; float: none; z-index: 201; box-shadow: 0px 10px 20px #808080; -webkit-box-shadow: 0px 10px 20px #808080; -moz-box-shadow: 0px 10px 20px #808080; -khtml-box-shadow: 0px 10px 20px #808080; filter: progid:DXImageTransform.Microsoft.dropshadow(OffX=2, OffY=2, Color='gray', Positive='true')}
.MathJax_MenuItem {padding: 2px 2em; background: transparent}
.MathJax_MenuArrow {position: absolute; right: .5em; padding-top: .25em; color: #666666; font-size: .75em}
.MathJax_MenuActive .MathJax_MenuArrow {color: white}
.MathJax_MenuArrow.RTL {left: .5em; right: auto}
.MathJax_MenuCheck {position: absolute; left: .7em}
.MathJax_MenuCheck.RTL {right: .7em; left: auto}
.MathJax_MenuRadioCheck {position: absolute; left: 1em}
.MathJax_MenuRadioCheck.RTL {right: 1em; left: auto}
.MathJax_MenuLabel {padding: 2px 2em 4px 1.33em; font-style: italic}
.MathJax_MenuRule {border-top: 1px solid #CCCCCC; margin: 4px 1px 0px}
.MathJax_MenuDisabled {color: GrayText}
.MathJax_MenuActive {background-color: Highlight; color: HighlightText}
.MathJax_MenuDisabled:focus, .MathJax_MenuLabel:focus {background-color: #E8E8E8}
.MathJax_ContextMenu:focus {outline: none}
.MathJax_ContextMenu .MathJax_MenuItem:focus {outline: none}
#MathJax_AboutClose {top: .2em; right: .2em}
.MathJax_Menu .MathJax_MenuClose {top: -10px; left: -10px}
.MathJax_MenuClose {position: absolute; cursor: pointer; display: inline-block; border: 2px solid #AAA; border-radius: 18px; -webkit-border-radius: 18px; -moz-border-radius: 18px; -khtml-border-radius: 18px; font-family: 'Courier New',Courier; font-size: 24px; color: #F0F0F0}
.MathJax_MenuClose span {display: block; background-color: #AAA; border: 1.5px solid; border-radius: 18px; -webkit-border-radius: 18px; -moz-border-radius: 18px; -khtml-border-radius: 18px; line-height: 0; padding: 8px 0 6px}
.MathJax_MenuClose:hover {color: white!important; border: 2px solid #CCC!important}
.MathJax_MenuClose:hover span {background-color: #CCC!important}
.MathJax_MenuClose:hover:focus {outline: none}
</style><style type="text/css">.MJX_Assistive_MathML {position: absolute!important; top: 0; left: 0; clip: rect(1px, 1px, 1px, 1px); padding: 1px 0 0 0!important; border: 0!important; height: 1px!important; width: 1px!important; overflow: hidden!important; display: block!important; -webkit-touch-callout: none; -webkit-user-select: none; -khtml-user-select: none; -moz-user-select: none; -ms-user-select: none; user-select: none}
.MJX_Assistive_MathML.MJX_Assistive_MathML_Block {width: 100%!important}
</style><style type="text/css">#MathJax_Zoom {position: absolute; background-color: #F0F0F0; overflow: auto; display: block; z-index: 301; padding: .5em; border: 1px solid black; margin: 0; font-weight: normal; font-style: normal; text-align: left; text-indent: 0; text-transform: none; line-height: normal; letter-spacing: normal; word-spacing: normal; word-wrap: normal; white-space: nowrap; float: none; -webkit-box-sizing: content-box; -moz-box-sizing: content-box; box-sizing: content-box; box-shadow: 5px 5px 15px #AAAAAA; -webkit-box-shadow: 5px 5px 15px #AAAAAA; -moz-box-shadow: 5px 5px 15px #AAAAAA; -khtml-box-shadow: 5px 5px 15px #AAAAAA; filter: progid:DXImageTransform.Microsoft.dropshadow(OffX=2, OffY=2, Color='gray', Positive='true')}
#MathJax_ZoomOverlay {position: absolute; left: 0; top: 0; z-index: 300; display: inline-block; width: 100%; height: 100%; border: 0; padding: 0; margin: 0; background-color: white; opacity: 0; filter: alpha(opacity=0)}
#MathJax_ZoomFrame {position: relative; display: inline-block; height: 0; width: 0}
#MathJax_ZoomEventTrap {position: absolute; left: 0; top: 0; z-index: 302; display: inline-block; border: 0; padding: 0; margin: 0; background-color: white; opacity: 0; filter: alpha(opacity=0)}
</style><style type="text/css">.MathJax_Preview {color: #888}
#MathJax_Message {position: fixed; left: 1em; bottom: 1.5em; background-color: #E6E6E6; border: 1px solid #959595; margin: 0px; padding: 2px 8px; z-index: 102; color: black; font-size: 80%; width: auto; white-space: nowrap}
#MathJax_MSIE_Frame {position: absolute; top: 0; left: 0; width: 0px; z-index: 101; border: 0px; margin: 0px; padding: 0px}
.MathJax_Error {color: #CC0000; font-style: italic}
</style><style type="text/css">.MJXp-script {font-size: .8em}
.MJXp-right {-webkit-transform-origin: right; -moz-transform-origin: right; -ms-transform-origin: right; -o-transform-origin: right; transform-origin: right}
.MJXp-bold {font-weight: bold}
.MJXp-italic {font-style: italic}
.MJXp-scr {font-family: MathJax_Script,'Times New Roman',Times,STIXGeneral,serif}
.MJXp-frak {font-family: MathJax_Fraktur,'Times New Roman',Times,STIXGeneral,serif}
.MJXp-sf {font-family: MathJax_SansSerif,'Times New Roman',Times,STIXGeneral,serif}
.MJXp-cal {font-family: MathJax_Caligraphic,'Times New Roman',Times,STIXGeneral,serif}
.MJXp-mono {font-family: MathJax_Typewriter,'Times New Roman',Times,STIXGeneral,serif}
.MJXp-largeop {font-size: 150%}
.MJXp-largeop.MJXp-int {vertical-align: -.2em}
.MJXp-math {display: inline-block; line-height: 1.2; text-indent: 0; font-family: 'Times New Roman',Times,STIXGeneral,serif; white-space: nowrap; border-collapse: collapse}
.MJXp-display {display: block; text-align: center; margin: 1em 0}
.MJXp-math span {display: inline-block}
.MJXp-box {display: block!important; text-align: center}
.MJXp-box:after {content: " "}
.MJXp-rule {display: block!important; margin-top: .1em}
.MJXp-char {display: block!important}
.MJXp-mo {margin: 0 .15em}
.MJXp-mfrac {margin: 0 .125em; vertical-align: .25em}
.MJXp-denom {display: inline-table!important; width: 100%}
.MJXp-denom > * {display: table-row!important}
.MJXp-surd {vertical-align: top}
.MJXp-surd > * {display: block!important}
.MJXp-script-box > *  {display: table!important; height: 50%}
.MJXp-script-box > * > * {display: table-cell!important; vertical-align: top}
.MJXp-script-box > *:last-child > * {vertical-align: bottom}
.MJXp-script-box > * > * > * {display: block!important}
.MJXp-mphantom {visibility: hidden}
.MJXp-munderover, .MJXp-munder {display: inline-table!important}
.MJXp-over {display: inline-block!important; text-align: center}
.MJXp-over > * {display: block!important}
.MJXp-munderover > *, .MJXp-munder > * {display: table-row!important}
.MJXp-mtable {vertical-align: .25em; margin: 0 .125em}
.MJXp-mtable > * {display: inline-table!important; vertical-align: middle}
.MJXp-mtr {display: table-row!important}
.MJXp-mtd {display: table-cell!important; text-align: center; padding: .5em 0 0 .5em}
.MJXp-mtr > .MJXp-mtd:first-child {padding-left: 0}
.MJXp-mtr:first-child > .MJXp-mtd {padding-top: 0}
.MJXp-mlabeledtr {display: table-row!important}
.MJXp-mlabeledtr > .MJXp-mtd:first-child {padding-left: 0}
.MJXp-mlabeledtr:first-child > .MJXp-mtd {padding-top: 0}
.MJXp-merror {background-color: #FFFF88; color: #CC0000; border: 1px solid #CC0000; padding: 1px 3px; font-style: normal; font-size: 90%}
.MJXp-scale0 {-webkit-transform: scaleX(.0); -moz-transform: scaleX(.0); -ms-transform: scaleX(.0); -o-transform: scaleX(.0); transform: scaleX(.0)}
.MJXp-scale1 {-webkit-transform: scaleX(.1); -moz-transform: scaleX(.1); -ms-transform: scaleX(.1); -o-transform: scaleX(.1); transform: scaleX(.1)}
.MJXp-scale2 {-webkit-transform: scaleX(.2); -moz-transform: scaleX(.2); -ms-transform: scaleX(.2); -o-transform: scaleX(.2); transform: scaleX(.2)}
.MJXp-scale3 {-webkit-transform: scaleX(.3); -moz-transform: scaleX(.3); -ms-transform: scaleX(.3); -o-transform: scaleX(.3); transform: scaleX(.3)}
.MJXp-scale4 {-webkit-transform: scaleX(.4); -moz-transform: scaleX(.4); -ms-transform: scaleX(.4); -o-transform: scaleX(.4); transform: scaleX(.4)}
.MJXp-scale5 {-webkit-transform: scaleX(.5); -moz-transform: scaleX(.5); -ms-transform: scaleX(.5); -o-transform: scaleX(.5); transform: scaleX(.5)}
.MJXp-scale6 {-webkit-transform: scaleX(.6); -moz-transform: scaleX(.6); -ms-transform: scaleX(.6); -o-transform: scaleX(.6); transform: scaleX(.6)}
.MJXp-scale7 {-webkit-transform: scaleX(.7); -moz-transform: scaleX(.7); -ms-transform: scaleX(.7); -o-transform: scaleX(.7); transform: scaleX(.7)}
.MJXp-scale8 {-webkit-transform: scaleX(.8); -moz-transform: scaleX(.8); -ms-transform: scaleX(.8); -o-transform: scaleX(.8); transform: scaleX(.8)}
.MJXp-scale9 {-webkit-transform: scaleX(.9); -moz-transform: scaleX(.9); -ms-transform: scaleX(.9); -o-transform: scaleX(.9); transform: scaleX(.9)}
.MathJax_PHTML .noError {vertical-align: ; font-size: 90%; text-align: left; color: black; padding: 1px 3px; border: 1px solid}
</style><style type="text/css">.MathJax_Display {text-align: center; margin: 0; position: relative; display: block!important; text-indent: 0; max-width: none; max-height: none; min-width: 0; min-height: 0; width: 100%}
.MathJax .merror {background-color: #FFFF88; color: #CC0000; border: 1px solid #CC0000; padding: 1px 3px; font-style: normal; font-size: 90%}
.MathJax .MJX-monospace {font-family: monospace}
.MathJax .MJX-sans-serif {font-family: sans-serif}
#MathJax_Tooltip {background-color: InfoBackground; color: InfoText; border: 1px solid black; box-shadow: 2px 2px 5px #AAAAAA; -webkit-box-shadow: 2px 2px 5px #AAAAAA; -moz-box-shadow: 2px 2px 5px #AAAAAA; -khtml-box-shadow: 2px 2px 5px #AAAAAA; filter: progid:DXImageTransform.Microsoft.dropshadow(OffX=2, OffY=2, Color='gray', Positive='true'); padding: 3px 4px; z-index: 401; position: absolute; left: 0; top: 0; width: auto; height: auto; display: none}
.MathJax {display: inline; font-style: normal; font-weight: normal; line-height: normal; font-size: 100%; font-size-adjust: none; text-indent: 0; text-align: left; text-transform: none; letter-spacing: normal; word-spacing: normal; word-wrap: normal; white-space: nowrap; float: none; direction: ltr; max-width: none; max-height: none; min-width: 0; min-height: 0; border: 0; padding: 0; margin: 0}
.MathJax:focus, body :focus .MathJax {display: inline-table}
.MathJax.MathJax_FullWidth {text-align: center; display: table-cell!important; width: 10000em!important}
.MathJax img, .MathJax nobr, .MathJax a {border: 0; padding: 0; margin: 0; max-width: none; max-height: none; min-width: 0; min-height: 0; vertical-align: 0; line-height: normal; text-decoration: none}
img.MathJax_strut {border: 0!important; padding: 0!important; margin: 0!important; vertical-align: 0!important}
.MathJax span {display: inline; position: static; border: 0; padding: 0; margin: 0; vertical-align: 0; line-height: normal; text-decoration: none; box-sizing: content-box}
.MathJax nobr {white-space: nowrap!important}
.MathJax img {display: inline!important; float: none!important}
.MathJax * {transition: none; -webkit-transition: none; -moz-transition: none; -ms-transition: none; -o-transition: none}
.MathJax_Processing {visibility: hidden; position: fixed; width: 0; height: 0; overflow: hidden}
.MathJax_Processed {display: none!important}
.MathJax_test {font-style: normal; font-weight: normal; font-size: 100%; font-size-adjust: none; text-indent: 0; text-transform: none; letter-spacing: normal; word-spacing: normal; overflow: hidden; height: 1px}
.MathJax_test.mjx-test-display {display: table!important}
.MathJax_test.mjx-test-inline {display: inline!important; margin-right: -1px}
.MathJax_test.mjx-test-default {display: block!important; clear: both}
.MathJax_ex_box {display: inline-block!important; position: absolute; overflow: hidden; min-height: 0; max-height: none; padding: 0; border: 0; margin: 0; width: 1px; height: 60ex}
.MathJax_em_box {display: inline-block!important; position: absolute; overflow: hidden; min-height: 0; max-height: none; padding: 0; border: 0; margin: 0; width: 1px; height: 60em}
.mjx-test-inline .MathJax_left_box {display: inline-block; width: 0; float: left}
.mjx-test-inline .MathJax_right_box {display: inline-block; width: 0; float: right}
.mjx-test-display .MathJax_right_box {display: table-cell!important; width: 10000em!important; min-width: 0; max-width: none; padding: 0; border: 0; margin: 0}
.MathJax .MathJax_HitBox {cursor: text; background: white; opacity: 0; filter: alpha(opacity=0)}
.MathJax .MathJax_HitBox * {filter: none; opacity: 1; background: transparent}
#MathJax_Tooltip * {filter: none; opacity: 1; background: transparent}
@font-face {font-family: MathJax_Main; src: url('https://colab.research.google.com/static/mathjax/fonts/HTML-CSS/TeX/woff/MathJax_Main-Regular.woff?V=2.7.5') format('woff'), url('https://colab.research.google.com/static/mathjax/fonts/HTML-CSS/TeX/otf/MathJax_Main-Regular.otf?V=2.7.5') format('opentype')}
@font-face {font-family: MathJax_Main-bold; src: url('https://colab.research.google.com/static/mathjax/fonts/HTML-CSS/TeX/woff/MathJax_Main-Bold.woff?V=2.7.5') format('woff'), url('https://colab.research.google.com/static/mathjax/fonts/HTML-CSS/TeX/otf/MathJax_Main-Bold.otf?V=2.7.5') format('opentype')}
@font-face {font-family: MathJax_Main-italic; src: url('https://colab.research.google.com/static/mathjax/fonts/HTML-CSS/TeX/woff/MathJax_Main-Italic.woff?V=2.7.5') format('woff'), url('https://colab.research.google.com/static/mathjax/fonts/HTML-CSS/TeX/otf/MathJax_Main-Italic.otf?V=2.7.5') format('opentype')}
@font-face {font-family: MathJax_Math-italic; src: url('https://colab.research.google.com/static/mathjax/fonts/HTML-CSS/TeX/woff/MathJax_Math-Italic.woff?V=2.7.5') format('woff'), url('https://colab.research.google.com/static/mathjax/fonts/HTML-CSS/TeX/otf/MathJax_Math-Italic.otf?V=2.7.5') format('opentype')}
@font-face {font-family: MathJax_Caligraphic; src: url('https://colab.research.google.com/static/mathjax/fonts/HTML-CSS/TeX/woff/MathJax_Caligraphic-Regular.woff?V=2.7.5') format('woff'), url('https://colab.research.google.com/static/mathjax/fonts/HTML-CSS/TeX/otf/MathJax_Caligraphic-Regular.otf?V=2.7.5') format('opentype')}
@font-face {font-family: MathJax_Size1; src: url('https://colab.research.google.com/static/mathjax/fonts/HTML-CSS/TeX/woff/MathJax_Size1-Regular.woff?V=2.7.5') format('woff'), url('https://colab.research.google.com/static/mathjax/fonts/HTML-CSS/TeX/otf/MathJax_Size1-Regular.otf?V=2.7.5') format('opentype')}
@font-face {font-family: MathJax_Size2; src: url('https://colab.research.google.com/static/mathjax/fonts/HTML-CSS/TeX/woff/MathJax_Size2-Regular.woff?V=2.7.5') format('woff'), url('https://colab.research.google.com/static/mathjax/fonts/HTML-CSS/TeX/otf/MathJax_Size2-Regular.otf?V=2.7.5') format('opentype')}
@font-face {font-family: MathJax_Size3; src: url('https://colab.research.google.com/static/mathjax/fonts/HTML-CSS/TeX/woff/MathJax_Size3-Regular.woff?V=2.7.5') format('woff'), url('https://colab.research.google.com/static/mathjax/fonts/HTML-CSS/TeX/otf/MathJax_Size3-Regular.otf?V=2.7.5') format('opentype')}
@font-face {font-family: MathJax_Size4; src: url('https://colab.research.google.com/static/mathjax/fonts/HTML-CSS/TeX/woff/MathJax_Size4-Regular.woff?V=2.7.5') format('woff'), url('https://colab.research.google.com/static/mathjax/fonts/HTML-CSS/TeX/otf/MathJax_Size4-Regular.otf?V=2.7.5') format('opentype')}
.MathJax .noError {vertical-align: ; font-size: 90%; text-align: left; color: black; padding: 1px 3px; border: 1px solid}
</style><script async="async" type="text/javascript" src="./AVD_TGS1_files/markdown.js.download"></script><script src="./AVD_TGS1_files/api.js.download" nonce=""></script><script src="./AVD_TGS1_files/api(1).js.download" nonce=""></script><style type="text/css" media="screen" class="monaco-colors">.codicon-add:before { content: '\ea60'; }
.codicon-plus:before { content: '\ea60'; }
.codicon-gist-new:before { content: '\ea60'; }
.codicon-repo-create:before { content: '\ea60'; }
.codicon-lightbulb:before { content: '\ea61'; }
.codicon-light-bulb:before { content: '\ea61'; }
.codicon-repo:before { content: '\ea62'; }
.codicon-repo-delete:before { content: '\ea62'; }
.codicon-gist-fork:before { content: '\ea63'; }
.codicon-repo-forked:before { content: '\ea63'; }
.codicon-git-pull-request:before { content: '\ea64'; }
.codicon-git-pull-request-abandoned:before { content: '\ea64'; }
.codicon-record-keys:before { content: '\ea65'; }
.codicon-keyboard:before { content: '\ea65'; }
.codicon-tag:before { content: '\ea66'; }
.codicon-tag-add:before { content: '\ea66'; }
.codicon-tag-remove:before { content: '\ea66'; }
.codicon-person:before { content: '\ea67'; }
.codicon-person-follow:before { content: '\ea67'; }
.codicon-person-outline:before { content: '\ea67'; }
.codicon-person-filled:before { content: '\ea67'; }
.codicon-git-branch:before { content: '\ea68'; }
.codicon-git-branch-create:before { content: '\ea68'; }
.codicon-git-branch-delete:before { content: '\ea68'; }
.codicon-source-control:before { content: '\ea68'; }
.codicon-mirror:before { content: '\ea69'; }
.codicon-mirror-public:before { content: '\ea69'; }
.codicon-star:before { content: '\ea6a'; }
.codicon-star-add:before { content: '\ea6a'; }
.codicon-star-delete:before { content: '\ea6a'; }
.codicon-star-empty:before { content: '\ea6a'; }
.codicon-comment:before { content: '\ea6b'; }
.codicon-comment-add:before { content: '\ea6b'; }
.codicon-alert:before { content: '\ea6c'; }
.codicon-warning:before { content: '\ea6c'; }
.codicon-search:before { content: '\ea6d'; }
.codicon-search-save:before { content: '\ea6d'; }
.codicon-log-out:before { content: '\ea6e'; }
.codicon-sign-out:before { content: '\ea6e'; }
.codicon-log-in:before { content: '\ea6f'; }
.codicon-sign-in:before { content: '\ea6f'; }
.codicon-eye:before { content: '\ea70'; }
.codicon-eye-unwatch:before { content: '\ea70'; }
.codicon-eye-watch:before { content: '\ea70'; }
.codicon-circle-filled:before { content: '\ea71'; }
.codicon-primitive-dot:before { content: '\ea71'; }
.codicon-close-dirty:before { content: '\ea71'; }
.codicon-debug-breakpoint:before { content: '\ea71'; }
.codicon-debug-breakpoint-disabled:before { content: '\ea71'; }
.codicon-debug-hint:before { content: '\ea71'; }
.codicon-primitive-square:before { content: '\ea72'; }
.codicon-edit:before { content: '\ea73'; }
.codicon-pencil:before { content: '\ea73'; }
.codicon-info:before { content: '\ea74'; }
.codicon-issue-opened:before { content: '\ea74'; }
.codicon-gist-private:before { content: '\ea75'; }
.codicon-git-fork-private:before { content: '\ea75'; }
.codicon-lock:before { content: '\ea75'; }
.codicon-mirror-private:before { content: '\ea75'; }
.codicon-close:before { content: '\ea76'; }
.codicon-remove-close:before { content: '\ea76'; }
.codicon-x:before { content: '\ea76'; }
.codicon-repo-sync:before { content: '\ea77'; }
.codicon-sync:before { content: '\ea77'; }
.codicon-clone:before { content: '\ea78'; }
.codicon-desktop-download:before { content: '\ea78'; }
.codicon-beaker:before { content: '\ea79'; }
.codicon-microscope:before { content: '\ea79'; }
.codicon-vm:before { content: '\ea7a'; }
.codicon-device-desktop:before { content: '\ea7a'; }
.codicon-file:before { content: '\ea7b'; }
.codicon-file-text:before { content: '\ea7b'; }
.codicon-more:before { content: '\ea7c'; }
.codicon-ellipsis:before { content: '\ea7c'; }
.codicon-kebab-horizontal:before { content: '\ea7c'; }
.codicon-mail-reply:before { content: '\ea7d'; }
.codicon-reply:before { content: '\ea7d'; }
.codicon-organization:before { content: '\ea7e'; }
.codicon-organization-filled:before { content: '\ea7e'; }
.codicon-organization-outline:before { content: '\ea7e'; }
.codicon-new-file:before { content: '\ea7f'; }
.codicon-file-add:before { content: '\ea7f'; }
.codicon-new-folder:before { content: '\ea80'; }
.codicon-file-directory-create:before { content: '\ea80'; }
.codicon-trash:before { content: '\ea81'; }
.codicon-trashcan:before { content: '\ea81'; }
.codicon-history:before { content: '\ea82'; }
.codicon-clock:before { content: '\ea82'; }
.codicon-folder:before { content: '\ea83'; }
.codicon-file-directory:before { content: '\ea83'; }
.codicon-symbol-folder:before { content: '\ea83'; }
.codicon-logo-github:before { content: '\ea84'; }
.codicon-mark-github:before { content: '\ea84'; }
.codicon-github:before { content: '\ea84'; }
.codicon-terminal:before { content: '\ea85'; }
.codicon-console:before { content: '\ea85'; }
.codicon-repl:before { content: '\ea85'; }
.codicon-zap:before { content: '\ea86'; }
.codicon-symbol-event:before { content: '\ea86'; }
.codicon-error:before { content: '\ea87'; }
.codicon-stop:before { content: '\ea87'; }
.codicon-variable:before { content: '\ea88'; }
.codicon-symbol-variable:before { content: '\ea88'; }
.codicon-array:before { content: '\ea8a'; }
.codicon-symbol-array:before { content: '\ea8a'; }
.codicon-symbol-module:before { content: '\ea8b'; }
.codicon-symbol-package:before { content: '\ea8b'; }
.codicon-symbol-namespace:before { content: '\ea8b'; }
.codicon-symbol-object:before { content: '\ea8b'; }
.codicon-symbol-method:before { content: '\ea8c'; }
.codicon-symbol-function:before { content: '\ea8c'; }
.codicon-symbol-constructor:before { content: '\ea8c'; }
.codicon-symbol-boolean:before { content: '\ea8f'; }
.codicon-symbol-null:before { content: '\ea8f'; }
.codicon-symbol-numeric:before { content: '\ea90'; }
.codicon-symbol-number:before { content: '\ea90'; }
.codicon-symbol-structure:before { content: '\ea91'; }
.codicon-symbol-struct:before { content: '\ea91'; }
.codicon-symbol-parameter:before { content: '\ea92'; }
.codicon-symbol-type-parameter:before { content: '\ea92'; }
.codicon-symbol-key:before { content: '\ea93'; }
.codicon-symbol-text:before { content: '\ea93'; }
.codicon-symbol-reference:before { content: '\ea94'; }
.codicon-go-to-file:before { content: '\ea94'; }
.codicon-symbol-enum:before { content: '\ea95'; }
.codicon-symbol-value:before { content: '\ea95'; }
.codicon-symbol-ruler:before { content: '\ea96'; }
.codicon-symbol-unit:before { content: '\ea96'; }
.codicon-activate-breakpoints:before { content: '\ea97'; }
.codicon-archive:before { content: '\ea98'; }
.codicon-arrow-both:before { content: '\ea99'; }
.codicon-arrow-down:before { content: '\ea9a'; }
.codicon-arrow-left:before { content: '\ea9b'; }
.codicon-arrow-right:before { content: '\ea9c'; }
.codicon-arrow-small-down:before { content: '\ea9d'; }
.codicon-arrow-small-left:before { content: '\ea9e'; }
.codicon-arrow-small-right:before { content: '\ea9f'; }
.codicon-arrow-small-up:before { content: '\eaa0'; }
.codicon-arrow-up:before { content: '\eaa1'; }
.codicon-bell:before { content: '\eaa2'; }
.codicon-bold:before { content: '\eaa3'; }
.codicon-book:before { content: '\eaa4'; }
.codicon-bookmark:before { content: '\eaa5'; }
.codicon-debug-breakpoint-conditional-unverified:before { content: '\eaa6'; }
.codicon-debug-breakpoint-conditional:before { content: '\eaa7'; }
.codicon-debug-breakpoint-conditional-disabled:before { content: '\eaa7'; }
.codicon-debug-breakpoint-data-unverified:before { content: '\eaa8'; }
.codicon-debug-breakpoint-data:before { content: '\eaa9'; }
.codicon-debug-breakpoint-data-disabled:before { content: '\eaa9'; }
.codicon-debug-breakpoint-log-unverified:before { content: '\eaaa'; }
.codicon-debug-breakpoint-log:before { content: '\eaab'; }
.codicon-debug-breakpoint-log-disabled:before { content: '\eaab'; }
.codicon-briefcase:before { content: '\eaac'; }
.codicon-broadcast:before { content: '\eaad'; }
.codicon-browser:before { content: '\eaae'; }
.codicon-bug:before { content: '\eaaf'; }
.codicon-calendar:before { content: '\eab0'; }
.codicon-case-sensitive:before { content: '\eab1'; }
.codicon-check:before { content: '\eab2'; }
.codicon-checklist:before { content: '\eab3'; }
.codicon-chevron-down:before { content: '\eab4'; }
.codicon-drop-down-button:before { content: '\eab4'; }
.codicon-chevron-left:before { content: '\eab5'; }
.codicon-chevron-right:before { content: '\eab6'; }
.codicon-chevron-up:before { content: '\eab7'; }
.codicon-chrome-close:before { content: '\eab8'; }
.codicon-chrome-maximize:before { content: '\eab9'; }
.codicon-chrome-minimize:before { content: '\eaba'; }
.codicon-chrome-restore:before { content: '\eabb'; }
.codicon-circle:before { content: '\eabc'; }
.codicon-circle-outline:before { content: '\eabc'; }
.codicon-debug-breakpoint-unverified:before { content: '\eabc'; }
.codicon-circle-slash:before { content: '\eabd'; }
.codicon-circuit-board:before { content: '\eabe'; }
.codicon-clear-all:before { content: '\eabf'; }
.codicon-clippy:before { content: '\eac0'; }
.codicon-close-all:before { content: '\eac1'; }
.codicon-cloud-download:before { content: '\eac2'; }
.codicon-cloud-upload:before { content: '\eac3'; }
.codicon-code:before { content: '\eac4'; }
.codicon-collapse-all:before { content: '\eac5'; }
.codicon-color-mode:before { content: '\eac6'; }
.codicon-comment-discussion:before { content: '\eac7'; }
.codicon-compare-changes:before { content: '\eafd'; }
.codicon-credit-card:before { content: '\eac9'; }
.codicon-dash:before { content: '\eacc'; }
.codicon-dashboard:before { content: '\eacd'; }
.codicon-database:before { content: '\eace'; }
.codicon-debug-continue:before { content: '\eacf'; }
.codicon-debug-disconnect:before { content: '\ead0'; }
.codicon-debug-pause:before { content: '\ead1'; }
.codicon-debug-restart:before { content: '\ead2'; }
.codicon-debug-start:before { content: '\ead3'; }
.codicon-debug-step-into:before { content: '\ead4'; }
.codicon-debug-step-out:before { content: '\ead5'; }
.codicon-debug-step-over:before { content: '\ead6'; }
.codicon-debug-stop:before { content: '\ead7'; }
.codicon-debug:before { content: '\ead8'; }
.codicon-device-camera-video:before { content: '\ead9'; }
.codicon-device-camera:before { content: '\eada'; }
.codicon-device-mobile:before { content: '\eadb'; }
.codicon-diff-added:before { content: '\eadc'; }
.codicon-diff-ignored:before { content: '\eadd'; }
.codicon-diff-modified:before { content: '\eade'; }
.codicon-diff-removed:before { content: '\eadf'; }
.codicon-diff-renamed:before { content: '\eae0'; }
.codicon-diff:before { content: '\eae1'; }
.codicon-discard:before { content: '\eae2'; }
.codicon-editor-layout:before { content: '\eae3'; }
.codicon-empty-window:before { content: '\eae4'; }
.codicon-exclude:before { content: '\eae5'; }
.codicon-extensions:before { content: '\eae6'; }
.codicon-eye-closed:before { content: '\eae7'; }
.codicon-file-binary:before { content: '\eae8'; }
.codicon-file-code:before { content: '\eae9'; }
.codicon-file-media:before { content: '\eaea'; }
.codicon-file-pdf:before { content: '\eaeb'; }
.codicon-file-submodule:before { content: '\eaec'; }
.codicon-file-symlink-directory:before { content: '\eaed'; }
.codicon-file-symlink-file:before { content: '\eaee'; }
.codicon-file-zip:before { content: '\eaef'; }
.codicon-files:before { content: '\eaf0'; }
.codicon-filter:before { content: '\eaf1'; }
.codicon-flame:before { content: '\eaf2'; }
.codicon-fold-down:before { content: '\eaf3'; }
.codicon-fold-up:before { content: '\eaf4'; }
.codicon-fold:before { content: '\eaf5'; }
.codicon-folder-active:before { content: '\eaf6'; }
.codicon-folder-opened:before { content: '\eaf7'; }
.codicon-gear:before { content: '\eaf8'; }
.codicon-gift:before { content: '\eaf9'; }
.codicon-gist-secret:before { content: '\eafa'; }
.codicon-gist:before { content: '\eafb'; }
.codicon-git-commit:before { content: '\eafc'; }
.codicon-git-compare:before { content: '\eafd'; }
.codicon-git-merge:before { content: '\eafe'; }
.codicon-github-action:before { content: '\eaff'; }
.codicon-github-alt:before { content: '\eb00'; }
.codicon-globe:before { content: '\eb01'; }
.codicon-grabber:before { content: '\eb02'; }
.codicon-graph:before { content: '\eb03'; }
.codicon-gripper:before { content: '\eb04'; }
.codicon-heart:before { content: '\eb05'; }
.codicon-home:before { content: '\eb06'; }
.codicon-horizontal-rule:before { content: '\eb07'; }
.codicon-hubot:before { content: '\eb08'; }
.codicon-inbox:before { content: '\eb09'; }
.codicon-issue-closed:before { content: '\eba4'; }
.codicon-issue-reopened:before { content: '\eb0b'; }
.codicon-issues:before { content: '\eb0c'; }
.codicon-italic:before { content: '\eb0d'; }
.codicon-jersey:before { content: '\eb0e'; }
.codicon-json:before { content: '\eb0f'; }
.codicon-bracket:before { content: '\eb0f'; }
.codicon-kebab-vertical:before { content: '\eb10'; }
.codicon-key:before { content: '\eb11'; }
.codicon-law:before { content: '\eb12'; }
.codicon-lightbulb-autofix:before { content: '\eb13'; }
.codicon-link-external:before { content: '\eb14'; }
.codicon-link:before { content: '\eb15'; }
.codicon-list-ordered:before { content: '\eb16'; }
.codicon-list-unordered:before { content: '\eb17'; }
.codicon-live-share:before { content: '\eb18'; }
.codicon-loading:before { content: '\eb19'; }
.codicon-location:before { content: '\eb1a'; }
.codicon-mail-read:before { content: '\eb1b'; }
.codicon-mail:before { content: '\eb1c'; }
.codicon-markdown:before { content: '\eb1d'; }
.codicon-megaphone:before { content: '\eb1e'; }
.codicon-mention:before { content: '\eb1f'; }
.codicon-milestone:before { content: '\eb20'; }
.codicon-mortar-board:before { content: '\eb21'; }
.codicon-move:before { content: '\eb22'; }
.codicon-multiple-windows:before { content: '\eb23'; }
.codicon-mute:before { content: '\eb24'; }
.codicon-no-newline:before { content: '\eb25'; }
.codicon-note:before { content: '\eb26'; }
.codicon-octoface:before { content: '\eb27'; }
.codicon-open-preview:before { content: '\eb28'; }
.codicon-package:before { content: '\eb29'; }
.codicon-paintcan:before { content: '\eb2a'; }
.codicon-pin:before { content: '\eb2b'; }
.codicon-play:before { content: '\eb2c'; }
.codicon-run:before { content: '\eb2c'; }
.codicon-plug:before { content: '\eb2d'; }
.codicon-preserve-case:before { content: '\eb2e'; }
.codicon-preview:before { content: '\eb2f'; }
.codicon-project:before { content: '\eb30'; }
.codicon-pulse:before { content: '\eb31'; }
.codicon-question:before { content: '\eb32'; }
.codicon-quote:before { content: '\eb33'; }
.codicon-radio-tower:before { content: '\eb34'; }
.codicon-reactions:before { content: '\eb35'; }
.codicon-references:before { content: '\eb36'; }
.codicon-refresh:before { content: '\eb37'; }
.codicon-regex:before { content: '\eb38'; }
.codicon-remote-explorer:before { content: '\eb39'; }
.codicon-remote:before { content: '\eb3a'; }
.codicon-remove:before { content: '\eb3b'; }
.codicon-replace-all:before { content: '\eb3c'; }
.codicon-replace:before { content: '\eb3d'; }
.codicon-repo-clone:before { content: '\eb3e'; }
.codicon-repo-force-push:before { content: '\eb3f'; }
.codicon-repo-pull:before { content: '\eb40'; }
.codicon-repo-push:before { content: '\eb41'; }
.codicon-report:before { content: '\eb42'; }
.codicon-request-changes:before { content: '\eb43'; }
.codicon-rocket:before { content: '\eb44'; }
.codicon-root-folder-opened:before { content: '\eb45'; }
.codicon-root-folder:before { content: '\eb46'; }
.codicon-rss:before { content: '\eb47'; }
.codicon-ruby:before { content: '\eb48'; }
.codicon-save-all:before { content: '\eb49'; }
.codicon-save-as:before { content: '\eb4a'; }
.codicon-save:before { content: '\eb4b'; }
.codicon-screen-full:before { content: '\eb4c'; }
.codicon-screen-normal:before { content: '\eb4d'; }
.codicon-search-stop:before { content: '\eb4e'; }
.codicon-server:before { content: '\eb50'; }
.codicon-settings-gear:before { content: '\eb51'; }
.codicon-settings:before { content: '\eb52'; }
.codicon-shield:before { content: '\eb53'; }
.codicon-smiley:before { content: '\eb54'; }
.codicon-sort-precedence:before { content: '\eb55'; }
.codicon-split-horizontal:before { content: '\eb56'; }
.codicon-split-vertical:before { content: '\eb57'; }
.codicon-squirrel:before { content: '\eb58'; }
.codicon-star-full:before { content: '\eb59'; }
.codicon-star-half:before { content: '\eb5a'; }
.codicon-symbol-class:before { content: '\eb5b'; }
.codicon-symbol-color:before { content: '\eb5c'; }
.codicon-symbol-customcolor:before { content: '\eb5c'; }
.codicon-symbol-constant:before { content: '\eb5d'; }
.codicon-symbol-enum-member:before { content: '\eb5e'; }
.codicon-symbol-field:before { content: '\eb5f'; }
.codicon-symbol-file:before { content: '\eb60'; }
.codicon-symbol-interface:before { content: '\eb61'; }
.codicon-symbol-keyword:before { content: '\eb62'; }
.codicon-symbol-misc:before { content: '\eb63'; }
.codicon-symbol-operator:before { content: '\eb64'; }
.codicon-symbol-property:before { content: '\eb65'; }
.codicon-wrench:before { content: '\eb65'; }
.codicon-wrench-subaction:before { content: '\eb65'; }
.codicon-symbol-snippet:before { content: '\eb66'; }
.codicon-tasklist:before { content: '\eb67'; }
.codicon-telescope:before { content: '\eb68'; }
.codicon-text-size:before { content: '\eb69'; }
.codicon-three-bars:before { content: '\eb6a'; }
.codicon-thumbsdown:before { content: '\eb6b'; }
.codicon-thumbsup:before { content: '\eb6c'; }
.codicon-tools:before { content: '\eb6d'; }
.codicon-triangle-down:before { content: '\eb6e'; }
.codicon-triangle-left:before { content: '\eb6f'; }
.codicon-triangle-right:before { content: '\eb70'; }
.codicon-triangle-up:before { content: '\eb71'; }
.codicon-twitter:before { content: '\eb72'; }
.codicon-unfold:before { content: '\eb73'; }
.codicon-unlock:before { content: '\eb74'; }
.codicon-unmute:before { content: '\eb75'; }
.codicon-unverified:before { content: '\eb76'; }
.codicon-verified:before { content: '\eb77'; }
.codicon-versions:before { content: '\eb78'; }
.codicon-vm-active:before { content: '\eb79'; }
.codicon-vm-outline:before { content: '\eb7a'; }
.codicon-vm-running:before { content: '\eb7b'; }
.codicon-watch:before { content: '\eb7c'; }
.codicon-whitespace:before { content: '\eb7d'; }
.codicon-whole-word:before { content: '\eb7e'; }
.codicon-window:before { content: '\eb7f'; }
.codicon-word-wrap:before { content: '\eb80'; }
.codicon-zoom-in:before { content: '\eb81'; }
.codicon-zoom-out:before { content: '\eb82'; }
.codicon-list-filter:before { content: '\eb83'; }
.codicon-list-flat:before { content: '\eb84'; }
.codicon-list-selection:before { content: '\eb85'; }
.codicon-selection:before { content: '\eb85'; }
.codicon-list-tree:before { content: '\eb86'; }
.codicon-debug-breakpoint-function-unverified:before { content: '\eb87'; }
.codicon-debug-breakpoint-function:before { content: '\eb88'; }
.codicon-debug-breakpoint-function-disabled:before { content: '\eb88'; }
.codicon-debug-stackframe-active:before { content: '\eb89'; }
.codicon-circle-small-filled:before { content: '\eb8a'; }
.codicon-debug-stackframe-dot:before { content: '\eb8a'; }
.codicon-debug-stackframe:before { content: '\eb8b'; }
.codicon-debug-stackframe-focused:before { content: '\eb8b'; }
.codicon-debug-breakpoint-unsupported:before { content: '\eb8c'; }
.codicon-symbol-string:before { content: '\eb8d'; }
.codicon-debug-reverse-continue:before { content: '\eb8e'; }
.codicon-debug-step-back:before { content: '\eb8f'; }
.codicon-debug-restart-frame:before { content: '\eb90'; }
.codicon-call-incoming:before { content: '\eb92'; }
.codicon-call-outgoing:before { content: '\eb93'; }
.codicon-menu:before { content: '\eb94'; }
.codicon-expand-all:before { content: '\eb95'; }
.codicon-feedback:before { content: '\eb96'; }
.codicon-group-by-ref-type:before { content: '\eb97'; }
.codicon-ungroup-by-ref-type:before { content: '\eb98'; }
.codicon-account:before { content: '\eb99'; }
.codicon-bell-dot:before { content: '\eb9a'; }
.codicon-debug-console:before { content: '\eb9b'; }
.codicon-library:before { content: '\eb9c'; }
.codicon-output:before { content: '\eb9d'; }
.codicon-run-all:before { content: '\eb9e'; }
.codicon-sync-ignored:before { content: '\eb9f'; }
.codicon-pinned:before { content: '\eba0'; }
.codicon-github-inverted:before { content: '\eba1'; }
.codicon-debug-alt:before { content: '\eb91'; }
.codicon-server-process:before { content: '\eba2'; }
.codicon-server-environment:before { content: '\eba3'; }
.codicon-pass:before { content: '\eba4'; }
.codicon-stop-circle:before { content: '\eba5'; }
.codicon-play-circle:before { content: '\eba6'; }
.codicon-record:before { content: '\eba7'; }
.codicon-debug-alt-small:before { content: '\eba8'; }
.codicon-vm-connect:before { content: '\eba9'; }
.codicon-cloud:before { content: '\ebaa'; }
.codicon-merge:before { content: '\ebab'; }
.codicon-export:before { content: '\ebac'; }
.codicon-graph-left:before { content: '\ebad'; }
.codicon-magnet:before { content: '\ebae'; }
.codicon-notebook:before { content: '\ebaf'; }
.codicon-redo:before { content: '\ebb0'; }
.codicon-check-all:before { content: '\ebb1'; }
.codicon-pinned-dirty:before { content: '\ebb2'; }
.codicon-pass-filled:before { content: '\ebb3'; }
.codicon-circle-large-filled:before { content: '\ebb4'; }
.codicon-circle-large:before { content: '\ebb5'; }
.codicon-circle-large-outline:before { content: '\ebb5'; }
.codicon-combine:before { content: '\ebb6'; }
.codicon-gather:before { content: '\ebb6'; }
.codicon-table:before { content: '\ebb7'; }
.codicon-variable-group:before { content: '\ebb8'; }
.codicon-type-hierarchy:before { content: '\ebb9'; }
.codicon-type-hierarchy-sub:before { content: '\ebba'; }
.codicon-type-hierarchy-super:before { content: '\ebbb'; }
.codicon-git-pull-request-create:before { content: '\ebbc'; }
.codicon-run-above:before { content: '\ebbd'; }
.codicon-run-below:before { content: '\ebbe'; }
.codicon-notebook-template:before { content: '\ebbf'; }
.codicon-debug-rerun:before { content: '\ebc0'; }
.codicon-workspace-trusted:before { content: '\ebc1'; }
.codicon-workspace-untrusted:before { content: '\ebc2'; }
.codicon-workspace-unspecified:before { content: '\ebc3'; }
.codicon-terminal-cmd:before { content: '\ebc4'; }
.codicon-terminal-debian:before { content: '\ebc5'; }
.codicon-terminal-linux:before { content: '\ebc6'; }
.codicon-terminal-powershell:before { content: '\ebc7'; }
.codicon-terminal-tmux:before { content: '\ebc8'; }
.codicon-terminal-ubuntu:before { content: '\ebc9'; }
.codicon-terminal-bash:before { content: '\ebca'; }
.codicon-arrow-swap:before { content: '\ebcb'; }
.codicon-copy:before { content: '\ebcc'; }
.codicon-person-add:before { content: '\ebcd'; }
.codicon-filter-filled:before { content: '\ebce'; }
.codicon-wand:before { content: '\ebcf'; }
.codicon-debug-line-by-line:before { content: '\ebd0'; }
.codicon-inspect:before { content: '\ebd1'; }
.codicon-layers:before { content: '\ebd2'; }
.codicon-layers-dot:before { content: '\ebd3'; }
.codicon-layers-active:before { content: '\ebd4'; }
.codicon-compass:before { content: '\ebd5'; }
.codicon-compass-dot:before { content: '\ebd6'; }
.codicon-compass-active:before { content: '\ebd7'; }
.codicon-azure:before { content: '\ebd8'; }
.codicon-issue-draft:before { content: '\ebd9'; }
.codicon-git-pull-request-closed:before { content: '\ebda'; }
.codicon-git-pull-request-draft:before { content: '\ebdb'; }
.codicon-debug-all:before { content: '\ebdc'; }
.codicon-debug-coverage:before { content: '\ebdd'; }
.codicon-run-errors:before { content: '\ebde'; }
.codicon-folder-library:before { content: '\ebdf'; }
.codicon-debug-continue-small:before { content: '\ebe0'; }
.codicon-beaker-stop:before { content: '\ebe1'; }
.codicon-graph-line:before { content: '\ebe2'; }
.codicon-graph-scatter:before { content: '\ebe3'; }
.codicon-pie-chart:before { content: '\ebe4'; }
.codicon-bracket-dot:before { content: '\ebe5'; }
.codicon-bracket-error:before { content: '\ebe6'; }
.codicon-lock-small:before { content: '\ebe7'; }
.codicon-azure-devops:before { content: '\ebe8'; }
.codicon-verified-filled:before { content: '\ebe9'; }
.codicon-newline:before { content: '\ebea'; }
.codicon-layout:before { content: '\ebeb'; }
.codicon-layout-activitybar-left:before { content: '\ebec'; }
.codicon-layout-activitybar-right:before { content: '\ebed'; }
.codicon-layout-panel-left:before { content: '\ebee'; }
.codicon-layout-panel-center:before { content: '\ebef'; }
.codicon-layout-panel-justify:before { content: '\ebf0'; }
.codicon-layout-panel-right:before { content: '\ebf1'; }
.codicon-layout-panel:before { content: '\ebf2'; }
.codicon-layout-sidebar-left:before { content: '\ebf3'; }
.codicon-layout-sidebar-right:before { content: '\ebf4'; }
.codicon-layout-statusbar:before { content: '\ebf5'; }
.codicon-layout-menubar:before { content: '\ebf6'; }
.codicon-layout-centered:before { content: '\ebf7'; }
.codicon-layout-sidebar-right-off:before { content: '\ec00'; }
.codicon-layout-panel-off:before { content: '\ec01'; }
.codicon-layout-sidebar-left-off:before { content: '\ec02'; }
.codicon-target:before { content: '\ebf8'; }
.codicon-indent:before { content: '\ebf9'; }
.codicon-record-small:before { content: '\ebfa'; }
.codicon-error-small:before { content: '\ebfb'; }
.codicon-arrow-circle-down:before { content: '\ebfc'; }
.codicon-arrow-circle-left:before { content: '\ebfd'; }
.codicon-arrow-circle-right:before { content: '\ebfe'; }
.codicon-arrow-circle-up:before { content: '\ebff'; }
.codicon-heart-filled:before { content: '\ec04'; }
.codicon-map:before { content: '\ec05'; }
.codicon-map-filled:before { content: '\ec06'; }
.codicon-circle-small:before { content: '\ec07'; }
.codicon-bell-slash:before { content: '\ec08'; }
.codicon-bell-slash-dot:before { content: '\ec09'; }
.codicon-comment-unresolved:before { content: '\ec0a'; }
.codicon-git-pull-request-go-to-changes:before { content: '\ec0b'; }
.codicon-git-pull-request-new-changes:before { content: '\ec0c'; }
.codicon-search-fuzzy:before { content: '\ec0d'; }
.codicon-comment-draft:before { content: '\ec0e'; }
.codicon-send:before { content: '\ec0f'; }
.codicon-sparkle:before { content: '\ec10'; }
.codicon-insert:before { content: '\ec11'; }
.codicon-dialog-error:before { content: '\ea87'; }
.codicon-dialog-warning:before { content: '\ea6c'; }
.codicon-dialog-info:before { content: '\ea74'; }
.codicon-dialog-close:before { content: '\ea76'; }
.codicon-tree-item-expanded:before { content: '\eab4'; }
.codicon-tree-filter-on-type-on:before { content: '\eb83'; }
.codicon-tree-filter-on-type-off:before { content: '\eb85'; }
.codicon-tree-filter-clear:before { content: '\ea76'; }
.codicon-tree-item-loading:before { content: '\eb19'; }
.codicon-menu-selection:before { content: '\eab2'; }
.codicon-menu-submenu:before { content: '\eab6'; }
.codicon-menubar-more:before { content: '\ea7c'; }
.codicon-scrollbar-button-left:before { content: '\eb6f'; }
.codicon-scrollbar-button-right:before { content: '\eb70'; }
.codicon-scrollbar-button-up:before { content: '\eb71'; }
.codicon-scrollbar-button-down:before { content: '\eb6e'; }
.codicon-toolbar-more:before { content: '\ea7c'; }
.codicon-quick-input-back:before { content: '\ea9b'; }
.codicon-widget-close:before { content: '\ea76'; }
.codicon-goto-previous-location:before { content: '\eaa1'; }
.codicon-goto-next-location:before { content: '\ea9a'; }
.codicon-diff-review-insert:before { content: '\ea60'; }
.codicon-diff-review-remove:before { content: '\eb3b'; }
.codicon-diff-review-close:before { content: '\ea76'; }
.codicon-parameter-hints-next:before { content: '\eab4'; }
.codicon-parameter-hints-previous:before { content: '\eab7'; }
.codicon-suggest-more-info:before { content: '\eab6'; }
.codicon-inline-suggestion-hints-next:before { content: '\eab6'; }
.codicon-inline-suggestion-hints-previous:before { content: '\eab5'; }
.codicon-diff-insert:before { content: '\ea60'; }
.codicon-diff-remove:before { content: '\eb3b'; }
.codicon-find-selection:before { content: '\eb85'; }
.codicon-find-collapsed:before { content: '\eab6'; }
.codicon-find-expanded:before { content: '\eab4'; }
.codicon-find-replace:before { content: '\eb3d'; }
.codicon-find-replace-all:before { content: '\eb3c'; }
.codicon-find-previous-match:before { content: '\eaa1'; }
.codicon-find-next-match:before { content: '\ea9a'; }
.codicon-folding-expanded:before { content: '\eab4'; }
.codicon-folding-collapsed:before { content: '\eab6'; }
.codicon-folding-manual-collapsed:before { content: '\eab6'; }
.codicon-folding-manual-expanded:before { content: '\eab4'; }
.codicon-marker-navigation-next:before { content: '\ea9a'; }
.codicon-marker-navigation-previous:before { content: '\eaa1'; }
.codicon-extensions-warning-message:before { content: '\ea6c'; }
.monaco-editor .inputarea.ime-input { background-color: #f7f7f7; }
.monaco-editor .view-overlays .current-line { border: 2px solid #eeeeee; }
.monaco-editor .margin-view-overlays .current-line-margin { border: 2px solid #eeeeee; }
.monaco-editor .bracket-indent-guide.lvl-0 { --guide-color: rgba(4, 49, 250, 0.3); --guide-color-active: #0431fa; }
.monaco-editor .bracket-indent-guide.lvl-1 { --guide-color: rgba(49, 147, 49, 0.3); --guide-color-active: #319331; }
.monaco-editor .bracket-indent-guide.lvl-2 { --guide-color: rgba(123, 56, 20, 0.3); --guide-color-active: #7b3814; }
.monaco-editor .bracket-indent-guide.lvl-3 { --guide-color: rgba(4, 49, 250, 0.3); --guide-color-active: #0431fa; }
.monaco-editor .bracket-indent-guide.lvl-4 { --guide-color: rgba(49, 147, 49, 0.3); --guide-color-active: #319331; }
.monaco-editor .bracket-indent-guide.lvl-5 { --guide-color: rgba(123, 56, 20, 0.3); --guide-color-active: #7b3814; }
.monaco-editor .bracket-indent-guide.lvl-6 { --guide-color: rgba(4, 49, 250, 0.3); --guide-color-active: #0431fa; }
.monaco-editor .bracket-indent-guide.lvl-7 { --guide-color: rgba(49, 147, 49, 0.3); --guide-color-active: #319331; }
.monaco-editor .bracket-indent-guide.lvl-8 { --guide-color: rgba(123, 56, 20, 0.3); --guide-color-active: #7b3814; }
.monaco-editor .bracket-indent-guide.lvl-9 { --guide-color: rgba(4, 49, 250, 0.3); --guide-color-active: #0431fa; }
.monaco-editor .bracket-indent-guide.lvl-10 { --guide-color: rgba(49, 147, 49, 0.3); --guide-color-active: #319331; }
.monaco-editor .bracket-indent-guide.lvl-11 { --guide-color: rgba(123, 56, 20, 0.3); --guide-color-active: #7b3814; }
.monaco-editor .bracket-indent-guide.lvl-12 { --guide-color: rgba(4, 49, 250, 0.3); --guide-color-active: #0431fa; }
.monaco-editor .bracket-indent-guide.lvl-13 { --guide-color: rgba(49, 147, 49, 0.3); --guide-color-active: #319331; }
.monaco-editor .bracket-indent-guide.lvl-14 { --guide-color: rgba(123, 56, 20, 0.3); --guide-color-active: #7b3814; }
.monaco-editor .bracket-indent-guide.lvl-15 { --guide-color: rgba(4, 49, 250, 0.3); --guide-color-active: #0431fa; }
.monaco-editor .bracket-indent-guide.lvl-16 { --guide-color: rgba(49, 147, 49, 0.3); --guide-color-active: #319331; }
.monaco-editor .bracket-indent-guide.lvl-17 { --guide-color: rgba(123, 56, 20, 0.3); --guide-color-active: #7b3814; }
.monaco-editor .bracket-indent-guide.lvl-18 { --guide-color: rgba(4, 49, 250, 0.3); --guide-color-active: #0431fa; }
.monaco-editor .bracket-indent-guide.lvl-19 { --guide-color: rgba(49, 147, 49, 0.3); --guide-color-active: #319331; }
.monaco-editor .bracket-indent-guide.lvl-20 { --guide-color: rgba(123, 56, 20, 0.3); --guide-color-active: #7b3814; }
.monaco-editor .bracket-indent-guide.lvl-21 { --guide-color: rgba(4, 49, 250, 0.3); --guide-color-active: #0431fa; }
.monaco-editor .bracket-indent-guide.lvl-22 { --guide-color: rgba(49, 147, 49, 0.3); --guide-color-active: #319331; }
.monaco-editor .bracket-indent-guide.lvl-23 { --guide-color: rgba(123, 56, 20, 0.3); --guide-color-active: #7b3814; }
.monaco-editor .bracket-indent-guide.lvl-24 { --guide-color: rgba(4, 49, 250, 0.3); --guide-color-active: #0431fa; }
.monaco-editor .bracket-indent-guide.lvl-25 { --guide-color: rgba(49, 147, 49, 0.3); --guide-color-active: #319331; }
.monaco-editor .bracket-indent-guide.lvl-26 { --guide-color: rgba(123, 56, 20, 0.3); --guide-color-active: #7b3814; }
.monaco-editor .bracket-indent-guide.lvl-27 { --guide-color: rgba(4, 49, 250, 0.3); --guide-color-active: #0431fa; }
.monaco-editor .bracket-indent-guide.lvl-28 { --guide-color: rgba(49, 147, 49, 0.3); --guide-color-active: #319331; }
.monaco-editor .bracket-indent-guide.lvl-29 { --guide-color: rgba(123, 56, 20, 0.3); --guide-color-active: #7b3814; }
.monaco-editor .vertical { box-shadow: 1px 0 0 0 var(--guide-color) inset; }
.monaco-editor .horizontal-top { border-top: 1px solid var(--guide-color); }
.monaco-editor .horizontal-bottom { border-bottom: 1px solid var(--guide-color); }
.monaco-editor .vertical.indent-active { box-shadow: 1px 0 0 0 var(--guide-color-active) inset; }
.monaco-editor .horizontal-top.indent-active { border-top: 1px solid var(--guide-color-active); }
.monaco-editor .horizontal-bottom.indent-active { border-bottom: 1px solid var(--guide-color-active); }
.monaco-editor .line-numbers.dimmed-line-number { color: rgba(153, 153, 153, 0.4); }
.monaco-editor .cursors-layer .cursor { background-color: #000000; border-color: #000000; color: #ffffff; }
.monaco-editor .unexpected-closing-bracket { color: rgba(255, 18, 18, 0.8); }
.monaco-editor .bracket-highlighting-0 { color: #0431fa; }
.monaco-editor .bracket-highlighting-1 { color: #319331; }
.monaco-editor .bracket-highlighting-2 { color: #7b3814; }
.monaco-editor .bracket-highlighting-3 { color: #0431fa; }
.monaco-editor .bracket-highlighting-4 { color: #319331; }
.monaco-editor .bracket-highlighting-5 { color: #7b3814; }
.monaco-editor .bracket-highlighting-6 { color: #0431fa; }
.monaco-editor .bracket-highlighting-7 { color: #319331; }
.monaco-editor .bracket-highlighting-8 { color: #7b3814; }
.monaco-editor .bracket-highlighting-9 { color: #0431fa; }
.monaco-editor .bracket-highlighting-10 { color: #319331; }
.monaco-editor .bracket-highlighting-11 { color: #7b3814; }
.monaco-editor .bracket-highlighting-12 { color: #0431fa; }
.monaco-editor .bracket-highlighting-13 { color: #319331; }
.monaco-editor .bracket-highlighting-14 { color: #7b3814; }
.monaco-editor .bracket-highlighting-15 { color: #0431fa; }
.monaco-editor .bracket-highlighting-16 { color: #319331; }
.monaco-editor .bracket-highlighting-17 { color: #7b3814; }
.monaco-editor .bracket-highlighting-18 { color: #0431fa; }
.monaco-editor .bracket-highlighting-19 { color: #319331; }
.monaco-editor .bracket-highlighting-20 { color: #7b3814; }
.monaco-editor .bracket-highlighting-21 { color: #0431fa; }
.monaco-editor .bracket-highlighting-22 { color: #319331; }
.monaco-editor .bracket-highlighting-23 { color: #7b3814; }
.monaco-editor .bracket-highlighting-24 { color: #0431fa; }
.monaco-editor .bracket-highlighting-25 { color: #319331; }
.monaco-editor .bracket-highlighting-26 { color: #7b3814; }
.monaco-editor .bracket-highlighting-27 { color: #0431fa; }
.monaco-editor .bracket-highlighting-28 { color: #319331; }
.monaco-editor .bracket-highlighting-29 { color: #7b3814; }
.monaco-editor .squiggly-error { background: url("data:image/svg+xml,%3Csvg%20xmlns%3D'http%3A%2F%2Fwww.w3.org%2F2000%2Fsvg'%20viewBox%3D'0%200%206%203'%20enable-background%3D'new%200%200%206%203'%20height%3D'3'%20width%3D'6'%3E%3Cg%20fill%3D'%23e51400'%3E%3Cpolygon%20points%3D'5.5%2C0%202.5%2C3%201.1%2C3%204.1%2C0'%2F%3E%3Cpolygon%20points%3D'4%2C0%206%2C2%206%2C0.6%205.4%2C0'%2F%3E%3Cpolygon%20points%3D'0%2C2%201%2C3%202.4%2C3%200%2C0.6'%2F%3E%3C%2Fg%3E%3C%2Fsvg%3E") repeat-x bottom left; }
.monaco-editor .squiggly-warning { background: url("data:image/svg+xml,%3Csvg%20xmlns%3D'http%3A%2F%2Fwww.w3.org%2F2000%2Fsvg'%20viewBox%3D'0%200%206%203'%20enable-background%3D'new%200%200%206%203'%20height%3D'3'%20width%3D'6'%3E%3Cg%20fill%3D'%23bf8803'%3E%3Cpolygon%20points%3D'5.5%2C0%202.5%2C3%201.1%2C3%204.1%2C0'%2F%3E%3Cpolygon%20points%3D'4%2C0%206%2C2%206%2C0.6%205.4%2C0'%2F%3E%3Cpolygon%20points%3D'0%2C2%201%2C3%202.4%2C3%200%2C0.6'%2F%3E%3C%2Fg%3E%3C%2Fsvg%3E") repeat-x bottom left; }
.monaco-editor .squiggly-info { background: url("data:image/svg+xml,%3Csvg%20xmlns%3D'http%3A%2F%2Fwww.w3.org%2F2000%2Fsvg'%20viewBox%3D'0%200%206%203'%20enable-background%3D'new%200%200%206%203'%20height%3D'3'%20width%3D'6'%3E%3Cg%20fill%3D'%231a85ff'%3E%3Cpolygon%20points%3D'5.5%2C0%202.5%2C3%201.1%2C3%204.1%2C0'%2F%3E%3Cpolygon%20points%3D'4%2C0%206%2C2%206%2C0.6%205.4%2C0'%2F%3E%3Cpolygon%20points%3D'0%2C2%201%2C3%202.4%2C3%200%2C0.6'%2F%3E%3C%2Fg%3E%3C%2Fsvg%3E") repeat-x bottom left; }
.monaco-editor .squiggly-hint { background: url("data:image/svg+xml,%3Csvg%20xmlns%3D%22http%3A%2F%2Fwww.w3.org%2F2000%2Fsvg%22%20height%3D%223%22%20width%3D%2212%22%3E%3Cg%20fill%3D%22%236c6c6c%22%3E%3Ccircle%20cx%3D%221%22%20cy%3D%221%22%20r%3D%221%22%2F%3E%3Ccircle%20cx%3D%225%22%20cy%3D%221%22%20r%3D%221%22%2F%3E%3Ccircle%20cx%3D%229%22%20cy%3D%221%22%20r%3D%221%22%2F%3E%3C%2Fg%3E%3C%2Fsvg%3E") no-repeat bottom left; }
.monaco-editor.showUnused .squiggly-inline-unnecessary { opacity: 0.467; }
.monaco-editor .selectionHighlight { background-color: rgba(173, 214, 255, 0.15); }

	.monaco-editor .diagonal-fill {
		background-image: linear-gradient(
			-45deg,
			rgba(34, 34, 34, 0.2) 12.5%,
			#0000 12.5%, #0000 50%,
			rgba(34, 34, 34, 0.2) 50%, rgba(34, 34, 34, 0.2) 62.5%,
			#0000 62.5%, #0000 100%
		);
		background-size: 8px 8px;
	}
	
.monaco-editor .findMatch { background-color: rgba(234, 92, 0, 0.33); }
.monaco-editor .currentFindMatch { background-color: #a8ac94; }
.monaco-editor .findScope { background-color: rgba(180, 180, 180, 0.3); }
.monaco-editor .find-widget { background-color: #f3f3f3; }
.monaco-editor .find-widget { box-shadow: 0 0 8px 2px rgba(0, 0, 0, 0.16); }
.monaco-editor .find-widget { color: #616161; }
.monaco-editor .find-widget.no-results .matchesCount { color: #a1260d; }
.monaco-editor .find-widget .monaco-sash { background-color: #c8c8c8; }

		.monaco-editor .find-widget .button:not(.disabled):hover,
		.monaco-editor .find-widget .codicon-find-selection:hover {
			background-color: rgba(184, 184, 184, 0.31) !important;
		}
	
.monaco-editor .find-widget .monaco-inputbox.synthetic-focus { outline-color: #0090f1; }
.monaco-editor .monaco-hover .hover-row:not(:first-child):not(:empty) { border-top: 1px solid rgba(200, 200, 200, 0.5); }
.monaco-editor .monaco-hover hr { border-top: 1px solid rgba(200, 200, 200, 0.5); }
.monaco-editor .monaco-hover hr { border-bottom: 0px solid rgba(200, 200, 200, 0.5); }
.monaco-editor { --vscode-foreground: #616161;
--vscode-disabledForeground: rgba(97, 97, 97, 0.5);
--vscode-errorForeground: #a1260d;
--vscode-descriptionForeground: #717171;
--vscode-icon-foreground: #424242;
--vscode-focusBorder: #0090f1;
--vscode-textSeparator-foreground: rgba(0, 0, 0, 0.18);
--vscode-textLink-foreground: #006ab1;
--vscode-textLink-activeForeground: #006ab1;
--vscode-textPreformat-foreground: #a31515;
--vscode-textBlockQuote-background: rgba(127, 127, 127, 0.1);
--vscode-textBlockQuote-border: rgba(0, 122, 204, 0.5);
--vscode-textCodeBlock-background: rgba(220, 220, 220, 0.4);
--vscode-widget-shadow: rgba(0, 0, 0, 0.16);
--vscode-input-background: #ffffff;
--vscode-input-foreground: #616161;
--vscode-inputOption-activeBorder: #007acc;
--vscode-inputOption-hoverBackground: rgba(184, 184, 184, 0.31);
--vscode-inputOption-activeBackground: rgba(0, 144, 241, 0.2);
--vscode-inputOption-activeForeground: #000000;
--vscode-input-placeholderForeground: rgba(97, 97, 97, 0.5);
--vscode-inputValidation-infoBackground: #d6ecf2;
--vscode-inputValidation-infoBorder: #007acc;
--vscode-inputValidation-warningBackground: #f6f5d2;
--vscode-inputValidation-warningBorder: #b89500;
--vscode-inputValidation-errorBackground: #f2dede;
--vscode-inputValidation-errorBorder: #be1100;
--vscode-dropdown-background: #ffffff;
--vscode-dropdown-foreground: #616161;
--vscode-dropdown-border: #cecece;
--vscode-button-foreground: #ffffff;
--vscode-button-separator: rgba(255, 255, 255, 0.4);
--vscode-button-background: #007acc;
--vscode-button-hoverBackground: #0062a3;
--vscode-button-secondaryForeground: #ffffff;
--vscode-button-secondaryBackground: #5f6a79;
--vscode-button-secondaryHoverBackground: #4c5561;
--vscode-badge-background: #c4c4c4;
--vscode-badge-foreground: #333333;
--vscode-scrollbar-shadow: #dddddd;
--vscode-scrollbarSlider-background: rgba(100, 100, 100, 0.4);
--vscode-scrollbarSlider-hoverBackground: rgba(100, 100, 100, 0.7);
--vscode-scrollbarSlider-activeBackground: rgba(0, 0, 0, 0.6);
--vscode-progressBar-background: #0e70c0;
--vscode-editorError-foreground: #e51400;
--vscode-editorWarning-foreground: #bf8803;
--vscode-editorInfo-foreground: #1a85ff;
--vscode-editorHint-foreground: #6c6c6c;
--vscode-sash-hoverBorder: #0090f1;
--vscode-editor-background: #f7f7f7;
--vscode-editor-foreground: #000000;
--vscode-editorStickyScroll-background: #f7f7f7;
--vscode-editorStickyScrollHover-background: #f0f0f0;
--vscode-editorWidget-background: #f3f3f3;
--vscode-editorWidget-foreground: #616161;
--vscode-editorWidget-border: #c8c8c8;
--vscode-quickInput-background: #f3f3f3;
--vscode-quickInput-foreground: #616161;
--vscode-quickInputTitle-background: rgba(0, 0, 0, 0.06);
--vscode-pickerGroup-foreground: #0066bf;
--vscode-pickerGroup-border: #cccedb;
--vscode-keybindingLabel-background: rgba(221, 221, 221, 0.4);
--vscode-keybindingLabel-foreground: #555555;
--vscode-keybindingLabel-border: rgba(204, 204, 204, 0.4);
--vscode-keybindingLabel-bottomBorder: rgba(187, 187, 187, 0.4);
--vscode-editor-selectionBackground: #add6ff;
--vscode-editor-inactiveSelectionBackground: #e5ebf1;
--vscode-editor-selectionHighlightBackground: rgba(173, 214, 255, 0.3);
--vscode-editor-findMatchBackground: #a8ac94;
--vscode-editor-findMatchHighlightBackground: rgba(234, 92, 0, 0.33);
--vscode-editor-findRangeHighlightBackground: rgba(180, 180, 180, 0.3);
--vscode-searchEditor-findMatchBackground: rgba(234, 92, 0, 0.22);
--vscode-search-resultsInfoForeground: #616161;
--vscode-editor-hoverHighlightBackground: rgba(173, 214, 255, 0.15);
--vscode-editorHoverWidget-background: #f3f3f3;
--vscode-editorHoverWidget-foreground: #616161;
--vscode-editorHoverWidget-border: #c8c8c8;
--vscode-editorHoverWidget-statusBarBackground: #e7e7e7;
--vscode-editorLink-activeForeground: #0000ff;
--vscode-editorInlayHint-foreground: #616161;
--vscode-editorInlayHint-background: rgba(196, 196, 196, 0.3);
--vscode-editorInlayHint-typeForeground: #616161;
--vscode-editorInlayHint-typeBackground: rgba(196, 196, 196, 0.3);
--vscode-editorInlayHint-parameterForeground: #616161;
--vscode-editorInlayHint-parameterBackground: rgba(196, 196, 196, 0.3);
--vscode-editorLightBulb-foreground: #ddb100;
--vscode-editorLightBulbAutoFix-foreground: #007acc;
--vscode-diffEditor-insertedTextBackground: rgba(155, 185, 85, 0.09);
--vscode-diffEditor-removedTextBackground: rgba(255, 0, 0, 0.03);
--vscode-diffEditor-insertedLineBackground: rgba(155, 185, 85, 0.09);
--vscode-diffEditor-removedLineBackground: rgba(255, 0, 0, 0.03);
--vscode-diffEditor-diagonalFill: rgba(34, 34, 34, 0.2);
--vscode-diffEditor-unchangedRegionBackground: #e4e4e4;
--vscode-diffEditor-unchangedRegionForeground: #4d4c4c;
--vscode-diffEditor-unchangedCodeBackground: rgba(184, 184, 184, 0.16);
--vscode-list-focusOutline: #0090f1;
--vscode-list-activeSelectionBackground: #d6ebff;
--vscode-list-activeSelectionForeground: #000000;
--vscode-list-inactiveSelectionBackground: #e4e6f1;
--vscode-list-hoverBackground: #f0f0f0;
--vscode-list-dropBackground: #d6ebff;
--vscode-list-highlightForeground: #0066bf;
--vscode-list-focusHighlightForeground: #0066bf;
--vscode-list-invalidItemForeground: #b89500;
--vscode-list-errorForeground: #b01011;
--vscode-list-warningForeground: #855f00;
--vscode-listFilterWidget-background: #f3f3f3;
--vscode-listFilterWidget-outline: rgba(0, 0, 0, 0);
--vscode-listFilterWidget-noMatchesOutline: #be1100;
--vscode-listFilterWidget-shadow: rgba(0, 0, 0, 0.16);
--vscode-list-filterMatchBackground: rgba(234, 92, 0, 0.33);
--vscode-tree-indentGuidesStroke: #a9a9a9;
--vscode-tree-inactiveIndentGuidesStroke: rgba(169, 169, 169, 0.4);
--vscode-tree-tableColumnsBorder: rgba(97, 97, 97, 0.13);
--vscode-tree-tableOddRowsBackground: rgba(97, 97, 97, 0.04);
--vscode-list-deemphasizedForeground: #8e8e90;
--vscode-checkbox-background: #ffffff;
--vscode-checkbox-selectBackground: #f3f3f3;
--vscode-checkbox-foreground: #616161;
--vscode-checkbox-border: #cecece;
--vscode-checkbox-selectBorder: #424242;
--vscode-quickInputList-focusForeground: #000000;
--vscode-quickInputList-focusBackground: #d6ebff;
--vscode-menu-foreground: #616161;
--vscode-menu-background: #ffffff;
--vscode-menu-selectionForeground: #000000;
--vscode-menu-selectionBackground: #d6ebff;
--vscode-menu-separatorBackground: #d4d4d4;
--vscode-toolbar-hoverBackground: rgba(184, 184, 184, 0.31);
--vscode-toolbar-activeBackground: rgba(166, 166, 166, 0.31);
--vscode-editor-snippetTabstopHighlightBackground: rgba(10, 50, 100, 0.2);
--vscode-editor-snippetFinalTabstopHighlightBorder: rgba(10, 50, 100, 0.5);
--vscode-breadcrumb-foreground: rgba(97, 97, 97, 0.8);
--vscode-breadcrumb-background: #f7f7f7;
--vscode-breadcrumb-focusForeground: #4e4e4e;
--vscode-breadcrumb-activeSelectionForeground: #4e4e4e;
--vscode-breadcrumbPicker-background: #f3f3f3;
--vscode-merge-currentHeaderBackground: rgba(64, 200, 174, 0.5);
--vscode-merge-currentContentBackground: rgba(64, 200, 174, 0.2);
--vscode-merge-incomingHeaderBackground: rgba(64, 166, 255, 0.5);
--vscode-merge-incomingContentBackground: rgba(64, 166, 255, 0.2);
--vscode-merge-commonHeaderBackground: rgba(96, 96, 96, 0.4);
--vscode-merge-commonContentBackground: rgba(96, 96, 96, 0.16);
--vscode-editorOverviewRuler-currentContentForeground: rgba(64, 200, 174, 0.5);
--vscode-editorOverviewRuler-incomingContentForeground: rgba(64, 166, 255, 0.5);
--vscode-editorOverviewRuler-commonContentForeground: rgba(96, 96, 96, 0.4);
--vscode-editorOverviewRuler-findMatchForeground: rgba(209, 134, 22, 0.49);
--vscode-editorOverviewRuler-selectionHighlightForeground: rgba(0, 0, 0, 0);
--vscode-minimap-findMatchHighlight: #d18616;
--vscode-minimap-selectionOccurrenceHighlight: #c9c9c9;
--vscode-minimap-selectionHighlight: #add6ff;
--vscode-minimap-errorHighlight: rgba(255, 18, 18, 0.7);
--vscode-minimap-warningHighlight: #bf8803;
--vscode-minimap-foregroundOpacity: #000000;
--vscode-minimapSlider-background: rgba(100, 100, 100, 0.2);
--vscode-minimapSlider-hoverBackground: rgba(100, 100, 100, 0.35);
--vscode-minimapSlider-activeBackground: rgba(0, 0, 0, 0.3);
--vscode-problemsErrorIcon-foreground: #e51400;
--vscode-problemsWarningIcon-foreground: #bf8803;
--vscode-problemsInfoIcon-foreground: #1a85ff;
--vscode-charts-foreground: #616161;
--vscode-charts-lines: rgba(97, 97, 97, 0.5);
--vscode-charts-red: #e51400;
--vscode-charts-blue: #1a85ff;
--vscode-charts-yellow: #bf8803;
--vscode-charts-orange: #d18616;
--vscode-charts-green: #388a34;
--vscode-charts-purple: #652d90;
--vscode-symbolIcon-arrayForeground: #616161;
--vscode-symbolIcon-booleanForeground: #616161;
--vscode-symbolIcon-classForeground: #d67e00;
--vscode-symbolIcon-colorForeground: #616161;
--vscode-symbolIcon-constantForeground: #616161;
--vscode-symbolIcon-constructorForeground: #652d90;
--vscode-symbolIcon-enumeratorForeground: #d67e00;
--vscode-symbolIcon-enumeratorMemberForeground: #007acc;
--vscode-symbolIcon-eventForeground: #d67e00;
--vscode-symbolIcon-fieldForeground: #007acc;
--vscode-symbolIcon-fileForeground: #616161;
--vscode-symbolIcon-folderForeground: #616161;
--vscode-symbolIcon-functionForeground: #652d90;
--vscode-symbolIcon-interfaceForeground: #007acc;
--vscode-symbolIcon-keyForeground: #616161;
--vscode-symbolIcon-keywordForeground: #616161;
--vscode-symbolIcon-methodForeground: #652d90;
--vscode-symbolIcon-moduleForeground: #616161;
--vscode-symbolIcon-namespaceForeground: #616161;
--vscode-symbolIcon-nullForeground: #616161;
--vscode-symbolIcon-numberForeground: #616161;
--vscode-symbolIcon-objectForeground: #616161;
--vscode-symbolIcon-operatorForeground: #616161;
--vscode-symbolIcon-packageForeground: #616161;
--vscode-symbolIcon-propertyForeground: #616161;
--vscode-symbolIcon-referenceForeground: #616161;
--vscode-symbolIcon-snippetForeground: #616161;
--vscode-symbolIcon-stringForeground: #616161;
--vscode-symbolIcon-structForeground: #616161;
--vscode-symbolIcon-textForeground: #616161;
--vscode-symbolIcon-typeParameterForeground: #616161;
--vscode-symbolIcon-unitForeground: #616161;
--vscode-symbolIcon-variableForeground: #007acc;
--vscode-editor-lineHighlightBorder: #eeeeee;
--vscode-editor-rangeHighlightBackground: rgba(253, 255, 0, 0.2);
--vscode-editor-symbolHighlightBackground: rgba(234, 92, 0, 0.33);
--vscode-editorCursor-foreground: #000000;
--vscode-editorWhitespace-foreground: rgba(51, 51, 51, 0.2);
--vscode-editorIndentGuide-background: #d3d3d3;
--vscode-editorIndentGuide-activeBackground: #939393;
--vscode-editorLineNumber-foreground: #999999;
--vscode-editorActiveLineNumber-foreground: #0b216f;
--vscode-editorLineNumber-activeForeground: #0b216f;
--vscode-editorRuler-foreground: #d3d3d3;
--vscode-editorCodeLens-foreground: #919191;
--vscode-editorBracketMatch-background: rgba(0, 100, 0, 0.1);
--vscode-editorBracketMatch-border: #b9b9b9;
--vscode-editorOverviewRuler-border: rgba(127, 127, 127, 0.3);
--vscode-editorGutter-background: #f7f7f7;
--vscode-editorUnnecessaryCode-opacity: rgba(0, 0, 0, 0.47);
--vscode-editorGhostText-foreground: rgba(0, 0, 0, 0.47);
--vscode-editorOverviewRuler-rangeHighlightForeground: rgba(0, 122, 204, 0.6);
--vscode-editorOverviewRuler-errorForeground: rgba(255, 18, 18, 0.7);
--vscode-editorOverviewRuler-warningForeground: #bf8803;
--vscode-editorOverviewRuler-infoForeground: #1a85ff;
--vscode-editorBracketHighlight-foreground1: #0431fa;
--vscode-editorBracketHighlight-foreground2: #319331;
--vscode-editorBracketHighlight-foreground3: #7b3814;
--vscode-editorBracketHighlight-foreground4: rgba(0, 0, 0, 0);
--vscode-editorBracketHighlight-foreground5: rgba(0, 0, 0, 0);
--vscode-editorBracketHighlight-foreground6: rgba(0, 0, 0, 0);
--vscode-editorBracketHighlight-unexpectedBracket-foreground: rgba(255, 18, 18, 0.8);
--vscode-editorBracketPairGuide-background1: rgba(0, 0, 0, 0);
--vscode-editorBracketPairGuide-background2: rgba(0, 0, 0, 0);
--vscode-editorBracketPairGuide-background3: rgba(0, 0, 0, 0);
--vscode-editorBracketPairGuide-background4: rgba(0, 0, 0, 0);
--vscode-editorBracketPairGuide-background5: rgba(0, 0, 0, 0);
--vscode-editorBracketPairGuide-background6: rgba(0, 0, 0, 0);
--vscode-editorBracketPairGuide-activeBackground1: rgba(0, 0, 0, 0);
--vscode-editorBracketPairGuide-activeBackground2: rgba(0, 0, 0, 0);
--vscode-editorBracketPairGuide-activeBackground3: rgba(0, 0, 0, 0);
--vscode-editorBracketPairGuide-activeBackground4: rgba(0, 0, 0, 0);
--vscode-editorBracketPairGuide-activeBackground5: rgba(0, 0, 0, 0);
--vscode-editorBracketPairGuide-activeBackground6: rgba(0, 0, 0, 0);
--vscode-editorUnicodeHighlight-border: #cea33d;
--vscode-editorUnicodeHighlight-background: rgba(206, 163, 61, 0.08);
--vscode-editorOverviewRuler-bracketMatchForeground: #a0a0a0;
--vscode-editor-linkedEditingBackground: rgba(255, 0, 0, 0.3);
--vscode-editor-wordHighlightBackground: rgba(87, 87, 87, 0.25);
--vscode-editor-wordHighlightStrongBackground: #d6ebff;
--vscode-editor-wordHighlightTextBackground: rgba(173, 214, 255, 0.45);
--vscode-editorOverviewRuler-wordHighlightForeground: rgba(160, 160, 160, 0.8);
--vscode-editorOverviewRuler-wordHighlightStrongForeground: rgba(192, 160, 192, 0.8);
--vscode-editorOverviewRuler-wordHighlightTextForeground: rgba(0, 0, 0, 0);
--vscode-peekViewTitle-background: #f3f3f3;
--vscode-peekViewTitleLabel-foreground: #000000;
--vscode-peekViewTitleDescription-foreground: #616161;
--vscode-peekView-border: #1a85ff;
--vscode-peekViewResult-background: #f3f3f3;
--vscode-peekViewResult-lineForeground: #646465;
--vscode-peekViewResult-fileForeground: #1e1e1e;
--vscode-peekViewResult-selectionBackground: rgba(51, 153, 255, 0.2);
--vscode-peekViewResult-selectionForeground: #6c6c6c;
--vscode-peekViewEditor-background: #f2f8fc;
--vscode-peekViewEditorGutter-background: #f2f8fc;
--vscode-peekViewEditorStickyScroll-background: #f2f8fc;
--vscode-peekViewResult-matchHighlightBackground: rgba(234, 92, 0, 0.3);
--vscode-peekViewEditor-matchHighlightBackground: rgba(245, 216, 2, 0.87);
--vscode-editorMarkerNavigationError-background: #e51400;
--vscode-editorMarkerNavigationError-headerBackground: rgba(229, 20, 0, 0.1);
--vscode-editorMarkerNavigationWarning-background: #bf8803;
--vscode-editorMarkerNavigationWarning-headerBackground: rgba(191, 136, 3, 0.1);
--vscode-editorMarkerNavigationInfo-background: #1a85ff;
--vscode-editorMarkerNavigationInfo-headerBackground: rgba(26, 133, 255, 0.1);
--vscode-editorMarkerNavigation-background: #f7f7f7;
--vscode-editorHoverWidget-highlightForeground: #0066bf;
--vscode-editorSuggestWidget-background: #f3f3f3;
--vscode-editorSuggestWidget-border: #c8c8c8;
--vscode-editorSuggestWidget-foreground: #000000;
--vscode-editorSuggestWidget-selectedForeground: #000000;
--vscode-editorSuggestWidget-selectedBackground: #d6ebff;
--vscode-editorSuggestWidget-highlightForeground: #0066bf;
--vscode-editorSuggestWidget-focusHighlightForeground: #0066bf;
--vscode-editorSuggestWidgetStatus-foreground: rgba(0, 0, 0, 0.5);
--vscode-editor-foldBackground: rgba(173, 214, 255, 0.3);
--vscode-editorGutter-foldingControlForeground: #424242; }

.mtk1 { color: #000000; }
.mtk2 { color: #f7f7f7; }
.mtk3 { color: #808080; }
.mtk4 { color: #ff0000; }
.mtk5 { color: #0451a5; }
.mtk6 { color: #0000ff; }
.mtk7 { color: #098658; }
.mtk8 { color: #008000; }
.mtk9 { color: #dd0000; }
.mtk10 { color: #811f3f; }
.mtk11 { color: #e00000; }
.mtk12 { color: #116644; }
.mtk13 { color: #383838; }
.mtk14 { color: #257693; }
.mtk15 { color: #795e26; }
.mtk16 { color: #001080; }
.mtk17 { color: #cd3131; }
.mtk18 { color: #863b00; }
.mtk19 { color: #af00db; }
.mtk20 { color: #c43b3b; }
.mtk21 { color: #800000; }
.mtk22 { color: #3030c0; }
.mtk23 { color: #666666; }
.mtk24 { color: #778899; }
.mtk25 { color: #c700c7; }
.mtk26 { color: #a31515; }
.mtk27 { color: #4f76ac; }
.mtk28 { color: #008080; }
.mtk29 { color: #001188; }
.mtk30 { color: #4864aa; }
.mtki { font-style: italic; }
.mtkb { font-weight: bold; }
.mtku { text-decoration: underline; text-underline-position: under; }
.mtks { text-decoration: line-through; }
.mtks.mtku { text-decoration: underline line-through; text-underline-position: under; }</style><script async="async" type="text/javascript" src="./AVD_TGS1_files/python.js.download"></script></head><body class="" style="overscroll-behavior: contain;"><iframe tabindex="-1" aria-hidden="true" style="position: absolute; width: 9em; height: 9em; top: -99em;" src="./AVD_TGS1_files/saved_resource.html"></iframe><div style="visibility: hidden; overflow: hidden; position: absolute; top: 0px; height: 1px; width: auto; padding: 0px; border: 0px; margin: 0px; text-align: left; text-indent: 0px; text-transform: none; line-height: normal; letter-spacing: normal; word-spacing: normal;"><div id="MathJax_Hidden"></div></div><div id="MathJax_Message" style="display: none;"></div><div class="scripts"><script nonce="">window.performance.mark('external_scripts_start');</script><script src="./AVD_TGS1_files/gapi_loader.js.download" nonce=""></script><script src="./AVD_TGS1_files/socketio_binary.js.download" nonce=""></script><script src="./AVD_TGS1_files/analytics_binary.js.download" nonce=""></script><script src="./AVD_TGS1_files/MathJax.js.download" nonce=""></script><script src="./AVD_TGS1_files/js_monaco_editor_vs_loader.js.download" nonce=""></script><script nonce="">window.performance.mark('external_scripts_end'); window.performance.measure('external_scripts', 'external_scripts_start', 'external_scripts_end'); window.performance.mark('colab_load_start');</script><script src="./AVD_TGS1_files/external_binary.js.download" nonce=""></script><script nonce="">
          window.performance.mark('colab_load_end');
          window.performance.measure('colab_load', 'colab_load_start', 'colab_load_end');
        </script></div><colab-snackbar leading="" labeltext="" id="message-area" class="message-area"><template shadowrootmode="open"><!----><style>
        :host .mdc-snackbar__surface {
          background-color: var(--colab-inverse-surface-color);
        }

        :host .mdc-snackbar__label {
          color: var(--colab-inverse-on-surface-color);
        }
      </style>
      <!--?lit$160999733$-->
      <div class="mdc-snackbar mdc-snackbar--leading">
        <div class="mdc-snackbar__surface">
          <!--?lit$160999733$-->
          <div class="mdc-snackbar__actions">
            <slot name="action"></slot>
            <slot name="dismiss"></slot>
          </div>
        </div>
      </div><!--?--></template>
      <md-icon-button class="close" slot="dismiss" title="Close" data-aria-label="Close" value=""><template shadowrootmode="open" shadowrootdelegatesfocus><!----><button id="button" class="icon-button  standard " aria-label="Close">
        <!--?lit$160999733$--><md-focus-ring part="focus-ring" for="button" aria-hidden="true"><template shadowrootmode="open"><!----></template></md-focus-ring>
        <!--?lit$160999733$--><md-ripple aria-hidden="true"><template shadowrootmode="open"><!----><div class="surface   "></div></template></md-ripple>
        <!--?lit$160999733$--><span class="icon"><slot></slot></span>
        <!--?lit$160999733$-->
        <!--?lit$160999733$--><span class="touch"></span>
  </button></template>
        <md-icon aria-hidden="true"><template shadowrootmode="open"><!----><slot></slot></template>close</md-icon>
      </md-icon-button>
    </colab-snackbar><colab-snackbar leading="" labeltext="" id="message-area-secondary" class="message-area startup"><template shadowrootmode="open"><!----><style>
        :host .mdc-snackbar__surface {
          background-color: var(--colab-inverse-surface-color);
        }

        :host .mdc-snackbar__label {
          color: var(--colab-inverse-on-surface-color);
        }
      </style>
      <!--?lit$160999733$-->
      <div class="mdc-snackbar mdc-snackbar--leading">
        <div class="mdc-snackbar__surface">
          <!--?lit$160999733$-->
          <div class="mdc-snackbar__actions">
            <slot name="action"></slot>
            <slot name="dismiss"></slot>
          </div>
        </div>
      </div><!--?--></template>
      <md-icon-button class="close" slot="dismiss" title="Close" data-aria-label="Close" value=""><template shadowrootmode="open" shadowrootdelegatesfocus><!----><button id="button" class="icon-button  standard " aria-label="Close">
        <!--?lit$160999733$--><md-focus-ring part="focus-ring" for="button" aria-hidden="true"><template shadowrootmode="open"><!----></template></md-focus-ring>
        <!--?lit$160999733$--><md-ripple aria-hidden="true"><template shadowrootmode="open"><!----><div class="surface   "></div></template></md-ripple>
        <!--?lit$160999733$--><span class="icon"><slot></slot></span>
        <!--?lit$160999733$-->
        <!--?lit$160999733$--><span class="touch"></span>
  </button></template>
        <md-icon aria-hidden="true"><template shadowrootmode="open"><!----><slot></slot></template>close</md-icon>
      </md-icon-button>
    </colab-snackbar><div ng-non-bindable=""></div><div class="gb_S" ng-non-bindable=""><div class="gb_Bc"><div>Google Account</div><div class="gb_g">Sabita Alya P</div><div>sabitaalyap16@gmail.com</div></div></div><script nonce="">this.gbar_=this.gbar_||{};(function(_){var window=this;
try{
var vd;vd=class extends _.gd{};_.wd=function(a,b){if(b in a.i)return a.i[b];throw new vd;};_.xd=function(a){return _.wd(_.dd.i(),a)};
}catch(e){_._DumpException(e)}
try{
/*

 Copyright Google LLC
 SPDX-License-Identifier: Apache-2.0
*/
var Ad;_.yd=function(a){const b=a.length;if(b>0){const c=Array(b);for(let d=0;d<b;d++)c[d]=a[d];return c}return[]};Ad=function(a){return new _.zd(b=>b.substr(0,a.length+1).toLowerCase()===a+":")};_.Bd=globalThis.trustedTypes;_.Cd=class{constructor(a){this.i=a}toString(){return this.i}};_.Dd=new _.Cd("about:invalid#zClosurez");_.zd=class{constructor(a){this.lh=a}};_.Ed=[Ad("data"),Ad("http"),Ad("https"),Ad("mailto"),Ad("ftp"),new _.zd(a=>/^[^:]*([/?#]|$)/.test(a))];_.Fd=class{constructor(a){this.i=a}toString(){return this.i+""}};_.Gd=new _.Fd(_.Bd?_.Bd.emptyHTML:"");
}catch(e){_._DumpException(e)}
try{
var Ld,Zd,Kd,Md,Rd;_.Hd=function(a){return a==null?a:(0,_.Ua)(a)?a|0:void 0};_.Id=function(a){if(a==null)return a;if(typeof a==="string"&&a)a=+a;else if(typeof a!=="number")return;return(0,_.Ua)(a)?a|0:void 0};_.Jd=function(a,b){return a.lastIndexOf(b,0)==0};Ld=function(){let a=null;if(!Kd)return a;try{const b=c=>c;a=Kd.createPolicy("ogb-qtm#html",{createHTML:b,createScript:b,createScriptURL:b})}catch(b){}return a};_.Nd=function(){Md===void 0&&(Md=Ld());return Md};
_.Pd=function(a){const b=_.Nd();return new _.Od(b?b.createScriptURL(a):a)};_.Qd=function(a){if(a instanceof _.Od)return a.i;throw Error("H");};_.Sd=function(a){if(Rd.test(a))return a};_.Td=function(a){if(a instanceof _.Cd)if(a instanceof _.Cd)a=a.i;else throw Error("H");else a=_.Sd(a);return a};_.Ud=function(a,b=document){let c;const d=(c=b.querySelector)==null?void 0:c.call(b,`${a}[nonce]`);return d==null?"":d.nonce||d.getAttribute("nonce")||""};_.Vd=function(a,b,c){return _.tb(a,b,c)!==void 0};
_.Wd=function(a,b){return _.Id(_.Bc(a,b))};_.S=function(a,b){return _.Hd(_.Bc(a,b))};_.T=function(a,b,c=0){let d;return(d=_.Wd(a,b))!=null?d:c};_.Xd=function(a,b,c=0){let d;return(d=_.S(a,b))!=null?d:c};_.Yd=function(a){var b=_.Sa(a);return b=="array"||b=="object"&&typeof a.length=="number"};Kd=_.Bd;_.Od=class{constructor(a){this.i=a}toString(){return this.i+""}};Rd=/^\s*(?!javascript:)(?:[\w+.-]+:|[^:/?#]*(?:[/?#]|$))/i;var de,he,$d;_.be=function(a){return a?new $d(_.ae(a)):Zd||(Zd=new $d)};_.ce=function(a,b){return typeof b==="string"?a.getElementById(b):b};_.U=function(a,b){var c=b||document;c.getElementsByClassName?a=c.getElementsByClassName(a)[0]:(c=document,a?a=(b||c).querySelector(a?"."+a:""):(b=b||c,a=(a?b.querySelectorAll(a?"."+a:""):b.getElementsByTagName("*"))[0]||null));return a||null};
_.ee=function(a,b){_.vb(b,function(c,d){d=="style"?a.style.cssText=c:d=="class"?a.className=c:d=="for"?a.htmlFor=c:de.hasOwnProperty(d)?a.setAttribute(de[d],c):_.Jd(d,"aria-")||_.Jd(d,"data-")?a.setAttribute(d,c):a[d]=c})};de={cellpadding:"cellPadding",cellspacing:"cellSpacing",colspan:"colSpan",frameborder:"frameBorder",height:"height",maxlength:"maxLength",nonce:"nonce",role:"role",rowspan:"rowSpan",type:"type",usemap:"useMap",valign:"vAlign",width:"width"};
_.fe=function(a){return a?a.defaultView:window};_.ie=function(a,b){const c=b[1],d=_.ge(a,String(b[0]));c&&(typeof c==="string"?d.className=c:Array.isArray(c)?d.className=c.join(" "):_.ee(d,c));b.length>2&&he(a,d,b);return d};he=function(a,b,c){function d(e){e&&b.appendChild(typeof e==="string"?a.createTextNode(e):e)}for(let e=2;e<c.length;e++){const f=c[e];!_.Yd(f)||_.Eb(f)&&f.nodeType>0?d(f):_.Xb(f&&typeof f.length=="number"&&typeof f.item=="function"?_.yd(f):f,d)}};
_.je=function(a){return _.ge(document,a)};_.ge=function(a,b){b=String(b);a.contentType==="application/xhtml+xml"&&(b=b.toLowerCase());return a.createElement(b)};_.ke=function(a){let b;for(;b=a.firstChild;)a.removeChild(b)};_.le=function(a){return a&&a.parentNode?a.parentNode.removeChild(a):null};_.me=function(a,b){return a&&b?a==b||a.contains(b):!1};_.ae=function(a){return a.nodeType==9?a:a.ownerDocument||a.document};$d=function(a){this.i=a||_.t.document||document};_.p=$d.prototype;
_.p.H=function(a){return _.ce(this.i,a)};_.p.Ua=function(a,b,c){return _.ie(this.i,arguments)};_.p.appendChild=function(a,b){a.appendChild(b)};_.p.ue=_.ke;_.p.Nf=_.le;_.p.Mf=_.me;
}catch(e){_._DumpException(e)}
try{
_.wi=function(a){const b=_.Ud("script",a.ownerDocument);b&&a.setAttribute("nonce",b)};_.xi=function(a){if(!a)return null;a=_.G(a,4);var b;a===null||a===void 0?b=null:b=_.Pd(a);return b};_.yi=class extends _.P{constructor(a){super(a)}};_.zi=function(a,b){return(b||document).getElementsByTagName(String(a))};
}catch(e){_._DumpException(e)}
try{
var Bi=function(a,b,c){a<b?Ai(a+1,b):_.Oc.log(Error("fa`"+a+"`"+b),{url:c})},Ai=function(a,b){if(Ci){const c=_.je("SCRIPT");c.async=!0;c.type="text/javascript";c.charset="UTF-8";c.src=_.Qd(Ci);_.wi(c);c.onerror=_.Hb(Bi,a,b,c.src);_.zi("HEAD")[0].appendChild(c)}},Di=class extends _.P{constructor(a){super(a)}};var Ei=_.D(_.Yc,Di,17)||new Di,Fi,Ci=(Fi=_.D(Ei,_.yi,1))?_.xi(Fi):null,Gi,Hi=(Gi=_.D(Ei,_.yi,2))?_.xi(Gi):null,Ii=function(){Ai(1,2);if(Hi){const a=_.je("LINK");a.setAttribute("type","text/css");a.href=_.Qd(Hi).toString();a.rel="stylesheet";let b=_.Ud("style",document);b&&a.setAttribute("nonce",b);_.zi("HEAD")[0].appendChild(a)}};(function(){const a=_.Zc();if(_.F(a,18))Ii();else{const b=_.Wd(a,19)||0;window.addEventListener("load",()=>{window.setTimeout(Ii,b)})}})();
}catch(e){_._DumpException(e)}
})(this.gbar_);
// Google Inc.
</script><div style="position: absolute; width: 0px; height: 0px; overflow: hidden; padding: 0px; border: 0px; margin: 0px;"><div id="MathJax_Font_Test" style="position: absolute; visibility: hidden; top: 0px; left: 0px; width: auto; min-width: 0px; max-width: none; padding: 0px; border: 0px; margin: 0px; white-space: nowrap; text-align: left; text-indent: 0px; text-transform: none; line-height: normal; letter-spacing: normal; word-spacing: normal; font-size: 40px; font-weight: normal; font-style: normal; font-size-adjust: none; font-family: MathJax_Size1, monospace;"></div></div><iframe id="hfcr" src="./AVD_TGS1_files/RotateCookiesPage.html" style="display: none;"></iframe><div class="notebook-vertical" style="position: relative;">
      <!--?lit$160999733$--><colab-skip-link><template shadowrootmode="open"><!----><md-elevated-button class="link" href="#notebook-main" value=""><template shadowrootmode="open" shadowrootdelegatesfocus><!---->
      <!--?lit$160999733$--><md-elevation part="elevation" aria-hidden="true"><template shadowrootmode="open"><!----><span class="shadow"></span></template></md-elevation>
      <div class="background"></div>
      <md-focus-ring part="focus-ring" for="link" aria-hidden="true"><template shadowrootmode="open"><!----></template></md-focus-ring>
      <md-ripple part="ripple" for="link" aria-hidden="true"><template shadowrootmode="open"><!----><div class="surface   "></div></template></md-ripple>
      <!--?lit$160999733$--><a id="link" class="button" href="https://colab.research.google.com/drive/1XwRUBhhMyewidBQ9kb-MQHKncez4l_pF#notebook-main"><!--?lit$160999733$-->
      <span class="touch"></span>
      <!--?lit$160999733$--><slot name="icon"></slot>
      <span class="label"><slot></slot></span>
      <!--?lit$160999733$-->
    
    </a>
    </template><!--?lit$160999733$-->Skip to main content</md-elevated-button></template></colab-skip-link>
      <div class="top-floater"><div role="banner">
    <!--?lit$160999733$-->
    <!--?lit$160999733$-->
          <div id="private-outputs-warning" class="header-warning private-outputs-warning" hidden=""><md-icon aria-hidden="true"><template shadowrootmode="open"><!----><slot></slot></template>info</md-icon>
            <div class="message">
              <!--?lit$160999733$-->This notebook is open with private outputs. Outputs will not be saved. You can disable this in <a href="https://colab.research.google.com/drive/1XwRUBhhMyewidBQ9kb-MQHKncez4l_pF#" id="private-outputs-notebook-info-link" command="notebook-settings" aria-describedby="private-outputs-notebook-info-link-tooltip">Notebook settings</a><colab-tooltip-trigger aria-hidden="true" for="private-outputs-notebook-info-link" id="private-outputs-notebook-info-link-tooltip"><template shadowrootmode="open"><!----><!--?lit$160999733$--><!----><div><!--?lit$160999733$-->Open notebook settings</div><!----><!--?--></template>
        </colab-tooltip-trigger>.
            </div>
          <div class="actions"><md-icon-button class="close" title="Close" data-aria-label="Close" value=""><template shadowrootmode="open" shadowrootdelegatesfocus><!----><button id="button" class="icon-button  standard " aria-label="Close">
        <!--?lit$160999733$--><md-focus-ring part="focus-ring" for="button" aria-hidden="true"><template shadowrootmode="open"><!----></template></md-focus-ring>
        <!--?lit$160999733$--><md-ripple aria-hidden="true"><template shadowrootmode="open"><!----><div class="surface   "></div></template></md-ripple>
        <!--?lit$160999733$--><span class="icon"><slot></slot></span>
        <!--?lit$160999733$-->
        <!--?lit$160999733$--><span class="touch"></span>
  </button></template>
          <md-icon aria-hidden="true"><template shadowrootmode="open"><!----><slot></slot></template>close</md-icon>
        </md-icon-button></div></div>
        
    <!--?lit$160999733$-->

    <div id="header" class="horizontal layout">
      <div id="header-background"><div></div></div>
      <div id="header-content">
        <!--?lit$160999733$-->
        <!--?lit$160999733$--><div id="header-logo">
              <!--?lit$160999733$--> <!--?lit$160999733$--><a href="https://drive.google.com/drive/search?q=owner%3Ame%20(type%3Aapplication%2Fvnd.google.colaboratory%20%7C%7C%20type%3Aapplication%2Fvnd.google.colab)&amp;authuser=0" aria-label="View in Google Drive">
        <!--?lit$160999733$--><md-icon class="colab-large-icon" aria-hidden="true"><template shadowrootmode="open"><!----><slot></slot></template><!--?lit$160999733$--><svg viewBox="0 0 24 24"><!--?lit$160999733$-->
      <g id="colab-logo">
        <path d="M4.54,9.46,2.19,7.1a6.93,6.93,0,0,0,0,9.79l2.36-2.36A3.59,3.59,0,0,1,4.54,9.46Z" style="fill:var(--colab-logo-dark)"></path>
        <path d="M2.19,7.1,4.54,9.46a3.59,3.59,0,0,1,5.08,0l1.71-2.93h0l-.1-.08h0A6.93,6.93,0,0,0,2.19,7.1Z" style="fill:var(--colab-logo-light)"></path>
        <path d="M11.34,17.46h0L9.62,14.54a3.59,3.59,0,0,1-5.08,0L2.19,16.9a6.93,6.93,0,0,0,9,.65l.11-.09" style="fill:var(--colab-logo-light)"></path>
        <path d="M12,7.1a6.93,6.93,0,0,0,0,9.79l2.36-2.36a3.59,3.59,0,1,1,5.08-5.08L21.81,7.1A6.93,6.93,0,0,0,12,7.1Z" style="fill:var(--colab-logo-light)"></path>
        <path d="M21.81,7.1,19.46,9.46a3.59,3.59,0,0,1-5.08,5.08L12,16.9A6.93,6.93,0,0,0,21.81,7.1Z" style="fill:var(--colab-logo-dark)"></path>
      </g></svg></md-icon>
      </a><!--?-->
            </div>
        <div id="header-doc-toolbar" class="flex">
          <div id="document-info">
            <!--?lit$160999733$--> <!--?lit$160999733$--><md-icon class="file-location-icon" id="file-type" aria-hidden="true" title="Notebook stored in Google Drive"><template shadowrootmode="open"><!----><slot></slot></template><!--?lit$160999733$-->
      <svg viewBox="0 0 192 192">
        <path d="M128.33,122l7.59,26.17l19.89,21.42c0,0,0,0,0,0v0c2.69-1.55,4.98-3.8,6.59-6.59l18.48-32 c1.61-2.78,2.41-5.89,2.41-9l-28.38-5.5L128.33,122z" fill="#EA4335"></path>
        <path d="M123.48,18.41c-2.69-1.55-5.78-2.41-9-2.41H77.53c-3.2,0-6.32,0.88-9,2.41l0,0l7.96,26.81l19.44,20.64 L96,66l0,0l19.58-20.89L123.48,18.41C123.48,18.41,123.48,18.41,123.48,18.41C123.48,18.41,123.48,18.41,123.48,18.41z" fill="#188038"></path>
        <path d="M63.67,122l-28.33-6.5L8.72,122c0,3.1,0.8,6.2,2.4,8.99L29.6,163c1.61,2.78,3.9,5.03,6.59,6.59 l19.59-20.18L63.67,122L63.67,122z" fill="#1967D2"></path>
        <path d="M155.47,69l-25.4-44c-1.61-2.79-3.9-5.04-6.59-6.59L96,66l32.33,56h54.95c0-3.11-0.8-6.21-2.41-9 L155.47,69z" fill="#FBBC04"></path><path d="M128.33,122H63.67l-27.48,47.59c2.69,1.55,5.78,2.41,9,2.41h101.61c3.22,0,6.31-0.86,9-2.41L128.33,122z" fill="#4285F4"></path>
        <path d="M96,66L68.53,18.41c-2.69,1.55-4.97,3.79-6.58,6.57l-50.83,88.05c-1.6,2.78-2.4,5.88-2.4,8.97h54.95L96,66 z" fill="#34A853"></path>
      </svg></md-icon>
    <input id="doc-name" class="doc-name" maxlength="259" autocomplete="off" aria-label="Notebook name" command="rename" aria-describedby="doc-name-tooltip" style="width: 139.635px;"><colab-tooltip-trigger aria-hidden="true" for="doc-name" id="doc-name-tooltip"><template shadowrootmode="open"><!----><!--?lit$160999733$--><!----><div><!--?lit$160999733$-->Rename notebook</div><!----><!--?--></template>
        </colab-tooltip-trigger><colab-input-sizer aria-hidden="true" style="left: -1000%; position: absolute; font-family: &quot;Google Sans&quot;, Roboto, Noto, sans-serif; font-size: 18px; font-weight: 400; letter-spacing: normal; padding-left: 3px; padding-right: 4px; white-space: pre;">AVD_TGS1.ipynb_</colab-input-sizer>
            <!--?lit$160999733$-->
                  <md-icon-button id="star-icon" command="toggle-star" aria-describedby="star-icon-tooltip" data-aria-label="Star" value=""><template shadowrootmode="open" shadowrootdelegatesfocus><!----><button id="button" class="icon-button  standard " aria-label="Star">
        <!--?lit$160999733$--><md-focus-ring part="focus-ring" for="button" aria-hidden="true"><template shadowrootmode="open"><!----></template></md-focus-ring>
        <!--?lit$160999733$--><md-ripple aria-hidden="true"><template shadowrootmode="open"><!----><div class="surface"></div></template></md-ripple>
        <!--?lit$160999733$--><span class="icon"><slot></slot></span>
        <!--?lit$160999733$-->
        <!--?lit$160999733$--><span class="touch"></span>
  </button></template>
                    <md-icon aria-hidden="true"><template shadowrootmode="open"><!----><slot></slot></template>star</md-icon>
                  </md-icon-button><colab-tooltip-trigger aria-hidden="true" for="star-icon" id="star-icon-tooltip"><template shadowrootmode="open"><!----><!--?lit$160999733$--><!----><div><!--?lit$160999733$-->Star notebook in Google Drive</div><!----><!--?--></template>
        </colab-tooltip-trigger>
                
            <!--?lit$160999733$--><colab-last-saved-indicator aria-live="polite" aria-atomic="true"><template shadowrootmode="open"><!----><md-icon-button id="button" data-aria-label="All changes saved" value=""><template shadowrootmode="open" shadowrootdelegatesfocus><!----><button id="button" class="icon-button  standard " aria-label="All changes saved">
        <!--?lit$160999733$--><md-focus-ring part="focus-ring" for="button" aria-hidden="true"><template shadowrootmode="open"><!----></template></md-focus-ring>
        <!--?lit$160999733$--><md-ripple aria-hidden="true"><template shadowrootmode="open"><!----><div class="surface   "></div></template></md-ripple>
        <!--?lit$160999733$--><span class="icon"><slot></slot></span>
        <!--?lit$160999733$-->
        <!--?lit$160999733$--><span class="touch"></span>
  </button></template><md-icon aria-hidden="true"><template shadowrootmode="open"><!----><slot></slot></template><!--?lit$160999733$-->cloud_done</md-icon></md-icon-button><colab-tooltip-trigger aria-hidden="true" for="button" id="button-tooltip" message="All changes saved"><template shadowrootmode="open"><!----><!--?lit$160999733$--><!----><div><!--?lit$160999733$-->All changes saved</div><!----><!--?--></template>
        </colab-tooltip-trigger></template></colab-last-saved-indicator>
          </div>
        <div class="menubar-wrapper"><div><!----><div id="top-menubar" class="goog-menubar format-lightborder" role="menubar" style="user-select: none;" tabindex="0"><!--?lit$160999733$--><div class="goog-menu-button goog-inline-block" id="file-menu-button" role="button" aria-expanded="false" aria-haspopup="true" style="user-select: none;"><div class="goog-inline-block goog-menu-button-outer-box" style="user-select: none;"><div class="goog-inline-block goog-menu-button-inner-box" style="user-select: none;"><div class="goog-inline-block goog-menu-button-caption" style="user-select: none;"><!--?lit$160999733$-->File</div><div class="goog-inline-block goog-menu-button-dropdown" style="user-select: none;">&nbsp;</div></div></div></div><div class="goog-menu-button goog-inline-block" id="edit-menu-button" role="button" aria-expanded="false" aria-haspopup="true" style="user-select: none;"><div class="goog-inline-block goog-menu-button-outer-box" style="user-select: none;"><div class="goog-inline-block goog-menu-button-inner-box" style="user-select: none;"><div class="goog-inline-block goog-menu-button-caption" style="user-select: none;"><!--?lit$160999733$-->Edit</div><div class="goog-inline-block goog-menu-button-dropdown" style="user-select: none;">&nbsp;</div></div></div></div><div class="goog-menu-button goog-inline-block" id="view-menu-button" role="button" aria-expanded="false" aria-haspopup="true" style="user-select: none;"><div class="goog-inline-block goog-menu-button-outer-box" style="user-select: none;"><div class="goog-inline-block goog-menu-button-inner-box" style="user-select: none;"><div class="goog-inline-block goog-menu-button-caption" style="user-select: none;"><!--?lit$160999733$-->View</div><div class="goog-inline-block goog-menu-button-dropdown" style="user-select: none;">&nbsp;</div></div></div></div><div class="goog-menu-button goog-inline-block" id="insert-menu-button" role="button" aria-expanded="false" aria-haspopup="true" style="user-select: none;"><div class="goog-inline-block goog-menu-button-outer-box" style="user-select: none;"><div class="goog-inline-block goog-menu-button-inner-box" style="user-select: none;"><div class="goog-inline-block goog-menu-button-caption" style="user-select: none;"><!--?lit$160999733$-->Insert</div><div class="goog-inline-block goog-menu-button-dropdown" style="user-select: none;">&nbsp;</div></div></div></div><div class="goog-menu-button goog-inline-block" id="runtime-menu-button" role="button" aria-expanded="false" aria-haspopup="true" style="user-select: none;"><div class="goog-inline-block goog-menu-button-outer-box" style="user-select: none;"><div class="goog-inline-block goog-menu-button-inner-box" style="user-select: none;"><div class="goog-inline-block goog-menu-button-caption" style="user-select: none;"><!--?lit$160999733$-->Runtime</div><div class="goog-inline-block goog-menu-button-dropdown" style="user-select: none;">&nbsp;</div></div></div></div><div class="goog-menu-button goog-inline-block" id="tools-menu-button" role="button" aria-expanded="false" aria-haspopup="true" style="user-select: none;"><div class="goog-inline-block goog-menu-button-outer-box" style="user-select: none;"><div class="goog-inline-block goog-menu-button-inner-box" style="user-select: none;"><div class="goog-inline-block goog-menu-button-caption" style="user-select: none;"><!--?lit$160999733$-->Tools</div><div class="goog-inline-block goog-menu-button-dropdown" style="user-select: none;">&nbsp;</div></div></div></div><div class="goog-menu-button goog-inline-block" id="help-menu-button" role="button" aria-expanded="false" aria-haspopup="true" style="user-select: none;"><div class="goog-inline-block goog-menu-button-outer-box" style="user-select: none;"><div class="goog-inline-block goog-menu-button-inner-box" style="user-select: none;"><div class="goog-inline-block goog-menu-button-caption" style="user-select: none;"><!--?lit$160999733$-->Help</div><div class="goog-inline-block goog-menu-button-dropdown" style="user-select: none;">&nbsp;</div></div></div></div></div></div></div></div>
        <div id="header-right">
          <!--?lit$160999733$-->
    <colab-collaborator-bar id="collaborator-bar"><template shadowrootmode="open"><!----> <div class="collaborator-bar">
      <!--?lit$160999733$-->
      <!--?lit$160999733$-->
    </div></template></colab-collaborator-bar>
  
          <!--?lit$160999733$--> <md-icon-button id="comments" command="open-comments-thread" data-aria-label="Open comments pane" aria-describedby="comments-tooltip" value=""><template shadowrootmode="open" shadowrootdelegatesfocus><!----><button id="button" class="icon-button  standard " aria-label="Open comments pane">
        <!--?lit$160999733$--><md-focus-ring part="focus-ring" for="button" aria-hidden="true"><template shadowrootmode="open"><!----></template></md-focus-ring>
        <!--?lit$160999733$--><md-ripple aria-hidden="true"><template shadowrootmode="open"><!----><div class="surface"></div></template></md-ripple>
        <!--?lit$160999733$--><span class="icon"><slot></slot></span>
        <!--?lit$160999733$-->
        <!--?lit$160999733$--><span class="touch"></span>
  </button></template>
                <md-icon aria-hidden="true"><template shadowrootmode="open"><!----><slot></slot></template>comment</md-icon>
              </md-icon-button><colab-tooltip-trigger aria-hidden="true" for="comments" id="comments-tooltip"><template shadowrootmode="open"><!----><!--?lit$160999733$--><!----><div><!--?lit$160999733$-->Open comments pane</div><!----><!--?--></template>
        </colab-tooltip-trigger>
          <!--?lit$160999733$--> <md-icon-button id="settings-cog" command="preferences" data-aria-label="Open settings" aria-describedby="settings-cog-tooltip" value=""><template shadowrootmode="open" shadowrootdelegatesfocus><!----><button id="button" class="icon-button  standard " aria-label="Open settings">
        <!--?lit$160999733$--><md-focus-ring part="focus-ring" for="button" aria-hidden="true"><template shadowrootmode="open"><!----></template></md-focus-ring>
        <!--?lit$160999733$--><md-ripple aria-hidden="true"><template shadowrootmode="open"><!----><div class="surface"></div></template></md-ripple>
        <!--?lit$160999733$--><span class="icon"><slot></slot></span>
        <!--?lit$160999733$-->
        <!--?lit$160999733$--><span class="touch"></span>
  </button></template>
                <md-icon aria-hidden="true"><template shadowrootmode="open"><!----><slot></slot></template>settings</md-icon>
              </md-icon-button><colab-tooltip-trigger aria-hidden="true" for="settings-cog" id="settings-cog-tooltip"><template shadowrootmode="open"><!----><!--?lit$160999733$--><!----><div><!--?lit$160999733$-->Open settings</div><!----><!--?--></template>
        </colab-tooltip-trigger>
          <!--?lit$160999733$--> <md-filled-tonal-button id="share-toolbar-button" command="share" aria-describedby="share-toolbar-button-tooltip" value="" has-icon=""><template shadowrootmode="open" shadowrootdelegatesfocus><!---->
      <!--?lit$160999733$--><md-elevation part="elevation" aria-hidden="true"><template shadowrootmode="open"><!----><span class="shadow"></span></template></md-elevation>
      <div class="background"></div>
      <md-focus-ring part="focus-ring" for="button" aria-hidden="true"><template shadowrootmode="open"><!----></template></md-focus-ring>
      <md-ripple part="ripple" for="button" aria-hidden="true"><template shadowrootmode="open"><!----><div class="surface"></div></template></md-ripple>
      <!--?lit$160999733$--><button id="button" class="button">
      <!--?lit$160999733$-->
      <span class="touch"></span>
      <!--?lit$160999733$--><slot name="icon"></slot>
      <span class="label"><slot></slot></span>
      <!--?lit$160999733$-->
    
    </button>
    </template>
                <md-icon slot="icon" aria-hidden="true"><template shadowrootmode="open"><!----><slot></slot></template><!--?lit$160999733$-->people</md-icon>
                <!--?lit$160999733$-->Share
              </md-filled-tonal-button><colab-tooltip-trigger aria-hidden="true" for="share-toolbar-button" id="share-toolbar-button-tooltip"><template shadowrootmode="open"><!----><!--?lit$160999733$--><!----><div><!--?lit$160999733$-->Share notebook</div><!----><!--?--></template>
        </colab-tooltip-trigger>
          <!--?lit$160999733$--> <md-icon-button class="show-chat-button" id="show-chat-button" command="show-chat" data-aria-label="Show Gemini" aria-describedby="show-chat-button-tooltip" value=""><template shadowrootmode="open" shadowrootdelegatesfocus><!----><button id="button" class="icon-button  standard " aria-label="Show Gemini">
        <!--?lit$160999733$--><md-focus-ring part="focus-ring" for="button" aria-hidden="true"><template shadowrootmode="open"><!----></template></md-focus-ring>
        <!--?lit$160999733$--><md-ripple aria-hidden="true"><template shadowrootmode="open"><!----><div class="surface"></div></template></md-ripple>
        <!--?lit$160999733$--><span class="icon"><slot></slot></span>
        <!--?lit$160999733$-->
        <!--?lit$160999733$--><span class="touch"></span>
  </button></template>
                <md-icon aria-hidden="true"><template shadowrootmode="open"><!----><slot></slot></template>spark</md-icon>
              </md-icon-button><colab-tooltip-trigger aria-hidden="true" for="show-chat-button" id="show-chat-button-tooltip"><template shadowrootmode="open"><!----><!--?lit$160999733$--><!----><div><!--?lit$160999733$-->Show Gemini</div><!----><!--?--></template>
        </colab-tooltip-trigger>
          <div class="header-onegoogle-container"><div class="onegoogle"><div class="gb_Fa gb_Jd gb_2d gb_Wc" id="gb"><div class="gb_Cd gb_Zd gb_xd" ng-non-bindable="" data-ogsr-up="" style="padding:0;height:auto;display:block"><div class="gb_Qe" style="display:block"><div class="gb_3c"></div><div class="gb_z gb_cd gb_Mf gb_0"><div class="gb_D gb_jb gb_Mf gb_0"><a class="gb_B gb_Za gb_0" aria-expanded="false" aria-label="Google Account: Sabita Alya P  
(sabitaalyap16@gmail.com)" href="https://accounts.google.com/SignOutOptions?hl=en&amp;continue=https://colab.research.google.com/drive/1XwRUBhhMyewidBQ9kb-MQHKncez4l_pF&amp;ec=GBRAqQM" tabindex="0" role="button"><img class="gb_P gbii" src="./AVD_TGS1_files/unnamed.png" srcset="https://lh3.googleusercontent.com/ogw/AF2bZyjWSvKwtt4S5WMzbhlRUfcyD7u5FseDMZiW25kkErVGfA=s32-c-mo 1x, https://lh3.googleusercontent.com/ogw/AF2bZyjWSvKwtt4S5WMzbhlRUfcyD7u5FseDMZiW25kkErVGfA=s64-c-mo 2x " alt="" aria-hidden="true" data-noaft=""><div class="gb_Q gb_R" aria-hidden="true"><svg class="gb_Ka" height="14" viewBox="0 0 14 14" width="14" xmlns="http://www.w3.org/2000/svg"><circle class="gb_La" cx="7" cy="7" r="7"></circle><path class="gb_Na" d="M6 10H8V12H6V10ZM6 2H8V8H6V2Z"></path></svg></div></a></div></div></div><div style="overflow: hidden; position: absolute; top: 0px; visibility: hidden; width: 436px; z-index: 991; height: 0px; margin-top: 57px; right: 0px; margin-right: 4px;"></div><div style="overflow: hidden; position: absolute; top: 0px; visibility: hidden; width: 420px; z-index: 991; height: 280px; margin-top: 70px; right: 0px; margin-right: 25px;"></div></div></div><script nonce="">this.gbar_=this.gbar_||{};(function(_){var window=this;
try{
_.qd=function(a,b,c){if(!a.j)if(c instanceof Array)for(var d of c)_.qd(a,b,d);else{d=(0,_.z)(a.C,a,b);const e=a.v+c;a.v++;b.dataset.eqid=e;a.B[e]=d;b&&b.addEventListener?b.addEventListener(c,d,!1):b&&b.attachEvent?b.attachEvent("on"+c,d):a.o.log(Error("D`"+b))}};
}catch(e){_._DumpException(e)}
try{
var sd=document.querySelector(".gb_J .gb_B"),td=document.querySelector("#gb.gb_Sc");sd&&!td&&_.qd(_.cd,sd,"click");
}catch(e){_._DumpException(e)}
try{
_.Yg=function(a){if(a.v)return a.v;for(const b in a.i)if(a.i[b].fa()&&a.i[b].B())return a.i[b];return null};_.Zg=function(a,b){a.i[b.J()]=b};var $g=new class extends _.Q{constructor(){var a=_.Oc;super();this.B=a;this.v=null;this.o={};this.C={};this.i={};this.j=null}A(a){this.i[a]&&(_.Yg(this)&&_.Yg(this).J()==a||this.i[a].R(!0))}Pa(a){this.j=a;for(const b in this.i)this.i[b].fa()&&this.i[b].Pa(a)}fc(a){return a in this.i?this.i[a]:null}};_.fd("dd",$g);
}catch(e){_._DumpException(e)}
try{
_.qi=function(a,b){return _.K(a,36,b)};
}catch(e){_._DumpException(e)}
try{
var ri=document.querySelector(".gb_z .gb_B"),si=document.querySelector("#gb.gb_Sc");ri&&!si&&_.qd(_.cd,ri,"click");
}catch(e){_._DumpException(e)}
})(this.gbar_);
// Google Inc.
</script></div></div>
        </div>
      </div>
    </div>
  </div></div><div class="notebook-horizontal">
        <!--?lit$160999733$--><colab-left-pane role="complementary" aria-label="left pane" class=""><!----><div class="colab-left-pane-nib layout vertical" role="toolbar" aria-orientation="vertical">
        <div class="left-pane-top"><!----><div class="left-pane-button">
        <!--?lit$160999733$--><md-icon-button toggle="" command="show-toc-pane" data-aria-label="Table of contents" title="Table of contents" value="" tabindex="-1"><template shadowrootmode="open" shadowrootdelegatesfocus><!----><button id="button" class="icon-button  standard " aria-label="Table of contents" aria-pressed="false">
        <!--?lit$160999733$--><md-focus-ring part="focus-ring" for="button" aria-hidden="true"><template shadowrootmode="open"><!----></template></md-focus-ring>
        <!--?lit$160999733$--><md-ripple aria-hidden="true"><template shadowrootmode="open"><!----><div class="surface"></div></template></md-ripple>
        <!--?lit$160999733$--><span class="icon"><slot></slot></span>
        <!--?lit$160999733$-->
        <!--?lit$160999733$--><span class="touch"></span>
  </button></template>
      <md-icon aria-hidden="true"><template shadowrootmode="open"><!----><slot></slot></template><!--?lit$160999733$-->format_list_bulleted</md-icon>
    </md-icon-button> <!--?lit$160999733$-->
      </div><!----><div class="left-pane-button">
        <!--?lit$160999733$--><md-icon-button toggle="" command="find" data-aria-label="Find and replace" title="Find and replace" value="" tabindex="-1"><template shadowrootmode="open" shadowrootdelegatesfocus><!----><button id="button" class="icon-button standard" aria-label="Find and replace" aria-pressed="false">
        <!--?lit$160999733$--><md-focus-ring part="focus-ring" for="button" aria-hidden="true"><template shadowrootmode="open"><!----></template></md-focus-ring>
        <!--?lit$160999733$--><md-ripple aria-hidden="true"><template shadowrootmode="open"><!----><div class="surface"></div></template></md-ripple>
        <!--?lit$160999733$--><span class="icon"><slot></slot></span>
        <!--?lit$160999733$-->
        <!--?lit$160999733$--><span class="touch"></span>
  </button></template>
      <md-icon aria-hidden="true"><template shadowrootmode="open"><!----><slot></slot></template><!--?lit$160999733$-->find_in_page</md-icon>
    </md-icon-button> <!--?lit$160999733$-->
      </div><!----><div class="left-pane-button">
        <!--?lit$160999733$--><md-icon-button toggle="" command="show-variables" data-aria-label="Variables" title="Variables" value="" tabindex="-1"><template shadowrootmode="open" shadowrootdelegatesfocus><!----><button id="button" class="icon-button  standard " aria-label="Variables" aria-pressed="false">
        <!--?lit$160999733$--><md-focus-ring part="focus-ring" for="button" aria-hidden="true"><template shadowrootmode="open"><!----></template></md-focus-ring>
        <!--?lit$160999733$--><md-ripple aria-hidden="true"><template shadowrootmode="open"><!----><div class="surface"></div></template></md-ripple>
        <!--?lit$160999733$--><span class="icon"><slot></slot></span>
        <!--?lit$160999733$-->
        <!--?lit$160999733$--><span class="touch"></span>
  </button></template>
      <md-icon aria-hidden="true"><template shadowrootmode="open"><!----><slot></slot></template><!--?lit$160999733$--><svg viewBox="0 0 24 24"><!--?lit$160999733$-->
      <path d="M4.51,9.44V6.08c0-1.34.37-1.85,1.6-2.17l.22-.06V3.13l-.27,0-.44,0a4.46,4.46,0,0,0-2.2.59,2.78,2.78,0,0,0-1,2.51V9.74c0,1.26-.26,1.61-1.49,2L0,12l.94.29c1.21.38,1.49.75,1.49,2v3.5a2.94,2.94,0,0,0,1,2.6,4.39,4.39,0,0,0,2.14.56l.46,0,.27,0v-.72l-.22-.06c-1.24-.32-1.6-.81-1.6-2.17V14.58c0-1.43-.3-2.13-1.25-2.57C4.2,11.57,4.51,10.87,4.51,9.44Z"></path>
      <path d="M23.06,11.71c-1.22-.36-1.49-.71-1.49-2l0-3.5a3,3,0,0,0-1-2.6,4.38,4.38,0,0,0-2.14-.56l-.46,0-.27,0v.72l.22.06c1.24.32,1.6.81,1.6,2.17V9.44c0,1.44.3,2.13,1.25,2.57-1,.44-1.25,1.14-1.25,2.57v3.36c0,1.34-.37,1.85-1.6,2.17l-.22.06v.72l.27,0,.44,0a4.47,4.47,0,0,0,2.2-.59,2.82,2.82,0,0,0,1-2.51V14.28c0-1.26.26-1.61,1.49-2L24,12Z"></path>
      <path d="M15.16,8.22a.88.88,0,0,1,.46.16,1.25,1.25,0,0,0,.69.2h0A1,1,0,0,0,17,8.23a1.06,1.06,0,0,0,.24-.8,1.1,1.1,0,0,0-1.15-1h0c-1,0-1.73.64-3,2.57l-.12-.51c-.28-1.36-.56-2-1.39-2h0A8,8,0,0,0,9,7.08l-.47.16.16.91L9.41,8a3.22,3.22,0,0,1,.73-.14c.34,0,.43,0,.71,1.2l.56,2.47L9.76,13.82a3.6,3.6,0,0,1-.8.88.9.9,0,0,1-.38-.13,1.83,1.83,0,0,0-.88-.28,1,1,0,0,0-1,1.06A1.15,1.15,0,0,0,8,16.53c.85,0,1.35-.35,2.24-1.55l1.49-2,.46,1.88c.23,1,.46,1.66,1.53,1.66s1.66-.75,2.81-2.53l.17-.26-.81-.48-.16.2-.25.34-.19.25c-.45.57-.62.73-.76.73s-.28-.4-.34-.63l-.67-2.83a4.2,4.2,0,0,1-.15-.79C13.84,9.78,14.74,8.22,15.16,8.22Z"></path></svg></md-icon>
    </md-icon-button> <!--?lit$160999733$-->
      </div><!----><div class="left-pane-button">
        <!--?lit$160999733$--><md-icon-button toggle="" command="open-user-secrets" data-aria-label="Secrets" title="Secrets" value="" tabindex="-1"><template shadowrootmode="open" shadowrootdelegatesfocus><!----><button id="button" class="icon-button  standard " aria-label="Secrets" aria-pressed="false">
        <!--?lit$160999733$--><md-focus-ring part="focus-ring" for="button" aria-hidden="true"><template shadowrootmode="open"><!----></template></md-focus-ring>
        <!--?lit$160999733$--><md-ripple aria-hidden="true"><template shadowrootmode="open"><!----><div class="surface"></div></template></md-ripple>
        <!--?lit$160999733$--><span class="icon"><slot></slot></span>
        <!--?lit$160999733$-->
        <!--?lit$160999733$--><span class="touch"></span>
  </button></template>
      <md-icon aria-hidden="true"><template shadowrootmode="open"><!----><slot></slot></template><!--?lit$160999733$-->vpn_key</md-icon>
    </md-icon-button> <!--?lit$160999733$-->
      </div><!----><div class="left-pane-button">
        <!--?lit$160999733$--><md-icon-button toggle="" command="show-files" data-aria-label="Files" title="Files" value=""><template shadowrootmode="open" shadowrootdelegatesfocus><!----><button id="button" class="icon-button standard" aria-label="Files" aria-pressed="false">
        <!--?lit$160999733$--><md-focus-ring part="focus-ring" for="button" aria-hidden="true"><template shadowrootmode="open"><!----></template></md-focus-ring>
        <!--?lit$160999733$--><md-ripple aria-hidden="true"><template shadowrootmode="open"><!----><div class="surface"></div></template></md-ripple>
        <!--?lit$160999733$--><span class="icon"><slot></slot></span>
        <!--?lit$160999733$-->
        <!--?lit$160999733$--><span class="touch"></span>
  </button></template>
      <md-icon aria-hidden="true"><template shadowrootmode="open"><!----><slot></slot></template><!--?lit$160999733$-->folder</md-icon>
    </md-icon-button> <!--?lit$160999733$-->
      </div></div>
        <div class="left-pane-bottom"><!----><div class="left-pane-button">
        <!--?lit$160999733$--><md-icon-button command="snippets" data-aria-label="Code snippets" title="Code snippets" value="" tabindex="-1"><template shadowrootmode="open" shadowrootdelegatesfocus><!----><button id="button" class="icon-button  standard " aria-label="Code snippets">
        <!--?lit$160999733$--><md-focus-ring part="focus-ring" for="button" aria-hidden="true"><template shadowrootmode="open"><!----></template></md-focus-ring>
        <!--?lit$160999733$--><md-ripple aria-hidden="true"><template shadowrootmode="open"><!----><div class="surface"></div></template></md-ripple>
        <!--?lit$160999733$--><span class="icon"><slot></slot></span>
        <!--?lit$160999733$-->
        <!--?lit$160999733$--><span class="touch"></span>
  </button></template>
      <md-icon aria-hidden="true"><template shadowrootmode="open"><!----><slot></slot></template><!--?lit$160999733$-->code</md-icon>
    </md-icon-button> <!--?lit$160999733$-->
      </div><!----><div class="left-pane-button">
        <!--?lit$160999733$--><md-icon-button command="show-terminal" data-aria-label="Terminal" title="Terminal" value="" tabindex="-1"><template shadowrootmode="open" shadowrootdelegatesfocus><!----><button id="button" class="icon-button  standard " aria-label="Terminal">
        <!--?lit$160999733$--><md-focus-ring part="focus-ring" for="button" aria-hidden="true"><template shadowrootmode="open"><!----></template></md-focus-ring>
        <!--?lit$160999733$--><md-ripple aria-hidden="true"><template shadowrootmode="open"><!----><div class="surface   "></div></template></md-ripple>
        <!--?lit$160999733$--><span class="icon"><slot></slot></span>
        <!--?lit$160999733$-->
        <!--?lit$160999733$--><span class="touch"></span>
  </button></template>
      <md-icon aria-hidden="true"><template shadowrootmode="open"><!----><slot></slot></template><!--?lit$160999733$-->terminal</md-icon>
    </md-icon-button> <!--?lit$160999733$-->
      </div></div>
      </div></colab-left-pane>
        <div class="layout vertical grow">
          <colab-notebook-toolbar id="top-toolbar" class="horizontal layout center noshrink"><!----> <!--?lit$160999733$--> <colab-toolbar-button icon="search" id="toolbar-show-command-palette" command="show-command-palette"><template shadowrootmode="open"><!----><md-text-button id="button" data-aria-disabled="false" value="" has-icon=""><template shadowrootmode="open" shadowrootdelegatesfocus><!---->
      <!--?lit$160999733$-->
      <div class="background"></div>
      <md-focus-ring part="focus-ring" for="button" aria-hidden="true"><template shadowrootmode="open"><!----></template></md-focus-ring>
      <md-ripple part="ripple" for="button" aria-hidden="true"><template shadowrootmode="open"><!----><div class="surface"></div></template></md-ripple>
      <!--?lit$160999733$--><button id="button" class="button">
      <!--?lit$160999733$-->
      <span class="touch"></span>
      <!--?lit$160999733$--><slot name="icon"></slot>
      <span class="label"><slot></slot></span>
      <!--?lit$160999733$-->
    
    </button>
    </template>
        <!--?lit$160999733$--><md-icon slot="icon" aria-hidden="true"><template shadowrootmode="open"><!----><slot></slot></template><!--?lit$160999733$-->search</md-icon>
        <span class="button-content"><slot></slot></span>
        <!--?lit$160999733$--><span class="screenreader-only"><!--?lit$160999733$-->Show command palette <!--?lit$160999733$-->Ctrl+Shift+P</span>
      </md-text-button>
      <!--?lit$160999733$--> <colab-tooltip-trigger for="button" aria-hidden="true" id="tooltip" message="Show command palette" shortcut="Ctrl+Shift+P"><template shadowrootmode="open"><!----><!--?lit$160999733$--><!----><div><!--?lit$160999733$-->Show command palette (Ctrl+Shift+P)</div><!----><!--?--></template>
          </colab-tooltip-trigger><!--?--></template>
            <!--?lit$160999733$-->Commands
          </colab-toolbar-button>
          <span class="colab-separator"></span>
    <!--?lit$160999733$-->
          <colab-toolbar-button command="insert-cell-below" icon="add" id="toolbar-add-code"><template shadowrootmode="open"><!----><md-text-button id="button" data-aria-disabled="false" value="" has-icon=""><template shadowrootmode="open" shadowrootdelegatesfocus><!---->
      <!--?lit$160999733$-->
      <div class="background"></div>
      <md-focus-ring part="focus-ring" for="button" aria-hidden="true"><template shadowrootmode="open"><!----></template></md-focus-ring>
      <md-ripple part="ripple" for="button" aria-hidden="true"><template shadowrootmode="open"><!----><div class="surface"></div></template></md-ripple>
      <!--?lit$160999733$--><button id="button" class="button">
      <!--?lit$160999733$-->
      <span class="touch"></span>
      <!--?lit$160999733$--><slot name="icon"></slot>
      <span class="label"><slot></slot></span>
      <!--?lit$160999733$-->
    
    </button>
    </template>
        <!--?lit$160999733$--><md-icon slot="icon" aria-hidden="true"><template shadowrootmode="open"><!----><slot></slot></template><!--?lit$160999733$-->add</md-icon>
        <span class="button-content"><slot></slot></span>
        <!--?lit$160999733$--><span class="screenreader-only"><!--?lit$160999733$-->Insert code cell below <!--?lit$160999733$-->Ctrl+M B</span>
      </md-text-button>
      <!--?lit$160999733$--> <colab-tooltip-trigger for="button" aria-hidden="true" id="tooltip" message="Insert code cell below" shortcut="Ctrl+M B"><template shadowrootmode="open"><!----><!--?lit$160999733$--><!----><div><!--?lit$160999733$-->Insert code cell below (Ctrl+M B)</div><!----><!--?--></template>
          </colab-tooltip-trigger><!--?--></template>
            <!--?lit$160999733$-->Code
          </colab-toolbar-button>
          <!--?lit$160999733$-->
          <colab-toolbar-button command="add-text" icon="add" id="toolbar-add-text"><template shadowrootmode="open"><!----><md-text-button id="button" data-aria-disabled="false" value="" has-icon=""><template shadowrootmode="open" shadowrootdelegatesfocus><!---->
      <!--?lit$160999733$-->
      <div class="background"></div>
      <md-focus-ring part="focus-ring" for="button" aria-hidden="true"><template shadowrootmode="open"><!----></template></md-focus-ring>
      <md-ripple part="ripple" for="button" aria-hidden="true"><template shadowrootmode="open"><!----><div class="surface"></div></template></md-ripple>
      <!--?lit$160999733$--><button id="button" class="button">
      <!--?lit$160999733$-->
      <span class="touch"></span>
      <!--?lit$160999733$--><slot name="icon"></slot>
      <span class="label"><slot></slot></span>
      <!--?lit$160999733$-->
    
    </button>
    </template>
        <!--?lit$160999733$--><md-icon slot="icon" aria-hidden="true"><template shadowrootmode="open"><!----><slot></slot></template><!--?lit$160999733$-->add</md-icon>
        <span class="button-content"><slot></slot></span>
        <!--?lit$160999733$--><span class="screenreader-only"><!--?lit$160999733$-->Add text cell <!--?lit$160999733$--></span>
      </md-text-button>
      <!--?lit$160999733$--> <colab-tooltip-trigger for="button" aria-hidden="true" id="tooltip" message="Add text cell" shortcut=""><template shadowrootmode="open"><!----><!--?lit$160999733$--><!----><div><!--?lit$160999733$-->Add text cell</div><!----><!--?--></template>
          </colab-tooltip-trigger><!--?--></template>
            <!--?lit$160999733$-->Text
          </colab-toolbar-button>
        
    <!--?lit$160999733$-->
    <!--?lit$160999733$-->
    <!--?lit$160999733$-->
    <!--?lit$160999733$--> <span class="collapsed-options">
          <colab-last-saved-indicator aria-live="polite" aria-atomic="true"><template shadowrootmode="open"><!----><md-icon-button id="button" data-aria-label="All changes saved" value=""><template shadowrootmode="open" shadowrootdelegatesfocus><!----><button id="button" class="icon-button  standard " aria-label="All changes saved">
        <!--?lit$160999733$--><md-focus-ring part="focus-ring" for="button" aria-hidden="true"><template shadowrootmode="open"><!----></template></md-focus-ring>
        <!--?lit$160999733$--><md-ripple aria-hidden="true"><template shadowrootmode="open"><!----><div class="surface   "></div></template></md-ripple>
        <!--?lit$160999733$--><span class="icon"><slot></slot></span>
        <!--?lit$160999733$-->
        <!--?lit$160999733$--><span class="touch"></span>
  </button></template><md-icon aria-hidden="true"><template shadowrootmode="open"><!----><slot></slot></template><!--?lit$160999733$-->cloud_done</md-icon></md-icon-button><colab-tooltip-trigger aria-hidden="true" for="button" id="button-tooltip" message="All changes saved"><template shadowrootmode="open"><!----><!--?lit$160999733$--><!----><div><!--?lit$160999733$-->All changes saved</div><!----><!--?--></template>
        </colab-tooltip-trigger></template></colab-last-saved-indicator>
        </span>

    <span class="flex"></span>
    <!--?lit$160999733$--><colab-connect-warning-button><template shadowrootmode="open"><!----><!--?lit$160999733$--><!--?--><!--?--></template></colab-connect-warning-button>
    <!--?lit$160999733$--><!--?lit$160999733$--><colab-connect-button><template shadowrootmode="open"><!----> <!--?lit$160999733$--> <!--?lit$160999733$--><md-icon-button id="connect-icon" class="icon-okay" data-aria-label="Focus the last run cell" value=""><template shadowrootmode="open" shadowrootdelegatesfocus><!----><button id="button" class="icon-button  standard " aria-label="Focus the last run cell">
        <!--?lit$160999733$--><md-focus-ring part="focus-ring" for="button" aria-hidden="true"><template shadowrootmode="open"><!----></template></md-focus-ring>
        <!--?lit$160999733$--><md-ripple aria-hidden="true"><template shadowrootmode="open"><!----><div class="surface"></div></template></md-ripple>
        <!--?lit$160999733$--><span class="icon"><slot></slot></span>
        <!--?lit$160999733$-->
        <!--?lit$160999733$--><span class="touch"></span>
  </button></template>
            <md-icon aria-hidden="true"><template shadowrootmode="open"><!----><slot></slot></template><!--?lit$160999733$-->done</md-icon>
          </md-icon-button>
          <colab-tooltip-trigger for="connect-icon" id="connect-icon-tooltip" aria-hidden="true" message="Focus the last run cell"><template shadowrootmode="open"><!----><!--?lit$160999733$--><!----><div><!--?lit$160999733$-->Focus the last run cell</div><!----><!--?--></template>
          </colab-tooltip-trigger>
      <colab-toolbar-button id="connect" tooltipid="colab-connect-tooltip" tooltiptext="Connected to
Python 3 Google Compute Engine backend
RAM: 1.79 GB/12.67 GB
Disk: 35.02 GB/107.72 GB"><template shadowrootmode="open"><!----><md-text-button id="button" value="" data-aria-disabled="false"><template shadowrootmode="open" shadowrootdelegatesfocus><!---->
      <!--?lit$160999733$-->
      <div class="background"></div>
      <md-focus-ring part="focus-ring" for="button" aria-hidden="true"><template shadowrootmode="open"><!----></template></md-focus-ring>
      <md-ripple part="ripple" for="button" aria-hidden="true"><template shadowrootmode="open"><!----><div class="surface"></div></template></md-ripple>
      <!--?lit$160999733$--><button id="button" class="button">
      <!--?lit$160999733$-->
      <span class="touch"></span>
      <!--?lit$160999733$--><slot name="icon"></slot>
      <span class="label"><slot></slot></span>
      <!--?lit$160999733$-->
    
    </button>
    </template>
        <!--?lit$160999733$-->
        <span class="button-content"><slot></slot></span>
        <!--?lit$160999733$--><span class="screenreader-only"><!--?lit$160999733$-->Connected to
Python 3 Google Compute Engine backend
RAM: 1.79 GB/12.67 GB
Disk: 35.02 GB/107.72 GB <!--?lit$160999733$--></span>
      </md-text-button>
      <!--?lit$160999733$--> <colab-tooltip-trigger for="button" aria-hidden="true" id="colab-connect-tooltip" message="Connected to
Python 3 Google Compute Engine backend
RAM: 1.79 GB/12.67 GB
Disk: 35.02 GB/107.72 GB" shortcut=""><template shadowrootmode="open"><!----><!--?lit$160999733$--><!----><div><!--?lit$160999733$-->Connected to</div><!----><!----><div><!--?lit$160999733$-->Python 3 Google Compute Engine backend</div><!----><!----><div><!--?lit$160999733$-->RAM: 1.79 GB/12.67 GB</div><!----><!----><div><!--?lit$160999733$-->Disk: 35.02 GB/107.72 GB</div><!----><!--?--></template>
          </colab-tooltip-trigger><!--?--></template>
        <!--?lit$160999733$--> <div id="connect-button-resource-display">
        <!--?lit$160999733$--><colab-usage-sparkline class="ram" label="RAM"><template shadowrootmode="open"><!---->
      <div class="label"><!--?lit$160999733$-->RAM</div>
      <!--?lit$160999733$-->
      <canvas height="14" width="20"></canvas>
    </template></colab-usage-sparkline>
        <!--?lit$160999733$--><colab-usage-sparkline class="disks" label="Disk"><template shadowrootmode="open"><!---->
      <div class="label"><!--?lit$160999733$-->Disk</div>
      <!--?lit$160999733$-->
      <canvas height="14" width="20"></canvas>
    </template></colab-usage-sparkline>
      </div>
      </colab-toolbar-button>
      <!--?lit$160999733$--> <md-icon-button id="connect-dropdown" data-aria-expanded="false" data-aria-haspopup="menu" data-aria-label="Additional connection options" value=""><template shadowrootmode="open" shadowrootdelegatesfocus><!----><button id="button" class="icon-button  standard " aria-label="Additional connection options" aria-haspopup="menu" aria-expanded="false">
        <!--?lit$160999733$--><md-focus-ring part="focus-ring" for="button" aria-hidden="true"><template shadowrootmode="open"><!----></template></md-focus-ring>
        <!--?lit$160999733$--><md-ripple aria-hidden="true"><template shadowrootmode="open"><!----><div class="surface"></div></template></md-ripple>
        <!--?lit$160999733$--><span class="icon"><slot></slot></span>
        <!--?lit$160999733$-->
        <!--?lit$160999733$--><span class="touch"></span>
  </button></template>
        <md-icon aria-hidden="true"><template shadowrootmode="open"><!----><slot></slot></template>arrow_drop_down</md-icon>
      </md-icon-button>
      <colab-tooltip-trigger for="connect-dropdown" id="connect-dropdown-tooltip" aria-hidden="true" message="Additional connection options"><template shadowrootmode="open"><!----><!--?lit$160999733$--><!----><div><!--?lit$160999733$-->Additional connection options</div><!----><!--?--></template>
      </colab-tooltip-trigger>
      <!--?lit$160999733$--><!--?--></template></colab-connect-button><!--?-->
    <!--?lit$160999733$-->
    <span class="collapsed-options">
      <!--?lit$160999733$--><span class="colab-separator"></span>
      <!--?lit$160999733$--> <md-icon-button id="share-button-toolbar" command="share" data-aria-label="Share notebook" aria-describedby="share-button-toolbar-tooltip" value=""><template shadowrootmode="open" shadowrootdelegatesfocus><!----><button id="button" class="icon-button  standard " aria-label="Share notebook">
        <!--?lit$160999733$--><md-focus-ring part="focus-ring" for="button" aria-hidden="true"><template shadowrootmode="open"><!----></template></md-focus-ring>
        <!--?lit$160999733$--><md-ripple aria-hidden="true"><template shadowrootmode="open"><!----><div class="surface   "></div></template></md-ripple>
        <!--?lit$160999733$--><span class="icon"><slot></slot></span>
        <!--?lit$160999733$-->
        <!--?lit$160999733$--><span class="touch"></span>
  </button></template>
            <md-icon filled="" aria-hidden="true"><template shadowrootmode="open"><!----><slot></slot></template><!--?lit$160999733$-->people</md-icon>
          </md-icon-button><colab-tooltip-trigger aria-hidden="true" for="share-button-toolbar" id="share-button-toolbar-tooltip"><template shadowrootmode="open"><!----><!--?lit$160999733$--><!----><div><!--?lit$160999733$-->Share notebook</div><!----><!--?--></template>
        </colab-tooltip-trigger><md-icon-button id="settings-button-toolbar" command="preferences" data-aria-label="Open settings" aria-describedby="settings-button-toolbar-tooltip" value=""><template shadowrootmode="open" shadowrootdelegatesfocus><!----><button id="button" class="icon-button  standard " aria-label="Open settings">
        <!--?lit$160999733$--><md-focus-ring part="focus-ring" for="button" aria-hidden="true"><template shadowrootmode="open"><!----></template></md-focus-ring>
        <!--?lit$160999733$--><md-ripple aria-hidden="true"><template shadowrootmode="open"><!----><div class="surface   "></div></template></md-ripple>
        <!--?lit$160999733$--><span class="icon"><slot></slot></span>
        <!--?lit$160999733$-->
        <!--?lit$160999733$--><span class="touch"></span>
  </button></template>
        <md-icon filled="" aria-hidden="true"><template shadowrootmode="open"><!----><slot></slot></template>settings</md-icon>
      </md-icon-button><colab-tooltip-trigger aria-hidden="true" for="settings-button-toolbar" id="settings-button-toolbar-tooltip"><template shadowrootmode="open"><!----><!--?lit$160999733$--><!----><div><!--?lit$160999733$-->Open settings</div><!----><!--?--></template>
        </colab-tooltip-trigger>
      <!--?lit$160999733$--> <md-icon-button class="show-chat-button" id="show-chat-button-toolbar" command="show-chat" data-aria-label="Show Gemini" aria-describedby="show-chat-button-toolbar-tooltip" value=""><template shadowrootmode="open" shadowrootdelegatesfocus><!----><button id="button" class="icon-button  standard " aria-label="Show Gemini">
        <!--?lit$160999733$--><md-focus-ring part="focus-ring" for="button" aria-hidden="true"><template shadowrootmode="open"><!----></template></md-focus-ring>
        <!--?lit$160999733$--><md-ripple aria-hidden="true"><template shadowrootmode="open"><!----><div class="surface   "></div></template></md-ripple>
        <!--?lit$160999733$--><span class="icon"><slot></slot></span>
        <!--?lit$160999733$-->
        <!--?lit$160999733$--><span class="touch"></span>
  </button></template>
            <md-icon aria-hidden="true"><template shadowrootmode="open"><!----><slot></slot></template>spark</md-icon>
          </md-icon-button><colab-tooltip-trigger aria-hidden="true" for="show-chat-button-toolbar" id="show-chat-button-toolbar-tooltip"><template shadowrootmode="open"><!----><!--?lit$160999733$--><!----><div><!--?lit$160999733$-->Show Gemini</div><!----><!--?--></template>
        </colab-tooltip-trigger>
    </span>
    <span class="colab-separator"></span>
    <!--?lit$160999733$--><md-icon-button toggle="" command="toggle-header" id="toggle-header-button" data-aria-label="Toggle header visibility" aria-describedby="toggle-header-button-tooltip" value=""><template shadowrootmode="open" shadowrootdelegatesfocus><!----><button id="button" class="icon-button  standard " aria-label="Toggle header visibility" aria-pressed="false">
        <!--?lit$160999733$--><md-focus-ring part="focus-ring" for="button" aria-hidden="true"><template shadowrootmode="open"><!----></template></md-focus-ring>
        <!--?lit$160999733$--><md-ripple aria-hidden="true"><template shadowrootmode="open"><!----><div class="surface"></div></template></md-ripple>
        <!--?lit$160999733$--><span class="icon"><slot></slot></span>
        <!--?lit$160999733$-->
        <!--?lit$160999733$--><span class="touch"></span>
  </button></template>
    <md-icon aria-hidden="true"><template shadowrootmode="open"><!----><slot></slot></template>expand_less</md-icon>
    <md-icon slot="selected" aria-hidden="true"><template shadowrootmode="open"><!----><slot></slot></template>expand_more</md-icon>
  </md-icon-button><colab-tooltip-trigger aria-hidden="true" for="toggle-header-button" id="toggle-header-button-tooltip"><template shadowrootmode="open"><!----><!--?lit$160999733$--><!----><div><!--?lit$160999733$-->Toggle header visibility</div><!----><!--?--></template>
        </colab-tooltip-trigger><!--?--></colab-notebook-toolbar><colab-tab-layout-container class="layout horizontal grow flexible-tabs"><!----> <div class="layout horizontal tab-pane-parent">
      <!--?lit$160999733$--> <div class="layout vertical tab-pane-parent">
      <!--?lit$160999733$--><colab-tab-pane class="layout vertical grow no-header focused" align="horizontal"><!----> <div class="layout vertical grow">
    <div class="tab-pane-header layout horizontal noshrink">
      <md-tabs><template shadowrootmode="open"><!---->
      <div class="tabs">
        <slot></slot>
      </div>
      <md-divider part="divider"><template shadowrootmode="open"><!----></template></md-divider>
    </template><md-primary-tab noink="" title="" aria-labelledby="tab-title-tLCS7MiGi95I" class="selected-tab" md-tab="" active="" tabindex="0"><template shadowrootmode="open"><!----><div class="button" role="presentation">
      <md-focus-ring part="focus-ring" inward="" aria-hidden="true"><template shadowrootmode="open"><!----></template></md-focus-ring>
      <md-elevation part="elevation" aria-hidden="true"><template shadowrootmode="open"><!----><span class="shadow"></span></template></md-elevation>
      <md-ripple aria-hidden="true"><template shadowrootmode="open"><!----><div class="surface   "></div></template></md-ripple>
      <div role="presentation" class="content  has-label stacked ">
        <slot name="icon"></slot>
        <slot></slot>
        <!--?lit$160999733$--><div class="indicator"></div>
      </div>
      <!--?lit$160999733$-->
    </div></template>
          <div class="colab-tab-header">
            <span class="colab-tab-title" id="tab-title-tLCS7MiGi95I"><!--?lit$160999733$--><!--?lit$160999733$-->Notebook<!--?--></span>
            <!--?lit$160999733$-->
          </div>
        </md-primary-tab></md-tabs>
      <div class="layout grow"></div>
      <!--?lit$160999733$--> <md-icon-button data-aria-expanded="false" data-aria-haspopup="menu" title="More tab actions" data-aria-label="More tab actions" value=""><template shadowrootmode="open" shadowrootdelegatesfocus><!----><button id="button" class="icon-button  standard " aria-label="More tab actions" aria-haspopup="menu" aria-expanded="false">
        <!--?lit$160999733$--><md-focus-ring part="focus-ring" for="button" aria-hidden="true"><template shadowrootmode="open"><!----></template></md-focus-ring>
        <!--?lit$160999733$--><md-ripple aria-hidden="true"><template shadowrootmode="open"><!----><div class="surface   "></div></template></md-ripple>
        <!--?lit$160999733$--><span class="icon"><slot></slot></span>
        <!--?lit$160999733$-->
        <!--?lit$160999733$--><span class="touch"></span>
  </button></template>
    <md-icon aria-hidden="true"><template shadowrootmode="open"><!----><slot></slot></template>more_horiz</md-icon>
  </md-icon-button>
    </div>
    <div class="layout vertical grow tab-pane-container"> <colab-tab class="layout vertical grow notebook-tab-content selected-tab"><!----> <div class="overflow-flexbox-workaround">
      <colab-shaded-scroller ignore-dom-changes="" role="main" id="notebook-main" class="notebook-container" aria-label="Notebook" tabindex="-1">
        <div class="notebook-scrolling-horizontal-container">
          <div class="notebook-scrolling-horizontal">
            <div class="notebook-content-background">
              <!--?lit$160999733$-->
              <div class="notebook-content ">
                <!--?lit$160999733$--><div class="add-cell">
      <div class="add-cell-buttons">
        <md-outlined-button class="add-code add-button" data-aria-label="Add code cell
Ctrl+M B" title="Add code cell
Ctrl+M B" value="" has-icon=""><template shadowrootmode="open" shadowrootdelegatesfocus><!---->
      <!--?lit$160999733$--><div class="outline"></div>
      <div class="background"></div>
      <md-focus-ring part="focus-ring" for="button" aria-hidden="true"><template shadowrootmode="open"><!----></template></md-focus-ring>
      <md-ripple part="ripple" for="button" aria-hidden="true"><template shadowrootmode="open"><!----><div class="surface   "></div></template></md-ripple>
      <!--?lit$160999733$--><button id="button" class="button" aria-label="Add code cell
Ctrl+M B">
      <!--?lit$160999733$-->
      <span class="touch"></span>
      <!--?lit$160999733$--><slot name="icon"></slot>
      <span class="label"><slot></slot></span>
      <!--?lit$160999733$-->
    
    </button>
    </template>
          <md-icon slot="icon" aria-hidden="true"><template shadowrootmode="open"><!----><slot></slot></template>add</md-icon>
          <!--?lit$160999733$-->Code
        </md-outlined-button>
        <md-outlined-button class="add-text add-button" data-aria-label="Add text cell" title="Add text cell" value="" has-icon=""><template shadowrootmode="open" shadowrootdelegatesfocus><!---->
      <!--?lit$160999733$--><div class="outline"></div>
      <div class="background"></div>
      <md-focus-ring part="focus-ring" for="button" aria-hidden="true"><template shadowrootmode="open"><!----></template></md-focus-ring>
      <md-ripple part="ripple" for="button" aria-hidden="true"><template shadowrootmode="open"><!----><div class="surface   "></div></template></md-ripple>
      <!--?lit$160999733$--><button id="button" class="button" aria-label="Add text cell">
      <!--?lit$160999733$-->
      <span class="touch"></span>
      <!--?lit$160999733$--><slot name="icon"></slot>
      <span class="label"><slot></slot></span>
      <!--?lit$160999733$-->
    
    </button>
    </template>
          <md-icon slot="icon" aria-hidden="true"><template shadowrootmode="open"><!----><slot></slot></template>add</md-icon>
          <!--?lit$160999733$-->Text
        </md-outlined-button>
        <!--?lit$160999733$-->
      </div><hr>
    </div>
                <div class="notebook-cell-list"><div class="cell text" id="cell-N_Dzy5ndy7Jd" role="region" aria-label="Cell 0: Text cell: " style="" tabindex="-1"><div class="agent-focus-label">
      <md-icon aria-hidden="true"><template shadowrootmode="open"><!----><slot></slot></template>spark</md-icon>
      <!--?lit$160999733$-->Gemini
    </div><div class="cell-tag-editor sticky"></div><div class="cell-toolbar sticky"></div><div class="main-content" elevation="0"><div class="cell-contents"><div class="cell-mask"></div><span class="imported-info-area"></span><!----> <div class="toolbar-root"></div>
      <div class="editor-container horizontal">
        <div class="editor-root"></div>
        <div class="text-top-div">
          <div class="markdown"><span><p>Import Library</p>
</span></div>
        </div>
      </div>

      <div class="section-header" style="display: none;">
        <colab-run-button><template shadowrootmode="open"><!----> <div class="cell-execution">
      <button id="run-button" aria-label="Run cell" aria-disabled="false">
        <!--?lit$160999733$--><span class="execution-count"><!--?lit$160999733$-->[ ]</span>
        <span aria-hidden="true" class="cell-execution-indicator"><!--?lit$160999733$-->
<svg xmlns="http://www.w3.org/2000/svg" viewBox="0 0 24 24">
  <!--?lit$160999733$-->
  <mask id="playSymbolMask">
    <rect width="100%" height="100%" fill="white"></rect>
    <polygon points="10,8 17,12 10,16" fill="black"></polygon>
  </mask>
  <circle cx="12" cy="12" r="7.8" mask="url(#playSymbolMask)" id="filledCircle"></circle>
</svg></span>
      </button>
      <!--?lit$160999733$-->
      <!--?lit$160999733$--><!--?-->
    </div></template></colab-run-button>
        <div class="section-header-container" title="click to expand">
          <md-icon aria-hidden="true"><template shadowrootmode="open"><!----><slot></slot></template>subdirectory_arrow_right</md-icon>
          <span>0 cells hidden</span>
        </div>
      </div></div></div><div class="add-cell">
      <div class="add-cell-buttons">
        <md-outlined-button class="add-code add-button" data-aria-label="Add code cell
Ctrl+M B" title="Add code cell
Ctrl+M B" value="" has-icon=""><template shadowrootmode="open" shadowrootdelegatesfocus><!---->
      <!--?lit$160999733$--><div class="outline"></div>
      <div class="background"></div>
      <md-focus-ring part="focus-ring" for="button" aria-hidden="true"><template shadowrootmode="open"><!----></template></md-focus-ring>
      <md-ripple part="ripple" for="button" aria-hidden="true"><template shadowrootmode="open"><!----><div class="surface   "></div></template></md-ripple>
      <!--?lit$160999733$--><button id="button" class="button" aria-label="Add code cell
Ctrl+M B">
      <!--?lit$160999733$-->
      <span class="touch"></span>
      <!--?lit$160999733$--><slot name="icon"></slot>
      <span class="label"><slot></slot></span>
      <!--?lit$160999733$-->
    
    </button>
    </template>
          <md-icon slot="icon" aria-hidden="true"><template shadowrootmode="open"><!----><slot></slot></template>add</md-icon>
          <!--?lit$160999733$-->Code
        </md-outlined-button>
        <md-outlined-button class="add-text add-button" data-aria-label="Add text cell" title="Add text cell" value="" has-icon=""><template shadowrootmode="open" shadowrootdelegatesfocus><!---->
      <!--?lit$160999733$--><div class="outline"></div>
      <div class="background"></div>
      <md-focus-ring part="focus-ring" for="button" aria-hidden="true"><template shadowrootmode="open"><!----></template></md-focus-ring>
      <md-ripple part="ripple" for="button" aria-hidden="true"><template shadowrootmode="open"><!----><div class="surface   "></div></template></md-ripple>
      <!--?lit$160999733$--><button id="button" class="button" aria-label="Add text cell">
      <!--?lit$160999733$-->
      <span class="touch"></span>
      <!--?lit$160999733$--><slot name="icon"></slot>
      <span class="label"><slot></slot></span>
      <!--?lit$160999733$-->
    
    </button>
    </template>
          <md-icon slot="icon" aria-hidden="true"><template shadowrootmode="open"><!----><slot></slot></template>add</md-icon>
          <!--?lit$160999733$-->Text
        </md-outlined-button>
        <!--?lit$160999733$-->
      </div><hr>
    </div></div><div class="cell code icon-scrolling" id="cell-fPKJv2koy9Ng" role="region" aria-label="Cell 1: Code cell: " style="" tabindex="-1"><div class="agent-focus-label">
      <md-icon aria-hidden="true"><template shadowrootmode="open"><!----><slot></slot></template>spark</md-icon>
      <!--?lit$160999733$-->Gemini
    </div><div class="cell-tag-editor sticky"></div><div class="cell-toolbar sticky"></div><div class="main-content" elevation="0"><div class="cell-contents"><div class="cell-mask"></div><span class="imported-info-area"></span><div class="codecell-input-output">
      <div class="inputarea horizontal layout code">
        <div class="cell-gutter">
          <!-- Bounding range for vertical scrolling of icons -->
          <div class="cell-execution-container">
            <colab-run-button><template shadowrootmode="open"><!----> <div class="cell-execution hovered">
      <button id="run-button" aria-describedby="run-button-tooltip" aria-label="Run cell" aria-disabled="false">
        <!--?lit$160999733$--><span class="execution-count"><!--?lit$160999733$-->[2]</span>
        <span aria-hidden="true" class="cell-execution-indicator"><!--?lit$160999733$-->
<svg xmlns="http://www.w3.org/2000/svg" viewBox="0 0 24 24">
  <!--?lit$160999733$-->
  <mask id="playSymbolMask">
    <rect width="100%" height="100%" fill="white"></rect>
    <polygon points="10,8 17,12 10,16" fill="black"></polygon>
  </mask>
  <circle cx="12" cy="12" r="7.8" mask="url(#playSymbolMask)" id="filledCircle"></circle>
</svg></span>
      </button>
      <!--?lit$160999733$--><colab-tooltip-trigger for="run-button" id="run-button-tooltip" aria-hidden="true" message="Run cell (Ctrl+Enter)
cell executed since last change

executed by Sabita Alya P
10:16 PM (52 minutes ago)
executed in 3.901s"><template shadowrootmode="open"><!----><!--?lit$160999733$--><!----><div><!--?lit$160999733$-->Run cell (Ctrl+Enter)</div><!----><!----><div><!--?lit$160999733$-->cell executed since last change</div><!----><!----><br><!----><!----><div><!--?lit$160999733$-->executed by Sabita Alya P</div><!----><!----><div><!--?lit$160999733$-->10:16 PM (52 minutes ago)</div><!----><!----><div><!--?lit$160999733$-->executed in 3.901s</div><!----><!--?--></template>
    </colab-tooltip-trigger>
      <!--?lit$160999733$--><div id="status" class="last-run">
      <md-icon aria-hidden="true"><template shadowrootmode="open"><!----><slot></slot></template><!--?lit$160999733$--><svg viewBox="0 0 24 24"><!--?lit$160999733$--><path d="M9 16.17L4.83 12l-1.42 1.41L9 19 21 7l-1.41-1.41z"></path></svg></md-icon>
      <div><!--?lit$160999733$-->3s</div>
    </div>
    </div></template></colab-run-button>
          </div>
        </div>
      <div class="editor flex lazy-editor" style=""><div class="editor flex monaco" data-keybinding-context="90" data-mode-id="notebook-python" style="height: 181px; --vscode-editorCodeLens-lineHeight: 16px; --vscode-editorCodeLens-fontSize: 12px; --vscode-editorCodeLens-fontFeatureSettings: &quot;liga&quot; off, &quot;calt&quot; off;"><div class="monaco-editor no-user-select  showUnused showDeprecated vs" role="code" data-uri="inmemory://model/4" style="width: 1154px; height: 181px;"><div data-mprt="3" class="overflow-guard" style="width: 1154px; height: 181px; overflow: clip;"><div class="margin" role="presentation" aria-hidden="true" style="position: absolute; contain: strict; will-change: unset; top: 0px; height: 181px; width: 6px;"><div class="glyph-margin" style="left: 0px; width: 0px; height: 181px;"></div><div class="margin-view-zones" role="presentation" aria-hidden="true" style="position: absolute;"></div><div class="margin-view-overlays" role="presentation" aria-hidden="true" style="position: absolute; font-family: monospace, Consolas, &quot;Courier New&quot;, monospace; font-weight: normal; font-size: 14px; font-feature-settings: &quot;liga&quot; 0, &quot;calt&quot; 0; font-variation-settings: normal; line-height: 19px; letter-spacing: 0px; width: 6px; height: 181px;"><div style="position:absolute;top:0px;width:100%;height:19px;"><div class="current-line current-line-margin-both" style="width:6px; height:19px;"></div></div><div style="position:absolute;top:19px;width:100%;height:19px;"></div><div style="position:absolute;top:38px;width:100%;height:19px;"></div><div style="position:absolute;top:57px;width:100%;height:19px;"></div><div style="position:absolute;top:76px;width:100%;height:19px;"></div><div style="position:absolute;top:95px;width:100%;height:19px;"></div><div style="position:absolute;top:114px;width:100%;height:19px;"></div><div style="position:absolute;top:133px;width:100%;height:19px;"></div><div style="position:absolute;top:152px;width:100%;height:19px;"></div></div><div class="glyph-margin-widgets" style="position: absolute; top: 0px;"></div></div><div class="monaco-scrollable-element editor-scrollable vs" role="presentation" data-mprt="5" style="position: absolute; overflow: hidden; left: 6px; width: 1148px; height: 181px;"><div class="lines-content monaco-editor-background" style="position: absolute; overflow: hidden; width: 1e+06px; height: 181px; contain: strict; will-change: unset; top: 0px; left: 0px;"><div class="view-overlays" role="presentation" aria-hidden="true" style="position: absolute; font-family: monospace, Consolas, &quot;Courier New&quot;, monospace; font-weight: normal; font-size: 14px; font-feature-settings: &quot;liga&quot; 0, &quot;calt&quot; 0; font-variation-settings: normal; line-height: 19px; letter-spacing: 0px; height: 0px; width: 1148px;"><div style="position:absolute;top:0px;width:100%;height:19px;"><div class="current-line" style="width:1148px; height:19px;"></div><div class="cdr wordHighlightText" style="left:0px;width:46px;height:19px;"></div></div><div style="position:absolute;top:19px;width:100%;height:19px;"><div class="cdr wordHighlightText" style="left:0px;width:46px;height:19px;"></div></div><div style="position:absolute;top:38px;width:100%;height:19px;"><div class="cdr wordHighlightText" style="left:0px;width:46px;height:19px;"></div></div><div style="position:absolute;top:57px;width:100%;height:19px;"><div class="cdr wordHighlightText" style="left:0px;width:46px;height:19px;"></div></div><div style="position:absolute;top:76px;width:100%;height:19px;"><div class="cdr wordHighlightText" style="left:0px;width:46px;height:19px;"></div></div><div style="position:absolute;top:95px;width:100%;height:19px;"><div class="cdr wordHighlightText" style="left:85px;width:46px;height:19px;"></div></div><div style="position:absolute;top:114px;width:100%;height:19px;"><div class="cdr wordHighlightText" style="left:200px;width:46px;height:19px;"></div></div><div style="position:absolute;top:133px;width:100%;height:19px;"><div class="cdr hoverHighlight" style="left:216px;width:139px;height:19px;"></div><div class="cdr wordHighlightText" style="left:162px;width:46px;height:19px;"></div></div><div style="position:absolute;top:152px;width:100%;height:19px;"><div class="cdr wordHighlightText" style="left:208px;width:46px;height:19px;"></div></div></div><div role="presentation" aria-hidden="true" class="view-rulers"><div class="view-ruler" style="width: 2px; height: 181px; left: 615.938px;"></div></div><div class="view-zones" role="presentation" aria-hidden="true" style="position: absolute;"></div><div class="view-lines monaco-mouse-cursor-text" role="presentation" aria-hidden="true" data-mprt="7" style="position: absolute; font-family: monospace, Consolas, &quot;Courier New&quot;, monospace; font-weight: normal; font-size: 14px; font-feature-settings: &quot;liga&quot; 0, &quot;calt&quot; 0; font-variation-settings: normal; line-height: 19px; letter-spacing: 0px; width: 1148px; height: 181px;"><div style="top:0px;height:19px;" class="view-line"><span><span class="mtk19">import</span><span class="mtk1">&nbsp;pandas&nbsp;</span><span class="mtk19">as</span><span class="mtk1">&nbsp;pd</span></span></div><div style="top:19px;height:19px;" class="view-line"><span><span class="mtk19">import</span><span class="mtk1">&nbsp;numpy&nbsp;</span><span class="mtk19">as</span><span class="mtk1">&nbsp;np</span></span></div><div style="top:38px;height:19px;" class="view-line"><span><span class="mtk19">import</span><span class="mtk1">&nbsp;statsmodels.api&nbsp;</span><span class="mtk19">as</span><span class="mtk1">&nbsp;sm</span></span></div><div style="top:57px;height:19px;" class="view-line"><span><span class="mtk19">import</span><span class="mtk1">&nbsp;matplotlib.pyplot&nbsp;</span><span class="mtk19">as</span><span class="mtk1">&nbsp;plt</span></span></div><div style="top:76px;height:19px;" class="view-line"><span><span class="mtk19">import</span><span class="mtk1">&nbsp;seaborn&nbsp;</span><span class="mtk19">as</span><span class="mtk1">&nbsp;sns</span></span></div><div style="top:95px;height:19px;" class="view-line"><span><span class="mtk19">from</span><span class="mtk1">&nbsp;scipy&nbsp;</span><span class="mtk19">import</span><span class="mtk1">&nbsp;stats</span></span></div><div style="top:114px;height:19px;" class="view-line"><span><span class="mtk19">from</span><span class="mtk1">&nbsp;sklearn.linear_model&nbsp;</span><span class="mtk19">import</span><span class="mtk1">&nbsp;LinearRegression</span></span></div><div style="top:133px;height:19px;" class="view-line"><span><span class="mtk19">from</span><span class="mtk1">&nbsp;sklearn.metrics&nbsp;</span><span class="mtk19">import</span><span class="mtk1">&nbsp;mean_squared_error,&nbsp;mean_absolute_error,&nbsp;r2_score</span></span></div><div style="top:152px;height:19px;" class="view-line"><span><span class="mtk19">from</span><span class="mtk1">&nbsp;sklearn.preprocessing&nbsp;</span><span class="mtk19">import</span><span class="mtk1">&nbsp;PolynomialFeatures</span></span></div></div><div data-mprt="1" class="contentWidgets" style="position: absolute; top: 0px;"></div><div role="presentation" aria-hidden="true" class="cursors-layer cursor-line-style cursor-solid"><div class="cursor monaco-mouse-cursor-text " style="height: 19px; top: 0px; left: 0px; font-family: monospace, Consolas, &quot;Courier New&quot;, monospace; font-weight: normal; font-size: 14px; font-feature-settings: &quot;liga&quot; 0, &quot;calt&quot; 0; font-variation-settings: normal; line-height: 19px; letter-spacing: 0px; display: block; visibility: hidden; padding-left: 0px; width: 2px;"></div></div></div><div role="presentation" aria-hidden="true" class="invisible scrollbar horizontal" style="position: absolute; width: 1134px; height: 10px; left: 0px; bottom: 0px;"><div class="slider" style="position: absolute; top: 0px; left: 0px; height: 10px; transform: translate3d(0px, 0px, 0px); contain: strict; will-change: unset; width: 1134px;"></div></div><canvas class="decorationsOverviewRuler" aria-hidden="true" width="21" height="271" style="position: absolute; transform: translate3d(0px, 0px, 0px); contain: strict; top: 0px; right: 0px; width: 14px; height: 181px; will-change: unset; display: block;"></canvas><div role="presentation" aria-hidden="true" class="invisible scrollbar vertical" style="position: absolute; width: 14px; height: 181px; right: 0px; top: 0px;"><div class="slider" style="position: absolute; top: 0px; left: 0px; width: 14px; transform: translate3d(0px, 0px, 0px); contain: strict; will-change: unset; height: 181px;"></div></div></div><div role="presentation" aria-hidden="true" style="width: 1154px;"></div><textarea data-mprt="6" class="inputarea monaco-mouse-cursor-text" wrap="on" autocorrect="off" autocapitalize="off" autocomplete="off" spellcheck="false" aria-label="Editor content;Press Alt+F1 for Accessibility Options." tabindex="0" role="textbox" aria-roledescription="editor" aria-multiline="true" aria-haspopup="false" aria-autocomplete="both" style="tab-size: 15.3984px; font-family: monospace, Consolas, &quot;Courier New&quot;, monospace; font-weight: normal; font-size: 14px; font-feature-settings: &quot;liga&quot; 0, &quot;calt&quot; 0; font-variation-settings: normal; line-height: 19px; letter-spacing: 0px; top: 0px; left: 6px; width: 76992px; height: 1px;"></textarea><div class="monaco-editor-background textAreaCover" style="position: absolute; top: 0px; left: 0px; width: 0px; height: 0px;"></div><div data-mprt="4" class="overlayWidgets" style="width: 1154px;"><div widgetid="editor.contrib.quickInputWidget" style="position: absolute; top: 0px; right: 50%;"></div></div><div data-mprt="8" class="minimap slider-mouseover" role="presentation" aria-hidden="true" style="position: absolute; left: 0px; width: 0px; height: 181px;"><div class="minimap-shadow-hidden" style="height: 181px;"></div><canvas width="0" height="271" style="position: absolute; left: 0px; width: 0px; height: 181px;"></canvas><canvas class="minimap-decorations-layer" width="0" height="271" style="position: absolute; left: 0px; width: 0px; height: 181px;"></canvas><div class="minimap-slider" style="position: absolute; transform: translate3d(0px, 0px, 0px); contain: strict; width: 0px; will-change: unset;"><div class="minimap-slider-horizontal" style="position: absolute; width: 0px; height: 0px;"></div></div></div><div role="presentation" aria-hidden="true" class="blockDecorations-container"></div></div><div data-mprt="2" class="overflowingContentWidgets"><div class="inlineSuggestionsHints withBorder" widgetid="InlineSuggestionHintsContentWidget82" style="position: fixed; display: none; visibility: hidden; max-width: 1280px;"><div style="display: flex;"><div class="custom-actions"><div class="monaco-action-bar animated"><ul class="actions-container" role="toolbar"><li class="action-item disabled" role="presentation" title="Previous (Alt+[)"><a class="action-label codicon codicon-inline-suggestion-hints-previous disabled" role="button" aria-label="Previous (Alt+[)" aria-checked="" aria-disabled="true" tabindex="0"></a></li><li class="action-item disabled" role="presentation" title=""><a class="action-label disabled" role="button" aria-label="" aria-disabled="true" aria-checked=""></a></li><li class="action-item disabled" role="presentation" title="Next (Alt+])"><a class="action-label codicon codicon-inline-suggestion-hints-next disabled" role="button" aria-label="Next (Alt+])" aria-checked="" aria-disabled="true"></a></li></ul></div></div><div><div class="monaco-toolbar"><div class="monaco-action-bar animated"><ul class="actions-container" role="toolbar"><li class="action-item disabled menu-entry" role="presentation" title="Accept (Tab)"><a class="action-label inlineSuggestionStatusBarItemLabel disabled" role="button" aria-label="Accept (Tab)" aria-disabled="true" aria-checked="" tabindex="0">Accept<div class="keybinding"><div class="monaco-keybinding"><span class="monaco-keybinding-key">Tab</span></div></div></a></li><li class="action-item disabled menu-entry" role="presentation" title="Accept Word (Ctrl+RightArrow)"><a class="action-label inlineSuggestionStatusBarItemLabel disabled" role="button" aria-label="Accept Word (Ctrl+RightArrow)" aria-disabled="true" aria-checked="">Accept Word<div class="keybinding"><div class="monaco-keybinding"><span class="monaco-keybinding-key">Ctrl</span><span class="monaco-keybinding-key-separator">+</span><span class="monaco-keybinding-key">RightArrow</span></div></div></a></li><li class="action-item" role="presentation"><div class="monaco-dropdown"><div class="dropdown-label"><a class="action-label codicon codicon-toolbar-more" role="button" aria-haspopup="true" aria-expanded="false" title="More Actions..." aria-label="More Actions..."></a></div></div></li></ul></div></div></div></div></div><div widgetid="editor.contrib.resizableContentHoverWidget" style="position: fixed; height: 261px; width: 726px; z-index: 50; display: block; visibility: inherit; max-width: 1280px; top: 59.9271px; left: 323.667px;" monaco-visible-content-widget="true"><div class="monaco-sash vertical" style="left: 724px;"></div><div class="monaco-sash vertical disabled" style="left: -2px;"></div><div class="monaco-sash orthogonal-edge-north horizontal" style="top: -2px;"><div class="orthogonal-drag-handle end"></div></div><div class="monaco-sash orthogonal-edge-south horizontal disabled" style="top: 259px;"><div class="orthogonal-drag-handle end"></div></div><div class="monaco-hover" role="tooltip" tabindex="0" style="width: 726px; height: 261px;"><div class="monaco-scrollable-element " role="presentation" style="position: relative; overflow: hidden;"><div class="monaco-hover-content" style="overflow: hidden; font-size: 14px; line-height: 1.35714; max-width: 761.64px; max-height: 250px; width: 726px; height: 261px; padding-bottom: 10px;"><div class="hover-row markdown-hover"><div class="hover-contents code-hover-contents"><div class="rendered-markdown"><div data-code="id#17"><span style="font-family: monospace, Consolas, &quot;Courier New&quot;, monospace; font-weight: normal; font-size: 14px; font-feature-settings: &quot;liga&quot; 0, &quot;calt&quot; 0; font-variation-settings: normal; line-height: 19px; letter-spacing: 0px;"><div class="monaco-tokenized-source"><span class="mtk6">def</span><span class="mtk1"> mean_squared_error(y_true, y_pred, *, sample_weight=</span><span class="mtk6">None</span><span class="mtk1">, multioutput=</span><span class="mtk26">'uniform_average'</span><span class="mtk1">)</span></div></span></div></div></div></div><div class="hover-row markdown-hover"><div class="hover-contents"><div class="rendered-markdown"><p><a data-href="command:pinDocumentation?%5B%22mean_squared_error%22%2C%22%60%60%60python%5Cndef%20mean_squared_error(y_true%2C%20y_pred%2C%20*%2C%20sample_weight%3DNone%2C%20multioutput%3D&#39;uniform_average&#39;)%5Cn%60%60%60%5Cn%5CnMean%20squared%20error%20regression%20loss.%5Cn%5CnRead%20more%20in%20the%20%60User%20Guide%20%3Cmean_squared_error%3E%60.%5Cn%5CnParameters%5Cn----------%5Cny%5C%5C_true%20%3A%20array-like%20of%20shape%20(n%5C%5C_samples%2C)%20or%20(n%5C%5C_samples%2C%20n%5C%5C_outputs)%20%20%5Cn%26nbsp%3B%26nbsp%3B%26nbsp%3B%26nbsp%3BGround%20truth%20(correct)%20target%20values.%5Cn%5Cny%5C%5C_pred%20%3A%20array-like%20of%20shape%20(n%5C%5C_samples%2C)%20or%20(n%5C%5C_samples%2C%20n%5C%5C_outputs)%20%20%5Cn%26nbsp%3B%26nbsp%3B%26nbsp%3B%26nbsp%3BEstimated%20target%20values.%5Cn%5Cnsample%5C%5C_weight%20%3A%20array-like%20of%20shape%20(n%5C%5C_samples%2C)%2C%20default%3DNone%20%20%5Cn%26nbsp%3B%26nbsp%3B%26nbsp%3B%26nbsp%3BSample%20weights.%5Cn%5Cnmultioutput%20%3A%20%7B&#39;raw%5C%5C_values&#39;%2C%20&#39;uniform%5C%5C_average&#39;%7D%20or%20array-like%20of%20shape%20%20%20%20%20%20%20%20%20%20%20%20%20(n%5C%5C_outputs%2C)%2C%20default%3D&#39;uniform%5C%5C_average&#39;%20%20%5Cn%26nbsp%3B%26nbsp%3B%26nbsp%3B%26nbsp%3BDefines%20aggregating%20of%20multiple%20output%20values.%5CnArray-like%20value%20defines%20weights%20used%20to%20average%20errors.%5Cn%5Cn%26nbsp%3B%26nbsp%3B%26nbsp%3B%26nbsp%3B&#39;raw%5C%5C_values&#39;%20%3A%20%20%5Cn%26nbsp%3B%26nbsp%3B%26nbsp%3B%26nbsp%3B%26nbsp%3B%26nbsp%3B%26nbsp%3B%26nbsp%3BReturns%20a%20full%20set%20of%20errors%20in%20case%20of%20multioutput%20input.%5Cn%5Cn%26nbsp%3B%26nbsp%3B%26nbsp%3B%26nbsp%3B&#39;uniform%5C%5C_average&#39;%20%3A%20%20%5Cn%26nbsp%3B%26nbsp%3B%26nbsp%3B%26nbsp%3B%26nbsp%3B%26nbsp%3B%26nbsp%3B%26nbsp%3BErrors%20of%20all%20outputs%20are%20averaged%20with%20uniform%20weight.%5Cn%5CnReturns%5Cn-------%5Cnloss%20%3A%20float%20or%20array%20of%20floats%20%20%5Cn%26nbsp%3B%26nbsp%3B%26nbsp%3B%26nbsp%3BA%20non-negative%20floating%20point%20value%20(the%20best%20value%20is%200.0)%2C%20or%20an%5Cnarray%20of%20floating%20point%20values%2C%20one%20for%20each%20individual%20target.%5Cn%5CnExamples%5Cn--------%5Cn%60%60%60%5Cn%3E%3E%3E%20from%20sklearn.metrics%20import%20mean_squared_error%5Cn%3E%3E%3E%20y_true%20%3D%20%5B3%2C%20-0.5%2C%202%2C%207%5D%5Cn%3E%3E%3E%20y_pred%20%3D%20%5B2.5%2C%200.0%2C%202%2C%208%5D%5Cn%3E%3E%3E%20mean_squared_error(y_true%2C%20y_pred)%5Cn0.375%5Cn%3E%3E%3E%20y_true%20%3D%20%5B%5B0.5%2C%201%5D%2C%5B-1%2C%201%5D%2C%5B7%2C%20-6%5D%5D%5Cn%3E%3E%3E%20y_pred%20%3D%20%5B%5B0%2C%202%5D%2C%5B-1%2C%202%5D%2C%5B8%2C%20-5%5D%5D%5Cn%3E%3E%3E%20mean_squared_error(y_true%2C%20y_pred)%5Cn0.708...%5Cn%3E%3E%3E%20mean_squared_error(y_true%2C%20y_pred%2C%20multioutput%3D&#39;raw_values&#39;)%5Cnarray(%5B0.41666667%2C%201.%20%20%20%20%20%20%20%20%5D)%5Cn%3E%3E%3E%20mean_squared_error(y_true%2C%20y_pred%2C%20multioutput%3D%5B0.3%2C%200.7%5D)%5Cn0.825...%5Cn%60%60%60%22%5D" href="https://colab.research.google.com/drive/1XwRUBhhMyewidBQ9kb-MQHKncez4l_pF" title="command:pinDocumentation?%5B%22mean_squared_error%22%2C%22%60%60%60python%5Cndef%20mean_squared_error(y_true%2C%20y_pred%2C%20*%2C%20sample_weight%3DNone%2C%20multioutput%3D&#39;uniform_average&#39;)%5Cn%60%60%60%5Cn%5CnMean%20squared%20error%20regression%20loss.%5Cn%5CnRead%20more%20in%20the%20%60User%20Guide%20%3Cmean_squared_error%3E%60.%5Cn%5CnParameters%5Cn----------%5Cny%5C%5C_true%20%3A%20array-like%20of%20shape%20(n%5C%5C_samples%2C)%20or%20(n%5C%5C_samples%2C%20n%5C%5C_outputs)%20%20%5Cn%26nbsp%3B%26nbsp%3B%26nbsp%3B%26nbsp%3BGround%20truth%20(correct)%20target%20values.%5Cn%5Cny%5C%5C_pred%20%3A%20array-like%20of%20shape%20(n%5C%5C_samples%2C)%20or%20(n%5C%5C_samples%2C%20n%5C%5C_outputs)%20%20%5Cn%26nbsp%3B%26nbsp%3B%26nbsp%3B%26nbsp%3BEstimated%20target%20values.%5Cn%5Cnsample%5C%5C_weight%20%3A%20array-like%20of%20shape%20(n%5C%5C_samples%2C)%2C%20default%3DNone%20%20%5Cn%26nbsp%3B%26nbsp%3B%26nbsp%3B%26nbsp%3BSample%20weights.%5Cn%5Cnmultioutput%20%3A%20%7B&#39;raw%5C%5C_values&#39;%2C%20&#39;uniform%5C%5C_average&#39;%7D%20or%20array-like%20of%20shape%20%20%20%20%20%20%20%20%20%20%20%20%20(n%5C%5C_outputs%2C)%2C%20default%3D&#39;uniform%5C%5C_average&#39;%20%20%5Cn%26nbsp%3B%26nbsp%3B%26nbsp%3B%26nbsp%3BDefines%20aggregating%20of%20multiple%20output%20values.%5CnArray-like%20value%20defines%20weights%20used%20to%20average%20errors.%5Cn%5Cn%26nbsp%3B%26nbsp%3B%26nbsp%3B%26nbsp%3B&#39;raw%5C%5C_values&#39;%20%3A%20%20%5Cn%26nbsp%3B%26nbsp%3B%26nbsp%3B%26nbsp%3B%26nbsp%3B%26nbsp%3B%26nbsp%3B%26nbsp%3BReturns%20a%20full%20set%20of%20errors%20in%20case%20of%20multioutput%20input.%5Cn%5Cn%26nbsp%3B%26nbsp%3B%26nbsp%3B%26nbsp%3B&#39;uniform%5C%5C_average&#39;%20%3A%20%20%5Cn%26nbsp%3B%26nbsp%3B%26nbsp%3B%26nbsp%3B%26nbsp%3B%26nbsp%3B%26nbsp%3B%26nbsp%3BErrors%20of%20all%20outputs%20are%20averaged%20with%20uniform%20weight.%5Cn%5CnReturns%5Cn-------%5Cnloss%20%3A%20float%20or%20array%20of%20floats%20%20%5Cn%26nbsp%3B%26nbsp%3B%26nbsp%3B%26nbsp%3BA%20non-negative%20floating%20point%20value%20(the%20best%20value%20is%200.0)%2C%20or%20an%5Cnarray%20of%20floating%20point%20values%2C%20one%20for%20each%20individual%20target.%5Cn%5CnExamples%5Cn--------%5Cn%60%60%60%5Cn%3E%3E%3E%20from%20sklearn.metrics%20import%20mean_squared_error%5Cn%3E%3E%3E%20y_true%20%3D%20%5B3%2C%20-0.5%2C%202%2C%207%5D%5Cn%3E%3E%3E%20y_pred%20%3D%20%5B2.5%2C%200.0%2C%202%2C%208%5D%5Cn%3E%3E%3E%20mean_squared_error(y_true%2C%20y_pred)%5Cn0.375%5Cn%3E%3E%3E%20y_true%20%3D%20%5B%5B0.5%2C%201%5D%2C%5B-1%2C%201%5D%2C%5B7%2C%20-6%5D%5D%5Cn%3E%3E%3E%20y_pred%20%3D%20%5B%5B0%2C%202%5D%2C%5B-1%2C%202%5D%2C%5B8%2C%20-5%5D%5D%5Cn%3E%3E%3E%20mean_squared_error(y_true%2C%20y_pred)%5Cn0.708...%5Cn%3E%3E%3E%20mean_squared_error(y_true%2C%20y_pred%2C%20multioutput%3D&#39;raw_values&#39;)%5Cnarray(%5B0.41666667%2C%201.%20%20%20%20%20%20%20%20%5D)%5Cn%3E%3E%3E%20mean_squared_error(y_true%2C%20y_pred%2C%20multioutput%3D%5B0.3%2C%200.7%5D)%5Cn0.825...%5Cn%60%60%60%22%5D">Open in tab</a>     <a data-href="command:viewSource?%5B%22file%3A%2F%2F%2Fusr%2Flocal%2Flib%2Fpython3.11%2Fdist-packages%2Fsklearn%2Fmetrics%2F_regression.py%22%2C%7B%22startLineNumber%22%3A499%2C%22startColumn%22%3A1%2C%22endLineNumber%22%3A499%2C%22endColumn%22%3A1%7D%5D" href="https://colab.research.google.com/drive/1XwRUBhhMyewidBQ9kb-MQHKncez4l_pF" title="command:viewSource?%5B%22file%3A%2F%2F%2Fusr%2Flocal%2Flib%2Fpython3.11%2Fdist-packages%2Fsklearn%2Fmetrics%2F_regression.py%22%2C%7B%22startLineNumber%22%3A499%2C%22startColumn%22%3A1%2C%22endLineNumber%22%3A499%2C%22endColumn%22%3A1%7D%5D">View source</a></p></div></div></div><div class="hover-row markdown-hover"><div class="hover-contents code-hover-contents"><div class="rendered-markdown"><p>Mean squared error regression loss.</p><p>Read more in the <code>User Guide &lt;mean_squared_error&gt;</code>.</p><h2>Parameters</h2>
<p>y_true : array-like of shape (n_samples,) or (n_samples, n_outputs)<br>&nbsp;&nbsp;&nbsp;&nbsp;Ground truth (correct) target values.</p><p>y_pred : array-like of shape (n_samples,) or (n_samples, n_outputs)<br>&nbsp;&nbsp;&nbsp;&nbsp;Estimated target values.</p><p>sample_weight : array-like of shape (n_samples,), default=None<br>&nbsp;&nbsp;&nbsp;&nbsp;Sample weights.</p><p>multioutput : {'raw_values', 'uniform_average'} or array-like of shape             (n_outputs,), default='uniform_average'<br>&nbsp;&nbsp;&nbsp;&nbsp;Defines aggregating of multiple output values.
Array-like value defines weights used to average errors.</p><p>&nbsp;&nbsp;&nbsp;&nbsp;'raw_values' :<br>&nbsp;&nbsp;&nbsp;&nbsp;&nbsp;&nbsp;&nbsp;&nbsp;Returns a full set of errors in case of multioutput input.</p><p>&nbsp;&nbsp;&nbsp;&nbsp;'uniform_average' :<br>&nbsp;&nbsp;&nbsp;&nbsp;&nbsp;&nbsp;&nbsp;&nbsp;Errors of all outputs are averaged with uniform weight.</p><h2>Returns</h2>
<p>loss : float or array of floats<br>&nbsp;&nbsp;&nbsp;&nbsp;A non-negative floating point value (the best value is 0.0), or an
array of floating point values, one for each individual target.</p><h2>Examples</h2>
<div data-code="id#18"><span style="font-family: monospace, Consolas, &quot;Courier New&quot;, monospace; font-weight: normal; font-size: 14px; font-feature-settings: &quot;liga&quot; 0, &quot;calt&quot; 0; font-variation-settings: normal; line-height: 19px; letter-spacing: 0px;"><div class="monaco-tokenized-source"><span class="mtk1">&gt;&gt;&gt; </span><span class="mtk19">from</span><span class="mtk1"> sklearn.metrics </span><span class="mtk19">import</span><span class="mtk1"> mean_squared_error</span><br><span class="mtk1">&gt;&gt;&gt; y_true = [</span><span class="mtk12">3</span><span class="mtk1">, </span><span class="mtk12">-0.5</span><span class="mtk1">, </span><span class="mtk12">2</span><span class="mtk1">, </span><span class="mtk12">7</span><span class="mtk1">]</span><br><span class="mtk1">&gt;&gt;&gt; y_pred = [</span><span class="mtk12">2.5</span><span class="mtk1">, </span><span class="mtk12">0.0</span><span class="mtk1">, </span><span class="mtk12">2</span><span class="mtk1">, </span><span class="mtk12">8</span><span class="mtk1">]</span><br><span class="mtk1">&gt;&gt;&gt; mean_squared_error(y_true, y_pred)</span><br><span class="mtk12">0.375</span><br><span class="mtk1">&gt;&gt;&gt; y_true = [[</span><span class="mtk12">0.5</span><span class="mtk1">, </span><span class="mtk12">1</span><span class="mtk1">],[</span><span class="mtk12">-1</span><span class="mtk1">, </span><span class="mtk12">1</span><span class="mtk1">],[</span><span class="mtk12">7</span><span class="mtk1">, </span><span class="mtk12">-6</span><span class="mtk1">]]</span><br><span class="mtk1">&gt;&gt;&gt; y_pred = [[</span><span class="mtk12">0</span><span class="mtk1">, </span><span class="mtk12">2</span><span class="mtk1">],[</span><span class="mtk12">-1</span><span class="mtk1">, </span><span class="mtk12">2</span><span class="mtk1">],[</span><span class="mtk12">8</span><span class="mtk1">, </span><span class="mtk12">-5</span><span class="mtk1">]]</span><br><span class="mtk1">&gt;&gt;&gt; mean_squared_error(y_true, y_pred)</span><br><span class="mtk12">0.708</span><span class="mtk1">...</span><br><span class="mtk1">&gt;&gt;&gt; mean_squared_error(y_true, y_pred, multioutput=</span><span class="mtk26">'raw_values'</span><span class="mtk1">)</span><br><span class="mtk1">array([</span><span class="mtk12">0.41666667</span><span class="mtk1">, </span><span class="mtk12">1</span><span class="mtk1">.        ])</span><br><span class="mtk1">&gt;&gt;&gt; mean_squared_error(y_true, y_pred, multioutput=[</span><span class="mtk12">0.3</span><span class="mtk1">, </span><span class="mtk12">0.7</span><span class="mtk1">])</span><br><span class="mtk12">0.825</span><span class="mtk1">...</span></div></span></div></div></div></div></div><div role="presentation" aria-hidden="true" class="invisible scrollbar horizontal" style="position: absolute; width: 716px; height: 10px; left: 0px; bottom: 0px;"><div class="slider" style="position: absolute; top: 0px; left: 0px; height: 10px; transform: translate3d(0px, 0px, 0px); contain: strict; width: 716px;"></div></div><div role="presentation" aria-hidden="true" class="invisible scrollbar vertical fade" style="position: absolute; width: 10px; height: 260px; right: 0px; top: 0px;"><div class="slider" style="position: absolute; top: 0px; left: 0px; width: 10px; transform: translate3d(0px, 0px, 0px); contain: strict; height: 80px;"></div></div><div class="shadow"></div><div class="shadow"></div><div class="shadow"></div></div></div></div></div><div class=".in-cell-overflowing"></div></div></div></div><colab-form class="formview vertical layout flex"><div class="widget-area vertical layout"></div></colab-form></div>
    <div class="output" aria-label="Cell 1 output" role="region"><!----> <div class="output-header"> </div>
        <div class="output-content" hidden="">
          <div class="output-info"><colab-output-info><template shadowrootmode="open"><!----><md-icon-button data-aria-expanded="false" data-aria-haspopup="menu" aria-describedby="button-output-actions-tooltip" data-aria-label="Code cell output actions" id="button-output-actions" value=""><template shadowrootmode="open" shadowrootdelegatesfocus><!----><button id="button" class="icon-button  standard " aria-label="Code cell output actions" aria-haspopup="menu" aria-expanded="false">
        <!--?lit$160999733$--><md-focus-ring part="focus-ring" for="button" aria-hidden="true"><template shadowrootmode="open"><!----></template></md-focus-ring>
        <!--?lit$160999733$--><md-ripple aria-hidden="true"><template shadowrootmode="open"><!----><div class="surface   "></div></template></md-ripple>
        <!--?lit$160999733$--><span class="icon"><slot></slot></span>
        <!--?lit$160999733$-->
        <!--?lit$160999733$--><span class="touch"></span>
  </button></template>
        <md-icon aria-hidden="true"><template shadowrootmode="open"><!----><slot></slot></template><!--?lit$160999733$--><svg viewBox="0 0 24 24"><!--?lit$160999733$--><path d="m15.9 3.07c-4.32 0.0742-8.64-0.0355-13 0.0568-1.37 0.307-1.74 2.1-1.41 3.26 0.469 0.606 1.86 0.384 1.66-0.525 0.0448-0.329-0.183-0.93 0.354-0.766h13.3v1.53h1.71c0.0709-1.13 0.141-2.62-0.968-3.3-0.511-0.264-1.11-0.252-1.67-0.259zm2.94 6.84v4.87c1.62-1.62 3.24-3.24 4.87-4.87h-4.87zm0 0h-1.71v3.43l1.57 1.57c0.32-1.65 0.0556-3.34 0.135-5zm-1.71 3.43v-3.43h-3.43c1.14 1.14 2.29 2.29 3.43 3.43zm1.4 4.27h-1.71v1.48h-13.6v-1.48h-1.71c-0.0473 1.15-0.16 2.72 1.09 3.29 1.47 0.506 3.02 0.0265 4.53 0.192 3.34-0.0051 6.68 0.0336 10-0.0245 1.49-0.366 1.56-2.22 1.42-3.45zm-10.1-1.12c-0.398-0.483-0.796-0.967-1.19-1.45 0.59-0.683 1.18-1.37 1.77-2.05h-8.67v-2h8.67c-0.59-0.683-1.18-1.37-1.77-2.05 0.398-0.483 0.796-0.967 1.19-1.45 1.28 1.5 2.56 3 3.84 4.5-1.28 1.5-2.56 3-3.84 4.5z"></path></svg></md-icon>
      </md-icon-button>
      <colab-tooltip-trigger aria-hidden="true" id="button-output-actions-tooltip" for="button-output-actions" message="Code cell output actions"><template shadowrootmode="open"><!----><!--?lit$160999733$--><!----><div><!--?lit$160999733$-->Code cell output actions</div><!----><!--?--></template></colab-tooltip-trigger></template></colab-output-info></div>
          <div class="output-iframe-container" hidden="">
            <div class="output-iframe-sizer" style="min-height: 0px;"> <div><div><colab-static-output-renderer role="group" tabindex="0"><div></div><div></div></colab-static-output-renderer></div></div></div>
          </div>
        </div></div></div><colab-cell-next-steps><template shadowrootmode="open"><!----></template></colab-cell-next-steps></div></div><div class="add-cell">
      <div class="add-cell-buttons">
        <md-outlined-button class="add-code add-button" data-aria-label="Add code cell
Ctrl+M B" title="Add code cell
Ctrl+M B" value="" has-icon=""><template shadowrootmode="open" shadowrootdelegatesfocus><!---->
      <!--?lit$160999733$--><div class="outline"></div>
      <div class="background"></div>
      <md-focus-ring part="focus-ring" for="button" aria-hidden="true"><template shadowrootmode="open"><!----></template></md-focus-ring>
      <md-ripple part="ripple" for="button" aria-hidden="true"><template shadowrootmode="open"><!----><div class="surface"></div></template></md-ripple>
      <!--?lit$160999733$--><button id="button" class="button" aria-label="Add code cell
Ctrl+M B">
      <!--?lit$160999733$-->
      <span class="touch"></span>
      <!--?lit$160999733$--><slot name="icon"></slot>
      <span class="label"><slot></slot></span>
      <!--?lit$160999733$-->
    
    </button>
    </template>
          <md-icon slot="icon" aria-hidden="true"><template shadowrootmode="open"><!----><slot></slot></template>add</md-icon>
          <!--?lit$160999733$-->Code
        </md-outlined-button>
        <md-outlined-button class="add-text add-button" data-aria-label="Add text cell" title="Add text cell" value="" has-icon=""><template shadowrootmode="open" shadowrootdelegatesfocus><!---->
      <!--?lit$160999733$--><div class="outline"></div>
      <div class="background"></div>
      <md-focus-ring part="focus-ring" for="button" aria-hidden="true"><template shadowrootmode="open"><!----></template></md-focus-ring>
      <md-ripple part="ripple" for="button" aria-hidden="true"><template shadowrootmode="open"><!----><div class="surface"></div></template></md-ripple>
      <!--?lit$160999733$--><button id="button" class="button" aria-label="Add text cell">
      <!--?lit$160999733$-->
      <span class="touch"></span>
      <!--?lit$160999733$--><slot name="icon"></slot>
      <span class="label"><slot></slot></span>
      <!--?lit$160999733$-->
    
    </button>
    </template>
          <md-icon slot="icon" aria-hidden="true"><template shadowrootmode="open"><!----><slot></slot></template>add</md-icon>
          <!--?lit$160999733$-->Text
        </md-outlined-button>
        <!--?lit$160999733$-->
      </div><hr>
    </div></div><div class="cell text" id="cell-u-S_5lNmUwBo" role="region" aria-label="Cell 2: Text cell: " style="" tabindex="-1"><div class="agent-focus-label">
      <md-icon aria-hidden="true"><template shadowrootmode="open"><!----><slot></slot></template>spark</md-icon>
      <!--?lit$160999733$-->Gemini
    </div><div class="cell-tag-editor sticky"></div><div class="cell-toolbar sticky"></div><div class="main-content" elevation="0"><div class="cell-contents"><div class="cell-mask"></div><span class="imported-info-area"></span><!----> <div class="toolbar-root"></div>
      <div class="editor-container horizontal">
        <div class="editor-root"></div>
        <div class="text-top-div">
          <div class="markdown"><span><p>Import data dalam CSV</p>
</span></div>
        </div>
      </div>

      <div class="section-header" style="display: none;">
        <colab-run-button><template shadowrootmode="open"><!----> <div class="cell-execution">
      <button id="run-button" aria-label="Run cell" aria-disabled="false">
        <!--?lit$160999733$--><span class="execution-count"><!--?lit$160999733$-->[ ]</span>
        <span aria-hidden="true" class="cell-execution-indicator"><!--?lit$160999733$-->
<svg xmlns="http://www.w3.org/2000/svg" viewBox="0 0 24 24">
  <!--?lit$160999733$-->
  <mask id="playSymbolMask">
    <rect width="100%" height="100%" fill="white"></rect>
    <polygon points="10,8 17,12 10,16" fill="black"></polygon>
  </mask>
  <circle cx="12" cy="12" r="7.8" mask="url(#playSymbolMask)" id="filledCircle"></circle>
</svg></span>
      </button>
      <!--?lit$160999733$-->
      <!--?lit$160999733$--><!--?-->
    </div></template></colab-run-button>
        <div class="section-header-container" title="click to expand">
          <md-icon aria-hidden="true"><template shadowrootmode="open"><!----><slot></slot></template>subdirectory_arrow_right</md-icon>
          <span>0 cells hidden</span>
        </div>
      </div></div></div><div class="add-cell">
      <div class="add-cell-buttons">
        <md-outlined-button class="add-code add-button" data-aria-label="Add code cell
Ctrl+M B" title="Add code cell
Ctrl+M B" value="" has-icon=""><template shadowrootmode="open" shadowrootdelegatesfocus><!---->
      <!--?lit$160999733$--><div class="outline"></div>
      <div class="background"></div>
      <md-focus-ring part="focus-ring" for="button" aria-hidden="true"><template shadowrootmode="open"><!----></template></md-focus-ring>
      <md-ripple part="ripple" for="button" aria-hidden="true"><template shadowrootmode="open"><!----><div class="surface"></div></template></md-ripple>
      <!--?lit$160999733$--><button id="button" class="button" aria-label="Add code cell
Ctrl+M B">
      <!--?lit$160999733$-->
      <span class="touch"></span>
      <!--?lit$160999733$--><slot name="icon"></slot>
      <span class="label"><slot></slot></span>
      <!--?lit$160999733$-->
    
    </button>
    </template>
          <md-icon slot="icon" aria-hidden="true"><template shadowrootmode="open"><!----><slot></slot></template>add</md-icon>
          <!--?lit$160999733$-->Code
        </md-outlined-button>
        <md-outlined-button class="add-text add-button" data-aria-label="Add text cell" title="Add text cell" value="" has-icon=""><template shadowrootmode="open" shadowrootdelegatesfocus><!---->
      <!--?lit$160999733$--><div class="outline"></div>
      <div class="background"></div>
      <md-focus-ring part="focus-ring" for="button" aria-hidden="true"><template shadowrootmode="open"><!----></template></md-focus-ring>
      <md-ripple part="ripple" for="button" aria-hidden="true"><template shadowrootmode="open"><!----><div class="surface   "></div></template></md-ripple>
      <!--?lit$160999733$--><button id="button" class="button" aria-label="Add text cell">
      <!--?lit$160999733$-->
      <span class="touch"></span>
      <!--?lit$160999733$--><slot name="icon"></slot>
      <span class="label"><slot></slot></span>
      <!--?lit$160999733$-->
    
    </button>
    </template>
          <md-icon slot="icon" aria-hidden="true"><template shadowrootmode="open"><!----><slot></slot></template>add</md-icon>
          <!--?lit$160999733$-->Text
        </md-outlined-button>
        <!--?lit$160999733$-->
      </div><hr>
    </div></div><div class="cell code icon-scrolling code-has-output" id="cell-1TSGu0shzGtJ" role="region" aria-label="Cell 3: Code cell: " style="" tabindex="-1"><div class="agent-focus-label">
      <md-icon aria-hidden="true"><template shadowrootmode="open"><!----><slot></slot></template>spark</md-icon>
      <!--?lit$160999733$-->Gemini
    </div><div class="cell-tag-editor sticky"></div><div class="cell-toolbar sticky"></div><div class="main-content" elevation="0"><div class="cell-contents"><div class="cell-mask"></div><span class="imported-info-area"></span><div class="codecell-input-output">
      <div class="inputarea horizontal layout code">
        <div class="cell-gutter">
          <!-- Bounding range for vertical scrolling of icons -->
          <div class="cell-execution-container">
            <colab-run-button><template shadowrootmode="open"><!----> <div class="cell-execution">
      <button id="run-button" aria-describedby="run-button-tooltip" aria-label="Run cell" aria-disabled="false">
        <!--?lit$160999733$--><span class="execution-count"><!--?lit$160999733$-->[6]</span>
        <span aria-hidden="true" class="cell-execution-indicator"><!--?lit$160999733$-->
<svg xmlns="http://www.w3.org/2000/svg" viewBox="0 0 24 24">
  <!--?lit$160999733$-->
  <mask id="playSymbolMask">
    <rect width="100%" height="100%" fill="white"></rect>
    <polygon points="10,8 17,12 10,16" fill="black"></polygon>
  </mask>
  <circle cx="12" cy="12" r="7.8" mask="url(#playSymbolMask)" id="filledCircle"></circle>
</svg></span>
      </button>
      <!--?lit$160999733$--><colab-tooltip-trigger for="run-button" id="run-button-tooltip" aria-hidden="true" message="Run cell (Ctrl+Enter)
cell executed since last change

executed by Sabita Alya P
10:19 PM (0 minutes ago)
executed in 0.052s"><template shadowrootmode="open"><!----><!--?lit$160999733$--><!----><div><!--?lit$160999733$-->Run cell (Ctrl+Enter)</div><!----><!----><div><!--?lit$160999733$-->cell executed since last change</div><!----><!----><br><!----><!----><div><!--?lit$160999733$-->executed by Sabita Alya P</div><!----><!----><div><!--?lit$160999733$-->10:19 PM (0 minutes ago)</div><!----><!----><div><!--?lit$160999733$-->executed in 0.052s</div><!----><!--?--></template>
    </colab-tooltip-trigger>
      <!--?lit$160999733$--><div id="status" class="last-run">
      <md-icon aria-hidden="true"><template shadowrootmode="open"><!----><slot></slot></template><!--?lit$160999733$--><svg viewBox="0 0 24 24"><!--?lit$160999733$--><path d="M9 16.17L4.83 12l-1.42 1.41L9 19 21 7l-1.41-1.41z"></path></svg></md-icon>
      <div><!--?lit$160999733$-->0s</div>
    </div>
    </div></template></colab-run-button>
          </div>
        </div>
      <div class="editor flex lazy-editor" style=""><div class="editor flex monaco" data-keybinding-context="89" data-mode-id="notebook-python" style="height: 86px; --vscode-editorCodeLens-lineHeight: 16px; --vscode-editorCodeLens-fontSize: 12px; --vscode-editorCodeLens-fontFeatureSettings: &quot;liga&quot; off, &quot;calt&quot; off;"><div class="monaco-editor no-user-select  showUnused showDeprecated vs" role="code" data-uri="inmemory://model/6" style="width: 1154px; height: 86px;"><div data-mprt="3" class="overflow-guard" style="width: 1154px; height: 86px; overflow: clip;"><div class="margin" role="presentation" aria-hidden="true" style="position: absolute; contain: strict; will-change: unset; top: 0px; height: 86px; width: 6px;"><div class="glyph-margin" style="left: 0px; width: 0px; height: 86px;"></div><div class="margin-view-zones" role="presentation" aria-hidden="true" style="position: absolute;"></div><div class="margin-view-overlays" role="presentation" aria-hidden="true" style="position: absolute; font-family: monospace, Consolas, &quot;Courier New&quot;, monospace; font-weight: normal; font-size: 14px; font-feature-settings: &quot;liga&quot; 0, &quot;calt&quot; 0; font-variation-settings: normal; line-height: 19px; letter-spacing: 0px; width: 6px; height: 86px;"><div style="position:absolute;top:0px;width:100%;height:19px;"><div class="current-line current-line-margin-both" style="width:6px; height:19px;"></div></div><div style="position:absolute;top:19px;width:100%;height:19px;"></div><div style="position:absolute;top:38px;width:100%;height:19px;"></div><div style="position:absolute;top:57px;width:100%;height:19px;"></div></div><div class="glyph-margin-widgets" style="position: absolute; top: 0px;"></div></div><div class="monaco-scrollable-element editor-scrollable vs" role="presentation" data-mprt="5" style="position: absolute; overflow: hidden; left: 6px; width: 1148px; height: 86px;"><div class="lines-content monaco-editor-background" style="position: absolute; overflow: hidden; width: 1e+06px; height: 86px; contain: strict; will-change: unset; top: 0px; left: 0px;"><div class="view-overlays" role="presentation" aria-hidden="true" style="position: absolute; font-family: monospace, Consolas, &quot;Courier New&quot;, monospace; font-weight: normal; font-size: 14px; font-feature-settings: &quot;liga&quot; 0, &quot;calt&quot; 0; font-variation-settings: normal; line-height: 19px; letter-spacing: 0px; height: 0px; width: 1148px;"><div style="position:absolute;top:0px;width:100%;height:19px;"><div class="current-line" style="width:1148px; height:19px;"></div></div><div style="position:absolute;top:19px;width:100%;height:19px;"></div><div style="position:absolute;top:38px;width:100%;height:19px;"></div><div style="position:absolute;top:57px;width:100%;height:19px;"></div></div><div role="presentation" aria-hidden="true" class="view-rulers"></div><div class="view-zones" role="presentation" aria-hidden="true" style="position: absolute;"></div><div class="view-lines monaco-mouse-cursor-text" role="presentation" aria-hidden="true" data-mprt="7" style="position: absolute; font-family: monospace, Consolas, &quot;Courier New&quot;, monospace; font-weight: normal; font-size: 14px; font-feature-settings: &quot;liga&quot; 0, &quot;calt&quot; 0; font-variation-settings: normal; line-height: 19px; letter-spacing: 0px; width: 1148px; height: 86px;"><div style="top:0px;height:19px;" class="view-line"><span><span class="mtk8">#&nbsp;Membaca&nbsp;data&nbsp;CSV</span></span></div><div style="top:19px;height:19px;" class="view-line"><span><span class="mtk1">data&nbsp;=&nbsp;pd.read_csv</span><span class="mtk1 bracket-highlighting-0">(</span><span class="mtk26">'emisi.csv'</span><span class="mtk1 bracket-highlighting-0">)</span></span></div><div style="top:38px;height:19px;" class="view-line"><span><span class="mtk8">#&nbsp;Melihat&nbsp;5&nbsp;data&nbsp;pertama</span></span></div><div style="top:57px;height:19px;" class="view-line"><span><span class="mtk15">print</span><span class="mtk1 bracket-highlighting-0">(</span><span class="mtk1">data.head</span><span class="mtk1 bracket-highlighting-1">(</span><span class="mtk1 bracket-highlighting-1">)</span><span class="mtk1 bracket-highlighting-0">)</span></span></div></div><div data-mprt="1" class="contentWidgets" style="position: absolute; top: 0px;"></div><div role="presentation" aria-hidden="true" class="cursors-layer cursor-line-style cursor-solid"><div class="cursor monaco-mouse-cursor-text " style="height: 19px; top: 0px; left: 0px; font-family: monospace, Consolas, &quot;Courier New&quot;, monospace; font-weight: normal; font-size: 14px; font-feature-settings: &quot;liga&quot; 0, &quot;calt&quot; 0; font-variation-settings: normal; line-height: 19px; letter-spacing: 0px; display: block; visibility: hidden; padding-left: 0px; width: 2px;"></div></div></div><div role="presentation" aria-hidden="true" class="invisible scrollbar horizontal" style="position: absolute; width: 1134px; height: 10px; left: 0px; bottom: 0px;"><div class="slider" style="position: absolute; top: 0px; left: 0px; height: 10px; transform: translate3d(0px, 0px, 0px); contain: strict; will-change: unset; width: 1134px;"></div></div><canvas class="decorationsOverviewRuler" aria-hidden="true" width="21" height="129" style="position: absolute; transform: translate3d(0px, 0px, 0px); contain: strict; top: 0px; right: 0px; width: 14px; height: 86px; will-change: unset; display: block;"></canvas><div role="presentation" aria-hidden="true" class="invisible scrollbar vertical" style="position: absolute; width: 14px; height: 86px; right: 0px; top: 0px;"><div class="slider" style="position: absolute; top: 0px; left: 0px; width: 14px; transform: translate3d(0px, 0px, 0px); contain: strict; will-change: unset; height: 86px;"></div></div></div><div role="presentation" aria-hidden="true" style="width: 1154px;"></div><textarea data-mprt="6" class="inputarea monaco-mouse-cursor-text" wrap="on" autocorrect="off" autocapitalize="off" autocomplete="off" spellcheck="false" aria-label="Editor content;Press Alt+F1 for Accessibility Options." tabindex="0" role="textbox" aria-roledescription="editor" aria-multiline="true" aria-haspopup="false" aria-autocomplete="both" style="tab-size: 15.3984px; font-family: monospace, Consolas, &quot;Courier New&quot;, monospace; font-weight: normal; font-size: 14px; font-feature-settings: &quot;liga&quot; 0, &quot;calt&quot; 0; font-variation-settings: normal; line-height: 19px; letter-spacing: 0px; top: 0px; left: 6px; width: 76992px; height: 1px;"></textarea><div class="monaco-editor-background textAreaCover" style="position: absolute; top: 0px; left: 0px; width: 0px; height: 0px;"></div><div data-mprt="4" class="overlayWidgets" style="width: 1154px;"><div widgetid="editor.contrib.quickInputWidget" style="position: absolute; top: 0px; right: 50%;"></div></div><div data-mprt="8" class="minimap slider-mouseover" role="presentation" aria-hidden="true" style="position: absolute; left: 0px; width: 0px; height: 86px;"><div class="minimap-shadow-hidden" style="height: 86px;"></div><canvas width="0" height="129" style="position: absolute; left: 0px; width: 0px; height: 86px;"></canvas><canvas class="minimap-decorations-layer" width="0" height="129" style="position: absolute; left: 0px; width: 0px; height: 86px;"></canvas><div class="minimap-slider" style="position: absolute; transform: translate3d(0px, 0px, 0px); contain: strict; width: 0px; will-change: unset;"><div class="minimap-slider-horizontal" style="position: absolute; width: 0px; height: 0px;"></div></div></div><div role="presentation" aria-hidden="true" class="blockDecorations-container"></div></div><div data-mprt="2" class="overflowingContentWidgets"><div class="inlineSuggestionsHints withBorder" widgetid="InlineSuggestionHintsContentWidget81" style="position: fixed; display: none; visibility: hidden; max-width: 1280px;"><div style="display: flex;"><div class="custom-actions"><div class="monaco-action-bar animated"><ul class="actions-container" role="toolbar"><li class="action-item disabled" role="presentation" title="Previous (Alt+[)"><a class="action-label codicon codicon-inline-suggestion-hints-previous disabled" role="button" aria-label="Previous (Alt+[)" aria-checked="" aria-disabled="true" tabindex="0"></a></li><li class="action-item disabled" role="presentation" title=""><a class="action-label disabled" role="button" aria-label="" aria-disabled="true" aria-checked=""></a></li><li class="action-item disabled" role="presentation" title="Next (Alt+])"><a class="action-label codicon codicon-inline-suggestion-hints-next disabled" role="button" aria-label="Next (Alt+])" aria-checked="" aria-disabled="true"></a></li></ul></div></div><div><div class="monaco-toolbar"><div class="monaco-action-bar animated"><ul class="actions-container" role="toolbar"><li class="action-item disabled menu-entry" role="presentation" title="Accept (Tab)"><a class="action-label inlineSuggestionStatusBarItemLabel disabled" role="button" aria-label="Accept (Tab)" aria-disabled="true" aria-checked="" tabindex="0">Accept<div class="keybinding"><div class="monaco-keybinding"><span class="monaco-keybinding-key">Tab</span></div></div></a></li><li class="action-item disabled menu-entry" role="presentation" title="Accept Word (Ctrl+RightArrow)"><a class="action-label inlineSuggestionStatusBarItemLabel disabled" role="button" aria-label="Accept Word (Ctrl+RightArrow)" aria-disabled="true" aria-checked="">Accept Word<div class="keybinding"><div class="monaco-keybinding"><span class="monaco-keybinding-key">Ctrl</span><span class="monaco-keybinding-key-separator">+</span><span class="monaco-keybinding-key">RightArrow</span></div></div></a></li><li class="action-item" role="presentation"><div class="monaco-dropdown"><div class="dropdown-label"><a class="action-label codicon codicon-toolbar-more" role="button" aria-haspopup="true" aria-expanded="false" title="More Actions..." aria-label="More Actions..."></a></div></div></li></ul></div></div></div></div></div></div><div class=".in-cell-overflowing"></div></div></div></div><colab-form class="formview vertical layout flex"><div class="widget-area vertical layout"></div></colab-form></div>
    <div class="output" aria-label="Cell 3 output" role="region"><!----> <div class="output-header"> </div>
        <div class="output-content">
          <div class="output-info"><colab-output-info><template shadowrootmode="open"><!----><md-icon-button data-aria-expanded="false" data-aria-haspopup="menu" aria-describedby="button-output-actions-tooltip" data-aria-label="Code cell output actions" id="button-output-actions" value=""><template shadowrootmode="open" shadowrootdelegatesfocus><!----><button id="button" class="icon-button  standard " aria-label="Code cell output actions" aria-haspopup="menu" aria-expanded="false">
        <!--?lit$160999733$--><md-focus-ring part="focus-ring" for="button" aria-hidden="true"><template shadowrootmode="open"><!----></template></md-focus-ring>
        <!--?lit$160999733$--><md-ripple aria-hidden="true"><template shadowrootmode="open"><!----><div class="surface"></div></template></md-ripple>
        <!--?lit$160999733$--><span class="icon"><slot></slot></span>
        <!--?lit$160999733$-->
        <!--?lit$160999733$--><span class="touch"></span>
  </button></template>
        <md-icon aria-hidden="true"><template shadowrootmode="open"><!----><slot></slot></template><!--?lit$160999733$--><svg viewBox="0 0 24 24"><!--?lit$160999733$--><path d="m15.9 3.07c-4.32 0.0742-8.64-0.0355-13 0.0568-1.37 0.307-1.74 2.1-1.41 3.26 0.469 0.606 1.86 0.384 1.66-0.525 0.0448-0.329-0.183-0.93 0.354-0.766h13.3v1.53h1.71c0.0709-1.13 0.141-2.62-0.968-3.3-0.511-0.264-1.11-0.252-1.67-0.259zm2.94 6.84v4.87c1.62-1.62 3.24-3.24 4.87-4.87h-4.87zm0 0h-1.71v3.43l1.57 1.57c0.32-1.65 0.0556-3.34 0.135-5zm-1.71 3.43v-3.43h-3.43c1.14 1.14 2.29 2.29 3.43 3.43zm1.4 4.27h-1.71v1.48h-13.6v-1.48h-1.71c-0.0473 1.15-0.16 2.72 1.09 3.29 1.47 0.506 3.02 0.0265 4.53 0.192 3.34-0.0051 6.68 0.0336 10-0.0245 1.49-0.366 1.56-2.22 1.42-3.45zm-10.1-1.12c-0.398-0.483-0.796-0.967-1.19-1.45 0.59-0.683 1.18-1.37 1.77-2.05h-8.67v-2h8.67c-0.59-0.683-1.18-1.37-1.77-2.05 0.398-0.483 0.796-0.967 1.19-1.45 1.28 1.5 2.56 3 3.84 4.5-1.28 1.5-2.56 3-3.84 4.5z"></path></svg></md-icon>
      </md-icon-button>
      <colab-tooltip-trigger aria-hidden="true" id="button-output-actions-tooltip" for="button-output-actions" message="Code cell output actions"><template shadowrootmode="open"><!----><!--?lit$160999733$--><!----><div><!--?lit$160999733$-->Code cell output actions</div><!----><!--?--></template></colab-tooltip-trigger></template></colab-output-info></div>
          <div class="output-iframe-container">
            <div class="output-iframe-sizer" style="min-height: 0px;"> <div><div><colab-static-output-renderer role="group" tabindex="0"><div><div class="stream output-id-1 output_text"><pre>   Ville (L/100 km)  Route (L/100 km)  kombinasi (L/100 km)  Emisi CO2 (g/km)
0               8.1               6.5                   7.4               172
1               8.9               6.5                   7.8               181
2              11.1               8.3                   9.9               230
3              12.6               9.4                  11.2               263
4              13.8              11.2                  12.4               291
</pre></div></div><div></div></colab-static-output-renderer></div></div></div>
          </div>
        </div></div></div><colab-cell-next-steps><template shadowrootmode="open"><!----></template></colab-cell-next-steps></div></div><div class="add-cell">
      <hr>
    </div></div><div class="cell text" id="cell-VAfDiOmAUg5B" role="region" aria-label="Cell 4: Text cell: " style="" tabindex="-1"><div class="agent-focus-label">
      <md-icon aria-hidden="true"><template shadowrootmode="open"><!----><slot></slot></template>spark</md-icon>
      <!--?lit$160999733$-->Gemini
    </div><div class="cell-tag-editor sticky"></div><div class="cell-toolbar sticky"></div><div class="main-content" elevation="0"><div class="cell-contents"><div class="cell-mask"></div><span class="imported-info-area"></span><!----> <div class="toolbar-root"></div>
      <div class="editor-container horizontal">
        <div class="editor-root"></div>
        <div class="text-top-div">
          <div class="markdown"><span><p>Output dari kode di atas yaitu, menampilkan lima baris pertama dari dataset emisi.csv</p>
</span></div>
        </div>
      </div>

      <div class="section-header" style="display: none;">
        <colab-run-button><template shadowrootmode="open"><!----> <div class="cell-execution">
      <button id="run-button" aria-label="Run cell" aria-disabled="false">
        <!--?lit$160999733$--><span class="execution-count"><!--?lit$160999733$-->[ ]</span>
        <span aria-hidden="true" class="cell-execution-indicator"><!--?lit$160999733$-->
<svg xmlns="http://www.w3.org/2000/svg" viewBox="0 0 24 24">
  <!--?lit$160999733$-->
  <mask id="playSymbolMask">
    <rect width="100%" height="100%" fill="white"></rect>
    <polygon points="10,8 17,12 10,16" fill="black"></polygon>
  </mask>
  <circle cx="12" cy="12" r="7.8" mask="url(#playSymbolMask)" id="filledCircle"></circle>
</svg></span>
      </button>
      <!--?lit$160999733$-->
      <!--?lit$160999733$--><!--?-->
    </div></template></colab-run-button>
        <div class="section-header-container" title="click to expand">
          <md-icon aria-hidden="true"><template shadowrootmode="open"><!----><slot></slot></template>subdirectory_arrow_right</md-icon>
          <span>0 cells hidden</span>
        </div>
      </div></div></div><div class="add-cell">
      <div class="add-cell-buttons">
        <md-outlined-button class="add-code add-button" data-aria-label="Add code cell
Ctrl+M B" title="Add code cell
Ctrl+M B" value="" has-icon=""><template shadowrootmode="open" shadowrootdelegatesfocus><!---->
      <!--?lit$160999733$--><div class="outline"></div>
      <div class="background"></div>
      <md-focus-ring part="focus-ring" for="button" aria-hidden="true"><template shadowrootmode="open"><!----></template></md-focus-ring>
      <md-ripple part="ripple" for="button" aria-hidden="true"><template shadowrootmode="open"><!----><div class="surface   "></div></template></md-ripple>
      <!--?lit$160999733$--><button id="button" class="button" aria-label="Add code cell
Ctrl+M B">
      <!--?lit$160999733$-->
      <span class="touch"></span>
      <!--?lit$160999733$--><slot name="icon"></slot>
      <span class="label"><slot></slot></span>
      <!--?lit$160999733$-->
    
    </button>
    </template>
          <md-icon slot="icon" aria-hidden="true"><template shadowrootmode="open"><!----><slot></slot></template>add</md-icon>
          <!--?lit$160999733$-->Code
        </md-outlined-button>
        <md-outlined-button class="add-text add-button" data-aria-label="Add text cell" title="Add text cell" value="" has-icon=""><template shadowrootmode="open" shadowrootdelegatesfocus><!---->
      <!--?lit$160999733$--><div class="outline"></div>
      <div class="background"></div>
      <md-focus-ring part="focus-ring" for="button" aria-hidden="true"><template shadowrootmode="open"><!----></template></md-focus-ring>
      <md-ripple part="ripple" for="button" aria-hidden="true"><template shadowrootmode="open"><!----><div class="surface   "></div></template></md-ripple>
      <!--?lit$160999733$--><button id="button" class="button" aria-label="Add text cell">
      <!--?lit$160999733$-->
      <span class="touch"></span>
      <!--?lit$160999733$--><slot name="icon"></slot>
      <span class="label"><slot></slot></span>
      <!--?lit$160999733$-->
    
    </button>
    </template>
          <md-icon slot="icon" aria-hidden="true"><template shadowrootmode="open"><!----><slot></slot></template>add</md-icon>
          <!--?lit$160999733$-->Text
        </md-outlined-button>
        <!--?lit$160999733$-->
      </div><hr>
    </div></div><div class="cell code icon-scrolling code-has-output" id="cell-0iDQfE7uUq63" role="region" aria-label="Cell 5: Code cell: " style="" tabindex="-1"><div class="agent-focus-label">
      <md-icon aria-hidden="true"><template shadowrootmode="open"><!----><slot></slot></template>spark</md-icon>
      <!--?lit$160999733$-->Gemini
    </div><div class="cell-tag-editor sticky"></div><div class="cell-toolbar sticky"></div><div class="main-content" elevation="0"><div class="cell-contents"><div class="cell-mask"></div><span class="imported-info-area"></span><div class="codecell-input-output">
      <div class="inputarea horizontal layout code">
        <div class="cell-gutter">
          <!-- Bounding range for vertical scrolling of icons -->
          <div class="cell-execution-container">
            <colab-run-button><template shadowrootmode="open"><!----> <div class="cell-execution">
      <button id="run-button" aria-describedby="run-button-tooltip" aria-label="Run cell" aria-disabled="false">
        <!--?lit$160999733$--><span class="execution-count"><!--?lit$160999733$-->[7]</span>
        <span aria-hidden="true" class="cell-execution-indicator"><!--?lit$160999733$-->
<svg xmlns="http://www.w3.org/2000/svg" viewBox="0 0 24 24">
  <!--?lit$160999733$-->
  <mask id="playSymbolMask">
    <rect width="100%" height="100%" fill="white"></rect>
    <polygon points="10,8 17,12 10,16" fill="black"></polygon>
  </mask>
  <circle cx="12" cy="12" r="7.8" mask="url(#playSymbolMask)" id="filledCircle"></circle>
</svg></span>
      </button>
      <!--?lit$160999733$--><colab-tooltip-trigger for="run-button" id="run-button-tooltip" aria-hidden="true" message="Run cell (Ctrl+Enter)
cell executed since last change

executed by Sabita Alya P
10:19 PM (0 minutes ago)
executed in 0.019s"><template shadowrootmode="open"><!----><!--?lit$160999733$--><!----><div><!--?lit$160999733$-->Run cell (Ctrl+Enter)</div><!----><!----><div><!--?lit$160999733$-->cell executed since last change</div><!----><!----><br><!----><!----><div><!--?lit$160999733$-->executed by Sabita Alya P</div><!----><!----><div><!--?lit$160999733$-->10:19 PM (0 minutes ago)</div><!----><!----><div><!--?lit$160999733$-->executed in 0.019s</div><!----><!--?--></template>
    </colab-tooltip-trigger>
      <!--?lit$160999733$--><div id="status" class="last-run">
      <md-icon aria-hidden="true"><template shadowrootmode="open"><!----><slot></slot></template><!--?lit$160999733$--><svg viewBox="0 0 24 24"><!--?lit$160999733$--><path d="M9 16.17L4.83 12l-1.42 1.41L9 19 21 7l-1.41-1.41z"></path></svg></md-icon>
      <div><!--?lit$160999733$-->0s</div>
    </div>
    </div></template></colab-run-button>
          </div>
        </div>
      <div class="editor flex lazy-editor" style=""><pre class="lazy-virtualized" style="font-size: 14px; line-height: 19px;"><pre class="lazy-gutter"></pre><pre class="monaco-colorized colab colab colab colab colab colab colab colab colab colab colab colab" data-lang="notebook-python"><span><span class="mtk1">data.rename(columns={</span><span class="mtk26">'X'</span><span class="mtk1">:&nbsp;</span><span class="mtk26">'Ville&nbsp;(L/100&nbsp;km)'</span><span class="mtk1">,&nbsp;</span><span class="mtk26">'Y'</span><span class="mtk1">:&nbsp;</span><span class="mtk26">'Emisi&nbsp;CO2&nbsp;(g/km)'</span><span class="mtk1">},&nbsp;inplace=</span><span class="mtk6">True</span><span class="mtk1">)</span></span><br><span><span class="mtk15">print</span><span class="mtk1">(data)</span></span><br></pre><colab-read-only-cell-placeholder style="display: none;"><template shadowrootmode="open"><!----><div><!--?lit$160999733$-->Start coding or <span role="button" class="link" tabindex="0">generate</span> with AI.</div></template></colab-read-only-cell-placeholder></pre></div><colab-form class="formview vertical layout flex"><div class="widget-area vertical layout"></div></colab-form></div>
    <div class="output" aria-label="Cell 5 output" role="region"><!----> <div class="output-header"> </div>
        <div class="output-content">
          <div class="output-info"><colab-output-info><template shadowrootmode="open"><!----><md-icon-button data-aria-expanded="false" data-aria-haspopup="menu" aria-describedby="button-output-actions-tooltip" data-aria-label="Code cell output actions" id="button-output-actions" value=""><template shadowrootmode="open" shadowrootdelegatesfocus><!----><button id="button" class="icon-button  standard " aria-label="Code cell output actions" aria-haspopup="menu" aria-expanded="false">
        <!--?lit$160999733$--><md-focus-ring part="focus-ring" for="button" aria-hidden="true"><template shadowrootmode="open"><!----></template></md-focus-ring>
        <!--?lit$160999733$--><md-ripple aria-hidden="true"><template shadowrootmode="open"><!----><div class="surface   "></div></template></md-ripple>
        <!--?lit$160999733$--><span class="icon"><slot></slot></span>
        <!--?lit$160999733$-->
        <!--?lit$160999733$--><span class="touch"></span>
  </button></template>
        <md-icon aria-hidden="true"><template shadowrootmode="open"><!----><slot></slot></template><!--?lit$160999733$--><svg viewBox="0 0 24 24"><!--?lit$160999733$--><path d="m15.9 3.07c-4.32 0.0742-8.64-0.0355-13 0.0568-1.37 0.307-1.74 2.1-1.41 3.26 0.469 0.606 1.86 0.384 1.66-0.525 0.0448-0.329-0.183-0.93 0.354-0.766h13.3v1.53h1.71c0.0709-1.13 0.141-2.62-0.968-3.3-0.511-0.264-1.11-0.252-1.67-0.259zm2.94 6.84v4.87c1.62-1.62 3.24-3.24 4.87-4.87h-4.87zm0 0h-1.71v3.43l1.57 1.57c0.32-1.65 0.0556-3.34 0.135-5zm-1.71 3.43v-3.43h-3.43c1.14 1.14 2.29 2.29 3.43 3.43zm1.4 4.27h-1.71v1.48h-13.6v-1.48h-1.71c-0.0473 1.15-0.16 2.72 1.09 3.29 1.47 0.506 3.02 0.0265 4.53 0.192 3.34-0.0051 6.68 0.0336 10-0.0245 1.49-0.366 1.56-2.22 1.42-3.45zm-10.1-1.12c-0.398-0.483-0.796-0.967-1.19-1.45 0.59-0.683 1.18-1.37 1.77-2.05h-8.67v-2h8.67c-0.59-0.683-1.18-1.37-1.77-2.05 0.398-0.483 0.796-0.967 1.19-1.45 1.28 1.5 2.56 3 3.84 4.5-1.28 1.5-2.56 3-3.84 4.5z"></path></svg></md-icon>
      </md-icon-button>
      <colab-tooltip-trigger aria-hidden="true" id="button-output-actions-tooltip" for="button-output-actions" message="Code cell output actions"><template shadowrootmode="open"><!----><!--?lit$160999733$--><!----><div><!--?lit$160999733$-->Code cell output actions</div><!----><!--?--></template></colab-tooltip-trigger></template></colab-output-info></div>
          <div class="output-iframe-container">
            <div class="output-iframe-sizer" style="min-height: 0px;"> <div><div><colab-static-output-renderer role="group" tabindex="0"><div><div class="stream output-id-1 output_text"><pre>     Ville (L/100 km)  Route (L/100 km)  kombinasi (L/100 km)  \
0                 8.1               6.5                   7.4   
1                 8.9               6.5                   7.8   
2                11.1               8.3                   9.9   
3                12.6               9.4                  11.2   
4                13.8              11.2                  12.4   
..                ...               ...                   ...   
637               9.7               7.5                   8.7   
638              10.7               8.1                   9.5   
639              10.1               7.8                   9.1   
640              10.0               7.8                   9.0   
641              11.5               9.0                  10.4   

     Emisi CO2 (g/km)  
0                 172  
1                 181  
2                 230  
3                 263  
4                 291  
..                ...  
637               205  
638               223  
639               213  
640               212  
641               244  

[642 rows x 4 columns]
</pre></div></div><div></div></colab-static-output-renderer></div></div></div>
          </div>
        </div></div></div><colab-cell-next-steps><template shadowrootmode="open"><!----></template></colab-cell-next-steps></div></div><div class="add-cell">
      <div class="add-cell-buttons">
        <md-outlined-button class="add-code add-button" data-aria-label="Add code cell
Ctrl+M B" title="Add code cell
Ctrl+M B" value="" has-icon=""><template shadowrootmode="open" shadowrootdelegatesfocus><!---->
      <!--?lit$160999733$--><div class="outline"></div>
      <div class="background"></div>
      <md-focus-ring part="focus-ring" for="button" aria-hidden="true"><template shadowrootmode="open"><!----></template></md-focus-ring>
      <md-ripple part="ripple" for="button" aria-hidden="true"><template shadowrootmode="open"><!----><div class="surface   "></div></template></md-ripple>
      <!--?lit$160999733$--><button id="button" class="button" aria-label="Add code cell
Ctrl+M B">
      <!--?lit$160999733$-->
      <span class="touch"></span>
      <!--?lit$160999733$--><slot name="icon"></slot>
      <span class="label"><slot></slot></span>
      <!--?lit$160999733$-->
    
    </button>
    </template>
          <md-icon slot="icon" aria-hidden="true"><template shadowrootmode="open"><!----><slot></slot></template>add</md-icon>
          <!--?lit$160999733$-->Code
        </md-outlined-button>
        <md-outlined-button class="add-text add-button" data-aria-label="Add text cell" title="Add text cell" value="" has-icon=""><template shadowrootmode="open" shadowrootdelegatesfocus><!---->
      <!--?lit$160999733$--><div class="outline"></div>
      <div class="background"></div>
      <md-focus-ring part="focus-ring" for="button" aria-hidden="true"><template shadowrootmode="open"><!----></template></md-focus-ring>
      <md-ripple part="ripple" for="button" aria-hidden="true"><template shadowrootmode="open"><!----><div class="surface   "></div></template></md-ripple>
      <!--?lit$160999733$--><button id="button" class="button" aria-label="Add text cell">
      <!--?lit$160999733$-->
      <span class="touch"></span>
      <!--?lit$160999733$--><slot name="icon"></slot>
      <span class="label"><slot></slot></span>
      <!--?lit$160999733$-->
    
    </button>
    </template>
          <md-icon slot="icon" aria-hidden="true"><template shadowrootmode="open"><!----><slot></slot></template>add</md-icon>
          <!--?lit$160999733$-->Text
        </md-outlined-button>
        <!--?lit$160999733$-->
      </div><hr>
    </div></div><div class="cell text" id="cell-0r_ofYiIVdvw" role="region" aria-label="Cell 6: Text cell: Analisis" style="" tabindex="-1"><div class="agent-focus-label">
      <md-icon aria-hidden="true"><template shadowrootmode="open"><!----><slot></slot></template>spark</md-icon>
      <!--?lit$160999733$-->Gemini
    </div><div class="cell-tag-editor sticky"></div><div class="cell-toolbar sticky"></div><div class="main-content" elevation="0"><div class="cell-contents"><div class="cell-mask"></div><span class="imported-info-area"></span><!----> <div class="toolbar-root"></div>
      <div class="editor-container horizontal">
        <div class="editor-root"></div>
        <div class="text-top-div">
          <div class="markdown"><span><div class="text-cell-section-header layout horizontal center"><md-icon-button class="header-section-toggle" title="Collapse 14 child cells under Analisis (Press &lt;Shift&gt; to also collapse sibling sections)" data-aria-label="Collapse 14 child cells under Analisis (Press &lt;Shift&gt; to also collapse sibling sections)" value=""><template shadowrootmode="open" shadowrootdelegatesfocus><!----><button id="button" class="icon-button  standard " aria-label="Collapse 14 child cells under Analisis (Press &lt;Shift&gt; to also collapse sibling sections)">
        <!--?lit$160999733$--><md-focus-ring part="focus-ring" for="button" aria-hidden="true"><template shadowrootmode="open"><!----></template></md-focus-ring>
        <!--?lit$160999733$--><md-ripple aria-hidden="true"><template shadowrootmode="open"><!----><div class="surface"></div></template></md-ripple>
        <!--?lit$160999733$--><span class="icon"><slot></slot></span>
        <!--?lit$160999733$-->
        <!--?lit$160999733$--><span class="touch"></span>
  </button></template><md-icon aria-hidden="true"><template shadowrootmode="open"><!----><slot></slot></template>keyboard_arrow_down</md-icon></md-icon-button><h1><strong>Analisis</strong></h1></div>
</span></div>
        </div>
      </div>

      <div class="section-header" style="display: none;">
        <colab-run-button><template shadowrootmode="open"><!----> <div class="cell-execution">
      <button id="run-button" aria-label="Run cell" aria-disabled="false">
        <!--?lit$160999733$--><span class="execution-count"><!--?lit$160999733$-->[ ]</span>
        <span aria-hidden="true" class="cell-execution-indicator"><!--?lit$160999733$-->
<svg xmlns="http://www.w3.org/2000/svg" viewBox="0 0 24 24">
  <!--?lit$160999733$-->
  <mask id="playSymbolMask">
    <rect width="100%" height="100%" fill="white"></rect>
    <polygon points="10,8 17,12 10,16" fill="black"></polygon>
  </mask>
  <circle cx="12" cy="12" r="7.8" mask="url(#playSymbolMask)" id="filledCircle"></circle>
</svg></span>
      </button>
      <!--?lit$160999733$-->
      <!--?lit$160999733$--><!--?-->
    </div></template></colab-run-button>
        <div class="section-header-container" title="click to expand">
          <md-icon aria-hidden="true"><template shadowrootmode="open"><!----><slot></slot></template>subdirectory_arrow_right</md-icon>
          <span>14 cells hidden</span>
        </div>
      </div></div></div><div class="add-cell">
      <hr>
    </div></div><div class="cell text" id="cell-xJ_HTp6JWnzF" role="region" aria-label="Cell 7: Text cell: " style="" tabindex="-1"><div class="agent-focus-label">
      <md-icon aria-hidden="true"><template shadowrootmode="open"><!----><slot></slot></template>spark</md-icon>
      <!--?lit$160999733$-->Gemini
    </div><div class="cell-tag-editor sticky"></div><div class="cell-toolbar sticky"></div><div class="main-content" elevation="0"><div class="cell-contents"><div class="cell-mask"></div><span class="imported-info-area"></span><!----> <div class="toolbar-root"></div>
      <div class="editor-container horizontal">
        <div class="editor-root"></div>
        <div class="text-top-div">
          <div class="markdown"><span><p>Menghitung matriks kolerasi</p>
</span></div>
        </div>
      </div>

      <div class="section-header" style="display: none;">
        <colab-run-button><template shadowrootmode="open"><!----> <div class="cell-execution">
      <button id="run-button" aria-label="Run cell" aria-disabled="false">
        <!--?lit$160999733$--><span class="execution-count"><!--?lit$160999733$-->[ ]</span>
        <span aria-hidden="true" class="cell-execution-indicator"><!--?lit$160999733$-->
<svg xmlns="http://www.w3.org/2000/svg" viewBox="0 0 24 24">
  <!--?lit$160999733$-->
  <mask id="playSymbolMask">
    <rect width="100%" height="100%" fill="white"></rect>
    <polygon points="10,8 17,12 10,16" fill="black"></polygon>
  </mask>
  <circle cx="12" cy="12" r="7.8" mask="url(#playSymbolMask)" id="filledCircle"></circle>
</svg></span>
      </button>
      <!--?lit$160999733$-->
      <!--?lit$160999733$--><!--?-->
    </div></template></colab-run-button>
        <div class="section-header-container" title="click to expand">
          <md-icon aria-hidden="true"><template shadowrootmode="open"><!----><slot></slot></template>subdirectory_arrow_right</md-icon>
          <span>0 cells hidden</span>
        </div>
      </div></div></div><div class="add-cell">
      <div class="add-cell-buttons">
        <md-outlined-button class="add-code add-button" data-aria-label="Add code cell
Ctrl+M B" title="Add code cell
Ctrl+M B" value="" has-icon=""><template shadowrootmode="open" shadowrootdelegatesfocus><!---->
      <!--?lit$160999733$--><div class="outline"></div>
      <div class="background"></div>
      <md-focus-ring part="focus-ring" for="button" aria-hidden="true"><template shadowrootmode="open"><!----></template></md-focus-ring>
      <md-ripple part="ripple" for="button" aria-hidden="true"><template shadowrootmode="open"><!----><div class="surface   "></div></template></md-ripple>
      <!--?lit$160999733$--><button id="button" class="button" aria-label="Add code cell
Ctrl+M B">
      <!--?lit$160999733$-->
      <span class="touch"></span>
      <!--?lit$160999733$--><slot name="icon"></slot>
      <span class="label"><slot></slot></span>
      <!--?lit$160999733$-->
    
    </button>
    </template>
          <md-icon slot="icon" aria-hidden="true"><template shadowrootmode="open"><!----><slot></slot></template>add</md-icon>
          <!--?lit$160999733$-->Code
        </md-outlined-button>
        <md-outlined-button class="add-text add-button" data-aria-label="Add text cell" title="Add text cell" value="" has-icon=""><template shadowrootmode="open" shadowrootdelegatesfocus><!---->
      <!--?lit$160999733$--><div class="outline"></div>
      <div class="background"></div>
      <md-focus-ring part="focus-ring" for="button" aria-hidden="true"><template shadowrootmode="open"><!----></template></md-focus-ring>
      <md-ripple part="ripple" for="button" aria-hidden="true"><template shadowrootmode="open"><!----><div class="surface   "></div></template></md-ripple>
      <!--?lit$160999733$--><button id="button" class="button" aria-label="Add text cell">
      <!--?lit$160999733$-->
      <span class="touch"></span>
      <!--?lit$160999733$--><slot name="icon"></slot>
      <span class="label"><slot></slot></span>
      <!--?lit$160999733$-->
    
    </button>
    </template>
          <md-icon slot="icon" aria-hidden="true"><template shadowrootmode="open"><!----><slot></slot></template>add</md-icon>
          <!--?lit$160999733$-->Text
        </md-outlined-button>
        <!--?lit$160999733$-->
      </div><hr>
    </div></div><div class="cell code icon-scrolling code-has-output" id="cell-fS9ENKhcWYVT" role="region" aria-label="Cell 8: Code cell: " style="" tabindex="-1"><div class="agent-focus-label">
      <md-icon aria-hidden="true"><template shadowrootmode="open"><!----><slot></slot></template>spark</md-icon>
      <!--?lit$160999733$-->Gemini
    </div><div class="cell-tag-editor sticky"></div><div class="cell-toolbar sticky"></div><div class="main-content" elevation="0"><div class="cell-contents"><div class="cell-mask"></div><span class="imported-info-area"></span><div class="codecell-input-output">
      <div class="inputarea horizontal layout code">
        <div class="cell-gutter">
          <!-- Bounding range for vertical scrolling of icons -->
          <div class="cell-execution-container">
            <colab-run-button><template shadowrootmode="open"><!----> <div class="cell-execution hovered">
      <button id="run-button" aria-describedby="run-button-tooltip" aria-label="Run cell" aria-disabled="false">
        <!--?lit$160999733$--><span class="execution-count"><!--?lit$160999733$-->[8]</span>
        <span aria-hidden="true" class="cell-execution-indicator"><!--?lit$160999733$-->
<svg xmlns="http://www.w3.org/2000/svg" viewBox="0 0 24 24">
  <!--?lit$160999733$-->
  <mask id="playSymbolMask">
    <rect width="100%" height="100%" fill="white"></rect>
    <polygon points="10,8 17,12 10,16" fill="black"></polygon>
  </mask>
  <circle cx="12" cy="12" r="7.8" mask="url(#playSymbolMask)" id="filledCircle"></circle>
</svg></span>
      </button>
      <!--?lit$160999733$--><colab-tooltip-trigger for="run-button" id="run-button-tooltip" aria-hidden="true" message="Run cell (Ctrl+Enter)
cell executed since last change

executed by Sabita Alya P
10:19 PM (0 minutes ago)
executed in 0.016s"><template shadowrootmode="open"><!----><!--?lit$160999733$--><!----><div><!--?lit$160999733$-->Run cell (Ctrl+Enter)</div><!----><!----><div><!--?lit$160999733$-->cell executed since last change</div><!----><!----><br><!----><!----><div><!--?lit$160999733$-->executed by Sabita Alya P</div><!----><!----><div><!--?lit$160999733$-->10:19 PM (0 minutes ago)</div><!----><!----><div><!--?lit$160999733$-->executed in 0.016s</div><!----><!--?--></template>
    </colab-tooltip-trigger>
      <!--?lit$160999733$--><div id="status" class="last-run">
      <md-icon aria-hidden="true"><template shadowrootmode="open"><!----><slot></slot></template><!--?lit$160999733$--><svg viewBox="0 0 24 24"><!--?lit$160999733$--><path d="M9 16.17L4.83 12l-1.42 1.41L9 19 21 7l-1.41-1.41z"></path></svg></md-icon>
      <div><!--?lit$160999733$-->0s</div>
    </div>
    </div></template></colab-run-button>
          </div>
        </div>
      <div class="editor flex lazy-editor" style=""><pre class="lazy-virtualized" style="font-size: 14px; line-height: 19px;"><pre class="lazy-gutter"></pre><pre class="monaco-colorized colab colab colab colab colab colab colab colab colab colab" data-lang="notebook-python"><span><span class="mtk1">correlation_matrix&nbsp;=&nbsp;data.corr()</span></span><br><span><span class="mtk15">print</span><span class="mtk1">(correlation_matrix)</span></span><br></pre><colab-read-only-cell-placeholder style="display: none;"><template shadowrootmode="open"><!----><div><!--?lit$160999733$-->Start coding or <span role="button" class="link" tabindex="0">generate</span> with AI.</div></template></colab-read-only-cell-placeholder></pre></div><colab-form class="formview vertical layout flex"><div class="widget-area vertical layout"></div></colab-form></div>
    <div class="output" aria-label="Cell 8 output" role="region"><!----> <div class="output-header"> </div>
        <div class="output-content">
          <div class="output-info"><colab-output-info><template shadowrootmode="open"><!----><md-icon-button data-aria-expanded="false" data-aria-haspopup="menu" aria-describedby="button-output-actions-tooltip" data-aria-label="Code cell output actions" id="button-output-actions" value=""><template shadowrootmode="open" shadowrootdelegatesfocus><!----><button id="button" class="icon-button  standard " aria-label="Code cell output actions" aria-haspopup="menu" aria-expanded="false">
        <!--?lit$160999733$--><md-focus-ring part="focus-ring" for="button" aria-hidden="true"><template shadowrootmode="open"><!----></template></md-focus-ring>
        <!--?lit$160999733$--><md-ripple aria-hidden="true"><template shadowrootmode="open"><!----><div class="surface"></div></template></md-ripple>
        <!--?lit$160999733$--><span class="icon"><slot></slot></span>
        <!--?lit$160999733$-->
        <!--?lit$160999733$--><span class="touch"></span>
  </button></template>
        <md-icon aria-hidden="true"><template shadowrootmode="open"><!----><slot></slot></template><!--?lit$160999733$--><svg viewBox="0 0 24 24"><!--?lit$160999733$--><path d="m15.9 3.07c-4.32 0.0742-8.64-0.0355-13 0.0568-1.37 0.307-1.74 2.1-1.41 3.26 0.469 0.606 1.86 0.384 1.66-0.525 0.0448-0.329-0.183-0.93 0.354-0.766h13.3v1.53h1.71c0.0709-1.13 0.141-2.62-0.968-3.3-0.511-0.264-1.11-0.252-1.67-0.259zm2.94 6.84v4.87c1.62-1.62 3.24-3.24 4.87-4.87h-4.87zm0 0h-1.71v3.43l1.57 1.57c0.32-1.65 0.0556-3.34 0.135-5zm-1.71 3.43v-3.43h-3.43c1.14 1.14 2.29 2.29 3.43 3.43zm1.4 4.27h-1.71v1.48h-13.6v-1.48h-1.71c-0.0473 1.15-0.16 2.72 1.09 3.29 1.47 0.506 3.02 0.0265 4.53 0.192 3.34-0.0051 6.68 0.0336 10-0.0245 1.49-0.366 1.56-2.22 1.42-3.45zm-10.1-1.12c-0.398-0.483-0.796-0.967-1.19-1.45 0.59-0.683 1.18-1.37 1.77-2.05h-8.67v-2h8.67c-0.59-0.683-1.18-1.37-1.77-2.05 0.398-0.483 0.796-0.967 1.19-1.45 1.28 1.5 2.56 3 3.84 4.5-1.28 1.5-2.56 3-3.84 4.5z"></path></svg></md-icon>
      </md-icon-button>
      <colab-tooltip-trigger aria-hidden="true" id="button-output-actions-tooltip" for="button-output-actions" message="Code cell output actions"><template shadowrootmode="open"><!----><!--?lit$160999733$--><!----><div><!--?lit$160999733$-->Code cell output actions</div><!----><!--?--></template></colab-tooltip-trigger></template></colab-output-info></div>
          <div class="output-iframe-container">
            <div class="output-iframe-sizer" style="min-height: 0px;"> <div><div><colab-static-output-renderer role="group" tabindex="0"><div><div class="stream output-id-1 output_text"><pre>                      Ville (L/100 km)  Route (L/100 km)  \
Ville (L/100 km)              1.000000          0.909671   
Route (L/100 km)              0.909671          1.000000   
kombinasi (L/100 km)          0.986990          0.961539   
Emisi CO2 (g/km)              0.975617          0.951061   

                      kombinasi (L/100 km)  Emisi CO2 (g/km)  
Ville (L/100 km)                  0.986990          0.975617  
Route (L/100 km)                  0.961539          0.951061  
kombinasi (L/100 km)              1.000000          0.988786  
Emisi CO2 (g/km)                  0.988786          1.000000  
</pre></div></div><div></div></colab-static-output-renderer></div></div></div>
          </div>
        </div></div></div><colab-cell-next-steps><template shadowrootmode="open"><!----></template></colab-cell-next-steps></div></div><div class="add-cell">
      <div class="add-cell-buttons">
        <md-outlined-button class="add-code add-button" data-aria-label="Add code cell
Ctrl+M B" title="Add code cell
Ctrl+M B" value="" has-icon=""><template shadowrootmode="open" shadowrootdelegatesfocus><!---->
      <!--?lit$160999733$--><div class="outline"></div>
      <div class="background"></div>
      <md-focus-ring part="focus-ring" for="button" aria-hidden="true"><template shadowrootmode="open"><!----></template></md-focus-ring>
      <md-ripple part="ripple" for="button" aria-hidden="true"><template shadowrootmode="open"><!----><div class="surface   "></div></template></md-ripple>
      <!--?lit$160999733$--><button id="button" class="button" aria-label="Add code cell
Ctrl+M B">
      <!--?lit$160999733$-->
      <span class="touch"></span>
      <!--?lit$160999733$--><slot name="icon"></slot>
      <span class="label"><slot></slot></span>
      <!--?lit$160999733$-->
    
    </button>
    </template>
          <md-icon slot="icon" aria-hidden="true"><template shadowrootmode="open"><!----><slot></slot></template>add</md-icon>
          <!--?lit$160999733$-->Code
        </md-outlined-button>
        <md-outlined-button class="add-text add-button" data-aria-label="Add text cell" title="Add text cell" value="" has-icon=""><template shadowrootmode="open" shadowrootdelegatesfocus><!---->
      <!--?lit$160999733$--><div class="outline"></div>
      <div class="background"></div>
      <md-focus-ring part="focus-ring" for="button" aria-hidden="true"><template shadowrootmode="open"><!----></template></md-focus-ring>
      <md-ripple part="ripple" for="button" aria-hidden="true"><template shadowrootmode="open"><!----><div class="surface   "></div></template></md-ripple>
      <!--?lit$160999733$--><button id="button" class="button" aria-label="Add text cell">
      <!--?lit$160999733$-->
      <span class="touch"></span>
      <!--?lit$160999733$--><slot name="icon"></slot>
      <span class="label"><slot></slot></span>
      <!--?lit$160999733$-->
    
    </button>
    </template>
          <md-icon slot="icon" aria-hidden="true"><template shadowrootmode="open"><!----><slot></slot></template>add</md-icon>
          <!--?lit$160999733$-->Text
        </md-outlined-button>
        <!--?lit$160999733$-->
      </div><hr>
    </div></div><div class="cell text" id="cell-bTbTKHRZX0RY" role="region" aria-label="Cell 9: Text cell: " style="" tabindex="-1"><div class="agent-focus-label">
      <md-icon aria-hidden="true"><template shadowrootmode="open"><!----><slot></slot></template>spark</md-icon>
      <!--?lit$160999733$-->Gemini
    </div><div class="cell-tag-editor sticky"></div><div class="cell-toolbar sticky"></div><div class="main-content" elevation="0"><div class="cell-contents"><div class="cell-mask"></div><span class="imported-info-area"></span><!----> <div class="toolbar-root"></div>
      <div class="editor-container horizontal">
        <div class="editor-root"></div>
        <div class="text-top-div">
          <div class="markdown"><span><p>Kode di atas menghitung dan menampilkan matriks korelasi dari DataFrame. Matriks korelasi menunjukkan hubungan linear antara setiap pasangan kolom numerik dalam DataFrame.</p>
</span></div>
        </div>
      </div>

      <div class="section-header" style="display: none;">
        <colab-run-button><template shadowrootmode="open"><!----> <div class="cell-execution">
      <button id="run-button" aria-label="Run cell" aria-disabled="false">
        <!--?lit$160999733$--><span class="execution-count"><!--?lit$160999733$-->[ ]</span>
        <span aria-hidden="true" class="cell-execution-indicator"><!--?lit$160999733$-->
<svg xmlns="http://www.w3.org/2000/svg" viewBox="0 0 24 24">
  <!--?lit$160999733$-->
  <mask id="playSymbolMask">
    <rect width="100%" height="100%" fill="white"></rect>
    <polygon points="10,8 17,12 10,16" fill="black"></polygon>
  </mask>
  <circle cx="12" cy="12" r="7.8" mask="url(#playSymbolMask)" id="filledCircle"></circle>
</svg></span>
      </button>
      <!--?lit$160999733$-->
      <!--?lit$160999733$--><!--?-->
    </div></template></colab-run-button>
        <div class="section-header-container" title="click to expand">
          <md-icon aria-hidden="true"><template shadowrootmode="open"><!----><slot></slot></template>subdirectory_arrow_right</md-icon>
          <span>0 cells hidden</span>
        </div>
      </div></div></div><div class="add-cell">
      <hr>
    </div></div><div class="cell text" id="cell-s16h134eapyP" role="region" aria-label="Cell 10: Text cell: " style="" tabindex="-1"><div class="agent-focus-label">
      <md-icon aria-hidden="true"><template shadowrootmode="open"><!----><slot></slot></template>spark</md-icon>
      <!--?lit$160999733$-->Gemini
    </div><div class="cell-tag-editor sticky"></div><div class="cell-toolbar sticky"></div><div class="main-content" elevation="0"><div class="cell-contents"><div class="cell-mask"></div><span class="imported-info-area"></span><!----> <div class="toolbar-root"></div>
      <div class="editor-container horizontal">
        <div class="editor-root"></div>
        <div class="text-top-div">
          <div class="markdown"><span><p>Membuat matriks kolerasi</p>
</span></div>
        </div>
      </div>

      <div class="section-header" style="display: none;">
        <colab-run-button><template shadowrootmode="open"><!----> <div class="cell-execution">
      <button id="run-button" aria-label="Run cell" aria-disabled="false">
        <!--?lit$160999733$--><span class="execution-count"><!--?lit$160999733$-->[ ]</span>
        <span aria-hidden="true" class="cell-execution-indicator"><!--?lit$160999733$-->
<svg xmlns="http://www.w3.org/2000/svg" viewBox="0 0 24 24">
  <!--?lit$160999733$-->
  <mask id="playSymbolMask">
    <rect width="100%" height="100%" fill="white"></rect>
    <polygon points="10,8 17,12 10,16" fill="black"></polygon>
  </mask>
  <circle cx="12" cy="12" r="7.8" mask="url(#playSymbolMask)" id="filledCircle"></circle>
</svg></span>
      </button>
      <!--?lit$160999733$-->
      <!--?lit$160999733$--><!--?-->
    </div></template></colab-run-button>
        <div class="section-header-container" title="click to expand">
          <md-icon aria-hidden="true"><template shadowrootmode="open"><!----><slot></slot></template>subdirectory_arrow_right</md-icon>
          <span>0 cells hidden</span>
        </div>
      </div></div></div><div class="add-cell">
      <div class="add-cell-buttons">
        <md-outlined-button class="add-code add-button" data-aria-label="Add code cell
Ctrl+M B" title="Add code cell
Ctrl+M B" value="" has-icon=""><template shadowrootmode="open" shadowrootdelegatesfocus><!---->
      <!--?lit$160999733$--><div class="outline"></div>
      <div class="background"></div>
      <md-focus-ring part="focus-ring" for="button" aria-hidden="true"><template shadowrootmode="open"><!----></template></md-focus-ring>
      <md-ripple part="ripple" for="button" aria-hidden="true"><template shadowrootmode="open"><!----><div class="surface   "></div></template></md-ripple>
      <!--?lit$160999733$--><button id="button" class="button" aria-label="Add code cell
Ctrl+M B">
      <!--?lit$160999733$-->
      <span class="touch"></span>
      <!--?lit$160999733$--><slot name="icon"></slot>
      <span class="label"><slot></slot></span>
      <!--?lit$160999733$-->
    
    </button>
    </template>
          <md-icon slot="icon" aria-hidden="true"><template shadowrootmode="open"><!----><slot></slot></template>add</md-icon>
          <!--?lit$160999733$-->Code
        </md-outlined-button>
        <md-outlined-button class="add-text add-button" data-aria-label="Add text cell" title="Add text cell" value="" has-icon=""><template shadowrootmode="open" shadowrootdelegatesfocus><!---->
      <!--?lit$160999733$--><div class="outline"></div>
      <div class="background"></div>
      <md-focus-ring part="focus-ring" for="button" aria-hidden="true"><template shadowrootmode="open"><!----></template></md-focus-ring>
      <md-ripple part="ripple" for="button" aria-hidden="true"><template shadowrootmode="open"><!----><div class="surface   "></div></template></md-ripple>
      <!--?lit$160999733$--><button id="button" class="button" aria-label="Add text cell">
      <!--?lit$160999733$-->
      <span class="touch"></span>
      <!--?lit$160999733$--><slot name="icon"></slot>
      <span class="label"><slot></slot></span>
      <!--?lit$160999733$-->
    
    </button>
    </template>
          <md-icon slot="icon" aria-hidden="true"><template shadowrootmode="open"><!----><slot></slot></template>add</md-icon>
          <!--?lit$160999733$-->Text
        </md-outlined-button>
        <!--?lit$160999733$-->
      </div><hr>
    </div></div><div class="cell code icon-scrolling code-has-output" id="cell-05M0P6VSaEKn" role="region" aria-label="Cell 11: Code cell: " style="" tabindex="-1"><div class="agent-focus-label">
      <md-icon aria-hidden="true"><template shadowrootmode="open"><!----><slot></slot></template>spark</md-icon>
      <!--?lit$160999733$-->Gemini
    </div><div class="cell-tag-editor sticky"></div><div class="cell-toolbar sticky"></div><div class="main-content" elevation="0"><div class="cell-contents"><div class="cell-mask"></div><span class="imported-info-area"></span><div class="codecell-input-output">
      <div class="inputarea horizontal layout code">
        <div class="cell-gutter">
          <!-- Bounding range for vertical scrolling of icons -->
          <div class="cell-execution-container">
            <colab-run-button><template shadowrootmode="open"><!----> <div class="cell-execution">
      <button id="run-button" aria-describedby="run-button-tooltip" aria-label="Run cell" aria-disabled="false">
        <!--?lit$160999733$--><span class="execution-count"><!--?lit$160999733$-->[10]</span>
        <span aria-hidden="true" class="cell-execution-indicator"><!--?lit$160999733$-->
<svg xmlns="http://www.w3.org/2000/svg" viewBox="0 0 24 24">
  <!--?lit$160999733$-->
  <mask id="playSymbolMask">
    <rect width="100%" height="100%" fill="white"></rect>
    <polygon points="10,8 17,12 10,16" fill="black"></polygon>
  </mask>
  <circle cx="12" cy="12" r="7.8" mask="url(#playSymbolMask)" id="filledCircle"></circle>
</svg></span>
      </button>
      <!--?lit$160999733$--><colab-tooltip-trigger for="run-button" id="run-button-tooltip" aria-hidden="true" message="Run cell (Ctrl+Enter)
cell executed since last change

executed by Sabita Alya P
10:19 PM (0 minutes ago)
executed in 0.282s"><template shadowrootmode="open"><!----><!--?lit$160999733$--><!----><div><!--?lit$160999733$-->Run cell (Ctrl+Enter)</div><!----><!----><div><!--?lit$160999733$-->cell executed since last change</div><!----><!----><br><!----><!----><div><!--?lit$160999733$-->executed by Sabita Alya P</div><!----><!----><div><!--?lit$160999733$-->10:19 PM (0 minutes ago)</div><!----><!----><div><!--?lit$160999733$-->executed in 0.282s</div><!----><!--?--></template>
    </colab-tooltip-trigger>
      <!--?lit$160999733$--><div id="status" class="last-run">
      <md-icon aria-hidden="true"><template shadowrootmode="open"><!----><slot></slot></template><!--?lit$160999733$--><svg viewBox="0 0 24 24"><!--?lit$160999733$--><path d="M9 16.17L4.83 12l-1.42 1.41L9 19 21 7l-1.41-1.41z"></path></svg></md-icon>
      <div><!--?lit$160999733$-->0s</div>
    </div>
    </div></template></colab-run-button>
          </div>
        </div>
      <div class="editor flex lazy-editor" style=""><pre class="lazy-virtualized" style="font-size: 14px; line-height: 19px;"><pre class="lazy-gutter"></pre><pre class="monaco-colorized colab colab colab colab colab colab colab colab colab colab colab colab" data-lang="notebook-python"><span><span class="mtk8">#&nbsp;Membuat&nbsp;mask&nbsp;untuk&nbsp;upper&nbsp;triangle</span></span><br><span><span class="mtk1">mask&nbsp;=&nbsp;np.triu(np.ones_like(correlation_matrix,&nbsp;dt</span><span class="mtk1">ype=</span><span class="mtk14">bool</span><span class="mtk1">))</span></span><br><span><span></span></span><br><span><span class="mtk8">#&nbsp;Membuat&nbsp;heatmap&nbsp;tanpa&nbsp;upper&nbsp;triangle</span></span><br><span><span class="mtk1">plt.figure(figsize=(</span><span class="mtk12">10</span><span class="mtk1">,&nbsp;</span><span class="mtk12">8</span><span class="mtk1">))</span></span><br><span><span class="mtk1">sns.heatmap(correlation_matrix,&nbsp;mask=mask,&nbsp;annot=</span><span class="mtk6">True</span><span class="mtk1">,&nbsp;cmap=</span><span class="mtk26">'coolwarm'</span><span class="mtk1">,&nbsp;linewidths=</span><span class="mtk12">0.5</span><span class="mtk1">)</span></span><br><span><span class="mtk1">plt.title(</span><span class="mtk26">'Correlation&nbsp;Plot&nbsp;(Tanpa&nbsp;Upper&nbsp;Triangle)'</span><span class="mtk1">)</span></span><br><span><span class="mtk1">plt.show()</span></span><br></pre><colab-read-only-cell-placeholder style="display: none;"><template shadowrootmode="open"><!----><div><!--?lit$160999733$-->Start coding or <span role="button" class="link" tabindex="0">generate</span> with AI.</div></template></colab-read-only-cell-placeholder></pre></div><colab-form class="formview vertical layout flex"><div class="widget-area vertical layout"></div></colab-form></div>
    <div class="output" aria-label="Cell 11 output" role="region"><!----> <div class="output-header"> </div>
        <div class="output-content">
          <div class="output-info"><colab-output-info><template shadowrootmode="open"><!----><md-icon-button data-aria-expanded="false" data-aria-haspopup="menu" aria-describedby="button-output-actions-tooltip" data-aria-label="Code cell output actions" id="button-output-actions" value=""><template shadowrootmode="open" shadowrootdelegatesfocus><!----><button id="button" class="icon-button  standard " aria-label="Code cell output actions" aria-haspopup="menu" aria-expanded="false">
        <!--?lit$160999733$--><md-focus-ring part="focus-ring" for="button" aria-hidden="true"><template shadowrootmode="open"><!----></template></md-focus-ring>
        <!--?lit$160999733$--><md-ripple aria-hidden="true"><template shadowrootmode="open"><!----><div class="surface"></div></template></md-ripple>
        <!--?lit$160999733$--><span class="icon"><slot></slot></span>
        <!--?lit$160999733$-->
        <!--?lit$160999733$--><span class="touch"></span>
  </button></template>
        <md-icon aria-hidden="true"><template shadowrootmode="open"><!----><slot></slot></template><!--?lit$160999733$--><svg viewBox="0 0 24 24"><!--?lit$160999733$--><path d="m15.9 3.07c-4.32 0.0742-8.64-0.0355-13 0.0568-1.37 0.307-1.74 2.1-1.41 3.26 0.469 0.606 1.86 0.384 1.66-0.525 0.0448-0.329-0.183-0.93 0.354-0.766h13.3v1.53h1.71c0.0709-1.13 0.141-2.62-0.968-3.3-0.511-0.264-1.11-0.252-1.67-0.259zm2.94 6.84v4.87c1.62-1.62 3.24-3.24 4.87-4.87h-4.87zm0 0h-1.71v3.43l1.57 1.57c0.32-1.65 0.0556-3.34 0.135-5zm-1.71 3.43v-3.43h-3.43c1.14 1.14 2.29 2.29 3.43 3.43zm1.4 4.27h-1.71v1.48h-13.6v-1.48h-1.71c-0.0473 1.15-0.16 2.72 1.09 3.29 1.47 0.506 3.02 0.0265 4.53 0.192 3.34-0.0051 6.68 0.0336 10-0.0245 1.49-0.366 1.56-2.22 1.42-3.45zm-10.1-1.12c-0.398-0.483-0.796-0.967-1.19-1.45 0.59-0.683 1.18-1.37 1.77-2.05h-8.67v-2h8.67c-0.59-0.683-1.18-1.37-1.77-2.05 0.398-0.483 0.796-0.967 1.19-1.45 1.28 1.5 2.56 3 3.84 4.5-1.28 1.5-2.56 3-3.84 4.5z"></path></svg></md-icon>
      </md-icon-button>
      <colab-tooltip-trigger aria-hidden="true" id="button-output-actions-tooltip" for="button-output-actions" message="Code cell output actions"><template shadowrootmode="open"><!----><!--?lit$160999733$--><!----><div><!--?lit$160999733$-->Code cell output actions</div><!----><!--?--></template></colab-tooltip-trigger></template></colab-output-info></div>
          <div class="output-iframe-container">
            <div class="output-iframe-sizer" style="min-height: 0px;"> <div><div class="outputview" style="height: 699px;"><colab-dom-lifecycle-events style="display: none;"></colab-dom-lifecycle-events><iframe allow="accelerometer; autoplay; gyroscope; magnetometer; xr-spatial-tracking; clipboard-write" sandbox="allow-downloads allow-forms allow-pointer-lock allow-popups allow-popups-to-escape-sandbox allow-same-origin allow-scripts allow-storage-access-by-user-activation allow-modals" src="./AVD_TGS1_files/outputframe.html" class="" style="height: 699px;"></iframe></div></div></div>
          </div>
        </div></div></div><colab-cell-next-steps><template shadowrootmode="open"><!----></template></colab-cell-next-steps></div></div><div class="add-cell">
      <div class="add-cell-buttons">
        <md-outlined-button class="add-code add-button" data-aria-label="Add code cell
Ctrl+M B" title="Add code cell
Ctrl+M B" value="" has-icon=""><template shadowrootmode="open" shadowrootdelegatesfocus><!---->
      <!--?lit$160999733$--><div class="outline"></div>
      <div class="background"></div>
      <md-focus-ring part="focus-ring" for="button" aria-hidden="true"><template shadowrootmode="open"><!----></template></md-focus-ring>
      <md-ripple part="ripple" for="button" aria-hidden="true"><template shadowrootmode="open"><!----><div class="surface   "></div></template></md-ripple>
      <!--?lit$160999733$--><button id="button" class="button" aria-label="Add code cell
Ctrl+M B">
      <!--?lit$160999733$-->
      <span class="touch"></span>
      <!--?lit$160999733$--><slot name="icon"></slot>
      <span class="label"><slot></slot></span>
      <!--?lit$160999733$-->
    
    </button>
    </template>
          <md-icon slot="icon" aria-hidden="true"><template shadowrootmode="open"><!----><slot></slot></template>add</md-icon>
          <!--?lit$160999733$-->Code
        </md-outlined-button>
        <md-outlined-button class="add-text add-button" data-aria-label="Add text cell" title="Add text cell" value="" has-icon=""><template shadowrootmode="open" shadowrootdelegatesfocus><!---->
      <!--?lit$160999733$--><div class="outline"></div>
      <div class="background"></div>
      <md-focus-ring part="focus-ring" for="button" aria-hidden="true"><template shadowrootmode="open"><!----></template></md-focus-ring>
      <md-ripple part="ripple" for="button" aria-hidden="true"><template shadowrootmode="open"><!----><div class="surface   "></div></template></md-ripple>
      <!--?lit$160999733$--><button id="button" class="button" aria-label="Add text cell">
      <!--?lit$160999733$-->
      <span class="touch"></span>
      <!--?lit$160999733$--><slot name="icon"></slot>
      <span class="label"><slot></slot></span>
      <!--?lit$160999733$-->
    
    </button>
    </template>
          <md-icon slot="icon" aria-hidden="true"><template shadowrootmode="open"><!----><slot></slot></template>add</md-icon>
          <!--?lit$160999733$-->Text
        </md-outlined-button>
        <!--?lit$160999733$-->
      </div><hr>
    </div></div><div class="cell text" id="cell-G_scnbAGbAqQ" role="region" aria-label="Cell 12: Text cell: " style="" tabindex="-1"><div class="agent-focus-label">
      <md-icon aria-hidden="true"><template shadowrootmode="open"><!----><slot></slot></template>spark</md-icon>
      <!--?lit$160999733$-->Gemini
    </div><div class="cell-tag-editor sticky"></div><div class="cell-toolbar sticky"></div><div class="main-content" elevation="0"><div class="cell-contents"><div class="cell-mask"></div><span class="imported-info-area"></span><!----> <div class="toolbar-root"></div>
      <div class="editor-container horizontal">
        <div class="editor-root"></div>
        <div class="text-top-div">
          <div class="markdown"><span><p>Kode di atas menampilkan heatmap korelasi dari DataFrame, tetapi hanya menampilkan bagian lower triangle (segitiga bawah) dengan menyembunyikan bagian atasnya menggunakan mask. Warna dalam heatmap menunjukkan tingkat korelasi antarvariabel, dengan skala warna dari coolwarm, di mana nilai korelasi lebih tinggi atau lebih rendah ditonjolkan dengan warna yang berbeda.</p>
</span></div>
        </div>
      </div>

      <div class="section-header" style="display: none;">
        <colab-run-button><template shadowrootmode="open"><!----> <div class="cell-execution">
      <button id="run-button" aria-label="Run cell" aria-disabled="false">
        <!--?lit$160999733$--><span class="execution-count"><!--?lit$160999733$-->[ ]</span>
        <span aria-hidden="true" class="cell-execution-indicator"><!--?lit$160999733$-->
<svg xmlns="http://www.w3.org/2000/svg" viewBox="0 0 24 24">
  <!--?lit$160999733$-->
  <mask id="playSymbolMask">
    <rect width="100%" height="100%" fill="white"></rect>
    <polygon points="10,8 17,12 10,16" fill="black"></polygon>
  </mask>
  <circle cx="12" cy="12" r="7.8" mask="url(#playSymbolMask)" id="filledCircle"></circle>
</svg></span>
      </button>
      <!--?lit$160999733$-->
      <!--?lit$160999733$--><!--?-->
    </div></template></colab-run-button>
        <div class="section-header-container" title="click to expand">
          <md-icon aria-hidden="true"><template shadowrootmode="open"><!----><slot></slot></template>subdirectory_arrow_right</md-icon>
          <span>0 cells hidden</span>
        </div>
      </div></div></div><div class="add-cell">
      <div class="add-cell-buttons">
        <md-outlined-button class="add-code add-button" data-aria-label="Add code cell
Ctrl+M B" title="Add code cell
Ctrl+M B" value="" has-icon=""><template shadowrootmode="open" shadowrootdelegatesfocus><!---->
      <!--?lit$160999733$--><div class="outline"></div>
      <div class="background"></div>
      <md-focus-ring part="focus-ring" for="button" aria-hidden="true"><template shadowrootmode="open"><!----></template></md-focus-ring>
      <md-ripple part="ripple" for="button" aria-hidden="true"><template shadowrootmode="open"><!----><div class="surface   "></div></template></md-ripple>
      <!--?lit$160999733$--><button id="button" class="button" aria-label="Add code cell
Ctrl+M B">
      <!--?lit$160999733$-->
      <span class="touch"></span>
      <!--?lit$160999733$--><slot name="icon"></slot>
      <span class="label"><slot></slot></span>
      <!--?lit$160999733$-->
    
    </button>
    </template>
          <md-icon slot="icon" aria-hidden="true"><template shadowrootmode="open"><!----><slot></slot></template>add</md-icon>
          <!--?lit$160999733$-->Code
        </md-outlined-button>
        <md-outlined-button class="add-text add-button" data-aria-label="Add text cell" title="Add text cell" value="" has-icon=""><template shadowrootmode="open" shadowrootdelegatesfocus><!---->
      <!--?lit$160999733$--><div class="outline"></div>
      <div class="background"></div>
      <md-focus-ring part="focus-ring" for="button" aria-hidden="true"><template shadowrootmode="open"><!----></template></md-focus-ring>
      <md-ripple part="ripple" for="button" aria-hidden="true"><template shadowrootmode="open"><!----><div class="surface   "></div></template></md-ripple>
      <!--?lit$160999733$--><button id="button" class="button" aria-label="Add text cell">
      <!--?lit$160999733$-->
      <span class="touch"></span>
      <!--?lit$160999733$--><slot name="icon"></slot>
      <span class="label"><slot></slot></span>
      <!--?lit$160999733$-->
    
    </button>
    </template>
          <md-icon slot="icon" aria-hidden="true"><template shadowrootmode="open"><!----><slot></slot></template>add</md-icon>
          <!--?lit$160999733$-->Text
        </md-outlined-button>
        <!--?lit$160999733$-->
      </div><hr>
    </div></div><div class="cell text" id="cell-8isrwAiMc06E" role="region" aria-label="Cell 13: Text cell: " style="" tabindex="-1"><div class="agent-focus-label">
      <md-icon aria-hidden="true"><template shadowrootmode="open"><!----><slot></slot></template>spark</md-icon>
      <!--?lit$160999733$-->Gemini
    </div><div class="cell-tag-editor sticky"></div><div class="cell-toolbar sticky"></div><div class="main-content" elevation="0"><div class="cell-contents"><div class="cell-mask"></div><span class="imported-info-area"></span><!----> <div class="toolbar-root"></div>
      <div class="editor-container horizontal">
        <div class="editor-root"></div>
        <div class="text-top-div">
          <div class="markdown"><span><p>Membuat model regresi sederhana</p>
</span></div>
        </div>
      </div>

      <div class="section-header" style="display: none;">
        <colab-run-button><template shadowrootmode="open"><!----> <div class="cell-execution">
      <button id="run-button" aria-label="Run cell" aria-disabled="false">
        <!--?lit$160999733$--><span class="execution-count"><!--?lit$160999733$-->[ ]</span>
        <span aria-hidden="true" class="cell-execution-indicator"><!--?lit$160999733$-->
<svg xmlns="http://www.w3.org/2000/svg" viewBox="0 0 24 24">
  <!--?lit$160999733$-->
  <mask id="playSymbolMask">
    <rect width="100%" height="100%" fill="white"></rect>
    <polygon points="10,8 17,12 10,16" fill="black"></polygon>
  </mask>
  <circle cx="12" cy="12" r="7.8" mask="url(#playSymbolMask)" id="filledCircle"></circle>
</svg></span>
      </button>
      <!--?lit$160999733$-->
      <!--?lit$160999733$--><!--?-->
    </div></template></colab-run-button>
        <div class="section-header-container" title="click to expand">
          <md-icon aria-hidden="true"><template shadowrootmode="open"><!----><slot></slot></template>subdirectory_arrow_right</md-icon>
          <span>0 cells hidden</span>
        </div>
      </div></div></div><div class="add-cell">
      <div class="add-cell-buttons">
        <md-outlined-button class="add-code add-button" data-aria-label="Add code cell
Ctrl+M B" title="Add code cell
Ctrl+M B" value="" has-icon=""><template shadowrootmode="open" shadowrootdelegatesfocus><!---->
      <!--?lit$160999733$--><div class="outline"></div>
      <div class="background"></div>
      <md-focus-ring part="focus-ring" for="button" aria-hidden="true"><template shadowrootmode="open"><!----></template></md-focus-ring>
      <md-ripple part="ripple" for="button" aria-hidden="true"><template shadowrootmode="open"><!----><div class="surface   "></div></template></md-ripple>
      <!--?lit$160999733$--><button id="button" class="button" aria-label="Add code cell
Ctrl+M B">
      <!--?lit$160999733$-->
      <span class="touch"></span>
      <!--?lit$160999733$--><slot name="icon"></slot>
      <span class="label"><slot></slot></span>
      <!--?lit$160999733$-->
    
    </button>
    </template>
          <md-icon slot="icon" aria-hidden="true"><template shadowrootmode="open"><!----><slot></slot></template>add</md-icon>
          <!--?lit$160999733$-->Code
        </md-outlined-button>
        <md-outlined-button class="add-text add-button" data-aria-label="Add text cell" title="Add text cell" value="" has-icon=""><template shadowrootmode="open" shadowrootdelegatesfocus><!---->
      <!--?lit$160999733$--><div class="outline"></div>
      <div class="background"></div>
      <md-focus-ring part="focus-ring" for="button" aria-hidden="true"><template shadowrootmode="open"><!----></template></md-focus-ring>
      <md-ripple part="ripple" for="button" aria-hidden="true"><template shadowrootmode="open"><!----><div class="surface   "></div></template></md-ripple>
      <!--?lit$160999733$--><button id="button" class="button" aria-label="Add text cell">
      <!--?lit$160999733$-->
      <span class="touch"></span>
      <!--?lit$160999733$--><slot name="icon"></slot>
      <span class="label"><slot></slot></span>
      <!--?lit$160999733$-->
    
    </button>
    </template>
          <md-icon slot="icon" aria-hidden="true"><template shadowrootmode="open"><!----><slot></slot></template>add</md-icon>
          <!--?lit$160999733$-->Text
        </md-outlined-button>
        <!--?lit$160999733$-->
      </div><hr>
    </div></div><div class="cell code icon-scrolling code-has-output" id="cell-9Iwbh5heclDo" role="region" aria-label="Cell 14: Code cell: " style="" tabindex="-1"><div class="agent-focus-label">
      <md-icon aria-hidden="true"><template shadowrootmode="open"><!----><slot></slot></template>spark</md-icon>
      <!--?lit$160999733$-->Gemini
    </div><div class="cell-tag-editor sticky"></div><div class="cell-toolbar sticky"></div><div class="main-content" elevation="0"><div class="cell-contents"><div class="cell-mask"></div><span class="imported-info-area"></span><div class="codecell-input-output">
      <div class="inputarea horizontal layout code">
        <div class="cell-gutter">
          <!-- Bounding range for vertical scrolling of icons -->
          <div class="cell-execution-container">
            <colab-run-button><template shadowrootmode="open"><!----> <div class="cell-execution">
      <button id="run-button" aria-describedby="run-button-tooltip" aria-label="Run cell" aria-disabled="false">
        <!--?lit$160999733$--><span class="execution-count"><!--?lit$160999733$-->[11]</span>
        <span aria-hidden="true" class="cell-execution-indicator"><!--?lit$160999733$-->
<svg xmlns="http://www.w3.org/2000/svg" viewBox="0 0 24 24">
  <!--?lit$160999733$-->
  <mask id="playSymbolMask">
    <rect width="100%" height="100%" fill="white"></rect>
    <polygon points="10,8 17,12 10,16" fill="black"></polygon>
  </mask>
  <circle cx="12" cy="12" r="7.8" mask="url(#playSymbolMask)" id="filledCircle"></circle>
</svg></span>
      </button>
      <!--?lit$160999733$--><colab-tooltip-trigger for="run-button" id="run-button-tooltip" aria-hidden="true" message="Run cell (Ctrl+Enter)
cell executed since last change

executed by Sabita Alya P
10:19 PM (37 minutes ago)
executed in 0.435s"><template shadowrootmode="open"><!----><!--?lit$160999733$--><!----><div><!--?lit$160999733$-->Run cell (Ctrl+Enter)</div><!----><!----><div><!--?lit$160999733$-->cell executed since last change</div><!----><!----><br><!----><!----><div><!--?lit$160999733$-->executed by Sabita Alya P</div><!----><!----><div><!--?lit$160999733$-->10:19 PM (37 minutes ago)</div><!----><!----><div><!--?lit$160999733$-->executed in 0.435s</div><!----><!--?--></template>
    </colab-tooltip-trigger>
      <!--?lit$160999733$--><div id="status" class="last-run">
      <md-icon aria-hidden="true"><template shadowrootmode="open"><!----><slot></slot></template><!--?lit$160999733$--><svg viewBox="0 0 24 24"><!--?lit$160999733$--><path d="M9 16.17L4.83 12l-1.42 1.41L9 19 21 7l-1.41-1.41z"></path></svg></md-icon>
      <div><!--?lit$160999733$-->0s</div>
    </div>
    </div></template></colab-run-button>
          </div>
        </div>
      <div class="editor flex lazy-editor" style=""><pre class="lazy-virtualized" style="font-size: 14px; line-height: 19px;"><pre class="lazy-gutter"></pre><pre class="monaco-colorized colab colab colab colab colab colab colab colab colab colab colab colab colab colab" data-lang="notebook-python"><span><span class="mtk8">#&nbsp;Plot&nbsp;scatterplot&nbsp;dengan&nbsp;regresi</span></span><br><span><span class="mtk1">plt.figure(figsize=(</span><span class="mtk12">8</span><span class="mtk1">,&nbsp;</span><span class="mtk12">6</span><span class="mtk1">))</span></span><br><span><span class="mtk1">sns.regplot(x=</span><span class="mtk26">"Ville&nbsp;(L/100&nbsp;km)"</span><span class="mtk1">,&nbsp;y=</span><span class="mtk26">"Emisi&nbsp;CO2&nbsp;(g/km)"</span><span class="mtk1">,&nbsp;data=data,&nbsp;scatter_kws={</span><span class="mtk26">"alpha"</span><span class="mtk1">:&nbsp;</span><span class="mtk12">0.5</span><span class="mtk1">})</span></span><br></pre><colab-read-only-cell-placeholder style="display: none;"><template shadowrootmode="open"><!----><div><!--?lit$160999733$-->Start coding or <span role="button" class="link" tabindex="0">generate</span> with AI.</div></template></colab-read-only-cell-placeholder></pre></div><colab-form class="formview vertical layout flex"><div class="widget-area vertical layout"></div></colab-form></div>
    <div class="output" aria-label="Cell 14 output" role="region"><!----> <div class="output-header"> </div>
        <div class="output-content">
          <div class="output-info"><colab-output-info><template shadowrootmode="open"><!----><md-icon-button data-aria-expanded="false" data-aria-haspopup="menu" aria-describedby="button-output-actions-tooltip" data-aria-label="Code cell output actions" id="button-output-actions" value=""><template shadowrootmode="open" shadowrootdelegatesfocus><!----><button id="button" class="icon-button  standard " aria-label="Code cell output actions" aria-haspopup="menu" aria-expanded="false">
        <!--?lit$160999733$--><md-focus-ring part="focus-ring" for="button" aria-hidden="true"><template shadowrootmode="open"><!----></template></md-focus-ring>
        <!--?lit$160999733$--><md-ripple aria-hidden="true"><template shadowrootmode="open"><!----><div class="surface   "></div></template></md-ripple>
        <!--?lit$160999733$--><span class="icon"><slot></slot></span>
        <!--?lit$160999733$-->
        <!--?lit$160999733$--><span class="touch"></span>
  </button></template>
        <md-icon aria-hidden="true"><template shadowrootmode="open"><!----><slot></slot></template><!--?lit$160999733$--><svg viewBox="0 0 24 24"><!--?lit$160999733$--><path d="m15.9 3.07c-4.32 0.0742-8.64-0.0355-13 0.0568-1.37 0.307-1.74 2.1-1.41 3.26 0.469 0.606 1.86 0.384 1.66-0.525 0.0448-0.329-0.183-0.93 0.354-0.766h13.3v1.53h1.71c0.0709-1.13 0.141-2.62-0.968-3.3-0.511-0.264-1.11-0.252-1.67-0.259zm2.94 6.84v4.87c1.62-1.62 3.24-3.24 4.87-4.87h-4.87zm0 0h-1.71v3.43l1.57 1.57c0.32-1.65 0.0556-3.34 0.135-5zm-1.71 3.43v-3.43h-3.43c1.14 1.14 2.29 2.29 3.43 3.43zm1.4 4.27h-1.71v1.48h-13.6v-1.48h-1.71c-0.0473 1.15-0.16 2.72 1.09 3.29 1.47 0.506 3.02 0.0265 4.53 0.192 3.34-0.0051 6.68 0.0336 10-0.0245 1.49-0.366 1.56-2.22 1.42-3.45zm-10.1-1.12c-0.398-0.483-0.796-0.967-1.19-1.45 0.59-0.683 1.18-1.37 1.77-2.05h-8.67v-2h8.67c-0.59-0.683-1.18-1.37-1.77-2.05 0.398-0.483 0.796-0.967 1.19-1.45 1.28 1.5 2.56 3 3.84 4.5-1.28 1.5-2.56 3-3.84 4.5z"></path></svg></md-icon>
      </md-icon-button>
      <colab-tooltip-trigger aria-hidden="true" id="button-output-actions-tooltip" for="button-output-actions" message="Code cell output actions"><template shadowrootmode="open"><!----><!--?lit$160999733$--><!----><div><!--?lit$160999733$-->Code cell output actions</div><!----><!--?--></template></colab-tooltip-trigger></template></colab-output-info></div>
          <div class="output-iframe-container">
            <div class="output-iframe-sizer" style="min-height: 0px;"> <div><div class="outputview" style="height: 559px;"><colab-dom-lifecycle-events style="display: none;"></colab-dom-lifecycle-events><iframe allow="accelerometer; autoplay; gyroscope; magnetometer; xr-spatial-tracking; clipboard-write" sandbox="allow-downloads allow-forms allow-pointer-lock allow-popups allow-popups-to-escape-sandbox allow-same-origin allow-scripts allow-storage-access-by-user-activation allow-modals" src="./AVD_TGS1_files/outputframe(1).html" class="" style="height: 559px;"></iframe></div></div></div>
          </div>
        </div></div></div><colab-cell-next-steps><template shadowrootmode="open"><!----></template></colab-cell-next-steps></div></div><div class="add-cell">
      <div class="add-cell-buttons">
        <md-outlined-button class="add-code add-button" data-aria-label="Add code cell
Ctrl+M B" title="Add code cell
Ctrl+M B" value="" has-icon=""><template shadowrootmode="open" shadowrootdelegatesfocus><!---->
      <!--?lit$160999733$--><div class="outline"></div>
      <div class="background"></div>
      <md-focus-ring part="focus-ring" for="button" aria-hidden="true"><template shadowrootmode="open"><!----></template></md-focus-ring>
      <md-ripple part="ripple" for="button" aria-hidden="true"><template shadowrootmode="open"><!----><div class="surface   "></div></template></md-ripple>
      <!--?lit$160999733$--><button id="button" class="button" aria-label="Add code cell
Ctrl+M B">
      <!--?lit$160999733$-->
      <span class="touch"></span>
      <!--?lit$160999733$--><slot name="icon"></slot>
      <span class="label"><slot></slot></span>
      <!--?lit$160999733$-->
    
    </button>
    </template>
          <md-icon slot="icon" aria-hidden="true"><template shadowrootmode="open"><!----><slot></slot></template>add</md-icon>
          <!--?lit$160999733$-->Code
        </md-outlined-button>
        <md-outlined-button class="add-text add-button" data-aria-label="Add text cell" title="Add text cell" value="" has-icon=""><template shadowrootmode="open" shadowrootdelegatesfocus><!---->
      <!--?lit$160999733$--><div class="outline"></div>
      <div class="background"></div>
      <md-focus-ring part="focus-ring" for="button" aria-hidden="true"><template shadowrootmode="open"><!----></template></md-focus-ring>
      <md-ripple part="ripple" for="button" aria-hidden="true"><template shadowrootmode="open"><!----><div class="surface   "></div></template></md-ripple>
      <!--?lit$160999733$--><button id="button" class="button" aria-label="Add text cell">
      <!--?lit$160999733$-->
      <span class="touch"></span>
      <!--?lit$160999733$--><slot name="icon"></slot>
      <span class="label"><slot></slot></span>
      <!--?lit$160999733$-->
    
    </button>
    </template>
          <md-icon slot="icon" aria-hidden="true"><template shadowrootmode="open"><!----><slot></slot></template>add</md-icon>
          <!--?lit$160999733$-->Text
        </md-outlined-button>
        <!--?lit$160999733$-->
      </div><hr>
    </div></div><div class="cell text" id="cell-To2Ekd0Qdx2v" role="region" aria-label="Cell 15: Text cell: " style="" tabindex="-1"><div class="agent-focus-label">
      <md-icon aria-hidden="true"><template shadowrootmode="open"><!----><slot></slot></template>spark</md-icon>
      <!--?lit$160999733$-->Gemini
    </div><div class="cell-tag-editor sticky"></div><div class="cell-toolbar sticky"></div><div class="main-content" elevation="0"><div class="cell-contents"><div class="cell-mask"></div><span class="imported-info-area"></span><!----> <div class="toolbar-root"></div>
      <div class="editor-container horizontal">
        <div class="editor-root"></div>
        <div class="text-top-div">
          <div class="markdown"><span><p>Kode di atas menampilkan scatter plot dengan garis regresi antara variabel "Ville (L/100 km)" dan "Emisi CO2 (g/km)". Titik-titik pada plot mewakili data, sementara garis regresi menunjukkan tren hubungan linear antara kedua variabel.</p>
</span></div>
        </div>
      </div>

      <div class="section-header" style="display: none;">
        <colab-run-button><template shadowrootmode="open"><!----> <div class="cell-execution">
      <button id="run-button" aria-label="Run cell" aria-disabled="false">
        <!--?lit$160999733$--><span class="execution-count"><!--?lit$160999733$-->[ ]</span>
        <span aria-hidden="true" class="cell-execution-indicator"><!--?lit$160999733$-->
<svg xmlns="http://www.w3.org/2000/svg" viewBox="0 0 24 24">
  <!--?lit$160999733$-->
  <mask id="playSymbolMask">
    <rect width="100%" height="100%" fill="white"></rect>
    <polygon points="10,8 17,12 10,16" fill="black"></polygon>
  </mask>
  <circle cx="12" cy="12" r="7.8" mask="url(#playSymbolMask)" id="filledCircle"></circle>
</svg></span>
      </button>
      <!--?lit$160999733$-->
      <!--?lit$160999733$--><!--?-->
    </div></template></colab-run-button>
        <div class="section-header-container" title="click to expand">
          <md-icon aria-hidden="true"><template shadowrootmode="open"><!----><slot></slot></template>subdirectory_arrow_right</md-icon>
          <span>0 cells hidden</span>
        </div>
      </div></div></div><div class="add-cell">
      <div class="add-cell-buttons">
        <md-outlined-button class="add-code add-button" data-aria-label="Add code cell
Ctrl+M B" title="Add code cell
Ctrl+M B" value="" has-icon=""><template shadowrootmode="open" shadowrootdelegatesfocus><!---->
      <!--?lit$160999733$--><div class="outline"></div>
      <div class="background"></div>
      <md-focus-ring part="focus-ring" for="button" aria-hidden="true"><template shadowrootmode="open"><!----></template></md-focus-ring>
      <md-ripple part="ripple" for="button" aria-hidden="true"><template shadowrootmode="open"><!----><div class="surface   "></div></template></md-ripple>
      <!--?lit$160999733$--><button id="button" class="button" aria-label="Add code cell
Ctrl+M B">
      <!--?lit$160999733$-->
      <span class="touch"></span>
      <!--?lit$160999733$--><slot name="icon"></slot>
      <span class="label"><slot></slot></span>
      <!--?lit$160999733$-->
    
    </button>
    </template>
          <md-icon slot="icon" aria-hidden="true"><template shadowrootmode="open"><!----><slot></slot></template>add</md-icon>
          <!--?lit$160999733$-->Code
        </md-outlined-button>
        <md-outlined-button class="add-text add-button" data-aria-label="Add text cell" title="Add text cell" value="" has-icon=""><template shadowrootmode="open" shadowrootdelegatesfocus><!---->
      <!--?lit$160999733$--><div class="outline"></div>
      <div class="background"></div>
      <md-focus-ring part="focus-ring" for="button" aria-hidden="true"><template shadowrootmode="open"><!----></template></md-focus-ring>
      <md-ripple part="ripple" for="button" aria-hidden="true"><template shadowrootmode="open"><!----><div class="surface   "></div></template></md-ripple>
      <!--?lit$160999733$--><button id="button" class="button" aria-label="Add text cell">
      <!--?lit$160999733$-->
      <span class="touch"></span>
      <!--?lit$160999733$--><slot name="icon"></slot>
      <span class="label"><slot></slot></span>
      <!--?lit$160999733$-->
    
    </button>
    </template>
          <md-icon slot="icon" aria-hidden="true"><template shadowrootmode="open"><!----><slot></slot></template>add</md-icon>
          <!--?lit$160999733$-->Text
        </md-outlined-button>
        <!--?lit$160999733$-->
      </div><hr>
    </div></div><div class="cell code icon-scrolling code-has-output focused" id="cell-qe0vtaLVeZKb" role="region" aria-label="Cell 16: Code cell: " style="" tabindex="-1"><div class="agent-focus-label">
      <md-icon aria-hidden="true"><template shadowrootmode="open"><!----><slot></slot></template>spark</md-icon>
      <!--?lit$160999733$-->Gemini
    </div><div class="cell-tag-editor sticky"></div><div class="cell-toolbar sticky"><colab-cell-toolbar><template shadowrootmode="open"><!----><!--?lit$160999733$--><!----> <md-icon-button touch-target="none" aria-describedby="button-move-cell-up-tooltip" data-aria-label="Move cell up
Ctrl+M K" command="move-cell-up" id="button-move-cell-up" value=""><template shadowrootmode="open" shadowrootdelegatesfocus><!----><button id="button" class="icon-button  standard " aria-label="Move cell up
Ctrl+M K">
        <!--?lit$160999733$--><md-focus-ring part="focus-ring" for="button" aria-hidden="true"><template shadowrootmode="open"><!----></template></md-focus-ring>
        <!--?lit$160999733$--><md-ripple aria-hidden="true"><template shadowrootmode="open"><!----><div class="surface   "></div></template></md-ripple>
        <!--?lit$160999733$--><span class="icon"><slot></slot></span>
        <!--?lit$160999733$-->
        <!--?lit$160999733$--><span class="touch"></span>
  </button></template>
        <md-icon aria-hidden="true"><template shadowrootmode="open"><!----><slot></slot></template><!--?lit$160999733$-->arrow_upward</md-icon>
        <!--?lit$160999733$-->
      </md-icon-button>
      <colab-tooltip-trigger aria-hidden="true" for="button-move-cell-up" id="button-move-cell-up-tooltip" message="Move cell up
Ctrl+M K"><template shadowrootmode="open"><!----><!--?lit$160999733$--><!----><div><!--?lit$160999733$-->Move cell up</div><!----><!----><div><!--?lit$160999733$-->Ctrl+M K</div><!----><!--?--></template>
      </colab-tooltip-trigger><!----><!----> <md-icon-button touch-target="none" aria-describedby="button-move-cell-down-tooltip" data-aria-label="Move cell down
Ctrl+M J" command="move-cell-down" id="button-move-cell-down" value=""><template shadowrootmode="open" shadowrootdelegatesfocus><!----><button id="button" class="icon-button  standard " aria-label="Move cell down
Ctrl+M J">
        <!--?lit$160999733$--><md-focus-ring part="focus-ring" for="button" aria-hidden="true"><template shadowrootmode="open"><!----></template></md-focus-ring>
        <!--?lit$160999733$--><md-ripple aria-hidden="true"><template shadowrootmode="open"><!----><div class="surface   "></div></template></md-ripple>
        <!--?lit$160999733$--><span class="icon"><slot></slot></span>
        <!--?lit$160999733$-->
        <!--?lit$160999733$--><span class="touch"></span>
  </button></template>
        <md-icon aria-hidden="true"><template shadowrootmode="open"><!----><slot></slot></template><!--?lit$160999733$-->arrow_downward</md-icon>
        <!--?lit$160999733$-->
      </md-icon-button>
      <colab-tooltip-trigger aria-hidden="true" for="button-move-cell-down" id="button-move-cell-down-tooltip" message="Move cell down
Ctrl+M J"><template shadowrootmode="open"><!----><!--?lit$160999733$--><!----><div><!--?lit$160999733$-->Move cell down</div><!----><!----><div><!--?lit$160999733$-->Ctrl+M J</div><!----><!--?--></template>
      </colab-tooltip-trigger><!----><!----><!--?lit$160999733$--><md-menu positioning="popover" quick="" aria-labelledby="ai-menu-anchor-qe0vtaLVeZKb" anchor="ai-menu-anchor-qe0vtaLVeZKb" aria-hidden="true"><template shadowrootmode="open"><!---->
      <div class="menu   " popover="manual" style="display: none;">
        <!--?lit$160999733$--><md-elevation part="elevation" aria-hidden="true"><template shadowrootmode="open"><!----><span class="shadow"></span></template></md-elevation>
        <div class="items">
          <div class="item-padding"> <!--?lit$160999733$--><slot></slot> </div>
        </div>
      </div>
    </template>
    <!--?lit$160999733$--><!----><md-menu-item command="generate-code" md-menu-item="" tabindex="0"><template shadowrootmode="open" shadowrootdelegatesfocus><!---->
      <li id="item" role="menuitem" class="list-item   " tabindex="0"><!--?lit$160999733$-->
      <md-item><template shadowrootmode="open"><!---->
      <slot name="container"></slot>
      <slot class="non-text" name="start"></slot>
      <div class="text">
        <slot name="overline"></slot>
        <slot class="default-slot"></slot>
        <slot name="headline"></slot>
        <slot name="supporting-text"></slot>
      </div>
      <slot class="non-text" name="trailing-supporting-text"></slot>
      <slot class="non-text" name="end"></slot>
    </template>
        <div slot="container">
          <!--?lit$160999733$--> <md-ripple part="ripple" for="item" aria-hidden="true"><template shadowrootmode="open"><!----><div class="surface   "></div></template></md-ripple> <!--?lit$160999733$--> <md-focus-ring part="focus-ring" for="item" inward="" aria-hidden="true"><template shadowrootmode="open"><!----></template></md-focus-ring>
        </div>
        <slot name="start" slot="start"></slot>
        <slot name="end" slot="end"></slot>
        <!--?lit$160999733$-->
      <slot></slot>
      <slot name="overline" slot="overline"></slot>
      <slot name="headline" slot="headline"></slot>
      <slot name="supporting-text" slot="supporting-text"></slot>
      <slot name="trailing-supporting-text" slot="trailing-supporting-text"></slot>
    
      </md-item>
    </li>
    </template>
    <span slot="headline"><!--?lit$160999733$-->Generate code</span>
  </md-menu-item><!----><!----><md-menu-item command="explain-cell" md-menu-item="" tabindex="-1"><template shadowrootmode="open" shadowrootdelegatesfocus><!---->
      <li id="item" role="menuitem" class="list-item   " tabindex="0"><!--?lit$160999733$-->
      <md-item><template shadowrootmode="open"><!---->
      <slot name="container"></slot>
      <slot class="non-text" name="start"></slot>
      <div class="text">
        <slot name="overline"></slot>
        <slot class="default-slot"></slot>
        <slot name="headline"></slot>
        <slot name="supporting-text"></slot>
      </div>
      <slot class="non-text" name="trailing-supporting-text"></slot>
      <slot class="non-text" name="end"></slot>
    </template>
        <div slot="container">
          <!--?lit$160999733$--> <md-ripple part="ripple" for="item" aria-hidden="true"><template shadowrootmode="open"><!----><div class="surface   "></div></template></md-ripple> <!--?lit$160999733$--> <md-focus-ring part="focus-ring" for="item" inward="" aria-hidden="true"><template shadowrootmode="open"><!----></template></md-focus-ring>
        </div>
        <slot name="start" slot="start"></slot>
        <slot name="end" slot="end"></slot>
        <!--?lit$160999733$-->
      <slot></slot>
      <slot name="overline" slot="overline"></slot>
      <slot name="headline" slot="headline"></slot>
      <slot name="supporting-text" slot="supporting-text"></slot>
      <slot name="trailing-supporting-text" slot="trailing-supporting-text"></slot>
    
      </md-item>
    </li>
    </template>
    <span slot="headline"><!--?lit$160999733$-->Explain code</span>
  </md-menu-item><!---->
  </md-menu>
          <md-icon-button touch-target="none" data-aria-haspopup="menu" data-aria-expanded="false" aria-describedby="ai-menu-anchor-qe0vtaLVeZKb-tooltip" data-aria-label="Available AI features" id="ai-menu-anchor-qe0vtaLVeZKb" value=""><template shadowrootmode="open" shadowrootdelegatesfocus><!----><button id="button" class="icon-button  standard " aria-label="Available AI features" aria-haspopup="menu" aria-expanded="false">
        <!--?lit$160999733$--><md-focus-ring part="focus-ring" for="button" aria-hidden="true"><template shadowrootmode="open"><!----></template></md-focus-ring>
        <!--?lit$160999733$--><md-ripple aria-hidden="true"><template shadowrootmode="open"><!----><div class="surface   "></div></template></md-ripple>
        <!--?lit$160999733$--><span class="icon"><slot></slot></span>
        <!--?lit$160999733$-->
        <!--?lit$160999733$--><span class="touch"></span>
  </button></template><md-icon aria-hidden="true"><template shadowrootmode="open"><!----><slot></slot></template>spark</md-icon>
          </md-icon-button>
          <colab-tooltip-trigger aria-hidden="true" for="ai-menu-anchor-qe0vtaLVeZKb" id="ai-menu-anchor-qe0vtaLVeZKb-tooltip" message="Available AI features"><template shadowrootmode="open"><!----><!--?lit$160999733$--><!----><div><!--?lit$160999733$-->Available AI features</div><!----><!--?--></template>
          </colab-tooltip-trigger><!----><!----> <md-icon-button touch-target="none" aria-describedby="button-copy-link-to-cell-tooltip" data-aria-label="Copy link to cell" command="copy-link-to-cell" id="button-copy-link-to-cell" value=""><template shadowrootmode="open" shadowrootdelegatesfocus><!----><button id="button" class="icon-button  standard " aria-label="Copy link to cell">
        <!--?lit$160999733$--><md-focus-ring part="focus-ring" for="button" aria-hidden="true"><template shadowrootmode="open"><!----></template></md-focus-ring>
        <!--?lit$160999733$--><md-ripple aria-hidden="true"><template shadowrootmode="open"><!----><div class="surface   "></div></template></md-ripple>
        <!--?lit$160999733$--><span class="icon"><slot></slot></span>
        <!--?lit$160999733$-->
        <!--?lit$160999733$--><span class="touch"></span>
  </button></template>
        <md-icon aria-hidden="true"><template shadowrootmode="open"><!----><slot></slot></template><!--?lit$160999733$-->link</md-icon>
        <!--?lit$160999733$-->
      </md-icon-button>
      <colab-tooltip-trigger aria-hidden="true" for="button-copy-link-to-cell" id="button-copy-link-to-cell-tooltip" message="Copy link to cell"><template shadowrootmode="open"><!----><!--?lit$160999733$--><!----><div><!--?lit$160999733$-->Copy link to cell</div><!----><!--?--></template>
      </colab-tooltip-trigger><!----><!----> <md-icon-button touch-target="none" aria-describedby="button-add-comment-tooltip" data-aria-label="Add a comment
Ctrl+Alt+M" command="add-comment" id="button-add-comment" value=""><template shadowrootmode="open" shadowrootdelegatesfocus><!----><button id="button" class="icon-button  standard " aria-label="Add a comment
Ctrl+Alt+M">
        <!--?lit$160999733$--><md-focus-ring part="focus-ring" for="button" aria-hidden="true"><template shadowrootmode="open"><!----></template></md-focus-ring>
        <!--?lit$160999733$--><md-ripple aria-hidden="true"><template shadowrootmode="open"><!----><div class="surface   "></div></template></md-ripple>
        <!--?lit$160999733$--><span class="icon"><slot></slot></span>
        <!--?lit$160999733$-->
        <!--?lit$160999733$--><span class="touch"></span>
  </button></template>
        <md-icon aria-hidden="true"><template shadowrootmode="open"><!----><slot></slot></template><!--?lit$160999733$-->comment</md-icon>
        <!--?lit$160999733$-->
      </md-icon-button>
      <colab-tooltip-trigger aria-hidden="true" for="button-add-comment" id="button-add-comment-tooltip" message="Add a comment
Ctrl+Alt+M"><template shadowrootmode="open"><!----><!--?lit$160999733$--><!----><div><!--?lit$160999733$-->Add a comment</div><!----><!----><div><!--?lit$160999733$-->Ctrl+Alt+M</div><!----><!--?--></template>
      </colab-tooltip-trigger><!----><!----> <md-icon-button touch-target="none" aria-describedby="button-editor-preferences-tooltip" data-aria-label="Open editor settings" command="editor-preferences" id="button-editor-preferences" value=""><template shadowrootmode="open" shadowrootdelegatesfocus><!----><button id="button" class="icon-button  standard " aria-label="Open editor settings">
        <!--?lit$160999733$--><md-focus-ring part="focus-ring" for="button" aria-hidden="true"><template shadowrootmode="open"><!----></template></md-focus-ring>
        <!--?lit$160999733$--><md-ripple aria-hidden="true"><template shadowrootmode="open"><!----><div class="surface   "></div></template></md-ripple>
        <!--?lit$160999733$--><span class="icon"><slot></slot></span>
        <!--?lit$160999733$-->
        <!--?lit$160999733$--><span class="touch"></span>
  </button></template>
        <md-icon filled="" aria-hidden="true"><template shadowrootmode="open"><!----><slot></slot></template><!--?lit$160999733$-->settings</md-icon>
        <!--?lit$160999733$-->
      </md-icon-button>
      <colab-tooltip-trigger aria-hidden="true" for="button-editor-preferences" id="button-editor-preferences-tooltip" message="Open editor settings"><template shadowrootmode="open"><!----><!--?lit$160999733$--><!----><div><!--?lit$160999733$-->Open editor settings</div><!----><!--?--></template>
      </colab-tooltip-trigger><!----><!----> <md-icon-button touch-target="none" aria-describedby="button-toggle-edit-markdown-tooltip" data-aria-label="Edit" command="toggle-edit-markdown" id="button-toggle-edit-markdown" toggle="" style="display: none;" value=""><template shadowrootmode="open" shadowrootdelegatesfocus><!----><button id="button" class="icon-button  standard " aria-label="Edit" aria-pressed="false">
        <!--?lit$160999733$--><md-focus-ring part="focus-ring" for="button" aria-hidden="true"><template shadowrootmode="open"><!----></template></md-focus-ring>
        <!--?lit$160999733$--><md-ripple aria-hidden="true"><template shadowrootmode="open"><!----><div class="surface   "></div></template></md-ripple>
        <!--?lit$160999733$--><span class="icon"><slot></slot></span>
        <!--?lit$160999733$-->
        <!--?lit$160999733$--><span class="touch"></span>
  </button></template>
        <md-icon aria-hidden="true"><template shadowrootmode="open"><!----><slot></slot></template><!--?lit$160999733$-->edit</md-icon>
        <!--?lit$160999733$--><md-icon slot="selected" aria-hidden="true"><template shadowrootmode="open"><!----><slot></slot></template><!--?lit$160999733$-->edit_off</md-icon>
      </md-icon-button>
      <colab-tooltip-trigger aria-hidden="true" for="button-toggle-edit-markdown" id="button-toggle-edit-markdown-tooltip" message="Edit"><template shadowrootmode="open"><!----><!--?lit$160999733$--><!----><div><!--?lit$160999733$-->Edit</div><!----><!--?--></template>
      </colab-tooltip-trigger><!----><!----> <md-icon-button touch-target="none" aria-describedby="button-mirror-cell-in-tab-tooltip" data-aria-label="Mirror cell in tab" command="mirror-cell-in-tab" id="button-mirror-cell-in-tab" value=""><template shadowrootmode="open" shadowrootdelegatesfocus><!----><button id="button" class="icon-button  standard " aria-label="Mirror cell in tab">
        <!--?lit$160999733$--><md-focus-ring part="focus-ring" for="button" aria-hidden="true"><template shadowrootmode="open"><!----></template></md-focus-ring>
        <!--?lit$160999733$--><md-ripple aria-hidden="true"><template shadowrootmode="open"><!----><div class="surface   "></div></template></md-ripple>
        <!--?lit$160999733$--><span class="icon"><slot></slot></span>
        <!--?lit$160999733$-->
        <!--?lit$160999733$--><span class="touch"></span>
  </button></template>
        <md-icon aria-hidden="true"><template shadowrootmode="open"><!----><slot></slot></template><!--?lit$160999733$--><svg viewBox="0 0 24 24"><!--?lit$160999733$-->
      <g id="mirror-cell">
        <path d="M4,21V7H2V21a2,2,0,0,0,2,2H18V21Z"></path>
        <path d="M6,13v2H8.6L5,18.6,6.4,20,10,16.4V19h2V13Z"></path>
        <path d="M19,1H8A2,2,0,0,0,6,3v8H8V3H19V17H14v2h5a2,2,0,0,0,2-2V3A2,2,0,0,0,19,1Z"></path>
      </g></svg></md-icon>
        <!--?lit$160999733$-->
      </md-icon-button>
      <colab-tooltip-trigger aria-hidden="true" for="button-mirror-cell-in-tab" id="button-mirror-cell-in-tab-tooltip" message="Mirror cell in tab"><template shadowrootmode="open"><!----><!--?lit$160999733$--><!----><div><!--?lit$160999733$-->Mirror cell in tab</div><!----><!--?--></template>
      </colab-tooltip-trigger><!----><!----> <md-icon-button touch-target="none" aria-describedby="button-delete-cell-or-selection-tooltip" data-aria-label="Delete cell
Ctrl+M D" command="delete-cell-or-selection" id="button-delete-cell-or-selection" value=""><template shadowrootmode="open" shadowrootdelegatesfocus><!----><button id="button" class="icon-button  standard " aria-label="Delete cell
Ctrl+M D">
        <!--?lit$160999733$--><md-focus-ring part="focus-ring" for="button" aria-hidden="true"><template shadowrootmode="open"><!----></template></md-focus-ring>
        <!--?lit$160999733$--><md-ripple aria-hidden="true"><template shadowrootmode="open"><!----><div class="surface   "></div></template></md-ripple>
        <!--?lit$160999733$--><span class="icon"><slot></slot></span>
        <!--?lit$160999733$-->
        <!--?lit$160999733$--><span class="touch"></span>
  </button></template>
        <md-icon aria-hidden="true"><template shadowrootmode="open"><!----><slot></slot></template><!--?lit$160999733$-->delete</md-icon>
        <!--?lit$160999733$-->
      </md-icon-button>
      <colab-tooltip-trigger aria-hidden="true" for="button-delete-cell-or-selection" id="button-delete-cell-or-selection-tooltip" message="Delete cell
Ctrl+M D"><template shadowrootmode="open"><!----><!--?lit$160999733$--><!----><div><!--?lit$160999733$-->Delete cell</div><!----><!----><div><!--?lit$160999733$-->Ctrl+M D</div><!----><!--?--></template>
      </colab-tooltip-trigger><!----><!--?lit$160999733$--><md-icon-button touch-target="none" data-aria-expanded="false" data-aria-haspopup="menu" aria-describedby="button-more-actions-tooltip" data-aria-label="More cell actions" class="cell-toolbar-more" id="button-more-actions" value=""><template shadowrootmode="open" shadowrootdelegatesfocus><!----><button id="button" class="icon-button  standard " aria-label="More cell actions" aria-haspopup="menu" aria-expanded="false">
        <!--?lit$160999733$--><md-focus-ring part="focus-ring" for="button" aria-hidden="true"><template shadowrootmode="open"><!----></template></md-focus-ring>
        <!--?lit$160999733$--><md-ripple aria-hidden="true"><template shadowrootmode="open"><!----><div class="surface   "></div></template></md-ripple>
        <!--?lit$160999733$--><span class="icon"><slot></slot></span>
        <!--?lit$160999733$-->
        <!--?lit$160999733$--><span class="touch"></span>
  </button></template><md-icon aria-hidden="true"><template shadowrootmode="open"><!----><slot></slot></template>more_vert</md-icon>
      </md-icon-button>
      <colab-tooltip-trigger aria-hidden="true" for="button-more-actions" id="button-more-actions-tooltip" message="More cell actions"><template shadowrootmode="open"><!----><!--?lit$160999733$--><!----><div><!--?lit$160999733$-->More cell actions</div><!----><!--?--></template>
      </colab-tooltip-trigger><!--?--></template></colab-cell-toolbar></div><div class="main-content" elevation="2"><div class="cell-contents"><div class="cell-mask"></div><span class="imported-info-area"></span><div class="codecell-input-output">
      <div class="inputarea horizontal layout code">
        <div class="cell-gutter">
          <!-- Bounding range for vertical scrolling of icons -->
          <div class="cell-execution-container">
            <colab-run-button><template shadowrootmode="open"><!----> <div class="cell-execution focused">
      <button id="run-button" aria-describedby="run-button-tooltip" aria-label="Run cell" aria-disabled="false">
        <!--?lit$160999733$--><span class="execution-count"><!--?lit$160999733$-->[12]</span>
        <span aria-hidden="true" class="cell-execution-indicator"><!--?lit$160999733$-->
<svg xmlns="http://www.w3.org/2000/svg" viewBox="0 0 24 24">
  <!--?lit$160999733$-->
  <mask id="playSymbolMask">
    <rect width="100%" height="100%" fill="white"></rect>
    <polygon points="10,8 17,12 10,16" fill="black"></polygon>
  </mask>
  <circle cx="12" cy="12" r="7.8" mask="url(#playSymbolMask)" id="filledCircle"></circle>
</svg></span>
      </button>
      <!--?lit$160999733$--><colab-tooltip-trigger for="run-button" id="run-button-tooltip" aria-hidden="true" message="Run cell (Ctrl+Enter)
cell executed since last change

executed by Sabita Alya P
10:19 PM (3 minutes ago)
executed in 0.012s"><template shadowrootmode="open"><!----><!--?lit$160999733$--><!----><div><!--?lit$160999733$-->Run cell (Ctrl+Enter)</div><!----><!----><div><!--?lit$160999733$-->cell executed since last change</div><!----><!----><br><!----><!----><div><!--?lit$160999733$-->executed by Sabita Alya P</div><!----><!----><div><!--?lit$160999733$-->10:19 PM (3 minutes ago)</div><!----><!----><div><!--?lit$160999733$-->executed in 0.012s</div><!----><!--?--></template>
    </colab-tooltip-trigger>
      <!--?lit$160999733$--><div id="status" class="last-run">
      <md-icon aria-hidden="true"><template shadowrootmode="open"><!----><slot></slot></template><!--?lit$160999733$--><svg viewBox="0 0 24 24"><!--?lit$160999733$--><path d="M9 16.17L4.83 12l-1.42 1.41L9 19 21 7l-1.41-1.41z"></path></svg></md-icon>
      <div><!--?lit$160999733$-->0s</div>
    </div>
    </div></template></colab-run-button>
          </div>
        </div>
      <div class="editor flex lazy-editor" style=""><div class="editor flex monaco" data-keybinding-context="84" data-mode-id="notebook-python" style="height: 124px; --vscode-editorCodeLens-lineHeight: 16px; --vscode-editorCodeLens-fontSize: 12px; --vscode-editorCodeLens-fontFeatureSettings: &quot;liga&quot; off, &quot;calt&quot; off;"><div class="monaco-editor no-user-select  showUnused showDeprecated vs" role="code" data-uri="inmemory://model/19" style="width: 1154px; height: 124px;"><div data-mprt="3" class="overflow-guard" style="width: 1154px; height: 124px; overflow: clip;"><div class="margin" role="presentation" aria-hidden="true" style="position: absolute; contain: strict; will-change: unset; top: 0px; height: 124px; width: 6px;"><div class="glyph-margin" style="left: 0px; width: 0px; height: 124px;"></div><div class="margin-view-zones" role="presentation" aria-hidden="true" style="position: absolute;"></div><div class="margin-view-overlays" role="presentation" aria-hidden="true" style="position: absolute; font-family: monospace, Consolas, &quot;Courier New&quot;, monospace; font-weight: normal; font-size: 14px; font-feature-settings: &quot;liga&quot; 0, &quot;calt&quot; 0; font-variation-settings: normal; line-height: 19px; letter-spacing: 0px; width: 6px; height: 124px;"><div style="position:absolute;top:0px;width:100%;height:19px;"><div class="current-line current-line-margin-both" style="width:6px; height:19px;"></div></div><div style="position:absolute;top:19px;width:100%;height:19px;"></div><div style="position:absolute;top:38px;width:100%;height:19px;"></div><div style="position:absolute;top:57px;width:100%;height:19px;"></div><div style="position:absolute;top:76px;width:100%;height:19px;"></div><div style="position:absolute;top:95px;width:100%;height:19px;"></div></div><div class="glyph-margin-widgets" style="position: absolute; top: 0px;"></div></div><div class="monaco-scrollable-element editor-scrollable vs" role="presentation" data-mprt="5" style="position: absolute; overflow: hidden; left: 6px; width: 1148px; height: 124px;"><div class="lines-content monaco-editor-background" style="position: absolute; overflow: hidden; width: 1e+06px; height: 124px; contain: strict; will-change: unset; top: 0px; left: 0px;"><div class="view-overlays" role="presentation" aria-hidden="true" style="position: absolute; font-family: monospace, Consolas, &quot;Courier New&quot;, monospace; font-weight: normal; font-size: 14px; font-feature-settings: &quot;liga&quot; 0, &quot;calt&quot; 0; font-variation-settings: normal; line-height: 19px; letter-spacing: 0px; height: 0px; width: 1148px;"><div style="position:absolute;top:0px;width:100%;height:19px;"><div class="current-line" style="width:1148px; height:19px;"></div></div><div style="position:absolute;top:19px;width:100%;height:19px;"></div><div style="position:absolute;top:38px;width:100%;height:19px;"></div><div style="position:absolute;top:57px;width:100%;height:19px;"></div><div style="position:absolute;top:76px;width:100%;height:19px;"></div><div style="position:absolute;top:95px;width:100%;height:19px;"></div></div><div role="presentation" aria-hidden="true" class="view-rulers"></div><div class="view-zones" role="presentation" aria-hidden="true" style="position: absolute;"></div><div class="view-lines monaco-mouse-cursor-text" role="presentation" aria-hidden="true" data-mprt="7" style="position: absolute; font-family: monospace, Consolas, &quot;Courier New&quot;, monospace; font-weight: normal; font-size: 14px; font-feature-settings: &quot;liga&quot; 0, &quot;calt&quot; 0; font-variation-settings: normal; line-height: 19px; letter-spacing: 0px; width: 1148px; height: 124px;"><div style="top:0px;height:19px;" class="view-line"><span><span class="mtk8">#&nbsp;Model&nbsp;regresi&nbsp;sederhana</span></span></div><div style="top:19px;height:19px;" class="view-line"><span><span class="mtk1">X&nbsp;=&nbsp;data</span><span class="mtk1 bracket-highlighting-0">[</span><span class="mtk1 bracket-highlighting-1">[</span><span class="mtk26">"Ville&nbsp;(L/100&nbsp;km)"</span><span class="mtk1 bracket-highlighting-1">]</span><span class="mtk1 bracket-highlighting-0">]</span></span></div><div style="top:38px;height:19px;" class="view-line"><span><span class="mtk1">Y&nbsp;=&nbsp;data</span><span class="mtk1 bracket-highlighting-0">[</span><span class="mtk26">"Emisi&nbsp;CO2&nbsp;(g/km)"</span><span class="mtk1 bracket-highlighting-0">]</span></span></div><div style="top:57px;height:19px;" class="view-line"><span><span class="mtk1">X&nbsp;=&nbsp;sm.add_constant</span><span class="mtk1 bracket-highlighting-0">(</span><span class="mtk1">X</span><span class="mtk1 bracket-highlighting-0">)</span></span></div><div style="top:76px;height:19px;" class="view-line"><span><span class="mtk1">model&nbsp;=&nbsp;sm.OLS</span><span class="mtk1 bracket-highlighting-0">(</span><span class="mtk1">Y,&nbsp;X</span><span class="mtk1 bracket-highlighting-0">)</span><span class="mtk1">.fit</span><span class="mtk1 bracket-highlighting-0">(</span><span class="mtk1 bracket-highlighting-0">)</span></span></div><div style="top:95px;height:19px;" class="view-line"><span><span class="mtk15">print</span><span class="mtk1 bracket-highlighting-0">(</span><span class="mtk1">model.summary</span><span class="mtk1 bracket-highlighting-1">(</span><span class="mtk1 bracket-highlighting-1">)</span><span class="mtk1 bracket-highlighting-0">)</span></span></div></div><div data-mprt="1" class="contentWidgets" style="position: absolute; top: 0px;"></div><div role="presentation" aria-hidden="true" class="cursors-layer cursor-line-style cursor-solid"><div class="cursor monaco-mouse-cursor-text " style="height: 19px; top: 0px; left: 0px; font-family: monospace, Consolas, &quot;Courier New&quot;, monospace; font-weight: normal; font-size: 14px; font-feature-settings: &quot;liga&quot; 0, &quot;calt&quot; 0; font-variation-settings: normal; line-height: 19px; letter-spacing: 0px; display: block; visibility: hidden; padding-left: 0px; width: 2px;"></div></div></div><div role="presentation" aria-hidden="true" class="invisible scrollbar horizontal" style="position: absolute; width: 1134px; height: 10px; left: 0px; bottom: 0px;"><div class="slider" style="position: absolute; top: 0px; left: 0px; height: 10px; transform: translate3d(0px, 0px, 0px); contain: strict; will-change: unset; width: 1134px;"></div></div><canvas class="decorationsOverviewRuler" aria-hidden="true" width="21" height="186" style="position: absolute; transform: translate3d(0px, 0px, 0px); contain: strict; top: 0px; right: 0px; width: 14px; height: 124px; will-change: unset; display: block;"></canvas><div role="presentation" aria-hidden="true" class="invisible scrollbar vertical" style="position: absolute; width: 14px; height: 124px; right: 0px; top: 0px;"><div class="slider" style="position: absolute; top: 0px; left: 0px; width: 14px; transform: translate3d(0px, 0px, 0px); contain: strict; will-change: unset; height: 124px;"></div></div></div><div role="presentation" aria-hidden="true" style="width: 1154px;"></div><textarea data-mprt="6" class="inputarea monaco-mouse-cursor-text" wrap="on" autocorrect="off" autocapitalize="off" autocomplete="off" spellcheck="false" aria-label="Editor content;Press Alt+F1 for Accessibility Options." tabindex="0" role="textbox" aria-roledescription="editor" aria-multiline="true" aria-haspopup="false" aria-autocomplete="both" style="tab-size: 15.3984px; font-family: monospace, Consolas, &quot;Courier New&quot;, monospace; font-weight: normal; font-size: 14px; font-feature-settings: &quot;liga&quot; 0, &quot;calt&quot; 0; font-variation-settings: normal; line-height: 19px; letter-spacing: 0px; top: 0px; left: 6px; width: 76992px; height: 1px;"></textarea><div class="monaco-editor-background textAreaCover" style="position: absolute; top: 0px; left: 0px; width: 0px; height: 0px;"></div><div data-mprt="4" class="overlayWidgets" style="width: 1154px;"><div widgetid="editor.contrib.quickInputWidget" style="position: absolute; top: 0px; right: 50%;"></div></div><div data-mprt="8" class="minimap slider-mouseover" role="presentation" aria-hidden="true" style="position: absolute; left: 0px; width: 0px; height: 124px;"><div class="minimap-shadow-hidden" style="height: 124px;"></div><canvas width="0" height="186" style="position: absolute; left: 0px; width: 0px; height: 124px;"></canvas><canvas class="minimap-decorations-layer" width="0" height="186" style="position: absolute; left: 0px; width: 0px; height: 124px;"></canvas><div class="minimap-slider" style="position: absolute; transform: translate3d(0px, 0px, 0px); contain: strict; width: 0px; will-change: unset;"><div class="minimap-slider-horizontal" style="position: absolute; width: 0px; height: 0px;"></div></div></div><div role="presentation" aria-hidden="true" class="blockDecorations-container"></div></div><div data-mprt="2" class="overflowingContentWidgets"><div widgetid="editor.contrib.resizableContentHoverWidget" style="position: fixed; height: 10px; width: 10px; z-index: 50; display: none; visibility: hidden; max-width: 1280px;"><div class="monaco-sash vertical" style="left: 8px;"></div><div class="monaco-sash vertical" style="left: -2px;"></div><div class="monaco-sash orthogonal-edge-north horizontal" style="top: -2px;"><div class="orthogonal-drag-handle start"></div><div class="orthogonal-drag-handle end"></div></div><div class="monaco-sash orthogonal-edge-south horizontal" style="top: 8px;"><div class="orthogonal-drag-handle start"></div><div class="orthogonal-drag-handle end"></div></div><div class="monaco-hover hidden" role="tooltip" tabindex="0"><div class="monaco-scrollable-element " role="presentation" style="position: relative; overflow: hidden;"><div class="monaco-hover-content" style="overflow: hidden; font-size: 14px; line-height: 1.35714; max-width: 761.64px; max-height: 250px;"></div><div role="presentation" aria-hidden="true" class="invisible scrollbar horizontal" style="position: absolute;"><div class="slider" style="position: absolute; top: 0px; left: 0px; height: 10px; transform: translate3d(0px, 0px, 0px); contain: strict;"></div></div><div role="presentation" aria-hidden="true" class="invisible scrollbar vertical" style="position: absolute;"><div class="slider" style="position: absolute; top: 0px; left: 0px; width: 10px; transform: translate3d(0px, 0px, 0px); contain: strict;"></div></div><div class="shadow"></div><div class="shadow"></div><div class="shadow"></div></div></div></div><div class="inlineSuggestionsHints withBorder" widgetid="InlineSuggestionHintsContentWidget77" style="position: fixed; display: none; visibility: hidden; max-width: 1280px;"><div style="display: flex;"><div class="custom-actions"><div class="monaco-action-bar animated"><ul class="actions-container" role="toolbar"><li class="action-item disabled" role="presentation" title="Previous (Alt+[)"><a class="action-label codicon codicon-inline-suggestion-hints-previous disabled" role="button" aria-label="Previous (Alt+[)" aria-checked="" aria-disabled="true" tabindex="0"></a></li><li class="action-item disabled" role="presentation" title=""><a class="action-label disabled" role="button" aria-label="" aria-disabled="true" aria-checked=""></a></li><li class="action-item disabled" role="presentation" title="Next (Alt+])"><a class="action-label codicon codicon-inline-suggestion-hints-next disabled" role="button" aria-label="Next (Alt+])" aria-checked="" aria-disabled="true"></a></li></ul></div></div><div><div class="monaco-toolbar"><div class="monaco-action-bar animated"><ul class="actions-container" role="toolbar"><li class="action-item disabled menu-entry" role="presentation" title="Accept (Tab)"><a class="action-label inlineSuggestionStatusBarItemLabel disabled" role="button" aria-label="Accept (Tab)" aria-disabled="true" aria-checked="" tabindex="0">Accept<div class="keybinding"><div class="monaco-keybinding"><span class="monaco-keybinding-key">Tab</span></div></div></a></li><li class="action-item disabled menu-entry" role="presentation" title="Accept Word (Ctrl+RightArrow)"><a class="action-label inlineSuggestionStatusBarItemLabel disabled" role="button" aria-label="Accept Word (Ctrl+RightArrow)" aria-disabled="true" aria-checked="">Accept Word<div class="keybinding"><div class="monaco-keybinding"><span class="monaco-keybinding-key">Ctrl</span><span class="monaco-keybinding-key-separator">+</span><span class="monaco-keybinding-key">RightArrow</span></div></div></a></li><li class="action-item" role="presentation"><div class="monaco-dropdown"><div class="dropdown-label"><a class="action-label codicon codicon-toolbar-more" role="button" aria-haspopup="true" aria-expanded="false" title="More Actions..." aria-label="More Actions..."></a></div></div></li></ul></div></div></div></div></div></div><div class=".in-cell-overflowing"></div></div></div></div><colab-form class="formview vertical layout flex"><div class="widget-area vertical layout"></div></colab-form></div>
    <div class="output" aria-label="Cell 16 output" role="region"><!----> <div class="output-header"> </div>
        <div class="output-content">
          <div class="output-info"><colab-output-info><template shadowrootmode="open"><!----><md-icon-button data-aria-expanded="false" data-aria-haspopup="menu" aria-describedby="button-output-actions-tooltip" data-aria-label="Code cell output actions" id="button-output-actions" value=""><template shadowrootmode="open" shadowrootdelegatesfocus><!----><button id="button" class="icon-button  standard " aria-label="Code cell output actions" aria-haspopup="menu" aria-expanded="false">
        <!--?lit$160999733$--><md-focus-ring part="focus-ring" for="button" aria-hidden="true"><template shadowrootmode="open"><!----></template></md-focus-ring>
        <!--?lit$160999733$--><md-ripple aria-hidden="true"><template shadowrootmode="open"><!----><div class="surface"></div></template></md-ripple>
        <!--?lit$160999733$--><span class="icon"><slot></slot></span>
        <!--?lit$160999733$-->
        <!--?lit$160999733$--><span class="touch"></span>
  </button></template>
        <md-icon aria-hidden="true"><template shadowrootmode="open"><!----><slot></slot></template><!--?lit$160999733$--><svg viewBox="0 0 24 24"><!--?lit$160999733$--><path d="m15.9 3.07c-4.32 0.0742-8.64-0.0355-13 0.0568-1.37 0.307-1.74 2.1-1.41 3.26 0.469 0.606 1.86 0.384 1.66-0.525 0.0448-0.329-0.183-0.93 0.354-0.766h13.3v1.53h1.71c0.0709-1.13 0.141-2.62-0.968-3.3-0.511-0.264-1.11-0.252-1.67-0.259zm2.94 6.84v4.87c1.62-1.62 3.24-3.24 4.87-4.87h-4.87zm0 0h-1.71v3.43l1.57 1.57c0.32-1.65 0.0556-3.34 0.135-5zm-1.71 3.43v-3.43h-3.43c1.14 1.14 2.29 2.29 3.43 3.43zm1.4 4.27h-1.71v1.48h-13.6v-1.48h-1.71c-0.0473 1.15-0.16 2.72 1.09 3.29 1.47 0.506 3.02 0.0265 4.53 0.192 3.34-0.0051 6.68 0.0336 10-0.0245 1.49-0.366 1.56-2.22 1.42-3.45zm-10.1-1.12c-0.398-0.483-0.796-0.967-1.19-1.45 0.59-0.683 1.18-1.37 1.77-2.05h-8.67v-2h8.67c-0.59-0.683-1.18-1.37-1.77-2.05 0.398-0.483 0.796-0.967 1.19-1.45 1.28 1.5 2.56 3 3.84 4.5-1.28 1.5-2.56 3-3.84 4.5z"></path></svg></md-icon>
      </md-icon-button>
      <colab-tooltip-trigger aria-hidden="true" id="button-output-actions-tooltip" for="button-output-actions" message="Code cell output actions"><template shadowrootmode="open"><!----><!--?lit$160999733$--><!----><div><!--?lit$160999733$-->Code cell output actions</div><!----><!--?--></template></colab-tooltip-trigger></template></colab-output-info></div>
          <div class="output-iframe-container">
            <div class="output-iframe-sizer" style="min-height: 0px;"> <div><div><colab-static-output-renderer role="group" tabindex="0"><div><div class="stream output-id-1 output_text"><pre>                            OLS Regression Results                            
==============================================================================
Dep. Variable:       Emisi CO2 (g/km)   R-squared:                       0.952
Model:                            OLS   Adj. R-squared:                  0.952
Method:                 Least Squares   F-statistic:                 1.265e+04
Date:                Tue, 11 Mar 2025   Prob (F-statistic):               0.00
Time:                        14:19:33   Log-Likelihood:                -2618.3
No. Observations:                 642   AIC:                             5241.
Df Residuals:                     640   BIC:                             5250.
Df Model:                           1                                         
Covariance Type:            nonrobust                                         
====================================================================================
                       coef    std err          t      P&gt;|t|      [0.025      0.975]
------------------------------------------------------------------------------------
const               24.7691      2.096     11.815      0.000      20.652      28.886
Ville (L/100 km)    18.9382      0.168    112.454      0.000      18.608      19.269
==============================================================================
Omnibus:                      176.815   Durbin-Watson:                   1.308
Prob(Omnibus):                  0.000   Jarque-Bera (JB):             8794.363
Skew:                           0.308   Prob(JB):                         0.00
Kurtosis:                      21.121   Cond. No.                         46.5
==============================================================================

Notes:
[1] Standard Errors assume that the covariance matrix of the errors is correctly specified.
</pre></div></div><div></div></colab-static-output-renderer></div></div><div><div></div></div></div>
          </div>
        </div></div></div><colab-cell-next-steps><template shadowrootmode="open"><!----></template></colab-cell-next-steps></div></div><div class="add-cell">
      <div class="add-cell-buttons">
        <md-outlined-button class="add-code add-button" data-aria-label="Add code cell
Ctrl+M B" title="Add code cell
Ctrl+M B" value="" has-icon=""><template shadowrootmode="open" shadowrootdelegatesfocus><!---->
      <!--?lit$160999733$--><div class="outline"></div>
      <div class="background"></div>
      <md-focus-ring part="focus-ring" for="button" aria-hidden="true"><template shadowrootmode="open"><!----></template></md-focus-ring>
      <md-ripple part="ripple" for="button" aria-hidden="true"><template shadowrootmode="open"><!----><div class="surface"></div></template></md-ripple>
      <!--?lit$160999733$--><button id="button" class="button" aria-label="Add code cell
Ctrl+M B">
      <!--?lit$160999733$-->
      <span class="touch"></span>
      <!--?lit$160999733$--><slot name="icon"></slot>
      <span class="label"><slot></slot></span>
      <!--?lit$160999733$-->
    
    </button>
    </template>
          <md-icon slot="icon" aria-hidden="true"><template shadowrootmode="open"><!----><slot></slot></template>add</md-icon>
          <!--?lit$160999733$-->Code
        </md-outlined-button>
        <md-outlined-button class="add-text add-button" data-aria-label="Add text cell" title="Add text cell" value="" has-icon=""><template shadowrootmode="open" shadowrootdelegatesfocus><!---->
      <!--?lit$160999733$--><div class="outline"></div>
      <div class="background"></div>
      <md-focus-ring part="focus-ring" for="button" aria-hidden="true"><template shadowrootmode="open"><!----></template></md-focus-ring>
      <md-ripple part="ripple" for="button" aria-hidden="true"><template shadowrootmode="open"><!----><div class="surface"></div></template></md-ripple>
      <!--?lit$160999733$--><button id="button" class="button" aria-label="Add text cell">
      <!--?lit$160999733$-->
      <span class="touch"></span>
      <!--?lit$160999733$--><slot name="icon"></slot>
      <span class="label"><slot></slot></span>
      <!--?lit$160999733$-->
    
    </button>
    </template>
          <md-icon slot="icon" aria-hidden="true"><template shadowrootmode="open"><!----><slot></slot></template>add</md-icon>
          <!--?lit$160999733$-->Text
        </md-outlined-button>
        <!--?lit$160999733$-->
      </div><hr>
    </div></div><div class="cell text" id="cell-Zr1yXTZ2lvge" role="region" aria-label="Cell 17: Text cell: " style="opacity: 1;" tabindex="-1"><div class="agent-focus-label">
      <md-icon aria-hidden="true"><template shadowrootmode="open"><!----><slot></slot></template>spark</md-icon>
      <!--?lit$160999733$-->Gemini
    </div><div class="cell-tag-editor sticky"></div><div class="cell-toolbar sticky"></div><div class="main-content" elevation="0"><div class="cell-contents"><div class="cell-mask"></div><span class="imported-info-area"></span><!----> <div class="toolbar-root"><div class="markdown-toolbar"><!----><!--?lit$160999733$--><!----><md-icon-button id="markdown-toolbar-header-Zr1yXTZ2lvge" class="markdown-toolbar-header" aria-describedby="markdown-toolbar-header-Zr1yXTZ2lvge-tooltip" data-aria-label="Toggle heading" value=""><template shadowrootmode="open" shadowrootdelegatesfocus><!----><button id="button" class="icon-button  standard " aria-label="Toggle heading">
        <!--?lit$160999733$--><md-focus-ring part="focus-ring" for="button" aria-hidden="true"><template shadowrootmode="open"><!----></template></md-focus-ring>
        <!--?lit$160999733$--><md-ripple aria-hidden="true"><template shadowrootmode="open"><!----><div class="surface   "></div></template></md-ripple>
        <!--?lit$160999733$--><span class="icon"><slot></slot></span>
        <!--?lit$160999733$-->
        <!--?lit$160999733$--><span class="touch"></span>
  </button></template>
        <!--?lit$160999733$--><md-icon aria-hidden="true"><template shadowrootmode="open"><!----><slot></slot></template><!--?lit$160999733$-->format_size</md-icon>
      </md-icon-button>
      <colab-tooltip-trigger aria-hidden="true" for="markdown-toolbar-header-Zr1yXTZ2lvge" id="markdown-toolbar-header-Zr1yXTZ2lvge-tooltip" message="Toggle heading"><template shadowrootmode="open"><!----><!--?lit$160999733$--><!----><div><!--?lit$160999733$-->Toggle heading</div><!----><!--?--></template></colab-tooltip-trigger><!----><!----><md-icon-button id="markdown-toolbar-bold-Zr1yXTZ2lvge" class="markdown-toolbar-bold" aria-describedby="markdown-toolbar-bold-Zr1yXTZ2lvge-tooltip" data-aria-label="Bold" value=""><template shadowrootmode="open" shadowrootdelegatesfocus><!----><button id="button" class="icon-button  standard " aria-label="Bold">
        <!--?lit$160999733$--><md-focus-ring part="focus-ring" for="button" aria-hidden="true"><template shadowrootmode="open"><!----></template></md-focus-ring>
        <!--?lit$160999733$--><md-ripple aria-hidden="true"><template shadowrootmode="open"><!----><div class="surface   "></div></template></md-ripple>
        <!--?lit$160999733$--><span class="icon"><slot></slot></span>
        <!--?lit$160999733$-->
        <!--?lit$160999733$--><span class="touch"></span>
  </button></template>
        <!--?lit$160999733$--><md-icon aria-hidden="true"><template shadowrootmode="open"><!----><slot></slot></template><!--?lit$160999733$-->format_bold</md-icon>
      </md-icon-button>
      <colab-tooltip-trigger aria-hidden="true" for="markdown-toolbar-bold-Zr1yXTZ2lvge" id="markdown-toolbar-bold-Zr1yXTZ2lvge-tooltip" message="Bold"><template shadowrootmode="open"><!----><!--?lit$160999733$--><!----><div><!--?lit$160999733$-->Bold</div><!----><!--?--></template></colab-tooltip-trigger><!----><!----><md-icon-button id="markdown-toolbar-italic-Zr1yXTZ2lvge" class="markdown-toolbar-italic" aria-describedby="markdown-toolbar-italic-Zr1yXTZ2lvge-tooltip" data-aria-label="Italicize" value=""><template shadowrootmode="open" shadowrootdelegatesfocus><!----><button id="button" class="icon-button  standard " aria-label="Italicize">
        <!--?lit$160999733$--><md-focus-ring part="focus-ring" for="button" aria-hidden="true"><template shadowrootmode="open"><!----></template></md-focus-ring>
        <!--?lit$160999733$--><md-ripple aria-hidden="true"><template shadowrootmode="open"><!----><div class="surface   "></div></template></md-ripple>
        <!--?lit$160999733$--><span class="icon"><slot></slot></span>
        <!--?lit$160999733$-->
        <!--?lit$160999733$--><span class="touch"></span>
  </button></template>
        <!--?lit$160999733$--><md-icon aria-hidden="true"><template shadowrootmode="open"><!----><slot></slot></template><!--?lit$160999733$-->format_italic</md-icon>
      </md-icon-button>
      <colab-tooltip-trigger aria-hidden="true" for="markdown-toolbar-italic-Zr1yXTZ2lvge" id="markdown-toolbar-italic-Zr1yXTZ2lvge-tooltip" message="Italicize"><template shadowrootmode="open"><!----><!--?lit$160999733$--><!----><div><!--?lit$160999733$-->Italicize</div><!----><!--?--></template></colab-tooltip-trigger><!----><!----><md-icon-button id="markdown-toolbar-code-Zr1yXTZ2lvge" class="markdown-toolbar-code" aria-describedby="markdown-toolbar-code-Zr1yXTZ2lvge-tooltip" data-aria-label="Format as code" value=""><template shadowrootmode="open" shadowrootdelegatesfocus><!----><button id="button" class="icon-button  standard " aria-label="Format as code">
        <!--?lit$160999733$--><md-focus-ring part="focus-ring" for="button" aria-hidden="true"><template shadowrootmode="open"><!----></template></md-focus-ring>
        <!--?lit$160999733$--><md-ripple aria-hidden="true"><template shadowrootmode="open"><!----><div class="surface   "></div></template></md-ripple>
        <!--?lit$160999733$--><span class="icon"><slot></slot></span>
        <!--?lit$160999733$-->
        <!--?lit$160999733$--><span class="touch"></span>
  </button></template>
        <!--?lit$160999733$--><md-icon aria-hidden="true"><template shadowrootmode="open"><!----><slot></slot></template><!--?lit$160999733$-->code</md-icon>
      </md-icon-button>
      <colab-tooltip-trigger aria-hidden="true" for="markdown-toolbar-code-Zr1yXTZ2lvge" id="markdown-toolbar-code-Zr1yXTZ2lvge-tooltip" message="Format as code"><template shadowrootmode="open"><!----><!--?lit$160999733$--><!----><div><!--?lit$160999733$-->Format as code</div><!----><!--?--></template></colab-tooltip-trigger><!----><!----><md-icon-button id="markdown-toolbar-link-Zr1yXTZ2lvge" class="markdown-toolbar-link" aria-describedby="markdown-toolbar-link-Zr1yXTZ2lvge-tooltip" data-aria-label="Insert link" value=""><template shadowrootmode="open" shadowrootdelegatesfocus><!----><button id="button" class="icon-button  standard " aria-label="Insert link">
        <!--?lit$160999733$--><md-focus-ring part="focus-ring" for="button" aria-hidden="true"><template shadowrootmode="open"><!----></template></md-focus-ring>
        <!--?lit$160999733$--><md-ripple aria-hidden="true"><template shadowrootmode="open"><!----><div class="surface   "></div></template></md-ripple>
        <!--?lit$160999733$--><span class="icon"><slot></slot></span>
        <!--?lit$160999733$-->
        <!--?lit$160999733$--><span class="touch"></span>
  </button></template>
        <!--?lit$160999733$--><md-icon aria-hidden="true"><template shadowrootmode="open"><!----><slot></slot></template><!--?lit$160999733$-->link</md-icon>
      </md-icon-button>
      <colab-tooltip-trigger aria-hidden="true" for="markdown-toolbar-link-Zr1yXTZ2lvge" id="markdown-toolbar-link-Zr1yXTZ2lvge-tooltip" message="Insert link"><template shadowrootmode="open"><!----><!--?lit$160999733$--><!----><div><!--?lit$160999733$-->Insert link</div><!----><!--?--></template></colab-tooltip-trigger><!----><!----><label for="markdown-image-input-Zr1yXTZ2lvge" class="colab-icon markdown-toolbar-insert-image">
        <md-ripple aria-hidden="true"><template shadowrootmode="open"><!----><div class="surface   "></div></template></md-ripple>
        <span role="button" id="markdown-toolbar-insert-image-Zr1yXTZ2lvge" aria-describedby="markdown-toolbar-insert-image-Zr1yXTZ2lvge-tooltip" aria-label="Insert image" tabindex="0">
          <md-focus-ring aria-hidden="true"><template shadowrootmode="open"><!----></template></md-focus-ring>
          <md-icon aria-hidden="true"><template shadowrootmode="open"><!----><slot></slot></template>image</md-icon>
        </span>
        <colab-tooltip-trigger aria-hidden="true" for="markdown-toolbar-insert-image-Zr1yXTZ2lvge" id="markdown-toolbar-insert-image-Zr1yXTZ2lvge-tooltip" message="Insert image"><template shadowrootmode="open"><!----><!--?lit$160999733$--><!----><div><!--?lit$160999733$-->Insert image</div><!----><!--?--></template></colab-tooltip-trigger>
      </label>
      <input class="markdown-image-input" type="file" multiple="" accept="image/*" id="markdown-image-input-Zr1yXTZ2lvge"><!----><!----><md-icon-button id="markdown-toolbar-blockquote-Zr1yXTZ2lvge" class="markdown-toolbar-blockquote" aria-describedby="markdown-toolbar-blockquote-Zr1yXTZ2lvge-tooltip" data-aria-label="Add blockquote" value=""><template shadowrootmode="open" shadowrootdelegatesfocus><!----><button id="button" class="icon-button  standard " aria-label="Add blockquote">
        <!--?lit$160999733$--><md-focus-ring part="focus-ring" for="button" aria-hidden="true"><template shadowrootmode="open"><!----></template></md-focus-ring>
        <!--?lit$160999733$--><md-ripple aria-hidden="true"><template shadowrootmode="open"><!----><div class="surface"></div></template></md-ripple>
        <!--?lit$160999733$--><span class="icon"><slot></slot></span>
        <!--?lit$160999733$-->
        <!--?lit$160999733$--><span class="touch"></span>
  </button></template>
        <!--?lit$160999733$--><md-icon aria-hidden="true"><template shadowrootmode="open"><!----><slot></slot></template><!--?lit$160999733$-->format_quote</md-icon>
      </md-icon-button>
      <colab-tooltip-trigger aria-hidden="true" for="markdown-toolbar-blockquote-Zr1yXTZ2lvge" id="markdown-toolbar-blockquote-Zr1yXTZ2lvge-tooltip" message="Add blockquote"><template shadowrootmode="open"><!----><!--?lit$160999733$--><!----><div><!--?lit$160999733$-->Add blockquote</div><!----><!--?--></template></colab-tooltip-trigger><!----><!----><md-icon-button id="markdown-toolbar-ol-Zr1yXTZ2lvge" class="markdown-toolbar-ol" aria-describedby="markdown-toolbar-ol-Zr1yXTZ2lvge-tooltip" data-aria-label="Add numbered list" value=""><template shadowrootmode="open" shadowrootdelegatesfocus><!----><button id="button" class="icon-button  standard " aria-label="Add numbered list">
        <!--?lit$160999733$--><md-focus-ring part="focus-ring" for="button" aria-hidden="true"><template shadowrootmode="open"><!----></template></md-focus-ring>
        <!--?lit$160999733$--><md-ripple aria-hidden="true"><template shadowrootmode="open"><!----><div class="surface"></div></template></md-ripple>
        <!--?lit$160999733$--><span class="icon"><slot></slot></span>
        <!--?lit$160999733$-->
        <!--?lit$160999733$--><span class="touch"></span>
  </button></template>
        <!--?lit$160999733$--><md-icon aria-hidden="true"><template shadowrootmode="open"><!----><slot></slot></template><!--?lit$160999733$-->format_list_numbered</md-icon>
      </md-icon-button>
      <colab-tooltip-trigger aria-hidden="true" for="markdown-toolbar-ol-Zr1yXTZ2lvge" id="markdown-toolbar-ol-Zr1yXTZ2lvge-tooltip" message="Add numbered list"><template shadowrootmode="open"><!----><!--?lit$160999733$--><!----><div><!--?lit$160999733$-->Add numbered list</div><!----><!--?--></template></colab-tooltip-trigger><!----><!----><md-icon-button id="markdown-toolbar-ul-Zr1yXTZ2lvge" class="markdown-toolbar-ul" aria-describedby="markdown-toolbar-ul-Zr1yXTZ2lvge-tooltip" data-aria-label="Add bulleted list" value=""><template shadowrootmode="open" shadowrootdelegatesfocus><!----><button id="button" class="icon-button  standard " aria-label="Add bulleted list">
        <!--?lit$160999733$--><md-focus-ring part="focus-ring" for="button" aria-hidden="true"><template shadowrootmode="open"><!----></template></md-focus-ring>
        <!--?lit$160999733$--><md-ripple aria-hidden="true"><template shadowrootmode="open"><!----><div class="surface   "></div></template></md-ripple>
        <!--?lit$160999733$--><span class="icon"><slot></slot></span>
        <!--?lit$160999733$-->
        <!--?lit$160999733$--><span class="touch"></span>
  </button></template>
        <!--?lit$160999733$--><md-icon aria-hidden="true"><template shadowrootmode="open"><!----><slot></slot></template><!--?lit$160999733$-->format_list_bulleted</md-icon>
      </md-icon-button>
      <colab-tooltip-trigger aria-hidden="true" for="markdown-toolbar-ul-Zr1yXTZ2lvge" id="markdown-toolbar-ul-Zr1yXTZ2lvge-tooltip" message="Add bulleted list"><template shadowrootmode="open"><!----><!--?lit$160999733$--><!----><div><!--?lit$160999733$-->Add bulleted list</div><!----><!--?--></template></colab-tooltip-trigger><!----><!----><md-icon-button id="markdown-toolbar-hr-Zr1yXTZ2lvge" class="markdown-toolbar-hr" aria-describedby="markdown-toolbar-hr-Zr1yXTZ2lvge-tooltip" data-aria-label="Add horizontal rule" value=""><template shadowrootmode="open" shadowrootdelegatesfocus><!----><button id="button" class="icon-button  standard " aria-label="Add horizontal rule">
        <!--?lit$160999733$--><md-focus-ring part="focus-ring" for="button" aria-hidden="true"><template shadowrootmode="open"><!----></template></md-focus-ring>
        <!--?lit$160999733$--><md-ripple aria-hidden="true"><template shadowrootmode="open"><!----><div class="surface   "></div></template></md-ripple>
        <!--?lit$160999733$--><span class="icon"><slot></slot></span>
        <!--?lit$160999733$-->
        <!--?lit$160999733$--><span class="touch"></span>
  </button></template>
        <!--?lit$160999733$--><md-icon aria-hidden="true"><template shadowrootmode="open"><!----><slot></slot></template><!--?lit$160999733$-->horizontal_rule</md-icon>
      </md-icon-button>
      <colab-tooltip-trigger aria-hidden="true" for="markdown-toolbar-hr-Zr1yXTZ2lvge" id="markdown-toolbar-hr-Zr1yXTZ2lvge-tooltip" message="Add horizontal rule"><template shadowrootmode="open"><!----><!--?lit$160999733$--><!----><div><!--?lit$160999733$-->Add horizontal rule</div><!----><!--?--></template></colab-tooltip-trigger><!----><!----><md-icon-button id="markdown-toolbar-latex-Zr1yXTZ2lvge" class="markdown-toolbar-latex" aria-describedby="markdown-toolbar-latex-Zr1yXTZ2lvge-tooltip" data-aria-label="LaTeX" value=""><template shadowrootmode="open" shadowrootdelegatesfocus><!----><button id="button" class="icon-button  standard " aria-label="LaTeX">
        <!--?lit$160999733$--><md-focus-ring part="focus-ring" for="button" aria-hidden="true"><template shadowrootmode="open"><!----></template></md-focus-ring>
        <!--?lit$160999733$--><md-ripple aria-hidden="true"><template shadowrootmode="open"><!----><div class="surface   "></div></template></md-ripple>
        <!--?lit$160999733$--><span class="icon"><slot></slot></span>
        <!--?lit$160999733$-->
        <!--?lit$160999733$--><span class="touch"></span>
  </button></template>
        <!--?lit$160999733$--><span aria-hidden="true">ψ</span>
      </md-icon-button>
      <colab-tooltip-trigger aria-hidden="true" for="markdown-toolbar-latex-Zr1yXTZ2lvge" id="markdown-toolbar-latex-Zr1yXTZ2lvge-tooltip" message="LaTeX"><template shadowrootmode="open"><!----><!--?lit$160999733$--><!----><div><!--?lit$160999733$-->LaTeX</div><!----><!--?--></template></colab-tooltip-trigger><!----><!----><md-icon-button id="markdown-toolbar-emoji-Zr1yXTZ2lvge" class="markdown-toolbar-emoji" aria-describedby="markdown-toolbar-emoji-Zr1yXTZ2lvge-tooltip" data-aria-label="Insert emoji" value=""><template shadowrootmode="open" shadowrootdelegatesfocus><!----><button id="button" class="icon-button  standard " aria-label="Insert emoji">
        <!--?lit$160999733$--><md-focus-ring part="focus-ring" for="button" aria-hidden="true"><template shadowrootmode="open"><!----></template></md-focus-ring>
        <!--?lit$160999733$--><md-ripple aria-hidden="true"><template shadowrootmode="open"><!----><div class="surface   "></div></template></md-ripple>
        <!--?lit$160999733$--><span class="icon"><slot></slot></span>
        <!--?lit$160999733$-->
        <!--?lit$160999733$--><span class="touch"></span>
  </button></template>
        <!--?lit$160999733$--><md-icon aria-hidden="true"><template shadowrootmode="open"><!----><slot></slot></template><!--?lit$160999733$-->mood</md-icon>
      </md-icon-button>
      <colab-tooltip-trigger aria-hidden="true" for="markdown-toolbar-emoji-Zr1yXTZ2lvge" id="markdown-toolbar-emoji-Zr1yXTZ2lvge-tooltip" message="Insert emoji"><template shadowrootmode="open"><!----><!--?lit$160999733$--><!----><div><!--?lit$160999733$-->Insert emoji</div><!----><!--?--></template></colab-tooltip-trigger><!----><!----><md-icon-button id="markdown-toolbar-preview-Zr1yXTZ2lvge" class="markdown-toolbar-preview" aria-describedby="markdown-toolbar-preview-Zr1yXTZ2lvge-tooltip" data-aria-label="Reposition markdown preview" value=""><template shadowrootmode="open" shadowrootdelegatesfocus><!----><button id="button" class="icon-button  standard " aria-label="Reposition markdown preview">
        <!--?lit$160999733$--><md-focus-ring part="focus-ring" for="button" aria-hidden="true"><template shadowrootmode="open"><!----></template></md-focus-ring>
        <!--?lit$160999733$--><md-ripple aria-hidden="true"><template shadowrootmode="open"><!----><div class="surface   "></div></template></md-ripple>
        <!--?lit$160999733$--><span class="icon"><slot></slot></span>
        <!--?lit$160999733$-->
        <!--?lit$160999733$--><span class="touch"></span>
  </button></template>
        <!--?lit$160999733$--><md-icon aria-hidden="true"><template shadowrootmode="open"><!----><slot></slot></template><!--?lit$160999733$--><svg viewBox="0 0 24 24"><!--?lit$160999733$--><g id="markdown-preview-below">
  <rect width="20" height="18" x="2" y="2" rx="2" ry="2" style="fill:none;stroke:var(--colab-icon-color)"></rect>
  <line x1="4.5" y1="13" x2="19.5" y2="13" style="stroke:var(--colab-primary-text-color);stroke-dasharray:2"></line>
  <line x1="2.5" y1="4" x2="21.5" y2="4" style="stroke:var(--colab-icon-color);stroke-width:3px;"></line>
</g></svg></md-icon>
      </md-icon-button>
      <colab-tooltip-trigger aria-hidden="true" for="markdown-toolbar-preview-Zr1yXTZ2lvge" id="markdown-toolbar-preview-Zr1yXTZ2lvge-tooltip" message="Reposition markdown preview"><template shadowrootmode="open"><!----><!--?lit$160999733$--><!----><div><!--?lit$160999733$-->Reposition markdown preview</div><!----><!--?--></template></colab-tooltip-trigger><!----><!--?--></div></div>
      <div class="editor-container horizontal">
        <div class="editor-root"><div class="editor flex monaco" data-keybinding-context="25" data-mode-id="markdown" style="height: 181px; --vscode-editorCodeLens-lineHeight: 16px; --vscode-editorCodeLens-fontSize: 12px; --vscode-editorCodeLens-fontFeatureSettings: &quot;liga&quot; off, &quot;calt&quot; off; display: none;"><div class="monaco-editor no-user-select  showUnused showDeprecated vs" role="code" data-uri="inmemory://model/20" style="width: 338px; height: 181px;"><div data-mprt="3" class="overflow-guard" style="width: 338px; height: 181px; overflow: clip;"><div class="margin" role="presentation" aria-hidden="true" style="position: absolute; contain: strict; will-change: unset; top: 0px; height: 181px; width: 6px;"><div class="glyph-margin" style="left: 0px; width: 0px; height: 181px;"></div><div class="margin-view-zones" role="presentation" aria-hidden="true" style="position: absolute;"></div><div class="margin-view-overlays" role="presentation" aria-hidden="true" style="position: absolute; font-family: monospace, Consolas, &quot;Courier New&quot;, monospace; font-weight: normal; font-size: 14px; font-feature-settings: &quot;liga&quot; 0, &quot;calt&quot; 0; font-variation-settings: normal; line-height: 19px; letter-spacing: 0px; width: 6px; height: 181px;"><div style="position:absolute;top:0px;width:100%;height:19px;"></div><div style="position:absolute;top:19px;width:100%;height:19px;"></div><div style="position:absolute;top:38px;width:100%;height:19px;"></div><div style="position:absolute;top:57px;width:100%;height:19px;"></div><div style="position:absolute;top:76px;width:100%;height:19px;"><div class="current-line current-line-margin-both" style="width:6px; height:19px;"></div></div><div style="position:absolute;top:95px;width:100%;height:19px;"></div><div style="position:absolute;top:114px;width:100%;height:19px;"></div><div style="position:absolute;top:133px;width:100%;height:19px;"></div><div style="position:absolute;top:152px;width:100%;height:19px;"></div></div><div class="glyph-margin-widgets" style="position: absolute; top: 0px;"></div></div><div class="monaco-scrollable-element editor-scrollable vs" role="presentation" data-mprt="5" style="position: absolute; overflow: hidden; left: 6px; width: 332px; height: 181px;"><div class="lines-content monaco-editor-background" style="position: absolute; overflow: hidden; width: 1e+06px; height: 181px; contain: strict; will-change: unset; top: 0px; left: 0px;"><div class="view-overlays" role="presentation" aria-hidden="true" style="position: absolute; font-family: monospace, Consolas, &quot;Courier New&quot;, monospace; font-weight: normal; font-size: 14px; font-feature-settings: &quot;liga&quot; 0, &quot;calt&quot; 0; font-variation-settings: normal; line-height: 19px; letter-spacing: 0px; height: 0px; width: 332px;"><div style="position:absolute;top:0px;width:100%;height:19px;"></div><div style="position:absolute;top:19px;width:100%;height:19px;"></div><div style="position:absolute;top:38px;width:100%;height:19px;"></div><div style="position:absolute;top:57px;width:100%;height:19px;"></div><div style="position:absolute;top:76px;width:100%;height:19px;"><div class="current-line" style="width:332px; height:19px;"></div><div class="cdr wordHighlightText" style="left:200px;width:62px;height:19px;"></div></div><div style="position:absolute;top:95px;width:100%;height:19px;"></div><div style="position:absolute;top:114px;width:100%;height:19px;"></div><div style="position:absolute;top:133px;width:100%;height:19px;"></div><div style="position:absolute;top:152px;width:100%;height:19px;"></div></div><div role="presentation" aria-hidden="true" class="view-rulers"><div class="view-ruler" style="width: 2px; height: 181px; left: 615.938px;"></div></div><div class="view-zones" role="presentation" aria-hidden="true" style="position: absolute;"></div><div class="view-lines monaco-mouse-cursor-text" role="presentation" aria-hidden="true" data-mprt="7" style="position: absolute; font-family: monospace, Consolas, &quot;Courier New&quot;, monospace; font-weight: normal; font-size: 14px; font-feature-settings: &quot;liga&quot; 0, &quot;calt&quot; 0; font-variation-settings: normal; line-height: 19px; letter-spacing: 0px; width: 332px; height: 181px;"><div style="top:0px;height:19px;" class="view-line"><span><span class="mtk1">Kode&nbsp;di&nbsp;atas&nbsp;menampilkan&nbsp;ringkasan&nbsp;hasil&nbsp;</span></span></div><div style="top:19px;height:19px;" class="view-line"><span><span class="mtk1">regresi&nbsp;linear&nbsp;sederhana&nbsp;antara&nbsp;"Ville&nbsp;</span></span></div><div style="top:38px;height:19px;" class="view-line"><span><span class="mtk1 bracket-highlighting-0">(</span><span class="mtk1">L/100&nbsp;km</span><span class="mtk1 bracket-highlighting-0">)</span><span class="mtk1">"&nbsp;sebagai&nbsp;variabel&nbsp;independen&nbsp;</span></span></div><div style="top:57px;height:19px;" class="view-line"><span><span class="mtk1">dan&nbsp;"Emisi&nbsp;CO2&nbsp;</span><span class="mtk1 bracket-highlighting-0">(</span><span class="mtk1">g/km</span><span class="mtk1 bracket-highlighting-0">)</span><span class="mtk1">"&nbsp;sebagai&nbsp;variabel&nbsp;</span></span></div><div style="top:76px;height:19px;" class="view-line"><span><span class="mtk1">dependen.&nbsp;Outputnya&nbsp;yaitu&nbsp;mencakup&nbsp;</span></span></div><div style="top:95px;height:19px;" class="view-line"><span><span class="mtk1">koefisien&nbsp;regresi,&nbsp;nilai&nbsp;R-squared,&nbsp;</span></span></div><div style="top:114px;height:19px;" class="view-line"><span><span class="mtk1">p-value,&nbsp;dan&nbsp;statistik&nbsp;uji&nbsp;lainnya,&nbsp;yang&nbsp;</span></span></div><div style="top:133px;height:19px;" class="view-line"><span><span class="mtk1">menunjukkan&nbsp;kekuatan&nbsp;dan&nbsp;signifikansi&nbsp;</span></span></div><div style="top:152px;height:19px;" class="view-line"><span><span class="mtk1">hubungan&nbsp;antara&nbsp;kedua&nbsp;variabel.</span></span></div></div><div data-mprt="1" class="contentWidgets" style="position: absolute; top: 0px;"><div class="lightBulbWidget codicon codicon-light-bulb" widgetid="LightBulbWidget" title="Show Code Actions (Ctrl+.)" style="position: absolute; display: none; visibility: hidden; max-width: 332px;"></div></div><div role="presentation" aria-hidden="true" class="cursors-layer cursor-line-style cursor-solid"><div class="cursor monaco-mouse-cursor-text " style="height: 19px; top: 76px; left: 199px; font-family: monospace, Consolas, &quot;Courier New&quot;, monospace; font-weight: normal; font-size: 14px; font-feature-settings: &quot;liga&quot; 0, &quot;calt&quot; 0; font-variation-settings: normal; line-height: 19px; letter-spacing: 0px; display: block; visibility: hidden; padding-left: 1px; width: 2px;"></div></div></div><div role="presentation" aria-hidden="true" class="invisible scrollbar horizontal" style="position: absolute; width: 318px; height: 10px; left: 0px; bottom: 0px;"><div class="slider" style="position: absolute; top: 0px; left: 0px; height: 10px; transform: translate3d(0px, 0px, 0px); contain: strict; will-change: unset; width: 318px;"></div></div><canvas class="decorationsOverviewRuler" aria-hidden="true" width="21" height="271" style="position: absolute; transform: translate3d(0px, 0px, 0px); contain: strict; top: 0px; right: 0px; width: 14px; height: 181px; will-change: unset; display: block;"></canvas><div role="presentation" aria-hidden="true" class="invisible scrollbar vertical" style="position: absolute; width: 14px; height: 181px; right: 0px; top: 0px;"><div class="slider" style="position: absolute; top: 0px; left: 0px; width: 14px; transform: translate3d(0px, 0px, 0px); contain: strict; will-change: unset; height: 181px;"></div></div></div><div role="presentation" aria-hidden="true" style="width: 338px;"></div><textarea data-mprt="6" class="inputarea monaco-mouse-cursor-text" wrap="on" autocorrect="off" autocapitalize="off" autocomplete="off" spellcheck="false" aria-label="Editor content;Press Alt+F1 for Accessibility Options." tabindex="0" role="textbox" aria-roledescription="editor" aria-multiline="true" aria-haspopup="false" aria-autocomplete="both" style="tab-size: 15.3984px; font-family: monospace, Consolas, &quot;Courier New&quot;, monospace; font-weight: normal; font-size: 14px; font-feature-settings: &quot;liga&quot; 0, &quot;calt&quot; 0; font-variation-settings: normal; line-height: 19px; letter-spacing: 0px; top: 76px; left: 6px; width: 316px; height: 1px;"></textarea><div style="position: absolute; top: 0px; left: 0px; width: 0px; height: 0px;" class="monaco-editor-background textAreaCover"></div><div data-mprt="4" class="overlayWidgets" style="width: 338px;"></div><div data-mprt="8" class="minimap slider-mouseover" role="presentation" aria-hidden="true" style="position: absolute; left: 0px; width: 0px; height: 181px;"><div class="minimap-shadow-hidden" style="height: 181px;"></div><canvas width="0" height="271" style="position: absolute; left: 0px; width: 0px; height: 181px;"></canvas><canvas class="minimap-decorations-layer" width="0" height="271" style="position: absolute; left: 0px; width: 0px; height: 181px;"></canvas><div class="minimap-slider" style="position: absolute; transform: translate3d(0px, 0px, 0px); contain: strict; width: 0px; will-change: unset;"><div class="minimap-slider-horizontal" style="position: absolute; width: 0px; height: 0px;"></div></div></div><div role="presentation" aria-hidden="true" class="blockDecorations-container"></div></div><div data-mprt="2" class="overflowingContentWidgets" style="display: none;"><div class="inlineSuggestionsHints withBorder" widgetid="InlineSuggestionHintsContentWidget23" style="position: fixed; display: none; visibility: hidden; max-width: 640px;"><div style="display: flex;"><div class="custom-actions"><div class="monaco-action-bar animated"><ul class="actions-container" role="toolbar"><li class="action-item disabled" role="presentation" title="Previous (Alt+[)"><a class="action-label codicon codicon-inline-suggestion-hints-previous disabled" role="button" aria-label="Previous (Alt+[)" aria-checked="" aria-disabled="true" tabindex="0"></a></li><li class="action-item disabled" role="presentation" title=""><a class="action-label disabled" role="button" aria-label="" aria-disabled="true" aria-checked=""></a></li><li class="action-item disabled" role="presentation" title="Next (Alt+])"><a class="action-label codicon codicon-inline-suggestion-hints-next disabled" role="button" aria-label="Next (Alt+])" aria-checked="" aria-disabled="true"></a></li></ul></div></div><div><div class="monaco-toolbar"><div class="monaco-action-bar animated"><ul class="actions-container" role="toolbar"><li class="action-item disabled menu-entry" role="presentation" title="Accept (Tab)"><a class="action-label inlineSuggestionStatusBarItemLabel disabled" role="button" aria-label="Accept (Tab)" aria-disabled="true" aria-checked="" tabindex="0">Accept<div class="keybinding"><div class="monaco-keybinding"><span class="monaco-keybinding-key">Tab</span></div></div></a></li><li class="action-item disabled menu-entry" role="presentation" title="Accept Word (Ctrl+RightArrow)"><a class="action-label inlineSuggestionStatusBarItemLabel disabled" role="button" aria-label="Accept Word (Ctrl+RightArrow)" aria-disabled="true" aria-checked="">Accept Word<div class="keybinding"><div class="monaco-keybinding"><span class="monaco-keybinding-key">Ctrl</span><span class="monaco-keybinding-key-separator">+</span><span class="monaco-keybinding-key">RightArrow</span></div></div></a></li><li class="action-item" role="presentation"><div class="monaco-dropdown"><div class="dropdown-label"><a class="action-label codicon codicon-toolbar-more" role="button" aria-haspopup="true" aria-expanded="false" title="More Actions..." aria-label="More Actions..."></a></div></div></li></ul></div></div></div></div></div><div widgetid="editor.contrib.resizableContentHoverWidget" style="position: fixed; height: 10px; width: 10px; z-index: 50; display: none; visibility: hidden; max-width: 640px;"><div class="monaco-sash vertical" style="left: 8px;"></div><div class="monaco-sash vertical" style="left: -2px;"></div><div class="monaco-sash orthogonal-edge-north horizontal" style="top: -2px;"><div class="orthogonal-drag-handle start"></div><div class="orthogonal-drag-handle end"></div></div><div class="monaco-sash orthogonal-edge-south horizontal" style="top: 8px;"><div class="orthogonal-drag-handle start"></div><div class="orthogonal-drag-handle end"></div></div><div class="monaco-hover hidden" role="tooltip" tabindex="0"><div class="monaco-scrollable-element " role="presentation" style="position: relative; overflow: hidden;"><div class="monaco-hover-content" style="overflow: hidden; font-size: 14px; line-height: 1.35714; max-width: 500px; max-height: 250px;"></div><div role="presentation" aria-hidden="true" class="invisible scrollbar horizontal" style="position: absolute;"><div class="slider" style="position: absolute; top: 0px; left: 0px; height: 10px; transform: translate3d(0px, 0px, 0px); contain: strict;"></div></div><div role="presentation" aria-hidden="true" class="invisible scrollbar vertical" style="position: absolute;"><div class="slider" style="position: absolute; top: 0px; left: 0px; width: 10px; transform: translate3d(0px, 0px, 0px); contain: strict;"></div></div><div class="shadow"></div><div class="shadow"></div><div class="shadow"></div></div></div></div></div><div class=".in-cell-overflowing"><div widgetid="editor.contrib.quickInputWidget" style="position: absolute; top: 0px; right: 50%;"></div></div></div></div></div>
        <div class="text-top-div">
          <div class="markdown"><span><p>Kode di atas menampilkan ringkasan hasil regresi linear sederhana antara "Ville (L/100 km)" sebagai variabel independen dan "Emisi CO2 (g/km)" sebagai variabel dependen. Outputnya yaitu mencakup koefisien regresi, nilai R-squared, p-value, dan statistik uji lainnya, yang menunjukkan kekuatan dan signifikansi hubungan antara kedua variabel.</p>
</span></div>
        </div>
      </div>

      <div class="section-header" style="display: none;">
        <colab-run-button><template shadowrootmode="open"><!----> <div class="cell-execution">
      <button id="run-button" aria-label="Run cell" aria-disabled="false">
        <!--?lit$160999733$--><span class="execution-count"><!--?lit$160999733$-->[ ]</span>
        <span aria-hidden="true" class="cell-execution-indicator"><!--?lit$160999733$-->
<svg xmlns="http://www.w3.org/2000/svg" viewBox="0 0 24 24">
  <!--?lit$160999733$-->
  <mask id="playSymbolMask">
    <rect width="100%" height="100%" fill="white"></rect>
    <polygon points="10,8 17,12 10,16" fill="black"></polygon>
  </mask>
  <circle cx="12" cy="12" r="7.8" mask="url(#playSymbolMask)" id="filledCircle"></circle>
</svg></span>
      </button>
      <!--?lit$160999733$-->
      <!--?lit$160999733$--><!--?-->
    </div></template></colab-run-button>
        <div class="section-header-container" title="click to expand">
          <md-icon aria-hidden="true"><template shadowrootmode="open"><!----><slot></slot></template>subdirectory_arrow_right</md-icon>
          <span>0 cells hidden</span>
        </div>
      </div></div></div><div class="add-cell">
      <div class="add-cell-buttons">
        <md-outlined-button class="add-code add-button" data-aria-label="Add code cell
Ctrl+M B" title="Add code cell
Ctrl+M B" value="" has-icon=""><template shadowrootmode="open" shadowrootdelegatesfocus><!---->
      <!--?lit$160999733$--><div class="outline"></div>
      <div class="background"></div>
      <md-focus-ring part="focus-ring" for="button" aria-hidden="true"><template shadowrootmode="open"><!----></template></md-focus-ring>
      <md-ripple part="ripple" for="button" aria-hidden="true"><template shadowrootmode="open"><!----><div class="surface"></div></template></md-ripple>
      <!--?lit$160999733$--><button id="button" class="button" aria-label="Add code cell
Ctrl+M B">
      <!--?lit$160999733$-->
      <span class="touch"></span>
      <!--?lit$160999733$--><slot name="icon"></slot>
      <span class="label"><slot></slot></span>
      <!--?lit$160999733$-->
    
    </button>
    </template>
          <md-icon slot="icon" aria-hidden="true"><template shadowrootmode="open"><!----><slot></slot></template>add</md-icon>
          <!--?lit$160999733$-->Code
        </md-outlined-button>
        <md-outlined-button class="add-text add-button" data-aria-label="Add text cell" title="Add text cell" value="" has-icon=""><template shadowrootmode="open" shadowrootdelegatesfocus><!---->
      <!--?lit$160999733$--><div class="outline"></div>
      <div class="background"></div>
      <md-focus-ring part="focus-ring" for="button" aria-hidden="true"><template shadowrootmode="open"><!----></template></md-focus-ring>
      <md-ripple part="ripple" for="button" aria-hidden="true"><template shadowrootmode="open"><!----><div class="surface"></div></template></md-ripple>
      <!--?lit$160999733$--><button id="button" class="button" aria-label="Add text cell">
      <!--?lit$160999733$-->
      <span class="touch"></span>
      <!--?lit$160999733$--><slot name="icon"></slot>
      <span class="label"><slot></slot></span>
      <!--?lit$160999733$-->
    
    </button>
    </template>
          <md-icon slot="icon" aria-hidden="true"><template shadowrootmode="open"><!----><slot></slot></template>add</md-icon>
          <!--?lit$160999733$-->Text
        </md-outlined-button>
        <!--?lit$160999733$-->
      </div><hr>
    </div></div><div class="cell text" id="cell-IzR3giDCmVsp" role="region" aria-label="Cell 18: Text cell: " style="opacity: 1;" tabindex="-1"><div class="agent-focus-label">
      <md-icon aria-hidden="true"><template shadowrootmode="open"><!----><slot></slot></template>spark</md-icon>
      <!--?lit$160999733$-->Gemini
    </div><div class="cell-tag-editor sticky"></div><div class="cell-toolbar sticky"></div><div class="main-content" elevation="0"><div class="cell-contents"><div class="cell-mask"></div><span class="imported-info-area"></span><!----> <div class="toolbar-root"><div class="markdown-toolbar"><!----><!--?lit$160999733$--><!----><md-icon-button id="markdown-toolbar-header-IzR3giDCmVsp" class="markdown-toolbar-header" aria-describedby="markdown-toolbar-header-IzR3giDCmVsp-tooltip" data-aria-label="Toggle heading" value=""><template shadowrootmode="open" shadowrootdelegatesfocus><!----><button id="button" class="icon-button  standard " aria-label="Toggle heading">
        <!--?lit$160999733$--><md-focus-ring part="focus-ring" for="button" aria-hidden="true"><template shadowrootmode="open"><!----></template></md-focus-ring>
        <!--?lit$160999733$--><md-ripple aria-hidden="true"><template shadowrootmode="open"><!----><div class="surface   "></div></template></md-ripple>
        <!--?lit$160999733$--><span class="icon"><slot></slot></span>
        <!--?lit$160999733$-->
        <!--?lit$160999733$--><span class="touch"></span>
  </button></template>
        <!--?lit$160999733$--><md-icon aria-hidden="true"><template shadowrootmode="open"><!----><slot></slot></template><!--?lit$160999733$-->format_size</md-icon>
      </md-icon-button>
      <colab-tooltip-trigger aria-hidden="true" for="markdown-toolbar-header-IzR3giDCmVsp" id="markdown-toolbar-header-IzR3giDCmVsp-tooltip" message="Toggle heading"><template shadowrootmode="open"><!----><!--?lit$160999733$--><!----><div><!--?lit$160999733$-->Toggle heading</div><!----><!--?--></template></colab-tooltip-trigger><!----><!----><md-icon-button id="markdown-toolbar-bold-IzR3giDCmVsp" class="markdown-toolbar-bold" aria-describedby="markdown-toolbar-bold-IzR3giDCmVsp-tooltip" data-aria-label="Bold" value=""><template shadowrootmode="open" shadowrootdelegatesfocus><!----><button id="button" class="icon-button  standard " aria-label="Bold">
        <!--?lit$160999733$--><md-focus-ring part="focus-ring" for="button" aria-hidden="true"><template shadowrootmode="open"><!----></template></md-focus-ring>
        <!--?lit$160999733$--><md-ripple aria-hidden="true"><template shadowrootmode="open"><!----><div class="surface   "></div></template></md-ripple>
        <!--?lit$160999733$--><span class="icon"><slot></slot></span>
        <!--?lit$160999733$-->
        <!--?lit$160999733$--><span class="touch"></span>
  </button></template>
        <!--?lit$160999733$--><md-icon aria-hidden="true"><template shadowrootmode="open"><!----><slot></slot></template><!--?lit$160999733$-->format_bold</md-icon>
      </md-icon-button>
      <colab-tooltip-trigger aria-hidden="true" for="markdown-toolbar-bold-IzR3giDCmVsp" id="markdown-toolbar-bold-IzR3giDCmVsp-tooltip" message="Bold"><template shadowrootmode="open"><!----><!--?lit$160999733$--><!----><div><!--?lit$160999733$-->Bold</div><!----><!--?--></template></colab-tooltip-trigger><!----><!----><md-icon-button id="markdown-toolbar-italic-IzR3giDCmVsp" class="markdown-toolbar-italic" aria-describedby="markdown-toolbar-italic-IzR3giDCmVsp-tooltip" data-aria-label="Italicize" value=""><template shadowrootmode="open" shadowrootdelegatesfocus><!----><button id="button" class="icon-button  standard " aria-label="Italicize">
        <!--?lit$160999733$--><md-focus-ring part="focus-ring" for="button" aria-hidden="true"><template shadowrootmode="open"><!----></template></md-focus-ring>
        <!--?lit$160999733$--><md-ripple aria-hidden="true"><template shadowrootmode="open"><!----><div class="surface   "></div></template></md-ripple>
        <!--?lit$160999733$--><span class="icon"><slot></slot></span>
        <!--?lit$160999733$-->
        <!--?lit$160999733$--><span class="touch"></span>
  </button></template>
        <!--?lit$160999733$--><md-icon aria-hidden="true"><template shadowrootmode="open"><!----><slot></slot></template><!--?lit$160999733$-->format_italic</md-icon>
      </md-icon-button>
      <colab-tooltip-trigger aria-hidden="true" for="markdown-toolbar-italic-IzR3giDCmVsp" id="markdown-toolbar-italic-IzR3giDCmVsp-tooltip" message="Italicize"><template shadowrootmode="open"><!----><!--?lit$160999733$--><!----><div><!--?lit$160999733$-->Italicize</div><!----><!--?--></template></colab-tooltip-trigger><!----><!----><md-icon-button id="markdown-toolbar-code-IzR3giDCmVsp" class="markdown-toolbar-code" aria-describedby="markdown-toolbar-code-IzR3giDCmVsp-tooltip" data-aria-label="Format as code" value=""><template shadowrootmode="open" shadowrootdelegatesfocus><!----><button id="button" class="icon-button  standard " aria-label="Format as code">
        <!--?lit$160999733$--><md-focus-ring part="focus-ring" for="button" aria-hidden="true"><template shadowrootmode="open"><!----></template></md-focus-ring>
        <!--?lit$160999733$--><md-ripple aria-hidden="true"><template shadowrootmode="open"><!----><div class="surface   "></div></template></md-ripple>
        <!--?lit$160999733$--><span class="icon"><slot></slot></span>
        <!--?lit$160999733$-->
        <!--?lit$160999733$--><span class="touch"></span>
  </button></template>
        <!--?lit$160999733$--><md-icon aria-hidden="true"><template shadowrootmode="open"><!----><slot></slot></template><!--?lit$160999733$-->code</md-icon>
      </md-icon-button>
      <colab-tooltip-trigger aria-hidden="true" for="markdown-toolbar-code-IzR3giDCmVsp" id="markdown-toolbar-code-IzR3giDCmVsp-tooltip" message="Format as code"><template shadowrootmode="open"><!----><!--?lit$160999733$--><!----><div><!--?lit$160999733$-->Format as code</div><!----><!--?--></template></colab-tooltip-trigger><!----><!----><md-icon-button id="markdown-toolbar-link-IzR3giDCmVsp" class="markdown-toolbar-link" aria-describedby="markdown-toolbar-link-IzR3giDCmVsp-tooltip" data-aria-label="Insert link" value=""><template shadowrootmode="open" shadowrootdelegatesfocus><!----><button id="button" class="icon-button  standard " aria-label="Insert link">
        <!--?lit$160999733$--><md-focus-ring part="focus-ring" for="button" aria-hidden="true"><template shadowrootmode="open"><!----></template></md-focus-ring>
        <!--?lit$160999733$--><md-ripple aria-hidden="true"><template shadowrootmode="open"><!----><div class="surface   "></div></template></md-ripple>
        <!--?lit$160999733$--><span class="icon"><slot></slot></span>
        <!--?lit$160999733$-->
        <!--?lit$160999733$--><span class="touch"></span>
  </button></template>
        <!--?lit$160999733$--><md-icon aria-hidden="true"><template shadowrootmode="open"><!----><slot></slot></template><!--?lit$160999733$-->link</md-icon>
      </md-icon-button>
      <colab-tooltip-trigger aria-hidden="true" for="markdown-toolbar-link-IzR3giDCmVsp" id="markdown-toolbar-link-IzR3giDCmVsp-tooltip" message="Insert link"><template shadowrootmode="open"><!----><!--?lit$160999733$--><!----><div><!--?lit$160999733$-->Insert link</div><!----><!--?--></template></colab-tooltip-trigger><!----><!----><label for="markdown-image-input-IzR3giDCmVsp" class="colab-icon markdown-toolbar-insert-image">
        <md-ripple aria-hidden="true"><template shadowrootmode="open"><!----><div class="surface   "></div></template></md-ripple>
        <span role="button" id="markdown-toolbar-insert-image-IzR3giDCmVsp" aria-describedby="markdown-toolbar-insert-image-IzR3giDCmVsp-tooltip" aria-label="Insert image" tabindex="0">
          <md-focus-ring aria-hidden="true"><template shadowrootmode="open"><!----></template></md-focus-ring>
          <md-icon aria-hidden="true"><template shadowrootmode="open"><!----><slot></slot></template>image</md-icon>
        </span>
        <colab-tooltip-trigger aria-hidden="true" for="markdown-toolbar-insert-image-IzR3giDCmVsp" id="markdown-toolbar-insert-image-IzR3giDCmVsp-tooltip" message="Insert image"><template shadowrootmode="open"><!----><!--?lit$160999733$--><!----><div><!--?lit$160999733$-->Insert image</div><!----><!--?--></template></colab-tooltip-trigger>
      </label>
      <input class="markdown-image-input" type="file" multiple="" accept="image/*" id="markdown-image-input-IzR3giDCmVsp"><!----><!----><md-icon-button id="markdown-toolbar-blockquote-IzR3giDCmVsp" class="markdown-toolbar-blockquote" aria-describedby="markdown-toolbar-blockquote-IzR3giDCmVsp-tooltip" data-aria-label="Add blockquote" value=""><template shadowrootmode="open" shadowrootdelegatesfocus><!----><button id="button" class="icon-button  standard " aria-label="Add blockquote">
        <!--?lit$160999733$--><md-focus-ring part="focus-ring" for="button" aria-hidden="true"><template shadowrootmode="open"><!----></template></md-focus-ring>
        <!--?lit$160999733$--><md-ripple aria-hidden="true"><template shadowrootmode="open"><!----><div class="surface   "></div></template></md-ripple>
        <!--?lit$160999733$--><span class="icon"><slot></slot></span>
        <!--?lit$160999733$-->
        <!--?lit$160999733$--><span class="touch"></span>
  </button></template>
        <!--?lit$160999733$--><md-icon aria-hidden="true"><template shadowrootmode="open"><!----><slot></slot></template><!--?lit$160999733$-->format_quote</md-icon>
      </md-icon-button>
      <colab-tooltip-trigger aria-hidden="true" for="markdown-toolbar-blockquote-IzR3giDCmVsp" id="markdown-toolbar-blockquote-IzR3giDCmVsp-tooltip" message="Add blockquote"><template shadowrootmode="open"><!----><!--?lit$160999733$--><!----><div><!--?lit$160999733$-->Add blockquote</div><!----><!--?--></template></colab-tooltip-trigger><!----><!----><md-icon-button id="markdown-toolbar-ol-IzR3giDCmVsp" class="markdown-toolbar-ol" aria-describedby="markdown-toolbar-ol-IzR3giDCmVsp-tooltip" data-aria-label="Add numbered list" value=""><template shadowrootmode="open" shadowrootdelegatesfocus><!----><button id="button" class="icon-button  standard " aria-label="Add numbered list">
        <!--?lit$160999733$--><md-focus-ring part="focus-ring" for="button" aria-hidden="true"><template shadowrootmode="open"><!----></template></md-focus-ring>
        <!--?lit$160999733$--><md-ripple aria-hidden="true"><template shadowrootmode="open"><!----><div class="surface   "></div></template></md-ripple>
        <!--?lit$160999733$--><span class="icon"><slot></slot></span>
        <!--?lit$160999733$-->
        <!--?lit$160999733$--><span class="touch"></span>
  </button></template>
        <!--?lit$160999733$--><md-icon aria-hidden="true"><template shadowrootmode="open"><!----><slot></slot></template><!--?lit$160999733$-->format_list_numbered</md-icon>
      </md-icon-button>
      <colab-tooltip-trigger aria-hidden="true" for="markdown-toolbar-ol-IzR3giDCmVsp" id="markdown-toolbar-ol-IzR3giDCmVsp-tooltip" message="Add numbered list"><template shadowrootmode="open"><!----><!--?lit$160999733$--><!----><div><!--?lit$160999733$-->Add numbered list</div><!----><!--?--></template></colab-tooltip-trigger><!----><!----><md-icon-button id="markdown-toolbar-ul-IzR3giDCmVsp" class="markdown-toolbar-ul" aria-describedby="markdown-toolbar-ul-IzR3giDCmVsp-tooltip" data-aria-label="Add bulleted list" value=""><template shadowrootmode="open" shadowrootdelegatesfocus><!----><button id="button" class="icon-button  standard " aria-label="Add bulleted list">
        <!--?lit$160999733$--><md-focus-ring part="focus-ring" for="button" aria-hidden="true"><template shadowrootmode="open"><!----></template></md-focus-ring>
        <!--?lit$160999733$--><md-ripple aria-hidden="true"><template shadowrootmode="open"><!----><div class="surface   "></div></template></md-ripple>
        <!--?lit$160999733$--><span class="icon"><slot></slot></span>
        <!--?lit$160999733$-->
        <!--?lit$160999733$--><span class="touch"></span>
  </button></template>
        <!--?lit$160999733$--><md-icon aria-hidden="true"><template shadowrootmode="open"><!----><slot></slot></template><!--?lit$160999733$-->format_list_bulleted</md-icon>
      </md-icon-button>
      <colab-tooltip-trigger aria-hidden="true" for="markdown-toolbar-ul-IzR3giDCmVsp" id="markdown-toolbar-ul-IzR3giDCmVsp-tooltip" message="Add bulleted list"><template shadowrootmode="open"><!----><!--?lit$160999733$--><!----><div><!--?lit$160999733$-->Add bulleted list</div><!----><!--?--></template></colab-tooltip-trigger><!----><!----><md-icon-button id="markdown-toolbar-hr-IzR3giDCmVsp" class="markdown-toolbar-hr" aria-describedby="markdown-toolbar-hr-IzR3giDCmVsp-tooltip" data-aria-label="Add horizontal rule" value=""><template shadowrootmode="open" shadowrootdelegatesfocus><!----><button id="button" class="icon-button  standard " aria-label="Add horizontal rule">
        <!--?lit$160999733$--><md-focus-ring part="focus-ring" for="button" aria-hidden="true"><template shadowrootmode="open"><!----></template></md-focus-ring>
        <!--?lit$160999733$--><md-ripple aria-hidden="true"><template shadowrootmode="open"><!----><div class="surface   "></div></template></md-ripple>
        <!--?lit$160999733$--><span class="icon"><slot></slot></span>
        <!--?lit$160999733$-->
        <!--?lit$160999733$--><span class="touch"></span>
  </button></template>
        <!--?lit$160999733$--><md-icon aria-hidden="true"><template shadowrootmode="open"><!----><slot></slot></template><!--?lit$160999733$-->horizontal_rule</md-icon>
      </md-icon-button>
      <colab-tooltip-trigger aria-hidden="true" for="markdown-toolbar-hr-IzR3giDCmVsp" id="markdown-toolbar-hr-IzR3giDCmVsp-tooltip" message="Add horizontal rule"><template shadowrootmode="open"><!----><!--?lit$160999733$--><!----><div><!--?lit$160999733$-->Add horizontal rule</div><!----><!--?--></template></colab-tooltip-trigger><!----><!----><md-icon-button id="markdown-toolbar-latex-IzR3giDCmVsp" class="markdown-toolbar-latex" aria-describedby="markdown-toolbar-latex-IzR3giDCmVsp-tooltip" data-aria-label="LaTeX" value=""><template shadowrootmode="open" shadowrootdelegatesfocus><!----><button id="button" class="icon-button  standard " aria-label="LaTeX">
        <!--?lit$160999733$--><md-focus-ring part="focus-ring" for="button" aria-hidden="true"><template shadowrootmode="open"><!----></template></md-focus-ring>
        <!--?lit$160999733$--><md-ripple aria-hidden="true"><template shadowrootmode="open"><!----><div class="surface   "></div></template></md-ripple>
        <!--?lit$160999733$--><span class="icon"><slot></slot></span>
        <!--?lit$160999733$-->
        <!--?lit$160999733$--><span class="touch"></span>
  </button></template>
        <!--?lit$160999733$--><span aria-hidden="true">ψ</span>
      </md-icon-button>
      <colab-tooltip-trigger aria-hidden="true" for="markdown-toolbar-latex-IzR3giDCmVsp" id="markdown-toolbar-latex-IzR3giDCmVsp-tooltip" message="LaTeX"><template shadowrootmode="open"><!----><!--?lit$160999733$--><!----><div><!--?lit$160999733$-->LaTeX</div><!----><!--?--></template></colab-tooltip-trigger><!----><!----><md-icon-button id="markdown-toolbar-emoji-IzR3giDCmVsp" class="markdown-toolbar-emoji" aria-describedby="markdown-toolbar-emoji-IzR3giDCmVsp-tooltip" data-aria-label="Insert emoji" value=""><template shadowrootmode="open" shadowrootdelegatesfocus><!----><button id="button" class="icon-button  standard " aria-label="Insert emoji">
        <!--?lit$160999733$--><md-focus-ring part="focus-ring" for="button" aria-hidden="true"><template shadowrootmode="open"><!----></template></md-focus-ring>
        <!--?lit$160999733$--><md-ripple aria-hidden="true"><template shadowrootmode="open"><!----><div class="surface   "></div></template></md-ripple>
        <!--?lit$160999733$--><span class="icon"><slot></slot></span>
        <!--?lit$160999733$-->
        <!--?lit$160999733$--><span class="touch"></span>
  </button></template>
        <!--?lit$160999733$--><md-icon aria-hidden="true"><template shadowrootmode="open"><!----><slot></slot></template><!--?lit$160999733$-->mood</md-icon>
      </md-icon-button>
      <colab-tooltip-trigger aria-hidden="true" for="markdown-toolbar-emoji-IzR3giDCmVsp" id="markdown-toolbar-emoji-IzR3giDCmVsp-tooltip" message="Insert emoji"><template shadowrootmode="open"><!----><!--?lit$160999733$--><!----><div><!--?lit$160999733$-->Insert emoji</div><!----><!--?--></template></colab-tooltip-trigger><!----><!----><md-icon-button id="markdown-toolbar-preview-IzR3giDCmVsp" class="markdown-toolbar-preview" aria-describedby="markdown-toolbar-preview-IzR3giDCmVsp-tooltip" data-aria-label="Reposition markdown preview" value=""><template shadowrootmode="open" shadowrootdelegatesfocus><!----><button id="button" class="icon-button  standard " aria-label="Reposition markdown preview">
        <!--?lit$160999733$--><md-focus-ring part="focus-ring" for="button" aria-hidden="true"><template shadowrootmode="open"><!----></template></md-focus-ring>
        <!--?lit$160999733$--><md-ripple aria-hidden="true"><template shadowrootmode="open"><!----><div class="surface   "></div></template></md-ripple>
        <!--?lit$160999733$--><span class="icon"><slot></slot></span>
        <!--?lit$160999733$-->
        <!--?lit$160999733$--><span class="touch"></span>
  </button></template>
        <!--?lit$160999733$--><md-icon aria-hidden="true"><template shadowrootmode="open"><!----><slot></slot></template><!--?lit$160999733$--><svg viewBox="0 0 24 24"><!--?lit$160999733$--><g id="markdown-preview-below">
  <rect width="20" height="18" x="2" y="2" rx="2" ry="2" style="fill:none;stroke:var(--colab-icon-color)"></rect>
  <line x1="4.5" y1="13" x2="19.5" y2="13" style="stroke:var(--colab-primary-text-color);stroke-dasharray:2"></line>
  <line x1="2.5" y1="4" x2="21.5" y2="4" style="stroke:var(--colab-icon-color);stroke-width:3px;"></line>
</g></svg></md-icon>
      </md-icon-button>
      <colab-tooltip-trigger aria-hidden="true" for="markdown-toolbar-preview-IzR3giDCmVsp" id="markdown-toolbar-preview-IzR3giDCmVsp-tooltip" message="Reposition markdown preview"><template shadowrootmode="open"><!----><!--?lit$160999733$--><!----><div><!--?lit$160999733$-->Reposition markdown preview</div><!----><!--?--></template></colab-tooltip-trigger><!----><!--?--></div></div>
      <div class="editor-container horizontal">
        <div class="editor-root"><div class="editor flex monaco" data-keybinding-context="27" data-mode-id="markdown" style="height: 29px; --vscode-editorCodeLens-lineHeight: 16px; --vscode-editorCodeLens-fontSize: 12px; --vscode-editorCodeLens-fontFeatureSettings: &quot;liga&quot; off, &quot;calt&quot; off; display: none;"><div class="monaco-editor no-user-select  showUnused showDeprecated vs" role="code" data-uri="inmemory://model/22" style="width: 601px; height: 29px;"><div data-mprt="3" class="overflow-guard" style="width: 601px; height: 29px; overflow: clip;"><div class="margin" role="presentation" aria-hidden="true" style="position: absolute; contain: strict; will-change: unset; top: 0px; height: 29px; width: 6px;"><div class="glyph-margin" style="left: 0px; width: 0px; height: 29px;"></div><div class="margin-view-zones" role="presentation" aria-hidden="true" style="position: absolute;"></div><div class="margin-view-overlays" role="presentation" aria-hidden="true" style="position: absolute; font-family: monospace, Consolas, &quot;Courier New&quot;, monospace; font-weight: normal; font-size: 14px; font-feature-settings: &quot;liga&quot; 0, &quot;calt&quot; 0; font-variation-settings: normal; line-height: 19px; letter-spacing: 0px; width: 6px; height: 29px;"><div style="position:absolute;top:0px;width:100%;height:19px;"><div class="current-line current-line-margin-both" style="width:6px; height:19px;"></div></div></div><div class="glyph-margin-widgets" style="position: absolute; top: 0px;"></div></div><div class="monaco-scrollable-element editor-scrollable vs" role="presentation" data-mprt="5" style="position: absolute; overflow: hidden; left: 6px; width: 595px; height: 29px;"><div class="lines-content monaco-editor-background" style="position: absolute; overflow: hidden; width: 1e+06px; height: 29px; contain: strict; will-change: unset; top: 0px; left: 0px;"><div class="view-overlays" role="presentation" aria-hidden="true" style="position: absolute; font-family: monospace, Consolas, &quot;Courier New&quot;, monospace; font-weight: normal; font-size: 14px; font-feature-settings: &quot;liga&quot; 0, &quot;calt&quot; 0; font-variation-settings: normal; line-height: 19px; letter-spacing: 0px; height: 0px; width: 595px;"><div style="position:absolute;top:0px;width:100%;height:19px;"><div class="current-line" style="width:595px; height:19px;"></div></div></div><div role="presentation" aria-hidden="true" class="view-rulers"></div><div class="view-zones" role="presentation" aria-hidden="true" style="position: absolute;"></div><div class="view-lines monaco-mouse-cursor-text" role="presentation" aria-hidden="true" data-mprt="7" style="position: absolute; font-family: monospace, Consolas, &quot;Courier New&quot;, monospace; font-weight: normal; font-size: 14px; font-feature-settings: &quot;liga&quot; 0, &quot;calt&quot; 0; font-variation-settings: normal; line-height: 19px; letter-spacing: 0px; width: 595px; height: 29px;"><div style="top:0px;height:19px;" class="view-line"><span><span class="mtk1">Visualisasi&nbsp;hasil&nbsp;prediksi</span></span></div></div><div data-mprt="1" class="contentWidgets" style="position: absolute; top: 0px;"><div class="lightBulbWidget codicon codicon-light-bulb" widgetid="LightBulbWidget" title="Show Code Actions (Ctrl+.)" style="position: absolute; display: none; visibility: hidden; max-width: 595px;"></div></div><div role="presentation" aria-hidden="true" class="cursors-layer cursor-line-style cursor-solid"><div class="cursor monaco-mouse-cursor-text " style="height: 19px; top: 0px; left: 199px; font-family: monospace, Consolas, &quot;Courier New&quot;, monospace; font-weight: normal; font-size: 14px; font-feature-settings: &quot;liga&quot; 0, &quot;calt&quot; 0; font-variation-settings: normal; line-height: 19px; letter-spacing: 0px; display: block; visibility: hidden; padding-left: 1px; width: 2px;"></div></div></div><div role="presentation" aria-hidden="true" class="invisible scrollbar horizontal" style="position: absolute; width: 581px; height: 10px; left: 0px; bottom: 0px;"><div class="slider" style="position: absolute; top: 0px; left: 0px; height: 10px; transform: translate3d(0px, 0px, 0px); contain: strict; will-change: unset; width: 581px;"></div></div><canvas class="decorationsOverviewRuler" aria-hidden="true" width="21" height="43" style="position: absolute; transform: translate3d(0px, 0px, 0px); contain: strict; top: 0px; right: 0px; width: 14px; height: 29px; will-change: unset; display: block;"></canvas><div role="presentation" aria-hidden="true" class="invisible scrollbar vertical" style="position: absolute; width: 14px; height: 29px; right: 0px; top: 0px;"><div class="slider" style="position: absolute; top: 0px; left: 0px; width: 14px; transform: translate3d(0px, 0px, 0px); contain: strict; will-change: unset; height: 29px;"></div></div></div><div role="presentation" aria-hidden="true" style="width: 601px;"></div><textarea data-mprt="6" class="inputarea monaco-mouse-cursor-text" wrap="on" autocorrect="off" autocapitalize="off" autocomplete="off" spellcheck="false" aria-label="Editor content;Press Alt+F1 for Accessibility Options." tabindex="0" role="textbox" aria-roledescription="editor" aria-multiline="true" aria-haspopup="false" aria-autocomplete="both" style="tab-size: 15.3984px; font-family: monospace, Consolas, &quot;Courier New&quot;, monospace; font-weight: normal; font-size: 14px; font-feature-settings: &quot;liga&quot; 0, &quot;calt&quot; 0; font-variation-settings: normal; line-height: 19px; letter-spacing: 0px; top: 0px; left: 6px; width: 577px; height: 1px;"></textarea><div style="position: absolute; top: 0px; left: 0px; width: 0px; height: 0px;" class="monaco-editor-background textAreaCover"></div><div data-mprt="4" class="overlayWidgets" style="width: 601px;"></div><div data-mprt="8" class="minimap slider-mouseover" role="presentation" aria-hidden="true" style="position: absolute; left: 0px; width: 0px; height: 29px;"><div class="minimap-shadow-hidden" style="height: 29px;"></div><canvas width="0" height="43" style="position: absolute; left: 0px; width: 0px; height: 29px;"></canvas><canvas class="minimap-decorations-layer" width="0" height="43" style="position: absolute; left: 0px; width: 0px; height: 29px;"></canvas><div class="minimap-slider" style="position: absolute; transform: translate3d(0px, 0px, 0px); contain: strict; width: 0px; will-change: unset;"><div class="minimap-slider-horizontal" style="position: absolute; width: 0px; height: 0px;"></div></div></div><div role="presentation" aria-hidden="true" class="blockDecorations-container"></div></div><div data-mprt="2" class="overflowingContentWidgets" style="display: none;"><div class="inlineSuggestionsHints withBorder" widgetid="InlineSuggestionHintsContentWidget25" style="position: fixed; display: none; visibility: hidden; max-width: 1280px;"><div style="display: flex;"><div class="custom-actions"><div class="monaco-action-bar animated"><ul class="actions-container" role="toolbar"><li class="action-item disabled" role="presentation" title="Previous (Alt+[)"><a class="action-label codicon codicon-inline-suggestion-hints-previous disabled" role="button" aria-label="Previous (Alt+[)" aria-checked="" aria-disabled="true" tabindex="0"></a></li><li class="action-item disabled" role="presentation" title=""><a class="action-label disabled" role="button" aria-label="" aria-disabled="true" aria-checked=""></a></li><li class="action-item disabled" role="presentation" title="Next (Alt+])"><a class="action-label codicon codicon-inline-suggestion-hints-next disabled" role="button" aria-label="Next (Alt+])" aria-checked="" aria-disabled="true"></a></li></ul></div></div><div><div class="monaco-toolbar"><div class="monaco-action-bar animated"><ul class="actions-container" role="toolbar"><li class="action-item disabled menu-entry" role="presentation" title="Accept (Tab)"><a class="action-label inlineSuggestionStatusBarItemLabel disabled" role="button" aria-label="Accept (Tab)" aria-disabled="true" aria-checked="" tabindex="0">Accept<div class="keybinding"><div class="monaco-keybinding"><span class="monaco-keybinding-key">Tab</span></div></div></a></li><li class="action-item disabled menu-entry" role="presentation" title="Accept Word (Ctrl+RightArrow)"><a class="action-label inlineSuggestionStatusBarItemLabel disabled" role="button" aria-label="Accept Word (Ctrl+RightArrow)" aria-disabled="true" aria-checked="">Accept Word<div class="keybinding"><div class="monaco-keybinding"><span class="monaco-keybinding-key">Ctrl</span><span class="monaco-keybinding-key-separator">+</span><span class="monaco-keybinding-key">RightArrow</span></div></div></a></li><li class="action-item" role="presentation"><div class="monaco-dropdown"><div class="dropdown-label"><a class="action-label codicon codicon-toolbar-more" role="button" aria-haspopup="true" aria-expanded="false" title="More Actions..." aria-label="More Actions..."></a></div></div></li></ul></div></div></div></div></div><div widgetid="editor.contrib.resizableContentHoverWidget" style="position: fixed; height: 10px; width: 10px; z-index: 50; display: none; visibility: hidden; max-width: 1280px;"><div class="monaco-sash vertical" style="left: 8px;"></div><div class="monaco-sash vertical" style="left: -2px;"></div><div class="monaco-sash orthogonal-edge-north horizontal" style="top: -2px;"><div class="orthogonal-drag-handle start"></div><div class="orthogonal-drag-handle end"></div></div><div class="monaco-sash orthogonal-edge-south horizontal" style="top: 8px;"><div class="orthogonal-drag-handle start"></div><div class="orthogonal-drag-handle end"></div></div><div class="monaco-hover hidden" role="tooltip" tabindex="0"><div class="monaco-scrollable-element " role="presentation" style="position: relative; overflow: hidden;"><div class="monaco-hover-content" style="overflow: hidden; font-size: 14px; line-height: 1.35714; max-width: 500px; max-height: 250px;"></div><div role="presentation" aria-hidden="true" class="invisible scrollbar horizontal" style="position: absolute;"><div class="slider" style="position: absolute; top: 0px; left: 0px; height: 10px; transform: translate3d(0px, 0px, 0px); contain: strict;"></div></div><div role="presentation" aria-hidden="true" class="invisible scrollbar vertical" style="position: absolute;"><div class="slider" style="position: absolute; top: 0px; left: 0px; width: 10px; transform: translate3d(0px, 0px, 0px); contain: strict;"></div></div><div class="shadow"></div><div class="shadow"></div><div class="shadow"></div></div></div></div></div><div class=".in-cell-overflowing"><div widgetid="editor.contrib.quickInputWidget" style="position: absolute; top: 0px; right: 50%;"></div></div></div></div></div>
        <div class="text-top-div">
          <div class="markdown"><span><p>Visualisasi hasil prediksi</p>
</span></div>
        </div>
      </div>

      <div class="section-header" style="display: none;">
        <colab-run-button><template shadowrootmode="open"><!----> <div class="cell-execution">
      <button id="run-button" aria-label="Run cell" aria-disabled="false">
        <!--?lit$160999733$--><span class="execution-count"><!--?lit$160999733$-->[ ]</span>
        <span aria-hidden="true" class="cell-execution-indicator"><!--?lit$160999733$-->
<svg xmlns="http://www.w3.org/2000/svg" viewBox="0 0 24 24">
  <!--?lit$160999733$-->
  <mask id="playSymbolMask">
    <rect width="100%" height="100%" fill="white"></rect>
    <polygon points="10,8 17,12 10,16" fill="black"></polygon>
  </mask>
  <circle cx="12" cy="12" r="7.8" mask="url(#playSymbolMask)" id="filledCircle"></circle>
</svg></span>
      </button>
      <!--?lit$160999733$-->
      <!--?lit$160999733$--><!--?-->
    </div></template></colab-run-button>
        <div class="section-header-container" title="click to expand">
          <md-icon aria-hidden="true"><template shadowrootmode="open"><!----><slot></slot></template>subdirectory_arrow_right</md-icon>
          <span>0 cells hidden</span>
        </div>
      </div></div></div><div class="add-cell">
      <div class="add-cell-buttons">
        <md-outlined-button class="add-code add-button" data-aria-label="Add code cell
Ctrl+M B" title="Add code cell
Ctrl+M B" value="" has-icon=""><template shadowrootmode="open" shadowrootdelegatesfocus><!---->
      <!--?lit$160999733$--><div class="outline"></div>
      <div class="background"></div>
      <md-focus-ring part="focus-ring" for="button" aria-hidden="true"><template shadowrootmode="open"><!----></template></md-focus-ring>
      <md-ripple part="ripple" for="button" aria-hidden="true"><template shadowrootmode="open"><!----><div class="surface   "></div></template></md-ripple>
      <!--?lit$160999733$--><button id="button" class="button" aria-label="Add code cell
Ctrl+M B">
      <!--?lit$160999733$-->
      <span class="touch"></span>
      <!--?lit$160999733$--><slot name="icon"></slot>
      <span class="label"><slot></slot></span>
      <!--?lit$160999733$-->
    
    </button>
    </template>
          <md-icon slot="icon" aria-hidden="true"><template shadowrootmode="open"><!----><slot></slot></template>add</md-icon>
          <!--?lit$160999733$-->Code
        </md-outlined-button>
        <md-outlined-button class="add-text add-button" data-aria-label="Add text cell" title="Add text cell" value="" has-icon=""><template shadowrootmode="open" shadowrootdelegatesfocus><!---->
      <!--?lit$160999733$--><div class="outline"></div>
      <div class="background"></div>
      <md-focus-ring part="focus-ring" for="button" aria-hidden="true"><template shadowrootmode="open"><!----></template></md-focus-ring>
      <md-ripple part="ripple" for="button" aria-hidden="true"><template shadowrootmode="open"><!----><div class="surface"></div></template></md-ripple>
      <!--?lit$160999733$--><button id="button" class="button" aria-label="Add text cell">
      <!--?lit$160999733$-->
      <span class="touch"></span>
      <!--?lit$160999733$--><slot name="icon"></slot>
      <span class="label"><slot></slot></span>
      <!--?lit$160999733$-->
    
    </button>
    </template>
          <md-icon slot="icon" aria-hidden="true"><template shadowrootmode="open"><!----><slot></slot></template>add</md-icon>
          <!--?lit$160999733$-->Text
        </md-outlined-button>
        <!--?lit$160999733$-->
      </div><hr>
    </div></div><div class="cell code icon-scrolling code-has-output" id="cell-dbIB0LWBmA33" role="region" aria-label="Cell 19: Code cell: " style="opacity: 1;" tabindex="-1"><div class="agent-focus-label">
      <md-icon aria-hidden="true"><template shadowrootmode="open"><!----><slot></slot></template>spark</md-icon>
      <!--?lit$160999733$-->Gemini
    </div><div class="cell-tag-editor sticky"></div><div class="cell-toolbar sticky"></div><div class="main-content" elevation="0"><div class="cell-contents"><div class="cell-mask"></div><span class="imported-info-area"></span><div class="codecell-input-output">
      <div class="inputarea horizontal layout code">
        <div class="cell-gutter">
          <!-- Bounding range for vertical scrolling of icons -->
          <div class="cell-execution-container">
            <colab-run-button><template shadowrootmode="open"><!----> <div class="cell-execution hovered">
      <button id="run-button" aria-describedby="run-button-tooltip" aria-label="Run cell" aria-disabled="false">
        <!--?lit$160999733$--><span class="execution-count"><!--?lit$160999733$-->[15]</span>
        <span aria-hidden="true" class="cell-execution-indicator"><!--?lit$160999733$-->
<svg xmlns="http://www.w3.org/2000/svg" viewBox="0 0 24 24">
  <!--?lit$160999733$-->
  <mask id="playSymbolMask">
    <rect width="100%" height="100%" fill="white"></rect>
    <polygon points="10,8 17,12 10,16" fill="black"></polygon>
  </mask>
  <circle cx="12" cy="12" r="7.8" mask="url(#playSymbolMask)" id="filledCircle"></circle>
</svg></span>
      </button>
      <!--?lit$160999733$--><colab-tooltip-trigger for="run-button" id="run-button-tooltip" aria-hidden="true" message="Run cell (Ctrl+Enter)
cell executed since last change

executed by Sabita Alya P
10:35 PM (0 minutes ago)
executed in 0.216s"><template shadowrootmode="open"><!----><!--?lit$160999733$--><!----><div><!--?lit$160999733$-->Run cell (Ctrl+Enter)</div><!----><!----><div><!--?lit$160999733$-->cell executed since last change</div><!----><!----><br><!----><!----><div><!--?lit$160999733$-->executed by Sabita Alya P</div><!----><!----><div><!--?lit$160999733$-->10:35 PM (0 minutes ago)</div><!----><!----><div><!--?lit$160999733$-->executed in 0.216s</div><!----><!--?--></template>
    </colab-tooltip-trigger>
      <!--?lit$160999733$--><div id="status" class="last-run">
      <md-icon aria-hidden="true"><template shadowrootmode="open"><!----><slot></slot></template><!--?lit$160999733$--><svg viewBox="0 0 24 24"><!--?lit$160999733$--><path d="M9 16.17L4.83 12l-1.42 1.41L9 19 21 7l-1.41-1.41z"></path></svg></md-icon>
      <div><!--?lit$160999733$-->0s</div>
    </div>
    </div></template></colab-run-button>
          </div>
        </div>
      <div class="editor flex lazy-editor" style=""><pre class="lazy-virtualized" style="font-size: 14px; line-height: 19px;"><pre class="lazy-gutter"></pre><pre class="monaco-colorized colab colab colab colab colab colab colab colab colab colab" data-lang="notebook-python"><span><span class="mtk8">#&nbsp;Visualisasi&nbsp;hasil&nbsp;prediksi</span></span><br><span><span class="mtk1">lin_reg&nbsp;=&nbsp;LinearRegression()</span></span><br><span><span class="mtk1">lin_reg.fit(X,&nbsp;Y)</span></span><br><span><span class="mtk1">plt.scatter(X[</span><span class="mtk26">"Ville&nbsp;(L/100&nbsp;km)"</span><span class="mtk1">],&nbsp;Y,&nbsp;color=</span><span class="mtk26">'red'</span><span class="mtk1">)</span></span><br><span><span class="mtk1">plt.plot(X[</span><span class="mtk26">"Ville&nbsp;(L/100&nbsp;km)"</span><span class="mtk1">],&nbsp;lin_reg.predict(X),&nbsp;color=</span><span class="mtk26">'blue'</span><span class="mtk1">)</span></span><br><span><span class="mtk1">plt.title(</span><span class="mtk26">'Linear&nbsp;Regression'</span><span class="mtk1">)</span></span><br><span><span class="mtk1">plt.xlabel(</span><span class="mtk26">'Ville&nbsp;(L/100&nbsp;km)'</span><span class="mtk1">)</span></span><br><span><span class="mtk1">plt.ylabel(</span><span class="mtk26">'Emisi&nbsp;CO2&nbsp;(g/km)'</span><span class="mtk1">)</span></span><br><span><span class="mtk1">plt.show()</span></span><br></pre><colab-read-only-cell-placeholder style="display: none;"><template shadowrootmode="open"><!----><div><!--?lit$160999733$-->Start coding or <span role="button" class="link" tabindex="0">generate</span> with AI.</div></template></colab-read-only-cell-placeholder></pre></div><colab-form class="formview vertical layout flex"><div class="widget-area vertical layout"></div></colab-form></div>
    <div class="output" aria-label="Cell 19 output" role="region"><!----> <div class="output-header"> </div>
        <div class="output-content">
          <div class="output-info"><colab-output-info><template shadowrootmode="open"><!----><md-icon-button data-aria-expanded="false" data-aria-haspopup="menu" aria-describedby="button-output-actions-tooltip" data-aria-label="Code cell output actions" id="button-output-actions" value=""><template shadowrootmode="open" shadowrootdelegatesfocus><!----><button id="button" class="icon-button  standard " aria-label="Code cell output actions" aria-haspopup="menu" aria-expanded="false">
        <!--?lit$160999733$--><md-focus-ring part="focus-ring" for="button" aria-hidden="true"><template shadowrootmode="open"><!----></template></md-focus-ring>
        <!--?lit$160999733$--><md-ripple aria-hidden="true"><template shadowrootmode="open"><!----><div class="surface"></div></template></md-ripple>
        <!--?lit$160999733$--><span class="icon"><slot></slot></span>
        <!--?lit$160999733$-->
        <!--?lit$160999733$--><span class="touch"></span>
  </button></template>
        <md-icon aria-hidden="true"><template shadowrootmode="open"><!----><slot></slot></template><!--?lit$160999733$--><svg viewBox="0 0 24 24"><!--?lit$160999733$--><path d="m15.9 3.07c-4.32 0.0742-8.64-0.0355-13 0.0568-1.37 0.307-1.74 2.1-1.41 3.26 0.469 0.606 1.86 0.384 1.66-0.525 0.0448-0.329-0.183-0.93 0.354-0.766h13.3v1.53h1.71c0.0709-1.13 0.141-2.62-0.968-3.3-0.511-0.264-1.11-0.252-1.67-0.259zm2.94 6.84v4.87c1.62-1.62 3.24-3.24 4.87-4.87h-4.87zm0 0h-1.71v3.43l1.57 1.57c0.32-1.65 0.0556-3.34 0.135-5zm-1.71 3.43v-3.43h-3.43c1.14 1.14 2.29 2.29 3.43 3.43zm1.4 4.27h-1.71v1.48h-13.6v-1.48h-1.71c-0.0473 1.15-0.16 2.72 1.09 3.29 1.47 0.506 3.02 0.0265 4.53 0.192 3.34-0.0051 6.68 0.0336 10-0.0245 1.49-0.366 1.56-2.22 1.42-3.45zm-10.1-1.12c-0.398-0.483-0.796-0.967-1.19-1.45 0.59-0.683 1.18-1.37 1.77-2.05h-8.67v-2h8.67c-0.59-0.683-1.18-1.37-1.77-2.05 0.398-0.483 0.796-0.967 1.19-1.45 1.28 1.5 2.56 3 3.84 4.5-1.28 1.5-2.56 3-3.84 4.5z"></path></svg></md-icon>
      </md-icon-button>
      <colab-tooltip-trigger aria-hidden="true" id="button-output-actions-tooltip" for="button-output-actions" message="Code cell output actions"><template shadowrootmode="open"><!----><!--?lit$160999733$--><!----><div><!--?lit$160999733$-->Code cell output actions</div><!----><!--?--></template></colab-tooltip-trigger></template></colab-output-info></div>
          <div class="output-iframe-container">
            <div class="output-iframe-sizer" style="min-height: 0px;"> <div><div class="outputview" style="height: 472px;"><colab-dom-lifecycle-events style="display: none;"></colab-dom-lifecycle-events><iframe allow="accelerometer; autoplay; gyroscope; magnetometer; xr-spatial-tracking; clipboard-write" sandbox="allow-downloads allow-forms allow-pointer-lock allow-popups allow-popups-to-escape-sandbox allow-same-origin allow-scripts allow-storage-access-by-user-activation allow-modals" src="./AVD_TGS1_files/outputframe(2).html" class="" style="height: 472px;"></iframe></div></div></div>
          </div>
        </div></div></div><colab-cell-next-steps><template shadowrootmode="open"><!----></template></colab-cell-next-steps></div></div><div class="add-cell">
      <div class="add-cell-buttons">
        <md-outlined-button class="add-code add-button" data-aria-label="Add code cell
Ctrl+M B" title="Add code cell
Ctrl+M B" value="" has-icon=""><template shadowrootmode="open" shadowrootdelegatesfocus><!---->
      <!--?lit$160999733$--><div class="outline"></div>
      <div class="background"></div>
      <md-focus-ring part="focus-ring" for="button" aria-hidden="true"><template shadowrootmode="open"><!----></template></md-focus-ring>
      <md-ripple part="ripple" for="button" aria-hidden="true"><template shadowrootmode="open"><!----><div class="surface"></div></template></md-ripple>
      <!--?lit$160999733$--><button id="button" class="button" aria-label="Add code cell
Ctrl+M B">
      <!--?lit$160999733$-->
      <span class="touch"></span>
      <!--?lit$160999733$--><slot name="icon"></slot>
      <span class="label"><slot></slot></span>
      <!--?lit$160999733$-->
    
    </button>
    </template>
          <md-icon slot="icon" aria-hidden="true"><template shadowrootmode="open"><!----><slot></slot></template>add</md-icon>
          <!--?lit$160999733$-->Code
        </md-outlined-button>
        <md-outlined-button class="add-text add-button" data-aria-label="Add text cell" title="Add text cell" value="" has-icon=""><template shadowrootmode="open" shadowrootdelegatesfocus><!---->
      <!--?lit$160999733$--><div class="outline"></div>
      <div class="background"></div>
      <md-focus-ring part="focus-ring" for="button" aria-hidden="true"><template shadowrootmode="open"><!----></template></md-focus-ring>
      <md-ripple part="ripple" for="button" aria-hidden="true"><template shadowrootmode="open"><!----><div class="surface"></div></template></md-ripple>
      <!--?lit$160999733$--><button id="button" class="button" aria-label="Add text cell">
      <!--?lit$160999733$-->
      <span class="touch"></span>
      <!--?lit$160999733$--><slot name="icon"></slot>
      <span class="label"><slot></slot></span>
      <!--?lit$160999733$-->
    
    </button>
    </template>
          <md-icon slot="icon" aria-hidden="true"><template shadowrootmode="open"><!----><slot></slot></template>add</md-icon>
          <!--?lit$160999733$-->Text
        </md-outlined-button>
        <!--?lit$160999733$-->
      </div><hr>
    </div></div><div class="cell text" id="cell-5jMK1Bb9nh2c" role="region" aria-label="Cell 20: Text cell: " style="opacity: 1;" tabindex="-1"><div class="agent-focus-label">
      <md-icon aria-hidden="true"><template shadowrootmode="open"><!----><slot></slot></template>spark</md-icon>
      <!--?lit$160999733$-->Gemini
    </div><div class="cell-tag-editor sticky"></div><div class="cell-toolbar sticky"></div><div class="main-content" elevation="0"><div class="cell-contents"><div class="cell-mask"></div><span class="imported-info-area"></span><!----> <div class="toolbar-root"><div class="markdown-toolbar"><!----><!--?lit$160999733$--><!----><md-icon-button id="markdown-toolbar-header-5jMK1Bb9nh2c" class="markdown-toolbar-header" aria-describedby="markdown-toolbar-header-5jMK1Bb9nh2c-tooltip" data-aria-label="Toggle heading" value=""><template shadowrootmode="open" shadowrootdelegatesfocus><!----><button id="button" class="icon-button  standard " aria-label="Toggle heading">
        <!--?lit$160999733$--><md-focus-ring part="focus-ring" for="button" aria-hidden="true"><template shadowrootmode="open"><!----></template></md-focus-ring>
        <!--?lit$160999733$--><md-ripple aria-hidden="true"><template shadowrootmode="open"><!----><div class="surface   "></div></template></md-ripple>
        <!--?lit$160999733$--><span class="icon"><slot></slot></span>
        <!--?lit$160999733$-->
        <!--?lit$160999733$--><span class="touch"></span>
  </button></template>
        <!--?lit$160999733$--><md-icon aria-hidden="true"><template shadowrootmode="open"><!----><slot></slot></template><!--?lit$160999733$-->format_size</md-icon>
      </md-icon-button>
      <colab-tooltip-trigger aria-hidden="true" for="markdown-toolbar-header-5jMK1Bb9nh2c" id="markdown-toolbar-header-5jMK1Bb9nh2c-tooltip" message="Toggle heading"><template shadowrootmode="open"><!----><!--?lit$160999733$--><!----><div><!--?lit$160999733$-->Toggle heading</div><!----><!--?--></template></colab-tooltip-trigger><!----><!----><md-icon-button id="markdown-toolbar-bold-5jMK1Bb9nh2c" class="markdown-toolbar-bold" aria-describedby="markdown-toolbar-bold-5jMK1Bb9nh2c-tooltip" data-aria-label="Bold" value=""><template shadowrootmode="open" shadowrootdelegatesfocus><!----><button id="button" class="icon-button  standard " aria-label="Bold">
        <!--?lit$160999733$--><md-focus-ring part="focus-ring" for="button" aria-hidden="true"><template shadowrootmode="open"><!----></template></md-focus-ring>
        <!--?lit$160999733$--><md-ripple aria-hidden="true"><template shadowrootmode="open"><!----><div class="surface   "></div></template></md-ripple>
        <!--?lit$160999733$--><span class="icon"><slot></slot></span>
        <!--?lit$160999733$-->
        <!--?lit$160999733$--><span class="touch"></span>
  </button></template>
        <!--?lit$160999733$--><md-icon aria-hidden="true"><template shadowrootmode="open"><!----><slot></slot></template><!--?lit$160999733$-->format_bold</md-icon>
      </md-icon-button>
      <colab-tooltip-trigger aria-hidden="true" for="markdown-toolbar-bold-5jMK1Bb9nh2c" id="markdown-toolbar-bold-5jMK1Bb9nh2c-tooltip" message="Bold"><template shadowrootmode="open"><!----><!--?lit$160999733$--><!----><div><!--?lit$160999733$-->Bold</div><!----><!--?--></template></colab-tooltip-trigger><!----><!----><md-icon-button id="markdown-toolbar-italic-5jMK1Bb9nh2c" class="markdown-toolbar-italic" aria-describedby="markdown-toolbar-italic-5jMK1Bb9nh2c-tooltip" data-aria-label="Italicize" value=""><template shadowrootmode="open" shadowrootdelegatesfocus><!----><button id="button" class="icon-button  standard " aria-label="Italicize">
        <!--?lit$160999733$--><md-focus-ring part="focus-ring" for="button" aria-hidden="true"><template shadowrootmode="open"><!----></template></md-focus-ring>
        <!--?lit$160999733$--><md-ripple aria-hidden="true"><template shadowrootmode="open"><!----><div class="surface   "></div></template></md-ripple>
        <!--?lit$160999733$--><span class="icon"><slot></slot></span>
        <!--?lit$160999733$-->
        <!--?lit$160999733$--><span class="touch"></span>
  </button></template>
        <!--?lit$160999733$--><md-icon aria-hidden="true"><template shadowrootmode="open"><!----><slot></slot></template><!--?lit$160999733$-->format_italic</md-icon>
      </md-icon-button>
      <colab-tooltip-trigger aria-hidden="true" for="markdown-toolbar-italic-5jMK1Bb9nh2c" id="markdown-toolbar-italic-5jMK1Bb9nh2c-tooltip" message="Italicize"><template shadowrootmode="open"><!----><!--?lit$160999733$--><!----><div><!--?lit$160999733$-->Italicize</div><!----><!--?--></template></colab-tooltip-trigger><!----><!----><md-icon-button id="markdown-toolbar-code-5jMK1Bb9nh2c" class="markdown-toolbar-code" aria-describedby="markdown-toolbar-code-5jMK1Bb9nh2c-tooltip" data-aria-label="Format as code" value=""><template shadowrootmode="open" shadowrootdelegatesfocus><!----><button id="button" class="icon-button  standard " aria-label="Format as code">
        <!--?lit$160999733$--><md-focus-ring part="focus-ring" for="button" aria-hidden="true"><template shadowrootmode="open"><!----></template></md-focus-ring>
        <!--?lit$160999733$--><md-ripple aria-hidden="true"><template shadowrootmode="open"><!----><div class="surface"></div></template></md-ripple>
        <!--?lit$160999733$--><span class="icon"><slot></slot></span>
        <!--?lit$160999733$-->
        <!--?lit$160999733$--><span class="touch"></span>
  </button></template>
        <!--?lit$160999733$--><md-icon aria-hidden="true"><template shadowrootmode="open"><!----><slot></slot></template><!--?lit$160999733$-->code</md-icon>
      </md-icon-button>
      <colab-tooltip-trigger aria-hidden="true" for="markdown-toolbar-code-5jMK1Bb9nh2c" id="markdown-toolbar-code-5jMK1Bb9nh2c-tooltip" message="Format as code"><template shadowrootmode="open"><!----><!--?lit$160999733$--><!----><div><!--?lit$160999733$-->Format as code</div><!----><!--?--></template></colab-tooltip-trigger><!----><!----><md-icon-button id="markdown-toolbar-link-5jMK1Bb9nh2c" class="markdown-toolbar-link" aria-describedby="markdown-toolbar-link-5jMK1Bb9nh2c-tooltip" data-aria-label="Insert link" value=""><template shadowrootmode="open" shadowrootdelegatesfocus><!----><button id="button" class="icon-button  standard " aria-label="Insert link">
        <!--?lit$160999733$--><md-focus-ring part="focus-ring" for="button" aria-hidden="true"><template shadowrootmode="open"><!----></template></md-focus-ring>
        <!--?lit$160999733$--><md-ripple aria-hidden="true"><template shadowrootmode="open"><!----><div class="surface"></div></template></md-ripple>
        <!--?lit$160999733$--><span class="icon"><slot></slot></span>
        <!--?lit$160999733$-->
        <!--?lit$160999733$--><span class="touch"></span>
  </button></template>
        <!--?lit$160999733$--><md-icon aria-hidden="true"><template shadowrootmode="open"><!----><slot></slot></template><!--?lit$160999733$-->link</md-icon>
      </md-icon-button>
      <colab-tooltip-trigger aria-hidden="true" for="markdown-toolbar-link-5jMK1Bb9nh2c" id="markdown-toolbar-link-5jMK1Bb9nh2c-tooltip" message="Insert link"><template shadowrootmode="open"><!----><!--?lit$160999733$--><!----><div><!--?lit$160999733$-->Insert link</div><!----><!--?--></template></colab-tooltip-trigger><!----><!----><label for="markdown-image-input-5jMK1Bb9nh2c" class="colab-icon markdown-toolbar-insert-image">
        <md-ripple aria-hidden="true"><template shadowrootmode="open"><!----><div class="surface"></div></template></md-ripple>
        <span role="button" id="markdown-toolbar-insert-image-5jMK1Bb9nh2c" aria-describedby="markdown-toolbar-insert-image-5jMK1Bb9nh2c-tooltip" aria-label="Insert image" tabindex="0">
          <md-focus-ring aria-hidden="true"><template shadowrootmode="open"><!----></template></md-focus-ring>
          <md-icon aria-hidden="true"><template shadowrootmode="open"><!----><slot></slot></template>image</md-icon>
        </span>
        <colab-tooltip-trigger aria-hidden="true" for="markdown-toolbar-insert-image-5jMK1Bb9nh2c" id="markdown-toolbar-insert-image-5jMK1Bb9nh2c-tooltip" message="Insert image"><template shadowrootmode="open"><!----><!--?lit$160999733$--><!----><div><!--?lit$160999733$-->Insert image</div><!----><!--?--></template></colab-tooltip-trigger>
      </label>
      <input class="markdown-image-input" type="file" multiple="" accept="image/*" id="markdown-image-input-5jMK1Bb9nh2c"><!----><!----><md-icon-button id="markdown-toolbar-blockquote-5jMK1Bb9nh2c" class="markdown-toolbar-blockquote" aria-describedby="markdown-toolbar-blockquote-5jMK1Bb9nh2c-tooltip" data-aria-label="Add blockquote" value=""><template shadowrootmode="open" shadowrootdelegatesfocus><!----><button id="button" class="icon-button  standard " aria-label="Add blockquote">
        <!--?lit$160999733$--><md-focus-ring part="focus-ring" for="button" aria-hidden="true"><template shadowrootmode="open"><!----></template></md-focus-ring>
        <!--?lit$160999733$--><md-ripple aria-hidden="true"><template shadowrootmode="open"><!----><div class="surface   "></div></template></md-ripple>
        <!--?lit$160999733$--><span class="icon"><slot></slot></span>
        <!--?lit$160999733$-->
        <!--?lit$160999733$--><span class="touch"></span>
  </button></template>
        <!--?lit$160999733$--><md-icon aria-hidden="true"><template shadowrootmode="open"><!----><slot></slot></template><!--?lit$160999733$-->format_quote</md-icon>
      </md-icon-button>
      <colab-tooltip-trigger aria-hidden="true" for="markdown-toolbar-blockquote-5jMK1Bb9nh2c" id="markdown-toolbar-blockquote-5jMK1Bb9nh2c-tooltip" message="Add blockquote"><template shadowrootmode="open"><!----><!--?lit$160999733$--><!----><div><!--?lit$160999733$-->Add blockquote</div><!----><!--?--></template></colab-tooltip-trigger><!----><!----><md-icon-button id="markdown-toolbar-ol-5jMK1Bb9nh2c" class="markdown-toolbar-ol" aria-describedby="markdown-toolbar-ol-5jMK1Bb9nh2c-tooltip" data-aria-label="Add numbered list" value=""><template shadowrootmode="open" shadowrootdelegatesfocus><!----><button id="button" class="icon-button  standard " aria-label="Add numbered list">
        <!--?lit$160999733$--><md-focus-ring part="focus-ring" for="button" aria-hidden="true"><template shadowrootmode="open"><!----></template></md-focus-ring>
        <!--?lit$160999733$--><md-ripple aria-hidden="true"><template shadowrootmode="open"><!----><div class="surface   "></div></template></md-ripple>
        <!--?lit$160999733$--><span class="icon"><slot></slot></span>
        <!--?lit$160999733$-->
        <!--?lit$160999733$--><span class="touch"></span>
  </button></template>
        <!--?lit$160999733$--><md-icon aria-hidden="true"><template shadowrootmode="open"><!----><slot></slot></template><!--?lit$160999733$-->format_list_numbered</md-icon>
      </md-icon-button>
      <colab-tooltip-trigger aria-hidden="true" for="markdown-toolbar-ol-5jMK1Bb9nh2c" id="markdown-toolbar-ol-5jMK1Bb9nh2c-tooltip" message="Add numbered list"><template shadowrootmode="open"><!----><!--?lit$160999733$--><!----><div><!--?lit$160999733$-->Add numbered list</div><!----><!--?--></template></colab-tooltip-trigger><!----><!----><md-icon-button id="markdown-toolbar-ul-5jMK1Bb9nh2c" class="markdown-toolbar-ul" aria-describedby="markdown-toolbar-ul-5jMK1Bb9nh2c-tooltip" data-aria-label="Add bulleted list" value=""><template shadowrootmode="open" shadowrootdelegatesfocus><!----><button id="button" class="icon-button  standard " aria-label="Add bulleted list">
        <!--?lit$160999733$--><md-focus-ring part="focus-ring" for="button" aria-hidden="true"><template shadowrootmode="open"><!----></template></md-focus-ring>
        <!--?lit$160999733$--><md-ripple aria-hidden="true"><template shadowrootmode="open"><!----><div class="surface   "></div></template></md-ripple>
        <!--?lit$160999733$--><span class="icon"><slot></slot></span>
        <!--?lit$160999733$-->
        <!--?lit$160999733$--><span class="touch"></span>
  </button></template>
        <!--?lit$160999733$--><md-icon aria-hidden="true"><template shadowrootmode="open"><!----><slot></slot></template><!--?lit$160999733$-->format_list_bulleted</md-icon>
      </md-icon-button>
      <colab-tooltip-trigger aria-hidden="true" for="markdown-toolbar-ul-5jMK1Bb9nh2c" id="markdown-toolbar-ul-5jMK1Bb9nh2c-tooltip" message="Add bulleted list"><template shadowrootmode="open"><!----><!--?lit$160999733$--><!----><div><!--?lit$160999733$-->Add bulleted list</div><!----><!--?--></template></colab-tooltip-trigger><!----><!----><md-icon-button id="markdown-toolbar-hr-5jMK1Bb9nh2c" class="markdown-toolbar-hr" aria-describedby="markdown-toolbar-hr-5jMK1Bb9nh2c-tooltip" data-aria-label="Add horizontal rule" value=""><template shadowrootmode="open" shadowrootdelegatesfocus><!----><button id="button" class="icon-button  standard " aria-label="Add horizontal rule">
        <!--?lit$160999733$--><md-focus-ring part="focus-ring" for="button" aria-hidden="true"><template shadowrootmode="open"><!----></template></md-focus-ring>
        <!--?lit$160999733$--><md-ripple aria-hidden="true"><template shadowrootmode="open"><!----><div class="surface   "></div></template></md-ripple>
        <!--?lit$160999733$--><span class="icon"><slot></slot></span>
        <!--?lit$160999733$-->
        <!--?lit$160999733$--><span class="touch"></span>
  </button></template>
        <!--?lit$160999733$--><md-icon aria-hidden="true"><template shadowrootmode="open"><!----><slot></slot></template><!--?lit$160999733$-->horizontal_rule</md-icon>
      </md-icon-button>
      <colab-tooltip-trigger aria-hidden="true" for="markdown-toolbar-hr-5jMK1Bb9nh2c" id="markdown-toolbar-hr-5jMK1Bb9nh2c-tooltip" message="Add horizontal rule"><template shadowrootmode="open"><!----><!--?lit$160999733$--><!----><div><!--?lit$160999733$-->Add horizontal rule</div><!----><!--?--></template></colab-tooltip-trigger><!----><!----><md-icon-button id="markdown-toolbar-latex-5jMK1Bb9nh2c" class="markdown-toolbar-latex" aria-describedby="markdown-toolbar-latex-5jMK1Bb9nh2c-tooltip" data-aria-label="LaTeX" value=""><template shadowrootmode="open" shadowrootdelegatesfocus><!----><button id="button" class="icon-button  standard " aria-label="LaTeX">
        <!--?lit$160999733$--><md-focus-ring part="focus-ring" for="button" aria-hidden="true"><template shadowrootmode="open"><!----></template></md-focus-ring>
        <!--?lit$160999733$--><md-ripple aria-hidden="true"><template shadowrootmode="open"><!----><div class="surface   "></div></template></md-ripple>
        <!--?lit$160999733$--><span class="icon"><slot></slot></span>
        <!--?lit$160999733$-->
        <!--?lit$160999733$--><span class="touch"></span>
  </button></template>
        <!--?lit$160999733$--><span aria-hidden="true">ψ</span>
      </md-icon-button>
      <colab-tooltip-trigger aria-hidden="true" for="markdown-toolbar-latex-5jMK1Bb9nh2c" id="markdown-toolbar-latex-5jMK1Bb9nh2c-tooltip" message="LaTeX"><template shadowrootmode="open"><!----><!--?lit$160999733$--><!----><div><!--?lit$160999733$-->LaTeX</div><!----><!--?--></template></colab-tooltip-trigger><!----><!----><md-icon-button id="markdown-toolbar-emoji-5jMK1Bb9nh2c" class="markdown-toolbar-emoji" aria-describedby="markdown-toolbar-emoji-5jMK1Bb9nh2c-tooltip" data-aria-label="Insert emoji" value=""><template shadowrootmode="open" shadowrootdelegatesfocus><!----><button id="button" class="icon-button  standard " aria-label="Insert emoji">
        <!--?lit$160999733$--><md-focus-ring part="focus-ring" for="button" aria-hidden="true"><template shadowrootmode="open"><!----></template></md-focus-ring>
        <!--?lit$160999733$--><md-ripple aria-hidden="true"><template shadowrootmode="open"><!----><div class="surface   "></div></template></md-ripple>
        <!--?lit$160999733$--><span class="icon"><slot></slot></span>
        <!--?lit$160999733$-->
        <!--?lit$160999733$--><span class="touch"></span>
  </button></template>
        <!--?lit$160999733$--><md-icon aria-hidden="true"><template shadowrootmode="open"><!----><slot></slot></template><!--?lit$160999733$-->mood</md-icon>
      </md-icon-button>
      <colab-tooltip-trigger aria-hidden="true" for="markdown-toolbar-emoji-5jMK1Bb9nh2c" id="markdown-toolbar-emoji-5jMK1Bb9nh2c-tooltip" message="Insert emoji"><template shadowrootmode="open"><!----><!--?lit$160999733$--><!----><div><!--?lit$160999733$-->Insert emoji</div><!----><!--?--></template></colab-tooltip-trigger><!----><!----><md-icon-button id="markdown-toolbar-preview-5jMK1Bb9nh2c" class="markdown-toolbar-preview" aria-describedby="markdown-toolbar-preview-5jMK1Bb9nh2c-tooltip" data-aria-label="Reposition markdown preview" value=""><template shadowrootmode="open" shadowrootdelegatesfocus><!----><button id="button" class="icon-button  standard " aria-label="Reposition markdown preview">
        <!--?lit$160999733$--><md-focus-ring part="focus-ring" for="button" aria-hidden="true"><template shadowrootmode="open"><!----></template></md-focus-ring>
        <!--?lit$160999733$--><md-ripple aria-hidden="true"><template shadowrootmode="open"><!----><div class="surface   "></div></template></md-ripple>
        <!--?lit$160999733$--><span class="icon"><slot></slot></span>
        <!--?lit$160999733$-->
        <!--?lit$160999733$--><span class="touch"></span>
  </button></template>
        <!--?lit$160999733$--><md-icon aria-hidden="true"><template shadowrootmode="open"><!----><slot></slot></template><!--?lit$160999733$--><svg viewBox="0 0 24 24"><!--?lit$160999733$--><g id="markdown-preview-below">
  <rect width="20" height="18" x="2" y="2" rx="2" ry="2" style="fill:none;stroke:var(--colab-icon-color)"></rect>
  <line x1="4.5" y1="13" x2="19.5" y2="13" style="stroke:var(--colab-primary-text-color);stroke-dasharray:2"></line>
  <line x1="2.5" y1="4" x2="21.5" y2="4" style="stroke:var(--colab-icon-color);stroke-width:3px;"></line>
</g></svg></md-icon>
      </md-icon-button>
      <colab-tooltip-trigger aria-hidden="true" for="markdown-toolbar-preview-5jMK1Bb9nh2c" id="markdown-toolbar-preview-5jMK1Bb9nh2c-tooltip" message="Reposition markdown preview"><template shadowrootmode="open"><!----><!--?lit$160999733$--><!----><div><!--?lit$160999733$-->Reposition markdown preview</div><!----><!--?--></template></colab-tooltip-trigger><!----><!--?--></div></div>
      <div class="editor-container horizontal">
        <div class="editor-root"><div class="editor flex monaco" data-keybinding-context="28" data-mode-id="markdown" style="height: 181px; --vscode-editorCodeLens-lineHeight: 16px; --vscode-editorCodeLens-fontSize: 12px; --vscode-editorCodeLens-fontFeatureSettings: &quot;liga&quot; off, &quot;calt&quot; off; display: none;"><div class="monaco-editor no-user-select  showUnused showDeprecated vs" role="code" data-uri="inmemory://model/23" style="width: 338px; height: 181px;"><div data-mprt="3" class="overflow-guard" style="width: 338px; height: 181px; overflow: clip;"><div class="margin" role="presentation" aria-hidden="true" style="position: absolute; contain: strict; will-change: unset; top: 0px; height: 181px; width: 6px;"><div class="glyph-margin" style="left: 0px; width: 0px; height: 181px;"></div><div class="margin-view-zones" role="presentation" aria-hidden="true" style="position: absolute;"></div><div class="margin-view-overlays" role="presentation" aria-hidden="true" style="position: absolute; font-family: monospace, Consolas, &quot;Courier New&quot;, monospace; font-weight: normal; font-size: 14px; font-feature-settings: &quot;liga&quot; 0, &quot;calt&quot; 0; font-variation-settings: normal; line-height: 19px; letter-spacing: 0px; width: 6px; height: 181px;"><div style="position:absolute;top:0px;width:100%;height:19px;"></div><div style="position:absolute;top:19px;width:100%;height:19px;"></div><div style="position:absolute;top:38px;width:100%;height:19px;"></div><div style="position:absolute;top:57px;width:100%;height:19px;"></div><div style="position:absolute;top:76px;width:100%;height:19px;"></div><div style="position:absolute;top:95px;width:100%;height:19px;"></div><div style="position:absolute;top:114px;width:100%;height:19px;"><div class="current-line current-line-margin-both" style="width:6px; height:19px;"></div></div><div style="position:absolute;top:133px;width:100%;height:19px;"></div><div style="position:absolute;top:152px;width:100%;height:19px;"></div></div><div class="glyph-margin-widgets" style="position: absolute; top: 0px;"></div></div><div class="monaco-scrollable-element editor-scrollable vs" role="presentation" data-mprt="5" style="position: absolute; overflow: hidden; left: 6px; width: 332px; height: 181px;"><div class="lines-content monaco-editor-background" style="position: absolute; overflow: hidden; width: 1e+06px; height: 181px; contain: strict; will-change: unset; top: 0px; left: 0px;"><div class="view-overlays" role="presentation" aria-hidden="true" style="position: absolute; font-family: monospace, Consolas, &quot;Courier New&quot;, monospace; font-weight: normal; font-size: 14px; font-feature-settings: &quot;liga&quot; 0, &quot;calt&quot; 0; font-variation-settings: normal; line-height: 19px; letter-spacing: 0px; height: 0px; width: 332px;"><div style="position:absolute;top:0px;width:100%;height:19px;"></div><div style="position:absolute;top:19px;width:100%;height:19px;"></div><div style="position:absolute;top:38px;width:100%;height:19px;"></div><div style="position:absolute;top:57px;width:100%;height:19px;"></div><div style="position:absolute;top:76px;width:100%;height:19px;"></div><div style="position:absolute;top:95px;width:100%;height:19px;"></div><div style="position:absolute;top:114px;width:100%;height:19px;"><div class="current-line" style="width:332px; height:19px;"></div></div><div style="position:absolute;top:133px;width:100%;height:19px;"></div><div style="position:absolute;top:152px;width:100%;height:19px;"></div></div><div role="presentation" aria-hidden="true" class="view-rulers"><div class="view-ruler" style="width: 2px; height: 181px; left: 615.938px;"></div></div><div class="view-zones" role="presentation" aria-hidden="true" style="position: absolute;"></div><div class="view-lines monaco-mouse-cursor-text" role="presentation" aria-hidden="true" data-mprt="7" style="position: absolute; font-family: monospace, Consolas, &quot;Courier New&quot;, monospace; font-weight: normal; font-size: 14px; font-feature-settings: &quot;liga&quot; 0, &quot;calt&quot; 0; font-variation-settings: normal; line-height: 19px; letter-spacing: 0px; width: 332px; height: 181px;"><div style="top:0px;height:19px;" class="view-line"><span><span class="mtk1">Kode&nbsp;di&nbsp;atas&nbsp;menampilkan&nbsp;scatter&nbsp;plot&nbsp;</span></span></div><div style="top:19px;height:19px;" class="view-line"><span><span class="mtk1">data&nbsp;asli&nbsp;</span><span class="mtk1 bracket-highlighting-0">(</span><span class="mtk1">dengan&nbsp;titik&nbsp;merah</span><span class="mtk1 bracket-highlighting-0">)</span><span class="mtk1">&nbsp;dan&nbsp;garis&nbsp;</span></span></div><div style="top:38px;height:19px;" class="view-line"><span><span class="mtk1">regresi&nbsp;linear&nbsp;</span><span class="mtk1 bracket-highlighting-0">(</span><span class="mtk1">dengan&nbsp;garis&nbsp;biru</span><span class="mtk1 bracket-highlighting-0">)</span><span class="mtk1">&nbsp;yang&nbsp;</span></span></div><div style="top:57px;height:19px;" class="view-line"><span><span class="mtk1">diprediksi&nbsp;oleh&nbsp;model.&nbsp;Grafik&nbsp;ini&nbsp;</span></span></div><div style="top:76px;height:19px;" class="view-line"><span><span class="mtk1">menunjukkan&nbsp;hubungan&nbsp;antara&nbsp;"Ville&nbsp;</span><span class="mtk1 bracket-highlighting-0">(</span><span class="mtk1">L/</span></span></div><div style="top:95px;height:19px;" class="view-line"><span><span class="mtk1">100&nbsp;km</span><span class="mtk1 bracket-highlighting-0">)</span><span class="mtk1">"&nbsp;</span><span class="mtk1 bracket-highlighting-0">(</span><span class="mtk1">konsumsi&nbsp;bahan&nbsp;bakar</span><span class="mtk1 bracket-highlighting-0">)</span><span class="mtk1">&nbsp;dan&nbsp;</span></span></div><div style="top:114px;height:19px;" class="view-line"><span><span class="mtk1">"Emisi&nbsp;CO2&nbsp;</span><span class="mtk1 bracket-highlighting-0">(</span><span class="mtk1">g/km</span><span class="mtk1 bracket-highlighting-0">)</span><span class="mtk1">",&nbsp;serta&nbsp;bagaimana&nbsp;</span></span></div><div style="top:133px;height:19px;" class="view-line"><span><span class="mtk1">model&nbsp;regresi&nbsp;linear&nbsp;memprediksi&nbsp;emisi&nbsp;</span></span></div><div style="top:152px;height:19px;" class="view-line"><span><span class="mtk1">berdasarkan&nbsp;konsumsi&nbsp;bahan&nbsp;bakar.</span></span></div></div><div data-mprt="1" class="contentWidgets" style="position: absolute; top: 0px;"><div class="lightBulbWidget codicon codicon-light-bulb" widgetid="LightBulbWidget" title="Show Code Actions (Ctrl+.)" style="position: absolute; display: none; visibility: hidden; max-width: 332px;"></div></div><div role="presentation" aria-hidden="true" class="cursors-layer cursor-line-style cursor-solid"><div class="cursor monaco-mouse-cursor-text " style="height: 19px; top: 114px; left: 138px; font-family: monospace, Consolas, &quot;Courier New&quot;, monospace; font-weight: normal; font-size: 14px; font-feature-settings: &quot;liga&quot; 0, &quot;calt&quot; 0; font-variation-settings: normal; line-height: 19px; letter-spacing: 0px; display: block; visibility: hidden; padding-left: 1px; width: 2px;"></div></div></div><div role="presentation" aria-hidden="true" class="invisible scrollbar horizontal" style="position: absolute; width: 318px; height: 10px; left: 0px; bottom: 0px;"><div class="slider" style="position: absolute; top: 0px; left: 0px; height: 10px; transform: translate3d(0px, 0px, 0px); contain: strict; will-change: unset; width: 318px;"></div></div><canvas class="decorationsOverviewRuler" aria-hidden="true" width="21" height="271" style="position: absolute; transform: translate3d(0px, 0px, 0px); contain: strict; top: 0px; right: 0px; width: 14px; height: 181px; will-change: unset; display: block;"></canvas><div role="presentation" aria-hidden="true" class="invisible scrollbar vertical" style="position: absolute; width: 14px; height: 181px; right: 0px; top: 0px;"><div class="slider" style="position: absolute; top: 0px; left: 0px; width: 14px; transform: translate3d(0px, 0px, 0px); contain: strict; will-change: unset; height: 181px;"></div></div></div><div role="presentation" aria-hidden="true" style="width: 338px;"></div><textarea data-mprt="6" class="inputarea monaco-mouse-cursor-text" wrap="on" autocorrect="off" autocapitalize="off" autocomplete="off" spellcheck="false" aria-label="Editor content;Press Alt+F1 for Accessibility Options." tabindex="0" role="textbox" aria-roledescription="editor" aria-multiline="true" aria-haspopup="false" aria-autocomplete="both" style="tab-size: 15.3984px; font-family: monospace, Consolas, &quot;Courier New&quot;, monospace; font-weight: normal; font-size: 14px; font-feature-settings: &quot;liga&quot; 0, &quot;calt&quot; 0; font-variation-settings: normal; line-height: 19px; letter-spacing: 0px; top: 114px; left: 6px; width: 316px; height: 1px;"></textarea><div style="position: absolute; top: 0px; left: 0px; width: 0px; height: 0px;" class="monaco-editor-background textAreaCover"></div><div data-mprt="4" class="overlayWidgets" style="width: 338px;"></div><div data-mprt="8" class="minimap slider-mouseover" role="presentation" aria-hidden="true" style="position: absolute; left: 0px; width: 0px; height: 181px;"><div class="minimap-shadow-hidden" style="height: 181px;"></div><canvas width="0" height="271" style="position: absolute; left: 0px; width: 0px; height: 181px;"></canvas><canvas class="minimap-decorations-layer" width="0" height="271" style="position: absolute; left: 0px; width: 0px; height: 181px;"></canvas><div class="minimap-slider" style="position: absolute; transform: translate3d(0px, 0px, 0px); contain: strict; width: 0px; will-change: unset;"><div class="minimap-slider-horizontal" style="position: absolute; width: 0px; height: 0px;"></div></div></div><div role="presentation" aria-hidden="true" class="blockDecorations-container"></div></div><div data-mprt="2" class="overflowingContentWidgets" style="display: none;"><div class="inlineSuggestionsHints withBorder" widgetid="InlineSuggestionHintsContentWidget26" style="position: fixed; display: none; visibility: hidden; max-width: 721px;"><div style="display: flex;"><div class="custom-actions"><div class="monaco-action-bar animated"><ul class="actions-container" role="toolbar"><li class="action-item disabled" role="presentation" title="Previous (Alt+[)"><a class="action-label codicon codicon-inline-suggestion-hints-previous disabled" role="button" aria-label="Previous (Alt+[)" aria-checked="" aria-disabled="true" tabindex="0"></a></li><li class="action-item disabled" role="presentation" title=""><a class="action-label disabled" role="button" aria-label="" aria-disabled="true" aria-checked=""></a></li><li class="action-item disabled" role="presentation" title="Next (Alt+])"><a class="action-label codicon codicon-inline-suggestion-hints-next disabled" role="button" aria-label="Next (Alt+])" aria-checked="" aria-disabled="true"></a></li></ul></div></div><div><div class="monaco-toolbar"><div class="monaco-action-bar animated"><ul class="actions-container" role="toolbar"><li class="action-item disabled menu-entry" role="presentation" title="Accept (Tab)"><a class="action-label inlineSuggestionStatusBarItemLabel disabled" role="button" aria-label="Accept (Tab)" aria-disabled="true" aria-checked="" tabindex="0">Accept<div class="keybinding"><div class="monaco-keybinding"><span class="monaco-keybinding-key">Tab</span></div></div></a></li><li class="action-item disabled menu-entry" role="presentation" title="Accept Word (Ctrl+RightArrow)"><a class="action-label inlineSuggestionStatusBarItemLabel disabled" role="button" aria-label="Accept Word (Ctrl+RightArrow)" aria-disabled="true" aria-checked="">Accept Word<div class="keybinding"><div class="monaco-keybinding"><span class="monaco-keybinding-key">Ctrl</span><span class="monaco-keybinding-key-separator">+</span><span class="monaco-keybinding-key">RightArrow</span></div></div></a></li><li class="action-item" role="presentation"><div class="monaco-dropdown"><div class="dropdown-label"><a class="action-label codicon codicon-toolbar-more" role="button" aria-haspopup="true" aria-expanded="false" title="More Actions..." aria-label="More Actions..."></a></div></div></li></ul></div></div></div></div></div><div widgetid="editor.contrib.resizableContentHoverWidget" style="position: fixed; height: 10px; width: 10px; z-index: 50; display: none; visibility: hidden; max-width: 721px;"><div class="monaco-sash vertical" style="left: 8px;"></div><div class="monaco-sash vertical" style="left: -2px;"></div><div class="monaco-sash orthogonal-edge-north horizontal" style="top: -2px;"><div class="orthogonal-drag-handle start"></div><div class="orthogonal-drag-handle end"></div></div><div class="monaco-sash orthogonal-edge-south horizontal" style="top: 8px;"><div class="orthogonal-drag-handle start"></div><div class="orthogonal-drag-handle end"></div></div><div class="monaco-hover hidden" role="tooltip" tabindex="0"><div class="monaco-scrollable-element " role="presentation" style="position: relative; overflow: hidden;"><div class="monaco-hover-content" style="overflow: hidden; font-size: 14px; line-height: 1.35714; max-width: 500px; max-height: 250px;"></div><div role="presentation" aria-hidden="true" class="invisible scrollbar horizontal" style="position: absolute;"><div class="slider" style="position: absolute; top: 0px; left: 0px; height: 10px; transform: translate3d(0px, 0px, 0px); contain: strict;"></div></div><div role="presentation" aria-hidden="true" class="invisible scrollbar vertical" style="position: absolute;"><div class="slider" style="position: absolute; top: 0px; left: 0px; width: 10px; transform: translate3d(0px, 0px, 0px); contain: strict;"></div></div><div class="shadow"></div><div class="shadow"></div><div class="shadow"></div></div></div></div></div><div class=".in-cell-overflowing"><div widgetid="editor.contrib.quickInputWidget" style="position: absolute; top: 0px; right: 50%;"></div></div></div></div></div>
        <div class="text-top-div">
          <div class="markdown"><span><p>Kode di atas menampilkan scatter plot data asli (dengan titik merah) dan garis regresi linear (dengan garis biru) yang diprediksi oleh model. Grafik ini menunjukkan hubungan antara "Ville (L/100 km)" (konsumsi bahan bakar) dan "Emisi CO2 (g/km)", serta bagaimana model regresi linear memprediksi emisi berdasarkan konsumsi bahan bakar.</p>
</span></div>
        </div>
      </div>

      <div class="section-header" style="display: none;">
        <colab-run-button><template shadowrootmode="open"><!----> <div class="cell-execution">
      <button id="run-button" aria-label="Run cell" aria-disabled="false">
        <!--?lit$160999733$--><span class="execution-count"><!--?lit$160999733$-->[ ]</span>
        <span aria-hidden="true" class="cell-execution-indicator"><!--?lit$160999733$-->
<svg xmlns="http://www.w3.org/2000/svg" viewBox="0 0 24 24">
  <!--?lit$160999733$-->
  <mask id="playSymbolMask">
    <rect width="100%" height="100%" fill="white"></rect>
    <polygon points="10,8 17,12 10,16" fill="black"></polygon>
  </mask>
  <circle cx="12" cy="12" r="7.8" mask="url(#playSymbolMask)" id="filledCircle"></circle>
</svg></span>
      </button>
      <!--?lit$160999733$-->
      <!--?lit$160999733$--><!--?-->
    </div></template></colab-run-button>
        <div class="section-header-container" title="click to expand">
          <md-icon aria-hidden="true"><template shadowrootmode="open"><!----><slot></slot></template>subdirectory_arrow_right</md-icon>
          <span>0 cells hidden</span>
        </div>
      </div></div></div><div class="add-cell">
      <div class="add-cell-buttons">
        <md-outlined-button class="add-code add-button" data-aria-label="Add code cell
Ctrl+M B" title="Add code cell
Ctrl+M B" value="" has-icon=""><template shadowrootmode="open" shadowrootdelegatesfocus><!---->
      <!--?lit$160999733$--><div class="outline"></div>
      <div class="background"></div>
      <md-focus-ring part="focus-ring" for="button" aria-hidden="true"><template shadowrootmode="open"><!----></template></md-focus-ring>
      <md-ripple part="ripple" for="button" aria-hidden="true"><template shadowrootmode="open"><!----><div class="surface"></div></template></md-ripple>
      <!--?lit$160999733$--><button id="button" class="button" aria-label="Add code cell
Ctrl+M B">
      <!--?lit$160999733$-->
      <span class="touch"></span>
      <!--?lit$160999733$--><slot name="icon"></slot>
      <span class="label"><slot></slot></span>
      <!--?lit$160999733$-->
    
    </button>
    </template>
          <md-icon slot="icon" aria-hidden="true"><template shadowrootmode="open"><!----><slot></slot></template>add</md-icon>
          <!--?lit$160999733$-->Code
        </md-outlined-button>
        <md-outlined-button class="add-text add-button" data-aria-label="Add text cell" title="Add text cell" value="" has-icon=""><template shadowrootmode="open" shadowrootdelegatesfocus><!---->
      <!--?lit$160999733$--><div class="outline"></div>
      <div class="background"></div>
      <md-focus-ring part="focus-ring" for="button" aria-hidden="true"><template shadowrootmode="open"><!----></template></md-focus-ring>
      <md-ripple part="ripple" for="button" aria-hidden="true"><template shadowrootmode="open"><!----><div class="surface"></div></template></md-ripple>
      <!--?lit$160999733$--><button id="button" class="button" aria-label="Add text cell">
      <!--?lit$160999733$-->
      <span class="touch"></span>
      <!--?lit$160999733$--><slot name="icon"></slot>
      <span class="label"><slot></slot></span>
      <!--?lit$160999733$-->
    
    </button>
    </template>
          <md-icon slot="icon" aria-hidden="true"><template shadowrootmode="open"><!----><slot></slot></template>add</md-icon>
          <!--?lit$160999733$-->Text
        </md-outlined-button>
        <!--?lit$160999733$-->
      </div><hr>
    </div></div><div class="cell text" id="cell-fj8XhUbTn94H" role="region" aria-label="Cell 21: Text cell: Evaluasi" style="opacity: 1;" tabindex="-1"><div class="agent-focus-label">
      <md-icon aria-hidden="true"><template shadowrootmode="open"><!----><slot></slot></template>spark</md-icon>
      <!--?lit$160999733$-->Gemini
    </div><div class="cell-tag-editor sticky"></div><div class="cell-toolbar sticky"></div><div class="main-content" elevation="0"><div class="cell-contents"><div class="cell-mask"></div><span class="imported-info-area"></span><!----> <div class="toolbar-root"><div class="markdown-toolbar"><!----><!--?lit$160999733$--><!----><md-icon-button id="markdown-toolbar-header-fj8XhUbTn94H" class="markdown-toolbar-header" aria-describedby="markdown-toolbar-header-fj8XhUbTn94H-tooltip" data-aria-label="Toggle heading" value=""><template shadowrootmode="open" shadowrootdelegatesfocus><!----><button id="button" class="icon-button  standard " aria-label="Toggle heading">
        <!--?lit$160999733$--><md-focus-ring part="focus-ring" for="button" aria-hidden="true"><template shadowrootmode="open"><!----></template></md-focus-ring>
        <!--?lit$160999733$--><md-ripple aria-hidden="true"><template shadowrootmode="open"><!----><div class="surface"></div></template></md-ripple>
        <!--?lit$160999733$--><span class="icon"><slot></slot></span>
        <!--?lit$160999733$-->
        <!--?lit$160999733$--><span class="touch"></span>
  </button></template>
        <!--?lit$160999733$--><md-icon aria-hidden="true"><template shadowrootmode="open"><!----><slot></slot></template><!--?lit$160999733$-->format_size</md-icon>
      </md-icon-button>
      <colab-tooltip-trigger aria-hidden="true" for="markdown-toolbar-header-fj8XhUbTn94H" id="markdown-toolbar-header-fj8XhUbTn94H-tooltip" message="Toggle heading"><template shadowrootmode="open"><!----><!--?lit$160999733$--><!----><div><!--?lit$160999733$-->Toggle heading</div><!----><!--?--></template></colab-tooltip-trigger><!----><!----><md-icon-button id="markdown-toolbar-bold-fj8XhUbTn94H" class="markdown-toolbar-bold" aria-describedby="markdown-toolbar-bold-fj8XhUbTn94H-tooltip" data-aria-label="Bold" value=""><template shadowrootmode="open" shadowrootdelegatesfocus><!----><button id="button" class="icon-button  standard " aria-label="Bold">
        <!--?lit$160999733$--><md-focus-ring part="focus-ring" for="button" aria-hidden="true"><template shadowrootmode="open"><!----></template></md-focus-ring>
        <!--?lit$160999733$--><md-ripple aria-hidden="true"><template shadowrootmode="open"><!----><div class="surface"></div></template></md-ripple>
        <!--?lit$160999733$--><span class="icon"><slot></slot></span>
        <!--?lit$160999733$-->
        <!--?lit$160999733$--><span class="touch"></span>
  </button></template>
        <!--?lit$160999733$--><md-icon aria-hidden="true"><template shadowrootmode="open"><!----><slot></slot></template><!--?lit$160999733$-->format_bold</md-icon>
      </md-icon-button>
      <colab-tooltip-trigger aria-hidden="true" for="markdown-toolbar-bold-fj8XhUbTn94H" id="markdown-toolbar-bold-fj8XhUbTn94H-tooltip" message="Bold"><template shadowrootmode="open"><!----><!--?lit$160999733$--><!----><div><!--?lit$160999733$-->Bold</div><!----><!--?--></template></colab-tooltip-trigger><!----><!----><md-icon-button id="markdown-toolbar-italic-fj8XhUbTn94H" class="markdown-toolbar-italic" aria-describedby="markdown-toolbar-italic-fj8XhUbTn94H-tooltip" data-aria-label="Italicize" value=""><template shadowrootmode="open" shadowrootdelegatesfocus><!----><button id="button" class="icon-button  standard " aria-label="Italicize">
        <!--?lit$160999733$--><md-focus-ring part="focus-ring" for="button" aria-hidden="true"><template shadowrootmode="open"><!----></template></md-focus-ring>
        <!--?lit$160999733$--><md-ripple aria-hidden="true"><template shadowrootmode="open"><!----><div class="surface"></div></template></md-ripple>
        <!--?lit$160999733$--><span class="icon"><slot></slot></span>
        <!--?lit$160999733$-->
        <!--?lit$160999733$--><span class="touch"></span>
  </button></template>
        <!--?lit$160999733$--><md-icon aria-hidden="true"><template shadowrootmode="open"><!----><slot></slot></template><!--?lit$160999733$-->format_italic</md-icon>
      </md-icon-button>
      <colab-tooltip-trigger aria-hidden="true" for="markdown-toolbar-italic-fj8XhUbTn94H" id="markdown-toolbar-italic-fj8XhUbTn94H-tooltip" message="Italicize"><template shadowrootmode="open"><!----><!--?lit$160999733$--><!----><div><!--?lit$160999733$-->Italicize</div><!----><!--?--></template></colab-tooltip-trigger><!----><!----><md-icon-button id="markdown-toolbar-code-fj8XhUbTn94H" class="markdown-toolbar-code" aria-describedby="markdown-toolbar-code-fj8XhUbTn94H-tooltip" data-aria-label="Format as code" value=""><template shadowrootmode="open" shadowrootdelegatesfocus><!----><button id="button" class="icon-button  standard " aria-label="Format as code">
        <!--?lit$160999733$--><md-focus-ring part="focus-ring" for="button" aria-hidden="true"><template shadowrootmode="open"><!----></template></md-focus-ring>
        <!--?lit$160999733$--><md-ripple aria-hidden="true"><template shadowrootmode="open"><!----><div class="surface"></div></template></md-ripple>
        <!--?lit$160999733$--><span class="icon"><slot></slot></span>
        <!--?lit$160999733$-->
        <!--?lit$160999733$--><span class="touch"></span>
  </button></template>
        <!--?lit$160999733$--><md-icon aria-hidden="true"><template shadowrootmode="open"><!----><slot></slot></template><!--?lit$160999733$-->code</md-icon>
      </md-icon-button>
      <colab-tooltip-trigger aria-hidden="true" for="markdown-toolbar-code-fj8XhUbTn94H" id="markdown-toolbar-code-fj8XhUbTn94H-tooltip" message="Format as code"><template shadowrootmode="open"><!----><!--?lit$160999733$--><!----><div><!--?lit$160999733$-->Format as code</div><!----><!--?--></template></colab-tooltip-trigger><!----><!----><md-icon-button id="markdown-toolbar-link-fj8XhUbTn94H" class="markdown-toolbar-link" aria-describedby="markdown-toolbar-link-fj8XhUbTn94H-tooltip" data-aria-label="Insert link" value=""><template shadowrootmode="open" shadowrootdelegatesfocus><!----><button id="button" class="icon-button  standard " aria-label="Insert link">
        <!--?lit$160999733$--><md-focus-ring part="focus-ring" for="button" aria-hidden="true"><template shadowrootmode="open"><!----></template></md-focus-ring>
        <!--?lit$160999733$--><md-ripple aria-hidden="true"><template shadowrootmode="open"><!----><div class="surface"></div></template></md-ripple>
        <!--?lit$160999733$--><span class="icon"><slot></slot></span>
        <!--?lit$160999733$-->
        <!--?lit$160999733$--><span class="touch"></span>
  </button></template>
        <!--?lit$160999733$--><md-icon aria-hidden="true"><template shadowrootmode="open"><!----><slot></slot></template><!--?lit$160999733$-->link</md-icon>
      </md-icon-button>
      <colab-tooltip-trigger aria-hidden="true" for="markdown-toolbar-link-fj8XhUbTn94H" id="markdown-toolbar-link-fj8XhUbTn94H-tooltip" message="Insert link"><template shadowrootmode="open"><!----><!--?lit$160999733$--><!----><div><!--?lit$160999733$-->Insert link</div><!----><!--?--></template></colab-tooltip-trigger><!----><!----><label for="markdown-image-input-fj8XhUbTn94H" class="colab-icon markdown-toolbar-insert-image">
        <md-ripple aria-hidden="true"><template shadowrootmode="open"><!----><div class="surface"></div></template></md-ripple>
        <span role="button" id="markdown-toolbar-insert-image-fj8XhUbTn94H" aria-describedby="markdown-toolbar-insert-image-fj8XhUbTn94H-tooltip" aria-label="Insert image" tabindex="0">
          <md-focus-ring aria-hidden="true"><template shadowrootmode="open"><!----></template></md-focus-ring>
          <md-icon aria-hidden="true"><template shadowrootmode="open"><!----><slot></slot></template>image</md-icon>
        </span>
        <colab-tooltip-trigger aria-hidden="true" for="markdown-toolbar-insert-image-fj8XhUbTn94H" id="markdown-toolbar-insert-image-fj8XhUbTn94H-tooltip" message="Insert image"><template shadowrootmode="open"><!----><!--?lit$160999733$--><!----><div><!--?lit$160999733$-->Insert image</div><!----><!--?--></template></colab-tooltip-trigger>
      </label>
      <input class="markdown-image-input" type="file" multiple="" accept="image/*" id="markdown-image-input-fj8XhUbTn94H"><!----><!----><md-icon-button id="markdown-toolbar-blockquote-fj8XhUbTn94H" class="markdown-toolbar-blockquote" aria-describedby="markdown-toolbar-blockquote-fj8XhUbTn94H-tooltip" data-aria-label="Add blockquote" value=""><template shadowrootmode="open" shadowrootdelegatesfocus><!----><button id="button" class="icon-button  standard " aria-label="Add blockquote">
        <!--?lit$160999733$--><md-focus-ring part="focus-ring" for="button" aria-hidden="true"><template shadowrootmode="open"><!----></template></md-focus-ring>
        <!--?lit$160999733$--><md-ripple aria-hidden="true"><template shadowrootmode="open"><!----><div class="surface"></div></template></md-ripple>
        <!--?lit$160999733$--><span class="icon"><slot></slot></span>
        <!--?lit$160999733$-->
        <!--?lit$160999733$--><span class="touch"></span>
  </button></template>
        <!--?lit$160999733$--><md-icon aria-hidden="true"><template shadowrootmode="open"><!----><slot></slot></template><!--?lit$160999733$-->format_quote</md-icon>
      </md-icon-button>
      <colab-tooltip-trigger aria-hidden="true" for="markdown-toolbar-blockquote-fj8XhUbTn94H" id="markdown-toolbar-blockquote-fj8XhUbTn94H-tooltip" message="Add blockquote"><template shadowrootmode="open"><!----><!--?lit$160999733$--><!----><div><!--?lit$160999733$-->Add blockquote</div><!----><!--?--></template></colab-tooltip-trigger><!----><!----><md-icon-button id="markdown-toolbar-ol-fj8XhUbTn94H" class="markdown-toolbar-ol" aria-describedby="markdown-toolbar-ol-fj8XhUbTn94H-tooltip" data-aria-label="Add numbered list" value=""><template shadowrootmode="open" shadowrootdelegatesfocus><!----><button id="button" class="icon-button  standard " aria-label="Add numbered list">
        <!--?lit$160999733$--><md-focus-ring part="focus-ring" for="button" aria-hidden="true"><template shadowrootmode="open"><!----></template></md-focus-ring>
        <!--?lit$160999733$--><md-ripple aria-hidden="true"><template shadowrootmode="open"><!----><div class="surface"></div></template></md-ripple>
        <!--?lit$160999733$--><span class="icon"><slot></slot></span>
        <!--?lit$160999733$-->
        <!--?lit$160999733$--><span class="touch"></span>
  </button></template>
        <!--?lit$160999733$--><md-icon aria-hidden="true"><template shadowrootmode="open"><!----><slot></slot></template><!--?lit$160999733$-->format_list_numbered</md-icon>
      </md-icon-button>
      <colab-tooltip-trigger aria-hidden="true" for="markdown-toolbar-ol-fj8XhUbTn94H" id="markdown-toolbar-ol-fj8XhUbTn94H-tooltip" message="Add numbered list"><template shadowrootmode="open"><!----><!--?lit$160999733$--><!----><div><!--?lit$160999733$-->Add numbered list</div><!----><!--?--></template></colab-tooltip-trigger><!----><!----><md-icon-button id="markdown-toolbar-ul-fj8XhUbTn94H" class="markdown-toolbar-ul" aria-describedby="markdown-toolbar-ul-fj8XhUbTn94H-tooltip" data-aria-label="Add bulleted list" value=""><template shadowrootmode="open" shadowrootdelegatesfocus><!----><button id="button" class="icon-button  standard " aria-label="Add bulleted list">
        <!--?lit$160999733$--><md-focus-ring part="focus-ring" for="button" aria-hidden="true"><template shadowrootmode="open"><!----></template></md-focus-ring>
        <!--?lit$160999733$--><md-ripple aria-hidden="true"><template shadowrootmode="open"><!----><div class="surface"></div></template></md-ripple>
        <!--?lit$160999733$--><span class="icon"><slot></slot></span>
        <!--?lit$160999733$-->
        <!--?lit$160999733$--><span class="touch"></span>
  </button></template>
        <!--?lit$160999733$--><md-icon aria-hidden="true"><template shadowrootmode="open"><!----><slot></slot></template><!--?lit$160999733$-->format_list_bulleted</md-icon>
      </md-icon-button>
      <colab-tooltip-trigger aria-hidden="true" for="markdown-toolbar-ul-fj8XhUbTn94H" id="markdown-toolbar-ul-fj8XhUbTn94H-tooltip" message="Add bulleted list"><template shadowrootmode="open"><!----><!--?lit$160999733$--><!----><div><!--?lit$160999733$-->Add bulleted list</div><!----><!--?--></template></colab-tooltip-trigger><!----><!----><md-icon-button id="markdown-toolbar-hr-fj8XhUbTn94H" class="markdown-toolbar-hr" aria-describedby="markdown-toolbar-hr-fj8XhUbTn94H-tooltip" data-aria-label="Add horizontal rule" value=""><template shadowrootmode="open" shadowrootdelegatesfocus><!----><button id="button" class="icon-button  standard " aria-label="Add horizontal rule">
        <!--?lit$160999733$--><md-focus-ring part="focus-ring" for="button" aria-hidden="true"><template shadowrootmode="open"><!----></template></md-focus-ring>
        <!--?lit$160999733$--><md-ripple aria-hidden="true"><template shadowrootmode="open"><!----><div class="surface"></div></template></md-ripple>
        <!--?lit$160999733$--><span class="icon"><slot></slot></span>
        <!--?lit$160999733$-->
        <!--?lit$160999733$--><span class="touch"></span>
  </button></template>
        <!--?lit$160999733$--><md-icon aria-hidden="true"><template shadowrootmode="open"><!----><slot></slot></template><!--?lit$160999733$-->horizontal_rule</md-icon>
      </md-icon-button>
      <colab-tooltip-trigger aria-hidden="true" for="markdown-toolbar-hr-fj8XhUbTn94H" id="markdown-toolbar-hr-fj8XhUbTn94H-tooltip" message="Add horizontal rule"><template shadowrootmode="open"><!----><!--?lit$160999733$--><!----><div><!--?lit$160999733$-->Add horizontal rule</div><!----><!--?--></template></colab-tooltip-trigger><!----><!----><md-icon-button id="markdown-toolbar-latex-fj8XhUbTn94H" class="markdown-toolbar-latex" aria-describedby="markdown-toolbar-latex-fj8XhUbTn94H-tooltip" data-aria-label="LaTeX" value=""><template shadowrootmode="open" shadowrootdelegatesfocus><!----><button id="button" class="icon-button  standard " aria-label="LaTeX">
        <!--?lit$160999733$--><md-focus-ring part="focus-ring" for="button" aria-hidden="true"><template shadowrootmode="open"><!----></template></md-focus-ring>
        <!--?lit$160999733$--><md-ripple aria-hidden="true"><template shadowrootmode="open"><!----><div class="surface   "></div></template></md-ripple>
        <!--?lit$160999733$--><span class="icon"><slot></slot></span>
        <!--?lit$160999733$-->
        <!--?lit$160999733$--><span class="touch"></span>
  </button></template>
        <!--?lit$160999733$--><span aria-hidden="true">ψ</span>
      </md-icon-button>
      <colab-tooltip-trigger aria-hidden="true" for="markdown-toolbar-latex-fj8XhUbTn94H" id="markdown-toolbar-latex-fj8XhUbTn94H-tooltip" message="LaTeX"><template shadowrootmode="open"><!----><!--?lit$160999733$--><!----><div><!--?lit$160999733$-->LaTeX</div><!----><!--?--></template></colab-tooltip-trigger><!----><!----><md-icon-button id="markdown-toolbar-emoji-fj8XhUbTn94H" class="markdown-toolbar-emoji" aria-describedby="markdown-toolbar-emoji-fj8XhUbTn94H-tooltip" data-aria-label="Insert emoji" value=""><template shadowrootmode="open" shadowrootdelegatesfocus><!----><button id="button" class="icon-button  standard " aria-label="Insert emoji">
        <!--?lit$160999733$--><md-focus-ring part="focus-ring" for="button" aria-hidden="true"><template shadowrootmode="open"><!----></template></md-focus-ring>
        <!--?lit$160999733$--><md-ripple aria-hidden="true"><template shadowrootmode="open"><!----><div class="surface   "></div></template></md-ripple>
        <!--?lit$160999733$--><span class="icon"><slot></slot></span>
        <!--?lit$160999733$-->
        <!--?lit$160999733$--><span class="touch"></span>
  </button></template>
        <!--?lit$160999733$--><md-icon aria-hidden="true"><template shadowrootmode="open"><!----><slot></slot></template><!--?lit$160999733$-->mood</md-icon>
      </md-icon-button>
      <colab-tooltip-trigger aria-hidden="true" for="markdown-toolbar-emoji-fj8XhUbTn94H" id="markdown-toolbar-emoji-fj8XhUbTn94H-tooltip" message="Insert emoji"><template shadowrootmode="open"><!----><!--?lit$160999733$--><!----><div><!--?lit$160999733$-->Insert emoji</div><!----><!--?--></template></colab-tooltip-trigger><!----><!----><md-icon-button id="markdown-toolbar-preview-fj8XhUbTn94H" class="markdown-toolbar-preview" aria-describedby="markdown-toolbar-preview-fj8XhUbTn94H-tooltip" data-aria-label="Reposition markdown preview" value=""><template shadowrootmode="open" shadowrootdelegatesfocus><!----><button id="button" class="icon-button  standard " aria-label="Reposition markdown preview">
        <!--?lit$160999733$--><md-focus-ring part="focus-ring" for="button" aria-hidden="true"><template shadowrootmode="open"><!----></template></md-focus-ring>
        <!--?lit$160999733$--><md-ripple aria-hidden="true"><template shadowrootmode="open"><!----><div class="surface   "></div></template></md-ripple>
        <!--?lit$160999733$--><span class="icon"><slot></slot></span>
        <!--?lit$160999733$-->
        <!--?lit$160999733$--><span class="touch"></span>
  </button></template>
        <!--?lit$160999733$--><md-icon aria-hidden="true"><template shadowrootmode="open"><!----><slot></slot></template><!--?lit$160999733$--><svg viewBox="0 0 24 24"><!--?lit$160999733$--><g id="markdown-preview-below">
  <rect width="20" height="18" x="2" y="2" rx="2" ry="2" style="fill:none;stroke:var(--colab-icon-color)"></rect>
  <line x1="4.5" y1="13" x2="19.5" y2="13" style="stroke:var(--colab-primary-text-color);stroke-dasharray:2"></line>
  <line x1="2.5" y1="4" x2="21.5" y2="4" style="stroke:var(--colab-icon-color);stroke-width:3px;"></line>
</g></svg></md-icon>
      </md-icon-button>
      <colab-tooltip-trigger aria-hidden="true" for="markdown-toolbar-preview-fj8XhUbTn94H" id="markdown-toolbar-preview-fj8XhUbTn94H-tooltip" message="Reposition markdown preview"><template shadowrootmode="open"><!----><!--?lit$160999733$--><!----><div><!--?lit$160999733$-->Reposition markdown preview</div><!----><!--?--></template></colab-tooltip-trigger><!----><!--?--></div></div>
      <div class="editor-container horizontal">
        <div class="editor-root"><div class="editor flex monaco" data-keybinding-context="30" data-mode-id="markdown" style="height: 29px; --vscode-editorCodeLens-lineHeight: 16px; --vscode-editorCodeLens-fontSize: 12px; --vscode-editorCodeLens-fontFeatureSettings: &quot;liga&quot; off, &quot;calt&quot; off; display: none;"><div class="monaco-editor no-user-select  showUnused showDeprecated vs" role="code" data-uri="inmemory://model/25" style="width: 601px; height: 29px;"><div data-mprt="3" class="overflow-guard" style="width: 601px; height: 29px; overflow: clip;"><div class="margin" role="presentation" aria-hidden="true" style="position: absolute; contain: strict; will-change: unset; top: 0px; height: 29px; width: 6px;"><div class="glyph-margin" style="left: 0px; width: 0px; height: 29px;"></div><div class="margin-view-zones" role="presentation" aria-hidden="true" style="position: absolute;"></div><div class="margin-view-overlays" role="presentation" aria-hidden="true" style="position: absolute; font-family: monospace, Consolas, &quot;Courier New&quot;, monospace; font-weight: normal; font-size: 14px; font-feature-settings: &quot;liga&quot; 0, &quot;calt&quot; 0; font-variation-settings: normal; line-height: 19px; letter-spacing: 0px; width: 6px; height: 29px;"><div style="position:absolute;top:0px;width:100%;height:19px;"><div class="current-line" style="width:6px; height:19px;"></div></div></div><div class="glyph-margin-widgets" style="position: absolute; top: 0px;"></div></div><div class="monaco-scrollable-element editor-scrollable vs" role="presentation" data-mprt="5" style="position: absolute; overflow: hidden; left: 6px; width: 595px; height: 29px;"><div class="lines-content monaco-editor-background" style="position: absolute; overflow: hidden; width: 1e+06px; height: 29px; contain: strict; will-change: unset; top: 0px; left: 0px;"><div class="view-overlays" role="presentation" aria-hidden="true" style="position: absolute; font-family: monospace, Consolas, &quot;Courier New&quot;, monospace; font-weight: normal; font-size: 14px; font-feature-settings: &quot;liga&quot; 0, &quot;calt&quot; 0; font-variation-settings: normal; line-height: 19px; letter-spacing: 0px; height: 0px; width: 595px;"><div style="position:absolute;top:0px;width:100%;height:19px;"><div class="cslr selected-text top-left-radius bottom-left-radius top-right-radius bottom-right-radius" style="top:0px;left:15px;width:92px;height:19px;"></div><svg style="position:absolute;width:8px;height:19px" viewBox="0 0 8 19" xmlns="http://www.w3.org/2000/svg" fill="rgba(51, 51, 51, 0.2)"></svg></div></div><div role="presentation" aria-hidden="true" class="view-rulers"></div><div class="view-zones" role="presentation" aria-hidden="true" style="position: absolute;"></div><div class="view-lines monaco-mouse-cursor-text" role="presentation" aria-hidden="true" data-mprt="7" style="position: absolute; font-family: monospace, Consolas, &quot;Courier New&quot;, monospace; font-weight: normal; font-size: 14px; font-feature-settings: &quot;liga&quot; 0, &quot;calt&quot; 0; font-variation-settings: normal; line-height: 19px; letter-spacing: 0px; width: 595px; height: 29px;"><div style="top:0px;height:19px;" class="view-line"><span><span class="mtk6">#&nbsp;**Evaluasi**</span></span></div></div><div data-mprt="1" class="contentWidgets" style="position: absolute; top: 0px;"><div class="lightBulbWidget codicon codicon-light-bulb" widgetid="LightBulbWidget" title="Show Code Actions (Ctrl+.)" style="position: absolute; display: none; visibility: hidden; max-width: 332px;"></div></div><div role="presentation" aria-hidden="true" class="cursors-layer has-selection cursor-line-style cursor-solid"><div class="cursor monaco-mouse-cursor-text " style="height: 19px; top: 0px; left: 107px; font-family: monospace, Consolas, &quot;Courier New&quot;, monospace; font-weight: normal; font-size: 14px; font-feature-settings: &quot;liga&quot; 0, &quot;calt&quot; 0; font-variation-settings: normal; line-height: 19px; letter-spacing: 0px; display: block; visibility: hidden; padding-left: 1px; width: 2px;"></div></div></div><div role="presentation" aria-hidden="true" class="invisible scrollbar horizontal" style="position: absolute; width: 581px; height: 10px; left: 0px; bottom: 0px;"><div class="slider" style="position: absolute; top: 0px; left: 0px; height: 10px; transform: translate3d(0px, 0px, 0px); contain: strict; will-change: unset; width: 581px;"></div></div><canvas class="decorationsOverviewRuler" aria-hidden="true" width="21" height="43" style="position: absolute; transform: translate3d(0px, 0px, 0px); contain: strict; top: 0px; right: 0px; width: 14px; height: 29px; will-change: unset; display: block;"></canvas><div role="presentation" aria-hidden="true" class="invisible scrollbar vertical" style="position: absolute; width: 14px; height: 29px; right: 0px; top: 0px;"><div class="slider" style="position: absolute; top: 0px; left: 0px; width: 14px; transform: translate3d(0px, 0px, 0px); contain: strict; will-change: unset; height: 29px;"></div></div></div><div role="presentation" aria-hidden="true" style="width: 601px;"></div><textarea data-mprt="6" class="inputarea monaco-mouse-cursor-text" wrap="on" autocorrect="off" autocapitalize="off" autocomplete="off" spellcheck="false" aria-label="Editor content;Press Alt+F1 for Accessibility Options." tabindex="0" role="textbox" aria-roledescription="editor" aria-multiline="true" aria-haspopup="false" aria-autocomplete="both" style="tab-size: 15.3984px; font-family: monospace, Consolas, &quot;Courier New&quot;, monospace; font-weight: normal; font-size: 14px; font-feature-settings: &quot;liga&quot; 0, &quot;calt&quot; 0; font-variation-settings: normal; line-height: 19px; letter-spacing: 0px; top: 0px; left: 6px; width: 577px; height: 1px;"></textarea><div style="position: absolute; top: 0px; left: 0px; width: 0px; height: 0px;" class="monaco-editor-background textAreaCover"></div><div data-mprt="4" class="overlayWidgets" style="width: 601px;"></div><div data-mprt="8" class="minimap slider-mouseover" role="presentation" aria-hidden="true" style="position: absolute; left: 0px; width: 0px; height: 29px;"><div class="minimap-shadow-hidden" style="height: 29px;"></div><canvas width="0" height="43" style="position: absolute; left: 0px; width: 0px; height: 29px;"></canvas><canvas class="minimap-decorations-layer" width="0" height="43" style="position: absolute; left: 0px; width: 0px; height: 29px;"></canvas><div class="minimap-slider" style="position: absolute; transform: translate3d(0px, 0px, 0px); contain: strict; width: 0px; will-change: unset;"><div class="minimap-slider-horizontal" style="position: absolute; width: 0px; height: 0px;"></div></div></div><div role="presentation" aria-hidden="true" class="blockDecorations-container"></div></div><div data-mprt="2" class="overflowingContentWidgets" style="display: none;"><div class="inlineSuggestionsHints withBorder" widgetid="InlineSuggestionHintsContentWidget28" style="position: fixed; display: none; visibility: hidden; max-width: 721px;"><div style="display: flex;"><div class="custom-actions"><div class="monaco-action-bar animated"><ul class="actions-container" role="toolbar"><li class="action-item disabled" role="presentation" title="Previous (Alt+[)"><a class="action-label codicon codicon-inline-suggestion-hints-previous disabled" role="button" aria-label="Previous (Alt+[)" aria-checked="" aria-disabled="true" tabindex="0"></a></li><li class="action-item disabled" role="presentation" title=""><a class="action-label disabled" role="button" aria-label="" aria-disabled="true" aria-checked=""></a></li><li class="action-item disabled" role="presentation" title="Next (Alt+])"><a class="action-label codicon codicon-inline-suggestion-hints-next disabled" role="button" aria-label="Next (Alt+])" aria-checked="" aria-disabled="true"></a></li></ul></div></div><div><div class="monaco-toolbar"><div class="monaco-action-bar animated"><ul class="actions-container" role="toolbar"><li class="action-item disabled menu-entry" role="presentation" title="Accept (Tab)"><a class="action-label inlineSuggestionStatusBarItemLabel disabled" role="button" aria-label="Accept (Tab)" aria-disabled="true" aria-checked="" tabindex="0">Accept<div class="keybinding"><div class="monaco-keybinding"><span class="monaco-keybinding-key">Tab</span></div></div></a></li><li class="action-item disabled menu-entry" role="presentation" title="Accept Word (Ctrl+RightArrow)"><a class="action-label inlineSuggestionStatusBarItemLabel disabled" role="button" aria-label="Accept Word (Ctrl+RightArrow)" aria-disabled="true" aria-checked="">Accept Word<div class="keybinding"><div class="monaco-keybinding"><span class="monaco-keybinding-key">Ctrl</span><span class="monaco-keybinding-key-separator">+</span><span class="monaco-keybinding-key">RightArrow</span></div></div></a></li><li class="action-item" role="presentation"><div class="monaco-dropdown"><div class="dropdown-label"><a class="action-label codicon codicon-toolbar-more" role="button" aria-haspopup="true" aria-expanded="false" title="More Actions..." aria-label="More Actions..."></a></div></div></li></ul></div></div></div></div></div><div widgetid="editor.contrib.resizableContentHoverWidget" style="position: fixed; height: 10px; width: 10px; z-index: 50; display: none; visibility: hidden; max-width: 721px;"><div class="monaco-sash vertical" style="left: 8px;"></div><div class="monaco-sash vertical" style="left: -2px;"></div><div class="monaco-sash orthogonal-edge-north horizontal" style="top: -2px;"><div class="orthogonal-drag-handle start"></div><div class="orthogonal-drag-handle end"></div></div><div class="monaco-sash orthogonal-edge-south horizontal" style="top: 8px;"><div class="orthogonal-drag-handle start"></div><div class="orthogonal-drag-handle end"></div></div><div class="monaco-hover hidden" role="tooltip" tabindex="0"><div class="monaco-scrollable-element " role="presentation" style="position: relative; overflow: hidden;"><div class="monaco-hover-content" style="overflow: hidden; font-size: 14px; line-height: 1.35714; max-width: 500px; max-height: 250px;"></div><div role="presentation" aria-hidden="true" class="invisible scrollbar horizontal" style="position: absolute;"><div class="slider" style="position: absolute; top: 0px; left: 0px; height: 10px; transform: translate3d(0px, 0px, 0px); contain: strict;"></div></div><div role="presentation" aria-hidden="true" class="invisible scrollbar vertical" style="position: absolute;"><div class="slider" style="position: absolute; top: 0px; left: 0px; width: 10px; transform: translate3d(0px, 0px, 0px); contain: strict;"></div></div><div class="shadow"></div><div class="shadow"></div><div class="shadow"></div></div></div></div></div><div class=".in-cell-overflowing"><div widgetid="editor.contrib.quickInputWidget" style="position: absolute; top: 0px; right: 50%;"></div></div></div></div></div>
        <div class="text-top-div">
          <div class="markdown"><span><div class="text-cell-section-header layout horizontal center"><md-icon-button class="header-section-toggle" title="Collapse 6 child cells under Evaluasi (Press &lt;Shift&gt; to also collapse sibling sections)" data-aria-label="Collapse 6 child cells under Evaluasi (Press &lt;Shift&gt; to also collapse sibling sections)" style="" value=""><template shadowrootmode="open" shadowrootdelegatesfocus><!----><button id="button" class="icon-button  standard " aria-label="Collapse 6 child cells under Evaluasi (Press &lt;Shift&gt; to also collapse sibling sections)">
        <!--?lit$160999733$--><md-focus-ring part="focus-ring" for="button" aria-hidden="true"><template shadowrootmode="open"><!----></template></md-focus-ring>
        <!--?lit$160999733$--><md-ripple aria-hidden="true"><template shadowrootmode="open"><!----><div class="surface"></div></template></md-ripple>
        <!--?lit$160999733$--><span class="icon"><slot></slot></span>
        <!--?lit$160999733$-->
        <!--?lit$160999733$--><span class="touch"></span>
  </button></template><md-icon aria-hidden="true"><template shadowrootmode="open"><!----><slot></slot></template>keyboard_arrow_down</md-icon></md-icon-button><h1><strong>Evaluasi</strong></h1></div>
</span></div>
        </div>
      </div>

      <div class="section-header" style="display: none;">
        <colab-run-button><template shadowrootmode="open"><!----> <div class="cell-execution">
      <button id="run-button" aria-label="Run cell" aria-disabled="false">
        <!--?lit$160999733$--><span class="execution-count"><!--?lit$160999733$-->[ ]</span>
        <span aria-hidden="true" class="cell-execution-indicator"><!--?lit$160999733$-->
<svg xmlns="http://www.w3.org/2000/svg" viewBox="0 0 24 24">
  <!--?lit$160999733$-->
  <mask id="playSymbolMask">
    <rect width="100%" height="100%" fill="white"></rect>
    <polygon points="10,8 17,12 10,16" fill="black"></polygon>
  </mask>
  <circle cx="12" cy="12" r="7.8" mask="url(#playSymbolMask)" id="filledCircle"></circle>
</svg></span>
      </button>
      <!--?lit$160999733$-->
      <!--?lit$160999733$--><!--?-->
    </div></template></colab-run-button>
        <div class="section-header-container" title="click to expand">
          <md-icon aria-hidden="true"><template shadowrootmode="open"><!----><slot></slot></template>subdirectory_arrow_right</md-icon>
          <span>6 cells hidden</span>
        </div>
      </div></div></div><div class="add-cell">
      <div class="add-cell-buttons">
        <md-outlined-button class="add-code add-button" data-aria-label="Add code cell
Ctrl+M B" title="Add code cell
Ctrl+M B" value="" has-icon=""><template shadowrootmode="open" shadowrootdelegatesfocus><!---->
      <!--?lit$160999733$--><div class="outline"></div>
      <div class="background"></div>
      <md-focus-ring part="focus-ring" for="button" aria-hidden="true"><template shadowrootmode="open"><!----></template></md-focus-ring>
      <md-ripple part="ripple" for="button" aria-hidden="true"><template shadowrootmode="open"><!----><div class="surface"></div></template></md-ripple>
      <!--?lit$160999733$--><button id="button" class="button" aria-label="Add code cell
Ctrl+M B">
      <!--?lit$160999733$-->
      <span class="touch"></span>
      <!--?lit$160999733$--><slot name="icon"></slot>
      <span class="label"><slot></slot></span>
      <!--?lit$160999733$-->
    
    </button>
    </template>
          <md-icon slot="icon" aria-hidden="true"><template shadowrootmode="open"><!----><slot></slot></template>add</md-icon>
          <!--?lit$160999733$-->Code
        </md-outlined-button>
        <md-outlined-button class="add-text add-button" data-aria-label="Add text cell" title="Add text cell" value="" has-icon=""><template shadowrootmode="open" shadowrootdelegatesfocus><!---->
      <!--?lit$160999733$--><div class="outline"></div>
      <div class="background"></div>
      <md-focus-ring part="focus-ring" for="button" aria-hidden="true"><template shadowrootmode="open"><!----></template></md-focus-ring>
      <md-ripple part="ripple" for="button" aria-hidden="true"><template shadowrootmode="open"><!----><div class="surface"></div></template></md-ripple>
      <!--?lit$160999733$--><button id="button" class="button" aria-label="Add text cell">
      <!--?lit$160999733$-->
      <span class="touch"></span>
      <!--?lit$160999733$--><slot name="icon"></slot>
      <span class="label"><slot></slot></span>
      <!--?lit$160999733$-->
    
    </button>
    </template>
          <md-icon slot="icon" aria-hidden="true"><template shadowrootmode="open"><!----><slot></slot></template>add</md-icon>
          <!--?lit$160999733$-->Text
        </md-outlined-button>
        <!--?lit$160999733$-->
      </div><hr>
    </div></div><div class="cell code icon-scrolling code-has-output" id="cell-V9s4NT-cn88r" role="region" aria-label="Cell 22: Code cell: " style="opacity: 1;" tabindex="-1"><div class="agent-focus-label">
      <md-icon aria-hidden="true"><template shadowrootmode="open"><!----><slot></slot></template>spark</md-icon>
      <!--?lit$160999733$-->Gemini
    </div><div class="cell-tag-editor sticky"></div><div class="cell-toolbar sticky"></div><div class="main-content" elevation="0"><div class="cell-contents"><div class="cell-mask"></div><span class="imported-info-area"></span><div class="codecell-input-output">
      <div class="inputarea horizontal layout code">
        <div class="cell-gutter">
          <!-- Bounding range for vertical scrolling of icons -->
          <div class="cell-execution-container">
            <colab-run-button><template shadowrootmode="open"><!----> <div class="cell-execution hovered">
      <button id="run-button" aria-describedby="run-button-tooltip" aria-label="Run cell" aria-disabled="false">
        <!--?lit$160999733$--><span class="execution-count"><!--?lit$160999733$-->[17]</span>
        <span aria-hidden="true" class="cell-execution-indicator"><!--?lit$160999733$-->
<svg xmlns="http://www.w3.org/2000/svg" viewBox="0 0 24 24">
  <!--?lit$160999733$-->
  <mask id="playSymbolMask">
    <rect width="100%" height="100%" fill="white"></rect>
    <polygon points="10,8 17,12 10,16" fill="black"></polygon>
  </mask>
  <circle cx="12" cy="12" r="7.8" mask="url(#playSymbolMask)" id="filledCircle"></circle>
</svg></span>
      </button>
      <!--?lit$160999733$--><colab-tooltip-trigger for="run-button" id="run-button-tooltip" aria-hidden="true" message="Run cell (Ctrl+Enter)
cell executed since last change

executed by Sabita Alya P
10:43 PM (7 minutes ago)
executed in 0.04s"><template shadowrootmode="open"><!----><!--?lit$160999733$--><!----><div><!--?lit$160999733$-->Run cell (Ctrl+Enter)</div><!----><!----><div><!--?lit$160999733$-->cell executed since last change</div><!----><!----><br><!----><!----><div><!--?lit$160999733$-->executed by Sabita Alya P</div><!----><!----><div><!--?lit$160999733$-->10:43 PM (7 minutes ago)</div><!----><!----><div><!--?lit$160999733$-->executed in 0.04s</div><!----><!--?--></template>
    </colab-tooltip-trigger>
      <!--?lit$160999733$--><div id="status" class="last-run">
      <md-icon aria-hidden="true"><template shadowrootmode="open"><!----><slot></slot></template><!--?lit$160999733$--><svg viewBox="0 0 24 24"><!--?lit$160999733$--><path d="M9 16.17L4.83 12l-1.42 1.41L9 19 21 7l-1.41-1.41z"></path></svg></md-icon>
      <div><!--?lit$160999733$-->0s</div>
    </div>
    </div></template></colab-run-button>
          </div>
        </div>
      <div class="editor flex lazy-editor" style=""><pre class="lazy-virtualized" style="font-size: 14px; line-height: 19px;"><pre class="lazy-gutter"></pre><pre class="monaco-colorized colab colab colab colab colab colab colab" data-lang="notebook-python"><span><span class="mtk8">#&nbsp;Evaluasi&nbsp;model</span></span><br><span><span class="mtk1">prediksi&nbsp;=&nbsp;lin_reg.predict(X)</span></span><br><span><span class="mtk1">mse&nbsp;=&nbsp;mean_squared_error(Y,&nbsp;prediksi)</span></span><br><span><span class="mtk1">mae&nbsp;=&nbsp;mean_absolute_error(Y,&nbsp;prediksi)</span></span><br><span><span class="mtk1">r2&nbsp;=&nbsp;r2_score(Y,&nbsp;prediksi)</span></span><br><span><span class="mtk15">print</span><span class="mtk1">(</span><span class="mtk6">f</span><span class="mtk26">"Mean&nbsp;Squared&nbsp;Error&nbsp;(MSE):&nbsp;</span><span class="mtk1">{mse</span><span class="mtk12">:.4f</span><span class="mtk1">}</span><span class="mtk26">"</span><span class="mtk1">)</span></span><br><span><span class="mtk15">print</span><span class="mtk1">(</span><span class="mtk6">f</span><span class="mtk26">"Mean&nbsp;Absolute&nbsp;Error&nbsp;(MAE):&nbsp;</span><span class="mtk1">{mae</span><span class="mtk12">:.4f</span><span class="mtk1">}</span><span class="mtk26">"</span><span class="mtk1">)</span></span><br><span><span class="mtk15">print</span><span class="mtk1">(</span><span class="mtk6">f</span><span class="mtk26">"R-squared&nbsp;(R²):&nbsp;</span><span class="mtk1">{r2</span><span class="mtk12">:.4f</span><span class="mtk1">}</span><span class="mtk26">"</span><span class="mtk1">)</span></span><br></pre><colab-read-only-cell-placeholder style="display: none;"><template shadowrootmode="open"><!----><div><!--?lit$160999733$-->Start coding or <span role="button" class="link" tabindex="0">generate</span> with AI.</div></template></colab-read-only-cell-placeholder></pre></div><colab-form class="formview vertical layout flex"><div class="widget-area vertical layout"></div></colab-form></div>
    <div class="output" aria-label="Cell 22 output" role="region"><!----> <div class="output-header"> </div>
        <div class="output-content">
          <div class="output-info"><colab-output-info><template shadowrootmode="open"><!----><md-icon-button data-aria-expanded="false" data-aria-haspopup="menu" aria-describedby="button-output-actions-tooltip" data-aria-label="Code cell output actions" id="button-output-actions" value=""><template shadowrootmode="open" shadowrootdelegatesfocus><!----><button id="button" class="icon-button  standard " aria-label="Code cell output actions" aria-haspopup="menu" aria-expanded="false">
        <!--?lit$160999733$--><md-focus-ring part="focus-ring" for="button" aria-hidden="true"><template shadowrootmode="open"><!----></template></md-focus-ring>
        <!--?lit$160999733$--><md-ripple aria-hidden="true"><template shadowrootmode="open"><!----><div class="surface"></div></template></md-ripple>
        <!--?lit$160999733$--><span class="icon"><slot></slot></span>
        <!--?lit$160999733$-->
        <!--?lit$160999733$--><span class="touch"></span>
  </button></template>
        <md-icon aria-hidden="true"><template shadowrootmode="open"><!----><slot></slot></template><!--?lit$160999733$--><svg viewBox="0 0 24 24"><!--?lit$160999733$--><path d="m15.9 3.07c-4.32 0.0742-8.64-0.0355-13 0.0568-1.37 0.307-1.74 2.1-1.41 3.26 0.469 0.606 1.86 0.384 1.66-0.525 0.0448-0.329-0.183-0.93 0.354-0.766h13.3v1.53h1.71c0.0709-1.13 0.141-2.62-0.968-3.3-0.511-0.264-1.11-0.252-1.67-0.259zm2.94 6.84v4.87c1.62-1.62 3.24-3.24 4.87-4.87h-4.87zm0 0h-1.71v3.43l1.57 1.57c0.32-1.65 0.0556-3.34 0.135-5zm-1.71 3.43v-3.43h-3.43c1.14 1.14 2.29 2.29 3.43 3.43zm1.4 4.27h-1.71v1.48h-13.6v-1.48h-1.71c-0.0473 1.15-0.16 2.72 1.09 3.29 1.47 0.506 3.02 0.0265 4.53 0.192 3.34-0.0051 6.68 0.0336 10-0.0245 1.49-0.366 1.56-2.22 1.42-3.45zm-10.1-1.12c-0.398-0.483-0.796-0.967-1.19-1.45 0.59-0.683 1.18-1.37 1.77-2.05h-8.67v-2h8.67c-0.59-0.683-1.18-1.37-1.77-2.05 0.398-0.483 0.796-0.967 1.19-1.45 1.28 1.5 2.56 3 3.84 4.5-1.28 1.5-2.56 3-3.84 4.5z"></path></svg></md-icon>
      </md-icon-button>
      <colab-tooltip-trigger aria-hidden="true" id="button-output-actions-tooltip" for="button-output-actions" message="Code cell output actions"><template shadowrootmode="open"><!----><!--?lit$160999733$--><!----><div><!--?lit$160999733$-->Code cell output actions</div><!----><!--?--></template></colab-tooltip-trigger></template></colab-output-info></div>
          <div class="output-iframe-container">
            <div class="output-iframe-sizer" style="min-height: 0px;"> <div><div><colab-static-output-renderer role="group" tabindex="0"><div><div class="stream output-id-1 output_text"><pre>Mean Squared Error (MSE): 204.1479
Mean Absolute Error (MAE): 9.0293
R-squared (R²): 0.9518
</pre></div></div><div></div></colab-static-output-renderer></div></div><div><div></div></div></div>
          </div>
        </div></div></div><colab-cell-next-steps><template shadowrootmode="open"><!----></template></colab-cell-next-steps></div></div><div class="add-cell">
      <div class="add-cell-buttons">
        <md-outlined-button class="add-code add-button" data-aria-label="Add code cell
Ctrl+M B" title="Add code cell
Ctrl+M B" value="" has-icon=""><template shadowrootmode="open" shadowrootdelegatesfocus><!---->
      <!--?lit$160999733$--><div class="outline"></div>
      <div class="background"></div>
      <md-focus-ring part="focus-ring" for="button" aria-hidden="true"><template shadowrootmode="open"><!----></template></md-focus-ring>
      <md-ripple part="ripple" for="button" aria-hidden="true"><template shadowrootmode="open"><!----><div class="surface"></div></template></md-ripple>
      <!--?lit$160999733$--><button id="button" class="button" aria-label="Add code cell
Ctrl+M B">
      <!--?lit$160999733$-->
      <span class="touch"></span>
      <!--?lit$160999733$--><slot name="icon"></slot>
      <span class="label"><slot></slot></span>
      <!--?lit$160999733$-->
    
    </button>
    </template>
          <md-icon slot="icon" aria-hidden="true"><template shadowrootmode="open"><!----><slot></slot></template>add</md-icon>
          <!--?lit$160999733$-->Code
        </md-outlined-button>
        <md-outlined-button class="add-text add-button" data-aria-label="Add text cell" title="Add text cell" value="" has-icon=""><template shadowrootmode="open" shadowrootdelegatesfocus><!---->
      <!--?lit$160999733$--><div class="outline"></div>
      <div class="background"></div>
      <md-focus-ring part="focus-ring" for="button" aria-hidden="true"><template shadowrootmode="open"><!----></template></md-focus-ring>
      <md-ripple part="ripple" for="button" aria-hidden="true"><template shadowrootmode="open"><!----><div class="surface"></div></template></md-ripple>
      <!--?lit$160999733$--><button id="button" class="button" aria-label="Add text cell">
      <!--?lit$160999733$-->
      <span class="touch"></span>
      <!--?lit$160999733$--><slot name="icon"></slot>
      <span class="label"><slot></slot></span>
      <!--?lit$160999733$-->
    
    </button>
    </template>
          <md-icon slot="icon" aria-hidden="true"><template shadowrootmode="open"><!----><slot></slot></template>add</md-icon>
          <!--?lit$160999733$-->Text
        </md-outlined-button>
        <!--?lit$160999733$-->
      </div><hr>
    </div></div><div class="cell text" id="cell-MU_HQmywrKuj" role="region" aria-label="Cell 23: Text cell: " style="opacity: 1;" tabindex="-1"><div class="agent-focus-label">
      <md-icon aria-hidden="true"><template shadowrootmode="open"><!----><slot></slot></template>spark</md-icon>
      <!--?lit$160999733$-->Gemini
    </div><div class="cell-tag-editor sticky"></div><div class="cell-toolbar sticky"></div><div class="main-content" elevation="0"><div class="cell-contents"><div class="cell-mask"></div><span class="imported-info-area"></span><!----> <div class="toolbar-root"><div class="markdown-toolbar"><!----><!--?lit$160999733$--><!----><md-icon-button id="markdown-toolbar-header-MU_HQmywrKuj" class="markdown-toolbar-header" aria-describedby="markdown-toolbar-header-MU_HQmywrKuj-tooltip" data-aria-label="Toggle heading" value=""><template shadowrootmode="open" shadowrootdelegatesfocus><!----><button id="button" class="icon-button  standard " aria-label="Toggle heading">
        <!--?lit$160999733$--><md-focus-ring part="focus-ring" for="button" aria-hidden="true"><template shadowrootmode="open"><!----></template></md-focus-ring>
        <!--?lit$160999733$--><md-ripple aria-hidden="true"><template shadowrootmode="open"><!----><div class="surface   "></div></template></md-ripple>
        <!--?lit$160999733$--><span class="icon"><slot></slot></span>
        <!--?lit$160999733$-->
        <!--?lit$160999733$--><span class="touch"></span>
  </button></template>
        <!--?lit$160999733$--><md-icon aria-hidden="true"><template shadowrootmode="open"><!----><slot></slot></template><!--?lit$160999733$-->format_size</md-icon>
      </md-icon-button>
      <colab-tooltip-trigger aria-hidden="true" for="markdown-toolbar-header-MU_HQmywrKuj" id="markdown-toolbar-header-MU_HQmywrKuj-tooltip" message="Toggle heading"><template shadowrootmode="open"><!----><!--?lit$160999733$--><!----><div><!--?lit$160999733$-->Toggle heading</div><!----><!--?--></template></colab-tooltip-trigger><!----><!----><md-icon-button id="markdown-toolbar-bold-MU_HQmywrKuj" class="markdown-toolbar-bold" aria-describedby="markdown-toolbar-bold-MU_HQmywrKuj-tooltip" data-aria-label="Bold" value=""><template shadowrootmode="open" shadowrootdelegatesfocus><!----><button id="button" class="icon-button  standard " aria-label="Bold">
        <!--?lit$160999733$--><md-focus-ring part="focus-ring" for="button" aria-hidden="true"><template shadowrootmode="open"><!----></template></md-focus-ring>
        <!--?lit$160999733$--><md-ripple aria-hidden="true"><template shadowrootmode="open"><!----><div class="surface   "></div></template></md-ripple>
        <!--?lit$160999733$--><span class="icon"><slot></slot></span>
        <!--?lit$160999733$-->
        <!--?lit$160999733$--><span class="touch"></span>
  </button></template>
        <!--?lit$160999733$--><md-icon aria-hidden="true"><template shadowrootmode="open"><!----><slot></slot></template><!--?lit$160999733$-->format_bold</md-icon>
      </md-icon-button>
      <colab-tooltip-trigger aria-hidden="true" for="markdown-toolbar-bold-MU_HQmywrKuj" id="markdown-toolbar-bold-MU_HQmywrKuj-tooltip" message="Bold"><template shadowrootmode="open"><!----><!--?lit$160999733$--><!----><div><!--?lit$160999733$-->Bold</div><!----><!--?--></template></colab-tooltip-trigger><!----><!----><md-icon-button id="markdown-toolbar-italic-MU_HQmywrKuj" class="markdown-toolbar-italic" aria-describedby="markdown-toolbar-italic-MU_HQmywrKuj-tooltip" data-aria-label="Italicize" value=""><template shadowrootmode="open" shadowrootdelegatesfocus><!----><button id="button" class="icon-button  standard " aria-label="Italicize">
        <!--?lit$160999733$--><md-focus-ring part="focus-ring" for="button" aria-hidden="true"><template shadowrootmode="open"><!----></template></md-focus-ring>
        <!--?lit$160999733$--><md-ripple aria-hidden="true"><template shadowrootmode="open"><!----><div class="surface"></div></template></md-ripple>
        <!--?lit$160999733$--><span class="icon"><slot></slot></span>
        <!--?lit$160999733$-->
        <!--?lit$160999733$--><span class="touch"></span>
  </button></template>
        <!--?lit$160999733$--><md-icon aria-hidden="true"><template shadowrootmode="open"><!----><slot></slot></template><!--?lit$160999733$-->format_italic</md-icon>
      </md-icon-button>
      <colab-tooltip-trigger aria-hidden="true" for="markdown-toolbar-italic-MU_HQmywrKuj" id="markdown-toolbar-italic-MU_HQmywrKuj-tooltip" message="Italicize"><template shadowrootmode="open"><!----><!--?lit$160999733$--><!----><div><!--?lit$160999733$-->Italicize</div><!----><!--?--></template></colab-tooltip-trigger><!----><!----><md-icon-button id="markdown-toolbar-code-MU_HQmywrKuj" class="markdown-toolbar-code" aria-describedby="markdown-toolbar-code-MU_HQmywrKuj-tooltip" data-aria-label="Format as code" value=""><template shadowrootmode="open" shadowrootdelegatesfocus><!----><button id="button" class="icon-button  standard " aria-label="Format as code">
        <!--?lit$160999733$--><md-focus-ring part="focus-ring" for="button" aria-hidden="true"><template shadowrootmode="open"><!----></template></md-focus-ring>
        <!--?lit$160999733$--><md-ripple aria-hidden="true"><template shadowrootmode="open"><!----><div class="surface   "></div></template></md-ripple>
        <!--?lit$160999733$--><span class="icon"><slot></slot></span>
        <!--?lit$160999733$-->
        <!--?lit$160999733$--><span class="touch"></span>
  </button></template>
        <!--?lit$160999733$--><md-icon aria-hidden="true"><template shadowrootmode="open"><!----><slot></slot></template><!--?lit$160999733$-->code</md-icon>
      </md-icon-button>
      <colab-tooltip-trigger aria-hidden="true" for="markdown-toolbar-code-MU_HQmywrKuj" id="markdown-toolbar-code-MU_HQmywrKuj-tooltip" message="Format as code"><template shadowrootmode="open"><!----><!--?lit$160999733$--><!----><div><!--?lit$160999733$-->Format as code</div><!----><!--?--></template></colab-tooltip-trigger><!----><!----><md-icon-button id="markdown-toolbar-link-MU_HQmywrKuj" class="markdown-toolbar-link" aria-describedby="markdown-toolbar-link-MU_HQmywrKuj-tooltip" data-aria-label="Insert link" value=""><template shadowrootmode="open" shadowrootdelegatesfocus><!----><button id="button" class="icon-button  standard " aria-label="Insert link">
        <!--?lit$160999733$--><md-focus-ring part="focus-ring" for="button" aria-hidden="true"><template shadowrootmode="open"><!----></template></md-focus-ring>
        <!--?lit$160999733$--><md-ripple aria-hidden="true"><template shadowrootmode="open"><!----><div class="surface   "></div></template></md-ripple>
        <!--?lit$160999733$--><span class="icon"><slot></slot></span>
        <!--?lit$160999733$-->
        <!--?lit$160999733$--><span class="touch"></span>
  </button></template>
        <!--?lit$160999733$--><md-icon aria-hidden="true"><template shadowrootmode="open"><!----><slot></slot></template><!--?lit$160999733$-->link</md-icon>
      </md-icon-button>
      <colab-tooltip-trigger aria-hidden="true" for="markdown-toolbar-link-MU_HQmywrKuj" id="markdown-toolbar-link-MU_HQmywrKuj-tooltip" message="Insert link"><template shadowrootmode="open"><!----><!--?lit$160999733$--><!----><div><!--?lit$160999733$-->Insert link</div><!----><!--?--></template></colab-tooltip-trigger><!----><!----><label for="markdown-image-input-MU_HQmywrKuj" class="colab-icon markdown-toolbar-insert-image">
        <md-ripple aria-hidden="true"><template shadowrootmode="open"><!----><div class="surface   "></div></template></md-ripple>
        <span role="button" id="markdown-toolbar-insert-image-MU_HQmywrKuj" aria-describedby="markdown-toolbar-insert-image-MU_HQmywrKuj-tooltip" aria-label="Insert image" tabindex="0">
          <md-focus-ring aria-hidden="true"><template shadowrootmode="open"><!----></template></md-focus-ring>
          <md-icon aria-hidden="true"><template shadowrootmode="open"><!----><slot></slot></template>image</md-icon>
        </span>
        <colab-tooltip-trigger aria-hidden="true" for="markdown-toolbar-insert-image-MU_HQmywrKuj" id="markdown-toolbar-insert-image-MU_HQmywrKuj-tooltip" message="Insert image"><template shadowrootmode="open"><!----><!--?lit$160999733$--><!----><div><!--?lit$160999733$-->Insert image</div><!----><!--?--></template></colab-tooltip-trigger>
      </label>
      <input class="markdown-image-input" type="file" multiple="" accept="image/*" id="markdown-image-input-MU_HQmywrKuj"><!----><!----><md-icon-button id="markdown-toolbar-blockquote-MU_HQmywrKuj" class="markdown-toolbar-blockquote" aria-describedby="markdown-toolbar-blockquote-MU_HQmywrKuj-tooltip" data-aria-label="Add blockquote" value=""><template shadowrootmode="open" shadowrootdelegatesfocus><!----><button id="button" class="icon-button  standard " aria-label="Add blockquote">
        <!--?lit$160999733$--><md-focus-ring part="focus-ring" for="button" aria-hidden="true"><template shadowrootmode="open"><!----></template></md-focus-ring>
        <!--?lit$160999733$--><md-ripple aria-hidden="true"><template shadowrootmode="open"><!----><div class="surface   "></div></template></md-ripple>
        <!--?lit$160999733$--><span class="icon"><slot></slot></span>
        <!--?lit$160999733$-->
        <!--?lit$160999733$--><span class="touch"></span>
  </button></template>
        <!--?lit$160999733$--><md-icon aria-hidden="true"><template shadowrootmode="open"><!----><slot></slot></template><!--?lit$160999733$-->format_quote</md-icon>
      </md-icon-button>
      <colab-tooltip-trigger aria-hidden="true" for="markdown-toolbar-blockquote-MU_HQmywrKuj" id="markdown-toolbar-blockquote-MU_HQmywrKuj-tooltip" message="Add blockquote"><template shadowrootmode="open"><!----><!--?lit$160999733$--><!----><div><!--?lit$160999733$-->Add blockquote</div><!----><!--?--></template></colab-tooltip-trigger><!----><!----><md-icon-button id="markdown-toolbar-ol-MU_HQmywrKuj" class="markdown-toolbar-ol" aria-describedby="markdown-toolbar-ol-MU_HQmywrKuj-tooltip" data-aria-label="Add numbered list" value=""><template shadowrootmode="open" shadowrootdelegatesfocus><!----><button id="button" class="icon-button  standard " aria-label="Add numbered list">
        <!--?lit$160999733$--><md-focus-ring part="focus-ring" for="button" aria-hidden="true"><template shadowrootmode="open"><!----></template></md-focus-ring>
        <!--?lit$160999733$--><md-ripple aria-hidden="true"><template shadowrootmode="open"><!----><div class="surface   "></div></template></md-ripple>
        <!--?lit$160999733$--><span class="icon"><slot></slot></span>
        <!--?lit$160999733$-->
        <!--?lit$160999733$--><span class="touch"></span>
  </button></template>
        <!--?lit$160999733$--><md-icon aria-hidden="true"><template shadowrootmode="open"><!----><slot></slot></template><!--?lit$160999733$-->format_list_numbered</md-icon>
      </md-icon-button>
      <colab-tooltip-trigger aria-hidden="true" for="markdown-toolbar-ol-MU_HQmywrKuj" id="markdown-toolbar-ol-MU_HQmywrKuj-tooltip" message="Add numbered list"><template shadowrootmode="open"><!----><!--?lit$160999733$--><!----><div><!--?lit$160999733$-->Add numbered list</div><!----><!--?--></template></colab-tooltip-trigger><!----><!----><md-icon-button id="markdown-toolbar-ul-MU_HQmywrKuj" class="markdown-toolbar-ul" aria-describedby="markdown-toolbar-ul-MU_HQmywrKuj-tooltip" data-aria-label="Add bulleted list" value=""><template shadowrootmode="open" shadowrootdelegatesfocus><!----><button id="button" class="icon-button  standard " aria-label="Add bulleted list">
        <!--?lit$160999733$--><md-focus-ring part="focus-ring" for="button" aria-hidden="true"><template shadowrootmode="open"><!----></template></md-focus-ring>
        <!--?lit$160999733$--><md-ripple aria-hidden="true"><template shadowrootmode="open"><!----><div class="surface   "></div></template></md-ripple>
        <!--?lit$160999733$--><span class="icon"><slot></slot></span>
        <!--?lit$160999733$-->
        <!--?lit$160999733$--><span class="touch"></span>
  </button></template>
        <!--?lit$160999733$--><md-icon aria-hidden="true"><template shadowrootmode="open"><!----><slot></slot></template><!--?lit$160999733$-->format_list_bulleted</md-icon>
      </md-icon-button>
      <colab-tooltip-trigger aria-hidden="true" for="markdown-toolbar-ul-MU_HQmywrKuj" id="markdown-toolbar-ul-MU_HQmywrKuj-tooltip" message="Add bulleted list"><template shadowrootmode="open"><!----><!--?lit$160999733$--><!----><div><!--?lit$160999733$-->Add bulleted list</div><!----><!--?--></template></colab-tooltip-trigger><!----><!----><md-icon-button id="markdown-toolbar-hr-MU_HQmywrKuj" class="markdown-toolbar-hr" aria-describedby="markdown-toolbar-hr-MU_HQmywrKuj-tooltip" data-aria-label="Add horizontal rule" value=""><template shadowrootmode="open" shadowrootdelegatesfocus><!----><button id="button" class="icon-button  standard " aria-label="Add horizontal rule">
        <!--?lit$160999733$--><md-focus-ring part="focus-ring" for="button" aria-hidden="true"><template shadowrootmode="open"><!----></template></md-focus-ring>
        <!--?lit$160999733$--><md-ripple aria-hidden="true"><template shadowrootmode="open"><!----><div class="surface   "></div></template></md-ripple>
        <!--?lit$160999733$--><span class="icon"><slot></slot></span>
        <!--?lit$160999733$-->
        <!--?lit$160999733$--><span class="touch"></span>
  </button></template>
        <!--?lit$160999733$--><md-icon aria-hidden="true"><template shadowrootmode="open"><!----><slot></slot></template><!--?lit$160999733$-->horizontal_rule</md-icon>
      </md-icon-button>
      <colab-tooltip-trigger aria-hidden="true" for="markdown-toolbar-hr-MU_HQmywrKuj" id="markdown-toolbar-hr-MU_HQmywrKuj-tooltip" message="Add horizontal rule"><template shadowrootmode="open"><!----><!--?lit$160999733$--><!----><div><!--?lit$160999733$-->Add horizontal rule</div><!----><!--?--></template></colab-tooltip-trigger><!----><!----><md-icon-button id="markdown-toolbar-latex-MU_HQmywrKuj" class="markdown-toolbar-latex" aria-describedby="markdown-toolbar-latex-MU_HQmywrKuj-tooltip" data-aria-label="LaTeX" value=""><template shadowrootmode="open" shadowrootdelegatesfocus><!----><button id="button" class="icon-button  standard " aria-label="LaTeX">
        <!--?lit$160999733$--><md-focus-ring part="focus-ring" for="button" aria-hidden="true"><template shadowrootmode="open"><!----></template></md-focus-ring>
        <!--?lit$160999733$--><md-ripple aria-hidden="true"><template shadowrootmode="open"><!----><div class="surface   "></div></template></md-ripple>
        <!--?lit$160999733$--><span class="icon"><slot></slot></span>
        <!--?lit$160999733$-->
        <!--?lit$160999733$--><span class="touch"></span>
  </button></template>
        <!--?lit$160999733$--><span aria-hidden="true">ψ</span>
      </md-icon-button>
      <colab-tooltip-trigger aria-hidden="true" for="markdown-toolbar-latex-MU_HQmywrKuj" id="markdown-toolbar-latex-MU_HQmywrKuj-tooltip" message="LaTeX"><template shadowrootmode="open"><!----><!--?lit$160999733$--><!----><div><!--?lit$160999733$-->LaTeX</div><!----><!--?--></template></colab-tooltip-trigger><!----><!----><md-icon-button id="markdown-toolbar-emoji-MU_HQmywrKuj" class="markdown-toolbar-emoji" aria-describedby="markdown-toolbar-emoji-MU_HQmywrKuj-tooltip" data-aria-label="Insert emoji" value=""><template shadowrootmode="open" shadowrootdelegatesfocus><!----><button id="button" class="icon-button  standard " aria-label="Insert emoji">
        <!--?lit$160999733$--><md-focus-ring part="focus-ring" for="button" aria-hidden="true"><template shadowrootmode="open"><!----></template></md-focus-ring>
        <!--?lit$160999733$--><md-ripple aria-hidden="true"><template shadowrootmode="open"><!----><div class="surface   "></div></template></md-ripple>
        <!--?lit$160999733$--><span class="icon"><slot></slot></span>
        <!--?lit$160999733$-->
        <!--?lit$160999733$--><span class="touch"></span>
  </button></template>
        <!--?lit$160999733$--><md-icon aria-hidden="true"><template shadowrootmode="open"><!----><slot></slot></template><!--?lit$160999733$-->mood</md-icon>
      </md-icon-button>
      <colab-tooltip-trigger aria-hidden="true" for="markdown-toolbar-emoji-MU_HQmywrKuj" id="markdown-toolbar-emoji-MU_HQmywrKuj-tooltip" message="Insert emoji"><template shadowrootmode="open"><!----><!--?lit$160999733$--><!----><div><!--?lit$160999733$-->Insert emoji</div><!----><!--?--></template></colab-tooltip-trigger><!----><!----><md-icon-button id="markdown-toolbar-preview-MU_HQmywrKuj" class="markdown-toolbar-preview" aria-describedby="markdown-toolbar-preview-MU_HQmywrKuj-tooltip" data-aria-label="Reposition markdown preview" value=""><template shadowrootmode="open" shadowrootdelegatesfocus><!----><button id="button" class="icon-button  standard " aria-label="Reposition markdown preview">
        <!--?lit$160999733$--><md-focus-ring part="focus-ring" for="button" aria-hidden="true"><template shadowrootmode="open"><!----></template></md-focus-ring>
        <!--?lit$160999733$--><md-ripple aria-hidden="true"><template shadowrootmode="open"><!----><div class="surface   "></div></template></md-ripple>
        <!--?lit$160999733$--><span class="icon"><slot></slot></span>
        <!--?lit$160999733$-->
        <!--?lit$160999733$--><span class="touch"></span>
  </button></template>
        <!--?lit$160999733$--><md-icon aria-hidden="true"><template shadowrootmode="open"><!----><slot></slot></template><!--?lit$160999733$--><svg viewBox="0 0 24 24"><!--?lit$160999733$--><g id="markdown-preview-below">
  <rect width="20" height="18" x="2" y="2" rx="2" ry="2" style="fill:none;stroke:var(--colab-icon-color)"></rect>
  <line x1="4.5" y1="13" x2="19.5" y2="13" style="stroke:var(--colab-primary-text-color);stroke-dasharray:2"></line>
  <line x1="2.5" y1="4" x2="21.5" y2="4" style="stroke:var(--colab-icon-color);stroke-width:3px;"></line>
</g></svg></md-icon>
      </md-icon-button>
      <colab-tooltip-trigger aria-hidden="true" for="markdown-toolbar-preview-MU_HQmywrKuj" id="markdown-toolbar-preview-MU_HQmywrKuj-tooltip" message="Reposition markdown preview"><template shadowrootmode="open"><!----><!--?lit$160999733$--><!----><div><!--?lit$160999733$-->Reposition markdown preview</div><!----><!--?--></template></colab-tooltip-trigger><!----><!--?--></div></div>
      <div class="editor-container horizontal">
        <div class="editor-root"><div class="editor flex monaco" data-keybinding-context="56" data-mode-id="markdown" style="height: 162px; --vscode-editorCodeLens-lineHeight: 16px; --vscode-editorCodeLens-fontSize: 12px; --vscode-editorCodeLens-fontFeatureSettings: &quot;liga&quot; off, &quot;calt&quot; off; display: none;"><div class="monaco-editor no-user-select  showUnused showDeprecated vs" role="code" data-uri="inmemory://model/26" style="width: 338px; height: 162px;"><div data-mprt="3" class="overflow-guard" style="width: 338px; height: 162px; overflow: clip;"><div class="margin" role="presentation" aria-hidden="true" style="position: absolute; contain: strict; will-change: unset; top: 0px; height: 162px; width: 6px;"><div class="glyph-margin" style="left: 0px; width: 0px; height: 162px;"></div><div class="margin-view-zones" role="presentation" aria-hidden="true" style="position: absolute;"></div><div class="margin-view-overlays" role="presentation" aria-hidden="true" style="position: absolute; font-family: monospace, Consolas, &quot;Courier New&quot;, monospace; font-weight: normal; font-size: 14px; font-feature-settings: &quot;liga&quot; 0, &quot;calt&quot; 0; font-variation-settings: normal; line-height: 19px; letter-spacing: 0px; width: 6px; height: 162px;"><div style="position:absolute;top:0px;width:100%;height:19px;"></div><div style="position:absolute;top:19px;width:100%;height:19px;"></div><div style="position:absolute;top:38px;width:100%;height:19px;"></div><div style="position:absolute;top:57px;width:100%;height:19px;"></div><div style="position:absolute;top:76px;width:100%;height:19px;"></div><div style="position:absolute;top:95px;width:100%;height:19px;"></div><div style="position:absolute;top:114px;width:100%;height:19px;"></div><div style="position:absolute;top:133px;width:100%;height:19px;"><div class="current-line current-line-margin-both" style="width:6px; height:19px;"></div></div></div><div class="glyph-margin-widgets" style="position: absolute; top: 0px;"></div></div><div class="monaco-scrollable-element editor-scrollable vs" role="presentation" data-mprt="5" style="position: absolute; overflow: hidden; left: 6px; width: 332px; height: 162px;"><div class="lines-content monaco-editor-background" style="position: absolute; overflow: hidden; width: 1e+06px; height: 162px; contain: strict; will-change: unset; top: 0px; left: 0px;"><div class="view-overlays" role="presentation" aria-hidden="true" style="position: absolute; font-family: monospace, Consolas, &quot;Courier New&quot;, monospace; font-weight: normal; font-size: 14px; font-feature-settings: &quot;liga&quot; 0, &quot;calt&quot; 0; font-variation-settings: normal; line-height: 19px; letter-spacing: 0px; height: 0px; width: 332px;"><div style="position:absolute;top:0px;width:100%;height:19px;"></div><div style="position:absolute;top:19px;width:100%;height:19px;"></div><div style="position:absolute;top:38px;width:100%;height:19px;"></div><div style="position:absolute;top:57px;width:100%;height:19px;"></div><div style="position:absolute;top:76px;width:100%;height:19px;"></div><div style="position:absolute;top:95px;width:100%;height:19px;"></div><div style="position:absolute;top:114px;width:100%;height:19px;"></div><div style="position:absolute;top:133px;width:100%;height:19px;"><div class="current-line" style="width:332px; height:19px;"></div></div></div><div role="presentation" aria-hidden="true" class="view-rulers"><div class="view-ruler" style="width: 2px; height: 162px; left: 615.938px;"></div></div><div class="view-zones" role="presentation" aria-hidden="true" style="position: absolute;"></div><div class="view-lines monaco-mouse-cursor-text" role="presentation" aria-hidden="true" data-mprt="7" style="position: absolute; font-family: monospace, Consolas, &quot;Courier New&quot;, monospace; font-weight: normal; font-size: 14px; font-feature-settings: &quot;liga&quot; 0, &quot;calt&quot; 0; font-variation-settings: normal; line-height: 19px; letter-spacing: 0px; width: 332px; height: 162px;"><div style="top:0px;height:19px;" class="view-line"><span><span class="mtk1">Kode&nbsp;di&nbsp;atas&nbsp;mengevaluasi&nbsp;kinerja&nbsp;model&nbsp;</span></span></div><div style="top:19px;height:19px;" class="view-line"><span><span class="mtk1">regresi&nbsp;linear&nbsp;dengan&nbsp;menghitung&nbsp;tiga&nbsp;</span></span></div><div style="top:38px;height:19px;" class="view-line"><span><span class="mtk1">metrik:&nbsp;MSE&nbsp;untuk&nbsp;mengukur&nbsp;rata-rata&nbsp;</span></span></div><div style="top:57px;height:19px;" class="view-line"><span><span class="mtk1">kesalahan&nbsp;kuadrat&nbsp;antara&nbsp;nilai&nbsp;asli&nbsp;dan&nbsp;</span></span></div><div style="top:76px;height:19px;" class="view-line"><span><span class="mtk1">prediksi,&nbsp;MAE&nbsp;untuk&nbsp;mengukur&nbsp;rata-rata&nbsp;</span></span></div><div style="top:95px;height:19px;" class="view-line"><span><span class="mtk1">selisih&nbsp;absolut&nbsp;antara&nbsp;keduanya,&nbsp;dan&nbsp;R²&nbsp;</span></span></div><div style="top:114px;height:19px;" class="view-line"><span><span class="mtk1">untuk&nbsp;menunjukkan&nbsp;seberapa&nbsp;baik&nbsp;model&nbsp;</span></span></div><div style="top:133px;height:19px;" class="view-line"><span><span class="mtk1">menjelaskan&nbsp;variabilitas&nbsp;data.</span></span></div></div><div data-mprt="1" class="contentWidgets" style="position: absolute; top: 0px;"><div class="lightBulbWidget codicon codicon-light-bulb" widgetid="LightBulbWidget" title="Show Code Actions (Ctrl+.)" style="position: absolute; display: none; visibility: hidden; max-width: 332px;"></div></div><div role="presentation" aria-hidden="true" class="cursors-layer cursor-line-style cursor-solid"><div class="cursor monaco-mouse-cursor-text " style="height: 19px; top: 133px; left: 230px; font-family: monospace, Consolas, &quot;Courier New&quot;, monospace; font-weight: normal; font-size: 14px; font-feature-settings: &quot;liga&quot; 0, &quot;calt&quot; 0; font-variation-settings: normal; line-height: 19px; letter-spacing: 0px; display: block; visibility: hidden; padding-left: 1px; width: 2px;"></div></div></div><div role="presentation" aria-hidden="true" class="invisible scrollbar horizontal" style="position: absolute; width: 318px; height: 10px; left: 0px; bottom: 0px;"><div class="slider" style="position: absolute; top: 0px; left: 0px; height: 10px; transform: translate3d(0px, 0px, 0px); contain: strict; will-change: unset; width: 318px;"></div></div><canvas class="decorationsOverviewRuler" aria-hidden="true" width="21" height="243" style="position: absolute; transform: translate3d(0px, 0px, 0px); contain: strict; top: 0px; right: 0px; width: 14px; height: 162px; will-change: unset; display: block;"></canvas><div role="presentation" aria-hidden="true" class="invisible scrollbar vertical" style="position: absolute; width: 14px; height: 162px; right: 0px; top: 0px;"><div class="slider" style="position: absolute; top: 0px; left: 0px; width: 14px; transform: translate3d(0px, 0px, 0px); contain: strict; will-change: unset; height: 162px;"></div></div></div><div role="presentation" aria-hidden="true" style="width: 338px;"></div><textarea data-mprt="6" class="inputarea monaco-mouse-cursor-text" wrap="on" autocorrect="off" autocapitalize="off" autocomplete="off" spellcheck="false" aria-label="Editor content;Press Alt+F1 for Accessibility Options." tabindex="0" role="textbox" aria-roledescription="editor" aria-multiline="true" aria-haspopup="false" aria-autocomplete="both" style="tab-size: 15.3984px; font-family: monospace, Consolas, &quot;Courier New&quot;, monospace; font-weight: normal; font-size: 14px; font-feature-settings: &quot;liga&quot; 0, &quot;calt&quot; 0; font-variation-settings: normal; line-height: 19px; letter-spacing: 0px; top: 133px; left: 6px; width: 316px; height: 1px;"></textarea><div style="position: absolute; top: 0px; left: 0px; width: 0px; height: 0px;" class="monaco-editor-background textAreaCover"></div><div data-mprt="4" class="overlayWidgets" style="width: 338px;"></div><div data-mprt="8" class="minimap slider-mouseover" role="presentation" aria-hidden="true" style="position: absolute; left: 0px; width: 0px; height: 162px;"><div class="minimap-shadow-hidden" style="height: 162px;"></div><canvas width="0" height="243" style="position: absolute; left: 0px; width: 0px; height: 162px;"></canvas><canvas class="minimap-decorations-layer" width="0" height="243" style="position: absolute; left: 0px; width: 0px; height: 162px;"></canvas><div class="minimap-slider" style="position: absolute; transform: translate3d(0px, 0px, 0px); contain: strict; width: 0px; will-change: unset;"><div class="minimap-slider-horizontal" style="position: absolute; width: 0px; height: 0px;"></div></div></div><div role="presentation" aria-hidden="true" class="blockDecorations-container"></div></div><div data-mprt="2" class="overflowingContentWidgets" style="display: none;"><div class="inlineSuggestionsHints withBorder" widgetid="InlineSuggestionHintsContentWidget54" style="position: fixed; display: none; visibility: hidden; max-width: 680px;"><div style="display: flex;"><div class="custom-actions"><div class="monaco-action-bar animated"><ul class="actions-container" role="toolbar"><li class="action-item disabled" role="presentation" title="Previous (Alt+[)"><a class="action-label codicon codicon-inline-suggestion-hints-previous disabled" role="button" aria-label="Previous (Alt+[)" aria-checked="" aria-disabled="true" tabindex="0"></a></li><li class="action-item disabled" role="presentation" title=""><a class="action-label disabled" role="button" aria-label="" aria-disabled="true" aria-checked=""></a></li><li class="action-item disabled" role="presentation" title="Next (Alt+])"><a class="action-label codicon codicon-inline-suggestion-hints-next disabled" role="button" aria-label="Next (Alt+])" aria-checked="" aria-disabled="true"></a></li></ul></div></div><div><div class="monaco-toolbar"><div class="monaco-action-bar animated"><ul class="actions-container" role="toolbar"><li class="action-item disabled menu-entry" role="presentation" title="Accept (Tab)"><a class="action-label inlineSuggestionStatusBarItemLabel disabled" role="button" aria-label="Accept (Tab)" aria-disabled="true" aria-checked="" tabindex="0">Accept<div class="keybinding"><div class="monaco-keybinding"><span class="monaco-keybinding-key">Tab</span></div></div></a></li><li class="action-item disabled menu-entry" role="presentation" title="Accept Word (Ctrl+RightArrow)"><a class="action-label inlineSuggestionStatusBarItemLabel disabled" role="button" aria-label="Accept Word (Ctrl+RightArrow)" aria-disabled="true" aria-checked="">Accept Word<div class="keybinding"><div class="monaco-keybinding"><span class="monaco-keybinding-key">Ctrl</span><span class="monaco-keybinding-key-separator">+</span><span class="monaco-keybinding-key">RightArrow</span></div></div></a></li><li class="action-item" role="presentation"><div class="monaco-dropdown"><div class="dropdown-label"><a class="action-label codicon codicon-toolbar-more" role="button" aria-haspopup="true" aria-expanded="false" title="More Actions..." aria-label="More Actions..."></a></div></div></li></ul></div></div></div></div></div><div widgetid="editor.contrib.resizableContentHoverWidget" style="position: fixed; height: 10px; width: 10px; z-index: 50; display: none; visibility: hidden; max-width: 680px;"><div class="monaco-sash vertical" style="left: 8px;"></div><div class="monaco-sash vertical" style="left: -2px;"></div><div class="monaco-sash orthogonal-edge-north horizontal" style="top: -2px;"><div class="orthogonal-drag-handle start"></div><div class="orthogonal-drag-handle end"></div></div><div class="monaco-sash orthogonal-edge-south horizontal" style="top: 8px;"><div class="orthogonal-drag-handle start"></div><div class="orthogonal-drag-handle end"></div></div><div class="monaco-hover hidden" role="tooltip" tabindex="0"><div class="monaco-scrollable-element " role="presentation" style="position: relative; overflow: hidden;"><div class="monaco-hover-content" style="overflow: hidden; font-size: 14px; line-height: 1.35714; max-width: 500px; max-height: 250px;"></div><div role="presentation" aria-hidden="true" class="invisible scrollbar horizontal" style="position: absolute;"><div class="slider" style="position: absolute; top: 0px; left: 0px; height: 10px; transform: translate3d(0px, 0px, 0px); contain: strict;"></div></div><div role="presentation" aria-hidden="true" class="invisible scrollbar vertical" style="position: absolute;"><div class="slider" style="position: absolute; top: 0px; left: 0px; width: 10px; transform: translate3d(0px, 0px, 0px); contain: strict;"></div></div><div class="shadow"></div><div class="shadow"></div><div class="shadow"></div></div></div></div></div><div class=".in-cell-overflowing"><div widgetid="editor.contrib.quickInputWidget" style="position: absolute; top: 0px; right: 50%;"></div></div></div></div></div>
        <div class="text-top-div">
          <div class="markdown"><span><p>Kode di atas mengevaluasi kinerja model regresi linear dengan menghitung tiga metrik: MSE untuk mengukur rata-rata kesalahan kuadrat antara nilai asli dan prediksi, MAE untuk mengukur rata-rata selisih absolut antara keduanya, dan R² untuk menunjukkan seberapa baik model menjelaskan variabilitas data.</p>
</span></div>
        </div>
      </div>

      <div class="section-header" style="display: none;">
        <colab-run-button><template shadowrootmode="open"><!----> <div class="cell-execution">
      <button id="run-button" aria-label="Run cell" aria-disabled="false">
        <!--?lit$160999733$--><span class="execution-count"><!--?lit$160999733$-->[ ]</span>
        <span aria-hidden="true" class="cell-execution-indicator"><!--?lit$160999733$-->
<svg xmlns="http://www.w3.org/2000/svg" viewBox="0 0 24 24">
  <!--?lit$160999733$-->
  <mask id="playSymbolMask">
    <rect width="100%" height="100%" fill="white"></rect>
    <polygon points="10,8 17,12 10,16" fill="black"></polygon>
  </mask>
  <circle cx="12" cy="12" r="7.8" mask="url(#playSymbolMask)" id="filledCircle"></circle>
</svg></span>
      </button>
      <!--?lit$160999733$-->
      <!--?lit$160999733$--><!--?-->
    </div></template></colab-run-button>
        <div class="section-header-container" title="click to expand">
          <md-icon aria-hidden="true"><template shadowrootmode="open"><!----><slot></slot></template>subdirectory_arrow_right</md-icon>
          <span>0 cells hidden</span>
        </div>
      </div></div></div><div class="add-cell">
      <div class="add-cell-buttons">
        <md-outlined-button class="add-code add-button" data-aria-label="Add code cell
Ctrl+M B" title="Add code cell
Ctrl+M B" value="" has-icon=""><template shadowrootmode="open" shadowrootdelegatesfocus><!---->
      <!--?lit$160999733$--><div class="outline"></div>
      <div class="background"></div>
      <md-focus-ring part="focus-ring" for="button" aria-hidden="true"><template shadowrootmode="open"><!----></template></md-focus-ring>
      <md-ripple part="ripple" for="button" aria-hidden="true"><template shadowrootmode="open"><!----><div class="surface"></div></template></md-ripple>
      <!--?lit$160999733$--><button id="button" class="button" aria-label="Add code cell
Ctrl+M B">
      <!--?lit$160999733$-->
      <span class="touch"></span>
      <!--?lit$160999733$--><slot name="icon"></slot>
      <span class="label"><slot></slot></span>
      <!--?lit$160999733$-->
    
    </button>
    </template>
          <md-icon slot="icon" aria-hidden="true"><template shadowrootmode="open"><!----><slot></slot></template>add</md-icon>
          <!--?lit$160999733$-->Code
        </md-outlined-button>
        <md-outlined-button class="add-text add-button" data-aria-label="Add text cell" title="Add text cell" value="" has-icon=""><template shadowrootmode="open" shadowrootdelegatesfocus><!---->
      <!--?lit$160999733$--><div class="outline"></div>
      <div class="background"></div>
      <md-focus-ring part="focus-ring" for="button" aria-hidden="true"><template shadowrootmode="open"><!----></template></md-focus-ring>
      <md-ripple part="ripple" for="button" aria-hidden="true"><template shadowrootmode="open"><!----><div class="surface   "></div></template></md-ripple>
      <!--?lit$160999733$--><button id="button" class="button" aria-label="Add text cell">
      <!--?lit$160999733$-->
      <span class="touch"></span>
      <!--?lit$160999733$--><slot name="icon"></slot>
      <span class="label"><slot></slot></span>
      <!--?lit$160999733$-->
    
    </button>
    </template>
          <md-icon slot="icon" aria-hidden="true"><template shadowrootmode="open"><!----><slot></slot></template>add</md-icon>
          <!--?lit$160999733$-->Text
        </md-outlined-button>
        <!--?lit$160999733$-->
      </div><hr>
    </div></div><div class="cell code icon-scrolling code-has-output" id="cell-CErUMDK4rd31" role="region" aria-label="Cell 24: Code cell: " style="opacity: 1;" tabindex="-1"><div class="agent-focus-label">
      <md-icon aria-hidden="true"><template shadowrootmode="open"><!----><slot></slot></template>spark</md-icon>
      <!--?lit$160999733$-->Gemini
    </div><div class="cell-tag-editor sticky"></div><div class="cell-toolbar sticky"></div><div class="main-content" elevation="0"><div class="cell-contents"><div class="cell-mask"></div><span class="imported-info-area"></span><div class="codecell-input-output">
      <div class="inputarea horizontal layout code">
        <div class="cell-gutter">
          <!-- Bounding range for vertical scrolling of icons -->
          <div class="cell-execution-container">
            <colab-run-button><template shadowrootmode="open"><!----> <div class="cell-execution">
      <button id="run-button" aria-describedby="run-button-tooltip" aria-label="Run cell" aria-disabled="false">
        <!--?lit$160999733$--><span class="execution-count"><!--?lit$160999733$-->[18]</span>
        <span aria-hidden="true" class="cell-execution-indicator"><!--?lit$160999733$-->
<svg xmlns="http://www.w3.org/2000/svg" viewBox="0 0 24 24">
  <!--?lit$160999733$-->
  <mask id="playSymbolMask">
    <rect width="100%" height="100%" fill="white"></rect>
    <polygon points="10,8 17,12 10,16" fill="black"></polygon>
  </mask>
  <circle cx="12" cy="12" r="7.8" mask="url(#playSymbolMask)" id="filledCircle"></circle>
</svg></span>
      </button>
      <!--?lit$160999733$--><colab-tooltip-trigger for="run-button" id="run-button-tooltip" aria-hidden="true" message="Run cell (Ctrl+Enter)
cell executed since last change

executed by Sabita Alya P
10:52 PM (0 minutes ago)
executed in 0.299s"><template shadowrootmode="open"><!----><!--?lit$160999733$--><!----><div><!--?lit$160999733$-->Run cell (Ctrl+Enter)</div><!----><!----><div><!--?lit$160999733$-->cell executed since last change</div><!----><!----><br><!----><!----><div><!--?lit$160999733$-->executed by Sabita Alya P</div><!----><!----><div><!--?lit$160999733$-->10:52 PM (0 minutes ago)</div><!----><!----><div><!--?lit$160999733$-->executed in 0.299s</div><!----><!--?--></template>
    </colab-tooltip-trigger>
      <!--?lit$160999733$--><div id="status" class="last-run">
      <md-icon aria-hidden="true"><template shadowrootmode="open"><!----><slot></slot></template><!--?lit$160999733$--><svg viewBox="0 0 24 24"><!--?lit$160999733$--><path d="M9 16.17L4.83 12l-1.42 1.41L9 19 21 7l-1.41-1.41z"></path></svg></md-icon>
      <div><!--?lit$160999733$-->0s</div>
    </div>
    </div></template></colab-run-button>
          </div>
        </div>
      <div class="editor flex lazy-editor" style=""><pre class="lazy-virtualized" style="font-size: 14px; line-height: 19px;"><pre class="lazy-gutter"></pre><pre class="monaco-colorized colab colab colab colab" data-lang="notebook-python"><span><span class="mtk8">#&nbsp;Visualisasi&nbsp;Polynomial&nbsp;Regression</span></span><br><span><span class="mtk1">poly_reg&nbsp;=&nbsp;PolynomialFeatures(degree&nbsp;=&nbsp;</span><span class="mtk12">2</span><span class="mtk1">)</span></span><br><span><span class="mtk1">X_poly&nbsp;=&nbsp;poly_reg.fit_transform(X)</span></span><br><span><span class="mtk1">lin_reg_2&nbsp;=&nbsp;LinearRegression()</span></span><br><span><span class="mtk1">lin_reg_2.fit(X_poly,&nbsp;Y)</span></span><br><span><span class="mtk1">plt.scatter(X[</span><span class="mtk26">"Ville&nbsp;(L/100&nbsp;km)"</span><span class="mtk1">],&nbsp;Y,&nbsp;color=</span><span class="mtk26">'red'</span><span class="mtk1">)</span></span><br><span><span class="mtk1">plt.plot(X[</span><span class="mtk26">"Ville&nbsp;(L/100&nbsp;km)"</span><span class="mtk1">],&nbsp;lin_reg_2.predict(poly_reg.fit_transform(X)),&nbsp;c</span><span class="mtk1">olor=</span><span class="mtk26">'blue'</span><span class="mtk1">)</span></span><br><span><span class="mtk1">plt.title(</span><span class="mtk6">f</span><span class="mtk26">'Polynomial&nbsp;Regression&nbsp;(Degree&nbsp;</span><span class="mtk1">{poly_reg.degree}</span><span class="mtk26">)'</span><span class="mtk1">)&nbsp;</span><span class="mtk8">#&nbsp;Use&nbsp;poly_reg.degree&nbsp;to&nbsp;access&nbsp;the&nbsp;degree&nbsp;value</span></span><br><span><span class="mtk1">plt.xlabel(</span><span class="mtk26">'Ville&nbsp;(L/100&nbsp;km)'</span><span class="mtk1">)</span></span><br><span><span class="mtk1">plt.ylabel(</span><span class="mtk26">'Emisi&nbsp;CO2&nbsp;(g/km)'</span><span class="mtk1">)</span></span><br><span><span class="mtk1">plt.show()</span></span><br></pre><colab-read-only-cell-placeholder style="display: none;"><template shadowrootmode="open"><!----><div><!--?lit$160999733$-->Start coding or <span role="button" class="link" tabindex="0">generate</span> with AI.</div></template></colab-read-only-cell-placeholder></pre></div><colab-form class="formview vertical layout flex"><div class="widget-area vertical layout"></div></colab-form></div>
    <div class="output" aria-label="Cell 24 output" role="region"><!----> <div class="output-header"> </div>
        <div class="output-content">
          <div class="output-info"><colab-output-info><template shadowrootmode="open"><!----><md-icon-button data-aria-expanded="false" data-aria-haspopup="menu" aria-describedby="button-output-actions-tooltip" data-aria-label="Code cell output actions" id="button-output-actions" value=""><template shadowrootmode="open" shadowrootdelegatesfocus><!----><button id="button" class="icon-button  standard " aria-label="Code cell output actions" aria-haspopup="menu" aria-expanded="false">
        <!--?lit$160999733$--><md-focus-ring part="focus-ring" for="button" aria-hidden="true"><template shadowrootmode="open"><!----></template></md-focus-ring>
        <!--?lit$160999733$--><md-ripple aria-hidden="true"><template shadowrootmode="open"><!----><div class="surface"></div></template></md-ripple>
        <!--?lit$160999733$--><span class="icon"><slot></slot></span>
        <!--?lit$160999733$-->
        <!--?lit$160999733$--><span class="touch"></span>
  </button></template>
        <md-icon aria-hidden="true"><template shadowrootmode="open"><!----><slot></slot></template><!--?lit$160999733$--><svg viewBox="0 0 24 24"><!--?lit$160999733$--><path d="m15.9 3.07c-4.32 0.0742-8.64-0.0355-13 0.0568-1.37 0.307-1.74 2.1-1.41 3.26 0.469 0.606 1.86 0.384 1.66-0.525 0.0448-0.329-0.183-0.93 0.354-0.766h13.3v1.53h1.71c0.0709-1.13 0.141-2.62-0.968-3.3-0.511-0.264-1.11-0.252-1.67-0.259zm2.94 6.84v4.87c1.62-1.62 3.24-3.24 4.87-4.87h-4.87zm0 0h-1.71v3.43l1.57 1.57c0.32-1.65 0.0556-3.34 0.135-5zm-1.71 3.43v-3.43h-3.43c1.14 1.14 2.29 2.29 3.43 3.43zm1.4 4.27h-1.71v1.48h-13.6v-1.48h-1.71c-0.0473 1.15-0.16 2.72 1.09 3.29 1.47 0.506 3.02 0.0265 4.53 0.192 3.34-0.0051 6.68 0.0336 10-0.0245 1.49-0.366 1.56-2.22 1.42-3.45zm-10.1-1.12c-0.398-0.483-0.796-0.967-1.19-1.45 0.59-0.683 1.18-1.37 1.77-2.05h-8.67v-2h8.67c-0.59-0.683-1.18-1.37-1.77-2.05 0.398-0.483 0.796-0.967 1.19-1.45 1.28 1.5 2.56 3 3.84 4.5-1.28 1.5-2.56 3-3.84 4.5z"></path></svg></md-icon>
      </md-icon-button>
      <colab-tooltip-trigger aria-hidden="true" id="button-output-actions-tooltip" for="button-output-actions" message="Code cell output actions"><template shadowrootmode="open"><!----><!--?lit$160999733$--><!----><div><!--?lit$160999733$-->Code cell output actions</div><!----><!--?--></template></colab-tooltip-trigger></template></colab-output-info></div>
          <div class="output-iframe-container">
            <div class="output-iframe-sizer" style="min-height: 0px;"> <div><div class="outputview" style="height: 472px;"><colab-dom-lifecycle-events style="display: none;"></colab-dom-lifecycle-events><iframe allow="accelerometer; autoplay; gyroscope; magnetometer; xr-spatial-tracking; clipboard-write" sandbox="allow-downloads allow-forms allow-pointer-lock allow-popups allow-popups-to-escape-sandbox allow-same-origin allow-scripts allow-storage-access-by-user-activation allow-modals" src="./AVD_TGS1_files/outputframe(3).html" class="" style="height: 472px;"></iframe></div></div></div>
          </div>
        </div></div></div><colab-cell-next-steps><template shadowrootmode="open"><!----></template></colab-cell-next-steps></div></div><div class="add-cell">
      <div class="add-cell-buttons">
        <md-outlined-button class="add-code add-button" data-aria-label="Add code cell
Ctrl+M B" title="Add code cell
Ctrl+M B" value="" has-icon=""><template shadowrootmode="open" shadowrootdelegatesfocus><!---->
      <!--?lit$160999733$--><div class="outline"></div>
      <div class="background"></div>
      <md-focus-ring part="focus-ring" for="button" aria-hidden="true"><template shadowrootmode="open"><!----></template></md-focus-ring>
      <md-ripple part="ripple" for="button" aria-hidden="true"><template shadowrootmode="open"><!----><div class="surface"></div></template></md-ripple>
      <!--?lit$160999733$--><button id="button" class="button" aria-label="Add code cell
Ctrl+M B">
      <!--?lit$160999733$-->
      <span class="touch"></span>
      <!--?lit$160999733$--><slot name="icon"></slot>
      <span class="label"><slot></slot></span>
      <!--?lit$160999733$-->
    
    </button>
    </template>
          <md-icon slot="icon" aria-hidden="true"><template shadowrootmode="open"><!----><slot></slot></template>add</md-icon>
          <!--?lit$160999733$-->Code
        </md-outlined-button>
        <md-outlined-button class="add-text add-button" data-aria-label="Add text cell" title="Add text cell" value="" has-icon=""><template shadowrootmode="open" shadowrootdelegatesfocus><!---->
      <!--?lit$160999733$--><div class="outline"></div>
      <div class="background"></div>
      <md-focus-ring part="focus-ring" for="button" aria-hidden="true"><template shadowrootmode="open"><!----></template></md-focus-ring>
      <md-ripple part="ripple" for="button" aria-hidden="true"><template shadowrootmode="open"><!----><div class="surface"></div></template></md-ripple>
      <!--?lit$160999733$--><button id="button" class="button" aria-label="Add text cell">
      <!--?lit$160999733$-->
      <span class="touch"></span>
      <!--?lit$160999733$--><slot name="icon"></slot>
      <span class="label"><slot></slot></span>
      <!--?lit$160999733$-->
    
    </button>
    </template>
          <md-icon slot="icon" aria-hidden="true"><template shadowrootmode="open"><!----><slot></slot></template>add</md-icon>
          <!--?lit$160999733$-->Text
        </md-outlined-button>
        <!--?lit$160999733$-->
      </div><hr>
    </div></div><div class="cell text" id="cell-mAH2ephEsZOp" role="region" aria-label="Cell 25: Text cell: " style="opacity: 1;" tabindex="-1"><div class="agent-focus-label">
      <md-icon aria-hidden="true"><template shadowrootmode="open"><!----><slot></slot></template>spark</md-icon>
      <!--?lit$160999733$-->Gemini
    </div><div class="cell-tag-editor sticky"></div><div class="cell-toolbar sticky"></div><div class="main-content" elevation="0"><div class="cell-contents"><div class="cell-mask"></div><span class="imported-info-area"></span><!----> <div class="toolbar-root"><div class="markdown-toolbar"><!----><!--?lit$160999733$--><!----><md-icon-button id="markdown-toolbar-header-mAH2ephEsZOp" class="markdown-toolbar-header" aria-describedby="markdown-toolbar-header-mAH2ephEsZOp-tooltip" data-aria-label="Toggle heading" value=""><template shadowrootmode="open" shadowrootdelegatesfocus><!----><button id="button" class="icon-button  standard " aria-label="Toggle heading">
        <!--?lit$160999733$--><md-focus-ring part="focus-ring" for="button" aria-hidden="true"><template shadowrootmode="open"><!----></template></md-focus-ring>
        <!--?lit$160999733$--><md-ripple aria-hidden="true"><template shadowrootmode="open"><!----><div class="surface   "></div></template></md-ripple>
        <!--?lit$160999733$--><span class="icon"><slot></slot></span>
        <!--?lit$160999733$-->
        <!--?lit$160999733$--><span class="touch"></span>
  </button></template>
        <!--?lit$160999733$--><md-icon aria-hidden="true"><template shadowrootmode="open"><!----><slot></slot></template><!--?lit$160999733$-->format_size</md-icon>
      </md-icon-button>
      <colab-tooltip-trigger aria-hidden="true" for="markdown-toolbar-header-mAH2ephEsZOp" id="markdown-toolbar-header-mAH2ephEsZOp-tooltip" message="Toggle heading"><template shadowrootmode="open"><!----><!--?lit$160999733$--><!----><div><!--?lit$160999733$-->Toggle heading</div><!----><!--?--></template></colab-tooltip-trigger><!----><!----><md-icon-button id="markdown-toolbar-bold-mAH2ephEsZOp" class="markdown-toolbar-bold" aria-describedby="markdown-toolbar-bold-mAH2ephEsZOp-tooltip" data-aria-label="Bold" value=""><template shadowrootmode="open" shadowrootdelegatesfocus><!----><button id="button" class="icon-button  standard " aria-label="Bold">
        <!--?lit$160999733$--><md-focus-ring part="focus-ring" for="button" aria-hidden="true"><template shadowrootmode="open"><!----></template></md-focus-ring>
        <!--?lit$160999733$--><md-ripple aria-hidden="true"><template shadowrootmode="open"><!----><div class="surface   "></div></template></md-ripple>
        <!--?lit$160999733$--><span class="icon"><slot></slot></span>
        <!--?lit$160999733$-->
        <!--?lit$160999733$--><span class="touch"></span>
  </button></template>
        <!--?lit$160999733$--><md-icon aria-hidden="true"><template shadowrootmode="open"><!----><slot></slot></template><!--?lit$160999733$-->format_bold</md-icon>
      </md-icon-button>
      <colab-tooltip-trigger aria-hidden="true" for="markdown-toolbar-bold-mAH2ephEsZOp" id="markdown-toolbar-bold-mAH2ephEsZOp-tooltip" message="Bold"><template shadowrootmode="open"><!----><!--?lit$160999733$--><!----><div><!--?lit$160999733$-->Bold</div><!----><!--?--></template></colab-tooltip-trigger><!----><!----><md-icon-button id="markdown-toolbar-italic-mAH2ephEsZOp" class="markdown-toolbar-italic" aria-describedby="markdown-toolbar-italic-mAH2ephEsZOp-tooltip" data-aria-label="Italicize" value=""><template shadowrootmode="open" shadowrootdelegatesfocus><!----><button id="button" class="icon-button  standard " aria-label="Italicize">
        <!--?lit$160999733$--><md-focus-ring part="focus-ring" for="button" aria-hidden="true"><template shadowrootmode="open"><!----></template></md-focus-ring>
        <!--?lit$160999733$--><md-ripple aria-hidden="true"><template shadowrootmode="open"><!----><div class="surface"></div></template></md-ripple>
        <!--?lit$160999733$--><span class="icon"><slot></slot></span>
        <!--?lit$160999733$-->
        <!--?lit$160999733$--><span class="touch"></span>
  </button></template>
        <!--?lit$160999733$--><md-icon aria-hidden="true"><template shadowrootmode="open"><!----><slot></slot></template><!--?lit$160999733$-->format_italic</md-icon>
      </md-icon-button>
      <colab-tooltip-trigger aria-hidden="true" for="markdown-toolbar-italic-mAH2ephEsZOp" id="markdown-toolbar-italic-mAH2ephEsZOp-tooltip" message="Italicize"><template shadowrootmode="open"><!----><!--?lit$160999733$--><!----><div><!--?lit$160999733$-->Italicize</div><!----><!--?--></template></colab-tooltip-trigger><!----><!----><md-icon-button id="markdown-toolbar-code-mAH2ephEsZOp" class="markdown-toolbar-code" aria-describedby="markdown-toolbar-code-mAH2ephEsZOp-tooltip" data-aria-label="Format as code" value=""><template shadowrootmode="open" shadowrootdelegatesfocus><!----><button id="button" class="icon-button  standard " aria-label="Format as code">
        <!--?lit$160999733$--><md-focus-ring part="focus-ring" for="button" aria-hidden="true"><template shadowrootmode="open"><!----></template></md-focus-ring>
        <!--?lit$160999733$--><md-ripple aria-hidden="true"><template shadowrootmode="open"><!----><div class="surface   "></div></template></md-ripple>
        <!--?lit$160999733$--><span class="icon"><slot></slot></span>
        <!--?lit$160999733$-->
        <!--?lit$160999733$--><span class="touch"></span>
  </button></template>
        <!--?lit$160999733$--><md-icon aria-hidden="true"><template shadowrootmode="open"><!----><slot></slot></template><!--?lit$160999733$-->code</md-icon>
      </md-icon-button>
      <colab-tooltip-trigger aria-hidden="true" for="markdown-toolbar-code-mAH2ephEsZOp" id="markdown-toolbar-code-mAH2ephEsZOp-tooltip" message="Format as code"><template shadowrootmode="open"><!----><!--?lit$160999733$--><!----><div><!--?lit$160999733$-->Format as code</div><!----><!--?--></template></colab-tooltip-trigger><!----><!----><md-icon-button id="markdown-toolbar-link-mAH2ephEsZOp" class="markdown-toolbar-link" aria-describedby="markdown-toolbar-link-mAH2ephEsZOp-tooltip" data-aria-label="Insert link" value=""><template shadowrootmode="open" shadowrootdelegatesfocus><!----><button id="button" class="icon-button  standard " aria-label="Insert link">
        <!--?lit$160999733$--><md-focus-ring part="focus-ring" for="button" aria-hidden="true"><template shadowrootmode="open"><!----></template></md-focus-ring>
        <!--?lit$160999733$--><md-ripple aria-hidden="true"><template shadowrootmode="open"><!----><div class="surface   "></div></template></md-ripple>
        <!--?lit$160999733$--><span class="icon"><slot></slot></span>
        <!--?lit$160999733$-->
        <!--?lit$160999733$--><span class="touch"></span>
  </button></template>
        <!--?lit$160999733$--><md-icon aria-hidden="true"><template shadowrootmode="open"><!----><slot></slot></template><!--?lit$160999733$-->link</md-icon>
      </md-icon-button>
      <colab-tooltip-trigger aria-hidden="true" for="markdown-toolbar-link-mAH2ephEsZOp" id="markdown-toolbar-link-mAH2ephEsZOp-tooltip" message="Insert link"><template shadowrootmode="open"><!----><!--?lit$160999733$--><!----><div><!--?lit$160999733$-->Insert link</div><!----><!--?--></template></colab-tooltip-trigger><!----><!----><label for="markdown-image-input-mAH2ephEsZOp" class="colab-icon markdown-toolbar-insert-image">
        <md-ripple aria-hidden="true"><template shadowrootmode="open"><!----><div class="surface   "></div></template></md-ripple>
        <span role="button" id="markdown-toolbar-insert-image-mAH2ephEsZOp" aria-describedby="markdown-toolbar-insert-image-mAH2ephEsZOp-tooltip" aria-label="Insert image" tabindex="0">
          <md-focus-ring aria-hidden="true"><template shadowrootmode="open"><!----></template></md-focus-ring>
          <md-icon aria-hidden="true"><template shadowrootmode="open"><!----><slot></slot></template>image</md-icon>
        </span>
        <colab-tooltip-trigger aria-hidden="true" for="markdown-toolbar-insert-image-mAH2ephEsZOp" id="markdown-toolbar-insert-image-mAH2ephEsZOp-tooltip" message="Insert image"><template shadowrootmode="open"><!----><!--?lit$160999733$--><!----><div><!--?lit$160999733$-->Insert image</div><!----><!--?--></template></colab-tooltip-trigger>
      </label>
      <input class="markdown-image-input" type="file" multiple="" accept="image/*" id="markdown-image-input-mAH2ephEsZOp"><!----><!----><md-icon-button id="markdown-toolbar-blockquote-mAH2ephEsZOp" class="markdown-toolbar-blockquote" aria-describedby="markdown-toolbar-blockquote-mAH2ephEsZOp-tooltip" data-aria-label="Add blockquote" value=""><template shadowrootmode="open" shadowrootdelegatesfocus><!----><button id="button" class="icon-button  standard " aria-label="Add blockquote">
        <!--?lit$160999733$--><md-focus-ring part="focus-ring" for="button" aria-hidden="true"><template shadowrootmode="open"><!----></template></md-focus-ring>
        <!--?lit$160999733$--><md-ripple aria-hidden="true"><template shadowrootmode="open"><!----><div class="surface   "></div></template></md-ripple>
        <!--?lit$160999733$--><span class="icon"><slot></slot></span>
        <!--?lit$160999733$-->
        <!--?lit$160999733$--><span class="touch"></span>
  </button></template>
        <!--?lit$160999733$--><md-icon aria-hidden="true"><template shadowrootmode="open"><!----><slot></slot></template><!--?lit$160999733$-->format_quote</md-icon>
      </md-icon-button>
      <colab-tooltip-trigger aria-hidden="true" for="markdown-toolbar-blockquote-mAH2ephEsZOp" id="markdown-toolbar-blockquote-mAH2ephEsZOp-tooltip" message="Add blockquote"><template shadowrootmode="open"><!----><!--?lit$160999733$--><!----><div><!--?lit$160999733$-->Add blockquote</div><!----><!--?--></template></colab-tooltip-trigger><!----><!----><md-icon-button id="markdown-toolbar-ol-mAH2ephEsZOp" class="markdown-toolbar-ol" aria-describedby="markdown-toolbar-ol-mAH2ephEsZOp-tooltip" data-aria-label="Add numbered list" value=""><template shadowrootmode="open" shadowrootdelegatesfocus><!----><button id="button" class="icon-button  standard " aria-label="Add numbered list">
        <!--?lit$160999733$--><md-focus-ring part="focus-ring" for="button" aria-hidden="true"><template shadowrootmode="open"><!----></template></md-focus-ring>
        <!--?lit$160999733$--><md-ripple aria-hidden="true"><template shadowrootmode="open"><!----><div class="surface   "></div></template></md-ripple>
        <!--?lit$160999733$--><span class="icon"><slot></slot></span>
        <!--?lit$160999733$-->
        <!--?lit$160999733$--><span class="touch"></span>
  </button></template>
        <!--?lit$160999733$--><md-icon aria-hidden="true"><template shadowrootmode="open"><!----><slot></slot></template><!--?lit$160999733$-->format_list_numbered</md-icon>
      </md-icon-button>
      <colab-tooltip-trigger aria-hidden="true" for="markdown-toolbar-ol-mAH2ephEsZOp" id="markdown-toolbar-ol-mAH2ephEsZOp-tooltip" message="Add numbered list"><template shadowrootmode="open"><!----><!--?lit$160999733$--><!----><div><!--?lit$160999733$-->Add numbered list</div><!----><!--?--></template></colab-tooltip-trigger><!----><!----><md-icon-button id="markdown-toolbar-ul-mAH2ephEsZOp" class="markdown-toolbar-ul" aria-describedby="markdown-toolbar-ul-mAH2ephEsZOp-tooltip" data-aria-label="Add bulleted list" value=""><template shadowrootmode="open" shadowrootdelegatesfocus><!----><button id="button" class="icon-button  standard " aria-label="Add bulleted list">
        <!--?lit$160999733$--><md-focus-ring part="focus-ring" for="button" aria-hidden="true"><template shadowrootmode="open"><!----></template></md-focus-ring>
        <!--?lit$160999733$--><md-ripple aria-hidden="true"><template shadowrootmode="open"><!----><div class="surface   "></div></template></md-ripple>
        <!--?lit$160999733$--><span class="icon"><slot></slot></span>
        <!--?lit$160999733$-->
        <!--?lit$160999733$--><span class="touch"></span>
  </button></template>
        <!--?lit$160999733$--><md-icon aria-hidden="true"><template shadowrootmode="open"><!----><slot></slot></template><!--?lit$160999733$-->format_list_bulleted</md-icon>
      </md-icon-button>
      <colab-tooltip-trigger aria-hidden="true" for="markdown-toolbar-ul-mAH2ephEsZOp" id="markdown-toolbar-ul-mAH2ephEsZOp-tooltip" message="Add bulleted list"><template shadowrootmode="open"><!----><!--?lit$160999733$--><!----><div><!--?lit$160999733$-->Add bulleted list</div><!----><!--?--></template></colab-tooltip-trigger><!----><!----><md-icon-button id="markdown-toolbar-hr-mAH2ephEsZOp" class="markdown-toolbar-hr" aria-describedby="markdown-toolbar-hr-mAH2ephEsZOp-tooltip" data-aria-label="Add horizontal rule" value=""><template shadowrootmode="open" shadowrootdelegatesfocus><!----><button id="button" class="icon-button  standard " aria-label="Add horizontal rule">
        <!--?lit$160999733$--><md-focus-ring part="focus-ring" for="button" aria-hidden="true"><template shadowrootmode="open"><!----></template></md-focus-ring>
        <!--?lit$160999733$--><md-ripple aria-hidden="true"><template shadowrootmode="open"><!----><div class="surface   "></div></template></md-ripple>
        <!--?lit$160999733$--><span class="icon"><slot></slot></span>
        <!--?lit$160999733$-->
        <!--?lit$160999733$--><span class="touch"></span>
  </button></template>
        <!--?lit$160999733$--><md-icon aria-hidden="true"><template shadowrootmode="open"><!----><slot></slot></template><!--?lit$160999733$-->horizontal_rule</md-icon>
      </md-icon-button>
      <colab-tooltip-trigger aria-hidden="true" for="markdown-toolbar-hr-mAH2ephEsZOp" id="markdown-toolbar-hr-mAH2ephEsZOp-tooltip" message="Add horizontal rule"><template shadowrootmode="open"><!----><!--?lit$160999733$--><!----><div><!--?lit$160999733$-->Add horizontal rule</div><!----><!--?--></template></colab-tooltip-trigger><!----><!----><md-icon-button id="markdown-toolbar-latex-mAH2ephEsZOp" class="markdown-toolbar-latex" aria-describedby="markdown-toolbar-latex-mAH2ephEsZOp-tooltip" data-aria-label="LaTeX" value=""><template shadowrootmode="open" shadowrootdelegatesfocus><!----><button id="button" class="icon-button  standard " aria-label="LaTeX">
        <!--?lit$160999733$--><md-focus-ring part="focus-ring" for="button" aria-hidden="true"><template shadowrootmode="open"><!----></template></md-focus-ring>
        <!--?lit$160999733$--><md-ripple aria-hidden="true"><template shadowrootmode="open"><!----><div class="surface   "></div></template></md-ripple>
        <!--?lit$160999733$--><span class="icon"><slot></slot></span>
        <!--?lit$160999733$-->
        <!--?lit$160999733$--><span class="touch"></span>
  </button></template>
        <!--?lit$160999733$--><span aria-hidden="true">ψ</span>
      </md-icon-button>
      <colab-tooltip-trigger aria-hidden="true" for="markdown-toolbar-latex-mAH2ephEsZOp" id="markdown-toolbar-latex-mAH2ephEsZOp-tooltip" message="LaTeX"><template shadowrootmode="open"><!----><!--?lit$160999733$--><!----><div><!--?lit$160999733$-->LaTeX</div><!----><!--?--></template></colab-tooltip-trigger><!----><!----><md-icon-button id="markdown-toolbar-emoji-mAH2ephEsZOp" class="markdown-toolbar-emoji" aria-describedby="markdown-toolbar-emoji-mAH2ephEsZOp-tooltip" data-aria-label="Insert emoji" value=""><template shadowrootmode="open" shadowrootdelegatesfocus><!----><button id="button" class="icon-button  standard " aria-label="Insert emoji">
        <!--?lit$160999733$--><md-focus-ring part="focus-ring" for="button" aria-hidden="true"><template shadowrootmode="open"><!----></template></md-focus-ring>
        <!--?lit$160999733$--><md-ripple aria-hidden="true"><template shadowrootmode="open"><!----><div class="surface   "></div></template></md-ripple>
        <!--?lit$160999733$--><span class="icon"><slot></slot></span>
        <!--?lit$160999733$-->
        <!--?lit$160999733$--><span class="touch"></span>
  </button></template>
        <!--?lit$160999733$--><md-icon aria-hidden="true"><template shadowrootmode="open"><!----><slot></slot></template><!--?lit$160999733$-->mood</md-icon>
      </md-icon-button>
      <colab-tooltip-trigger aria-hidden="true" for="markdown-toolbar-emoji-mAH2ephEsZOp" id="markdown-toolbar-emoji-mAH2ephEsZOp-tooltip" message="Insert emoji"><template shadowrootmode="open"><!----><!--?lit$160999733$--><!----><div><!--?lit$160999733$-->Insert emoji</div><!----><!--?--></template></colab-tooltip-trigger><!----><!----><md-icon-button id="markdown-toolbar-preview-mAH2ephEsZOp" class="markdown-toolbar-preview" aria-describedby="markdown-toolbar-preview-mAH2ephEsZOp-tooltip" data-aria-label="Reposition markdown preview" value=""><template shadowrootmode="open" shadowrootdelegatesfocus><!----><button id="button" class="icon-button  standard " aria-label="Reposition markdown preview">
        <!--?lit$160999733$--><md-focus-ring part="focus-ring" for="button" aria-hidden="true"><template shadowrootmode="open"><!----></template></md-focus-ring>
        <!--?lit$160999733$--><md-ripple aria-hidden="true"><template shadowrootmode="open"><!----><div class="surface   "></div></template></md-ripple>
        <!--?lit$160999733$--><span class="icon"><slot></slot></span>
        <!--?lit$160999733$-->
        <!--?lit$160999733$--><span class="touch"></span>
  </button></template>
        <!--?lit$160999733$--><md-icon aria-hidden="true"><template shadowrootmode="open"><!----><slot></slot></template><!--?lit$160999733$--><svg viewBox="0 0 24 24"><!--?lit$160999733$--><g id="markdown-preview-below">
  <rect width="20" height="18" x="2" y="2" rx="2" ry="2" style="fill:none;stroke:var(--colab-icon-color)"></rect>
  <line x1="4.5" y1="13" x2="19.5" y2="13" style="stroke:var(--colab-primary-text-color);stroke-dasharray:2"></line>
  <line x1="2.5" y1="4" x2="21.5" y2="4" style="stroke:var(--colab-icon-color);stroke-width:3px;"></line>
</g></svg></md-icon>
      </md-icon-button>
      <colab-tooltip-trigger aria-hidden="true" for="markdown-toolbar-preview-mAH2ephEsZOp" id="markdown-toolbar-preview-mAH2ephEsZOp-tooltip" message="Reposition markdown preview"><template shadowrootmode="open"><!----><!--?lit$160999733$--><!----><div><!--?lit$160999733$-->Reposition markdown preview</div><!----><!--?--></template></colab-tooltip-trigger><!----><!--?--></div></div>
      <div class="editor-container horizontal">
        <div class="editor-root"><div class="editor flex monaco" data-keybinding-context="58" data-mode-id="markdown" style="height: 200px; --vscode-editorCodeLens-lineHeight: 16px; --vscode-editorCodeLens-fontSize: 12px; --vscode-editorCodeLens-fontFeatureSettings: &quot;liga&quot; off, &quot;calt&quot; off; display: none;"><div class="monaco-editor no-user-select  showUnused showDeprecated vs" role="code" data-uri="inmemory://model/28" style="width: 338px; height: 200px;"><div data-mprt="3" class="overflow-guard" style="width: 338px; height: 200px; overflow: clip;"><div class="margin" role="presentation" aria-hidden="true" style="position: absolute; contain: strict; will-change: unset; top: 0px; height: 200px; width: 6px;"><div class="glyph-margin" style="left: 0px; width: 0px; height: 200px;"></div><div class="margin-view-zones" role="presentation" aria-hidden="true" style="position: absolute;"></div><div class="margin-view-overlays" role="presentation" aria-hidden="true" style="position: absolute; font-family: monospace, Consolas, &quot;Courier New&quot;, monospace; font-weight: normal; font-size: 14px; font-feature-settings: &quot;liga&quot; 0, &quot;calt&quot; 0; font-variation-settings: normal; line-height: 19px; letter-spacing: 0px; width: 6px; height: 200px;"><div style="position:absolute;top:0px;width:100%;height:19px;"></div><div style="position:absolute;top:19px;width:100%;height:19px;"></div><div style="position:absolute;top:38px;width:100%;height:19px;"></div><div style="position:absolute;top:57px;width:100%;height:19px;"></div><div style="position:absolute;top:76px;width:100%;height:19px;"></div><div style="position:absolute;top:95px;width:100%;height:19px;"></div><div style="position:absolute;top:114px;width:100%;height:19px;"></div><div style="position:absolute;top:133px;width:100%;height:19px;"></div><div style="position:absolute;top:152px;width:100%;height:19px;"></div><div style="position:absolute;top:171px;width:100%;height:19px;"><div class="current-line current-line-margin-both" style="width:6px; height:19px;"></div></div></div><div class="glyph-margin-widgets" style="position: absolute; top: 0px;"></div></div><div class="monaco-scrollable-element editor-scrollable vs" role="presentation" data-mprt="5" style="position: absolute; overflow: hidden; left: 6px; width: 332px; height: 200px;"><div class="lines-content monaco-editor-background" style="position: absolute; overflow: hidden; width: 1e+06px; height: 200px; contain: strict; will-change: unset; top: 0px; left: 0px;"><div class="view-overlays" role="presentation" aria-hidden="true" style="position: absolute; font-family: monospace, Consolas, &quot;Courier New&quot;, monospace; font-weight: normal; font-size: 14px; font-feature-settings: &quot;liga&quot; 0, &quot;calt&quot; 0; font-variation-settings: normal; line-height: 19px; letter-spacing: 0px; height: 0px; width: 332px;"><div style="position:absolute;top:0px;width:100%;height:19px;"></div><div style="position:absolute;top:19px;width:100%;height:19px;"></div><div style="position:absolute;top:38px;width:100%;height:19px;"></div><div style="position:absolute;top:57px;width:100%;height:19px;"></div><div style="position:absolute;top:76px;width:100%;height:19px;"></div><div style="position:absolute;top:95px;width:100%;height:19px;"></div><div style="position:absolute;top:114px;width:100%;height:19px;"></div><div style="position:absolute;top:133px;width:100%;height:19px;"></div><div style="position:absolute;top:152px;width:100%;height:19px;"></div><div style="position:absolute;top:171px;width:100%;height:19px;"><div class="current-line" style="width:332px; height:19px;"></div></div></div><div role="presentation" aria-hidden="true" class="view-rulers"><div class="view-ruler" style="width: 2px; height: 200px; left: 615.938px;"></div></div><div class="view-zones" role="presentation" aria-hidden="true" style="position: absolute;"></div><div class="view-lines monaco-mouse-cursor-text" role="presentation" aria-hidden="true" data-mprt="7" style="position: absolute; font-family: monospace, Consolas, &quot;Courier New&quot;, monospace; font-weight: normal; font-size: 14px; font-feature-settings: &quot;liga&quot; 0, &quot;calt&quot; 0; font-variation-settings: normal; line-height: 19px; letter-spacing: 0px; width: 332px; height: 200px;"><div style="top:0px;height:19px;" class="view-line"><span><span class="mtk1">Kode&nbsp;di&nbsp;atas&nbsp;menampilkan&nbsp;visualisasi&nbsp;</span></span></div><div style="top:19px;height:19px;" class="view-line"><span><span class="mtk1">regresi&nbsp;polinomial&nbsp;dengan&nbsp;derajat&nbsp;2&nbsp;</span></span></div><div style="top:38px;height:19px;" class="view-line"><span><span class="mtk1">untuk&nbsp;memodelkan&nbsp;hubungan&nbsp;antara&nbsp;</span></span></div><div style="top:57px;height:19px;" class="view-line"><span><span class="mtk1">konsumsi&nbsp;bahan&nbsp;bakar&nbsp;di&nbsp;kota&nbsp;dan&nbsp;emisi&nbsp;</span></span></div><div style="top:76px;height:19px;" class="view-line"><span><span class="mtk1">CO2.&nbsp;Titik&nbsp;merah&nbsp;mewakili&nbsp;data&nbsp;asli,&nbsp;</span></span></div><div style="top:95px;height:19px;" class="view-line"><span><span class="mtk1">sedangkan&nbsp;garis&nbsp;biru&nbsp;menunjukkan&nbsp;kurva&nbsp;</span></span></div><div style="top:114px;height:19px;" class="view-line"><span><span class="mtk1">yang&nbsp;diprediksi&nbsp;oleh&nbsp;model&nbsp;polinomial.&nbsp;</span></span></div><div style="top:133px;height:19px;" class="view-line"><span><span class="mtk1">Kurva&nbsp;ini&nbsp;menangkap&nbsp;pola&nbsp;non-linear&nbsp;</span></span></div><div style="top:152px;height:19px;" class="view-line"><span><span class="mtk1">dalam&nbsp;data&nbsp;dengan&nbsp;lebih&nbsp;baik&nbsp;</span></span></div><div style="top:171px;height:19px;" class="view-line"><span><span class="mtk1">dibandingkan&nbsp;regresi&nbsp;linear&nbsp;sederhana.</span></span></div></div><div data-mprt="1" class="contentWidgets" style="position: absolute; top: 0px;"><div class="lightBulbWidget codicon codicon-light-bulb" widgetid="LightBulbWidget" title="Show Code Actions (Ctrl+.)" style="position: absolute; display: none; visibility: hidden; max-width: 332px;"></div></div><div role="presentation" aria-hidden="true" class="cursors-layer cursor-line-style cursor-solid"><div class="cursor monaco-mouse-cursor-text " style="height: 19px; top: 171px; left: 292px; font-family: monospace, Consolas, &quot;Courier New&quot;, monospace; font-weight: normal; font-size: 14px; font-feature-settings: &quot;liga&quot; 0, &quot;calt&quot; 0; font-variation-settings: normal; line-height: 19px; letter-spacing: 0px; display: block; visibility: hidden; padding-left: 1px; width: 2px;"></div></div></div><div role="presentation" aria-hidden="true" class="invisible scrollbar horizontal" style="position: absolute; width: 318px; height: 10px; left: 0px; bottom: 0px;"><div class="slider" style="position: absolute; top: 0px; left: 0px; height: 10px; transform: translate3d(0px, 0px, 0px); contain: strict; will-change: unset; width: 318px;"></div></div><canvas class="decorationsOverviewRuler" aria-hidden="true" width="21" height="300" style="position: absolute; transform: translate3d(0px, 0px, 0px); contain: strict; top: 0px; right: 0px; width: 14px; height: 200px; will-change: unset; display: block;"></canvas><div role="presentation" aria-hidden="true" class="invisible scrollbar vertical" style="position: absolute; width: 14px; height: 200px; right: 0px; top: 0px;"><div class="slider" style="position: absolute; top: 0px; left: 0px; width: 14px; transform: translate3d(0px, 0px, 0px); contain: strict; will-change: unset; height: 200px;"></div></div></div><div role="presentation" aria-hidden="true" style="width: 338px;"></div><textarea data-mprt="6" class="inputarea monaco-mouse-cursor-text" wrap="on" autocorrect="off" autocapitalize="off" autocomplete="off" spellcheck="false" aria-label="Editor content;Press Alt+F1 for Accessibility Options." tabindex="0" role="textbox" aria-roledescription="editor" aria-multiline="true" aria-haspopup="false" aria-autocomplete="both" style="tab-size: 15.3984px; font-family: monospace, Consolas, &quot;Courier New&quot;, monospace; font-weight: normal; font-size: 14px; font-feature-settings: &quot;liga&quot; 0, &quot;calt&quot; 0; font-variation-settings: normal; line-height: 19px; letter-spacing: 0px; top: 171px; left: 6px; width: 316px; height: 1px;"></textarea><div style="position: absolute; top: 0px; left: 0px; width: 0px; height: 0px;" class="monaco-editor-background textAreaCover"></div><div data-mprt="4" class="overlayWidgets" style="width: 338px;"></div><div data-mprt="8" class="minimap slider-mouseover" role="presentation" aria-hidden="true" style="position: absolute; left: 0px; width: 0px; height: 200px;"><div class="minimap-shadow-hidden" style="height: 200px;"></div><canvas width="0" height="300" style="position: absolute; left: 0px; width: 0px; height: 200px;"></canvas><canvas class="minimap-decorations-layer" width="0" height="300" style="position: absolute; left: 0px; width: 0px; height: 200px;"></canvas><div class="minimap-slider" style="position: absolute; transform: translate3d(0px, 0px, 0px); contain: strict; width: 0px; will-change: unset;"><div class="minimap-slider-horizontal" style="position: absolute; width: 0px; height: 0px;"></div></div></div><div role="presentation" aria-hidden="true" class="blockDecorations-container"></div></div><div data-mprt="2" class="overflowingContentWidgets" style="display: none;"><div class="inlineSuggestionsHints withBorder" widgetid="InlineSuggestionHintsContentWidget56" style="position: fixed; display: none; visibility: hidden; max-width: 680px;"><div style="display: flex;"><div class="custom-actions"><div class="monaco-action-bar animated"><ul class="actions-container" role="toolbar"><li class="action-item disabled" role="presentation" title="Previous (Alt+[)"><a class="action-label codicon codicon-inline-suggestion-hints-previous disabled" role="button" aria-label="Previous (Alt+[)" aria-checked="" aria-disabled="true" tabindex="0"></a></li><li class="action-item disabled" role="presentation" title=""><a class="action-label disabled" role="button" aria-label="" aria-disabled="true" aria-checked=""></a></li><li class="action-item disabled" role="presentation" title="Next (Alt+])"><a class="action-label codicon codicon-inline-suggestion-hints-next disabled" role="button" aria-label="Next (Alt+])" aria-checked="" aria-disabled="true"></a></li></ul></div></div><div><div class="monaco-toolbar"><div class="monaco-action-bar animated"><ul class="actions-container" role="toolbar"><li class="action-item disabled menu-entry" role="presentation" title="Accept (Tab)"><a class="action-label inlineSuggestionStatusBarItemLabel disabled" role="button" aria-label="Accept (Tab)" aria-disabled="true" aria-checked="" tabindex="0">Accept<div class="keybinding"><div class="monaco-keybinding"><span class="monaco-keybinding-key">Tab</span></div></div></a></li><li class="action-item disabled menu-entry" role="presentation" title="Accept Word (Ctrl+RightArrow)"><a class="action-label inlineSuggestionStatusBarItemLabel disabled" role="button" aria-label="Accept Word (Ctrl+RightArrow)" aria-disabled="true" aria-checked="">Accept Word<div class="keybinding"><div class="monaco-keybinding"><span class="monaco-keybinding-key">Ctrl</span><span class="monaco-keybinding-key-separator">+</span><span class="monaco-keybinding-key">RightArrow</span></div></div></a></li><li class="action-item" role="presentation"><div class="monaco-dropdown"><div class="dropdown-label"><a class="action-label codicon codicon-toolbar-more" role="button" aria-haspopup="true" aria-expanded="false" title="More Actions..." aria-label="More Actions..."></a></div></div></li></ul></div></div></div></div></div><div widgetid="editor.contrib.resizableContentHoverWidget" style="position: fixed; height: 10px; width: 10px; z-index: 50; display: none; visibility: hidden; max-width: 680px;"><div class="monaco-sash vertical" style="left: 8px;"></div><div class="monaco-sash vertical" style="left: -2px;"></div><div class="monaco-sash orthogonal-edge-north horizontal" style="top: -2px;"><div class="orthogonal-drag-handle start"></div><div class="orthogonal-drag-handle end"></div></div><div class="monaco-sash orthogonal-edge-south horizontal" style="top: 8px;"><div class="orthogonal-drag-handle start"></div><div class="orthogonal-drag-handle end"></div></div><div class="monaco-hover hidden" role="tooltip" tabindex="0"><div class="monaco-scrollable-element " role="presentation" style="position: relative; overflow: hidden;"><div class="monaco-hover-content" style="overflow: hidden; font-size: 14px; line-height: 1.35714; max-width: 500px; max-height: 250px;"></div><div role="presentation" aria-hidden="true" class="invisible scrollbar horizontal" style="position: absolute;"><div class="slider" style="position: absolute; top: 0px; left: 0px; height: 10px; transform: translate3d(0px, 0px, 0px); contain: strict;"></div></div><div role="presentation" aria-hidden="true" class="invisible scrollbar vertical" style="position: absolute;"><div class="slider" style="position: absolute; top: 0px; left: 0px; width: 10px; transform: translate3d(0px, 0px, 0px); contain: strict;"></div></div><div class="shadow"></div><div class="shadow"></div><div class="shadow"></div></div></div></div></div><div class=".in-cell-overflowing"><div widgetid="editor.contrib.quickInputWidget" style="position: absolute; top: 0px; right: 50%;"></div></div></div></div></div>
        <div class="text-top-div">
          <div class="markdown"><span><p>Kode di atas menampilkan visualisasi regresi polinomial dengan derajat 2 untuk memodelkan hubungan antara konsumsi bahan bakar di kota dan emisi CO2. Titik merah mewakili data asli, sedangkan garis biru menunjukkan kurva yang diprediksi oleh model polinomial. Kurva ini menangkap pola non-linear dalam data dengan lebih baik dibandingkan regresi linear sederhana.</p>
</span></div>
        </div>
      </div>

      <div class="section-header" style="display: none;">
        <colab-run-button><template shadowrootmode="open"><!----> <div class="cell-execution">
      <button id="run-button" aria-label="Run cell" aria-disabled="false">
        <!--?lit$160999733$--><span class="execution-count"><!--?lit$160999733$-->[ ]</span>
        <span aria-hidden="true" class="cell-execution-indicator"><!--?lit$160999733$-->
<svg xmlns="http://www.w3.org/2000/svg" viewBox="0 0 24 24">
  <!--?lit$160999733$-->
  <mask id="playSymbolMask">
    <rect width="100%" height="100%" fill="white"></rect>
    <polygon points="10,8 17,12 10,16" fill="black"></polygon>
  </mask>
  <circle cx="12" cy="12" r="7.8" mask="url(#playSymbolMask)" id="filledCircle"></circle>
</svg></span>
      </button>
      <!--?lit$160999733$-->
      <!--?lit$160999733$--><!--?-->
    </div></template></colab-run-button>
        <div class="section-header-container" title="click to expand">
          <md-icon aria-hidden="true"><template shadowrootmode="open"><!----><slot></slot></template>subdirectory_arrow_right</md-icon>
          <span>0 cells hidden</span>
        </div>
      </div></div></div><div class="add-cell">
      <div class="add-cell-buttons">
        <md-outlined-button class="add-code add-button" data-aria-label="Add code cell
Ctrl+M B" title="Add code cell
Ctrl+M B" value="" has-icon=""><template shadowrootmode="open" shadowrootdelegatesfocus><!---->
      <!--?lit$160999733$--><div class="outline"></div>
      <div class="background"></div>
      <md-focus-ring part="focus-ring" for="button" aria-hidden="true"><template shadowrootmode="open"><!----></template></md-focus-ring>
      <md-ripple part="ripple" for="button" aria-hidden="true"><template shadowrootmode="open"><!----><div class="surface"></div></template></md-ripple>
      <!--?lit$160999733$--><button id="button" class="button" aria-label="Add code cell
Ctrl+M B">
      <!--?lit$160999733$-->
      <span class="touch"></span>
      <!--?lit$160999733$--><slot name="icon"></slot>
      <span class="label"><slot></slot></span>
      <!--?lit$160999733$-->
    
    </button>
    </template>
          <md-icon slot="icon" aria-hidden="true"><template shadowrootmode="open"><!----><slot></slot></template>add</md-icon>
          <!--?lit$160999733$-->Code
        </md-outlined-button>
        <md-outlined-button class="add-text add-button" data-aria-label="Add text cell" title="Add text cell" value="" has-icon=""><template shadowrootmode="open" shadowrootdelegatesfocus><!---->
      <!--?lit$160999733$--><div class="outline"></div>
      <div class="background"></div>
      <md-focus-ring part="focus-ring" for="button" aria-hidden="true"><template shadowrootmode="open"><!----></template></md-focus-ring>
      <md-ripple part="ripple" for="button" aria-hidden="true"><template shadowrootmode="open"><!----><div class="surface"></div></template></md-ripple>
      <!--?lit$160999733$--><button id="button" class="button" aria-label="Add text cell">
      <!--?lit$160999733$-->
      <span class="touch"></span>
      <!--?lit$160999733$--><slot name="icon"></slot>
      <span class="label"><slot></slot></span>
      <!--?lit$160999733$-->
    
    </button>
    </template>
          <md-icon slot="icon" aria-hidden="true"><template shadowrootmode="open"><!----><slot></slot></template>add</md-icon>
          <!--?lit$160999733$-->Text
        </md-outlined-button>
        <!--?lit$160999733$-->
      </div><hr>
    </div></div><div class="cell code icon-scrolling code-has-output" id="cell-BHsAjNyNsmW2" role="region" aria-label="Cell 26: Code cell: " style="opacity: 1;" tabindex="-1"><div class="agent-focus-label">
      <md-icon aria-hidden="true"><template shadowrootmode="open"><!----><slot></slot></template>spark</md-icon>
      <!--?lit$160999733$-->Gemini
    </div><div class="cell-tag-editor sticky"></div><div class="cell-toolbar sticky"></div><div class="main-content" elevation="0"><div class="cell-contents"><div class="cell-mask"></div><span class="imported-info-area"></span><div class="codecell-input-output">
      <div class="inputarea horizontal layout code">
        <div class="cell-gutter">
          <!-- Bounding range for vertical scrolling of icons -->
          <div class="cell-execution-container">
            <colab-run-button><template shadowrootmode="open"><!----> <div class="cell-execution hovered">
      <button id="run-button" aria-describedby="run-button-tooltip" aria-label="Run cell" aria-disabled="false">
        <!--?lit$160999733$--><span class="execution-count"><!--?lit$160999733$-->[19]</span>
        <span aria-hidden="true" class="cell-execution-indicator"><!--?lit$160999733$-->
<svg xmlns="http://www.w3.org/2000/svg" viewBox="0 0 24 24">
  <!--?lit$160999733$-->
  <mask id="playSymbolMask">
    <rect width="100%" height="100%" fill="white"></rect>
    <polygon points="10,8 17,12 10,16" fill="black"></polygon>
  </mask>
  <circle cx="12" cy="12" r="7.8" mask="url(#playSymbolMask)" id="filledCircle"></circle>
</svg></span>
      </button>
      <!--?lit$160999733$--><colab-tooltip-trigger for="run-button" id="run-button-tooltip" aria-hidden="true" message="Run cell (Ctrl+Enter)
cell executed since last change

executed by Sabita Alya P
10:53 PM (1 minute ago)
executed in 0.022s"><template shadowrootmode="open"><!----><!--?lit$160999733$--><!----><div><!--?lit$160999733$-->Run cell (Ctrl+Enter)</div><!----><!----><div><!--?lit$160999733$-->cell executed since last change</div><!----><!----><br><!----><!----><div><!--?lit$160999733$-->executed by Sabita Alya P</div><!----><!----><div><!--?lit$160999733$-->10:53 PM (1 minute ago)</div><!----><!----><div><!--?lit$160999733$-->executed in 0.022s</div><!----><!--?--></template>
    </colab-tooltip-trigger>
      <!--?lit$160999733$--><div id="status" class="last-run">
      <md-icon aria-hidden="true"><template shadowrootmode="open"><!----><slot></slot></template><!--?lit$160999733$--><svg viewBox="0 0 24 24"><!--?lit$160999733$--><path d="M9 16.17L4.83 12l-1.42 1.41L9 19 21 7l-1.41-1.41z"></path></svg></md-icon>
      <div><!--?lit$160999733$-->0s</div>
    </div>
    </div></template></colab-run-button>
          </div>
        </div>
      <div class="editor flex lazy-editor" style=""><pre class="lazy-virtualized" style="font-size: 14px; line-height: 19px;"><pre class="lazy-gutter"></pre><pre class="monaco-colorized colab colab colab colab" data-lang="notebook-python"><span><span class="mtk8">#&nbsp;Evaluasi&nbsp;model&nbsp;polynomial</span></span><br><span><span class="mtk1">Y_poly&nbsp;=&nbsp;lin_reg_2.predict(X_poly)</span></span><br><span><span class="mtk1">mse_poly&nbsp;=&nbsp;mean_squared_error(Y,&nbsp;Y_poly)</span></span><br><span><span class="mtk1">mae_poly&nbsp;=&nbsp;mean_absolute_error(Y,&nbsp;Y_poly)</span></span><br><span><span class="mtk1">r2_poly&nbsp;=&nbsp;r2_score(Y,&nbsp;Y_poly)</span></span><br><span><span class="mtk15">print</span><span class="mtk1">(</span><span class="mtk6">f</span><span class="mtk26">"Mean&nbsp;Squared&nbsp;Error&nbsp;(MSE&nbsp;Poly):&nbsp;</span><span class="mtk1">{mse_poly</span><span class="mtk12">:.4f</span><span class="mtk1">}</span><span class="mtk26">"</span><span class="mtk1">)</span></span><br><span><span class="mtk15">print</span><span class="mtk1">(</span><span class="mtk6">f</span><span class="mtk26">"Mean&nbsp;Absolute&nbsp;Error&nbsp;(MAE&nbsp;Poly):&nbsp;</span><span class="mtk1">{mae_poly</span><span class="mtk12">:.4f</span><span class="mtk1">}</span><span class="mtk26">"</span><span class="mtk1">)</span></span><br><span><span class="mtk15">print</span><span class="mtk1">(</span><span class="mtk6">f</span><span class="mtk26">"R-squared&nbsp;(R²&nbsp;Poly):&nbsp;</span><span class="mtk1">{r2_poly</span><span class="mtk12">:.4f</span><span class="mtk1">}</span><span class="mtk26">"</span><span class="mtk1">)</span></span><br></pre><colab-read-only-cell-placeholder style="display: none;"><template shadowrootmode="open"><!----><div><!--?lit$160999733$-->Start coding or <span role="button" class="link" tabindex="0">generate</span> with AI.</div></template></colab-read-only-cell-placeholder></pre></div><colab-form class="formview vertical layout flex"><div class="widget-area vertical layout"></div></colab-form></div>
    <div class="output" aria-label="Cell 26 output" role="region"><!----> <div class="output-header"> </div>
        <div class="output-content">
          <div class="output-info"><colab-output-info><template shadowrootmode="open"><!----><md-icon-button data-aria-expanded="false" data-aria-haspopup="menu" aria-describedby="button-output-actions-tooltip" data-aria-label="Code cell output actions" id="button-output-actions" value=""><template shadowrootmode="open" shadowrootdelegatesfocus><!----><button id="button" class="icon-button  standard " aria-label="Code cell output actions" aria-haspopup="menu" aria-expanded="false">
        <!--?lit$160999733$--><md-focus-ring part="focus-ring" for="button" aria-hidden="true"><template shadowrootmode="open"><!----></template></md-focus-ring>
        <!--?lit$160999733$--><md-ripple aria-hidden="true"><template shadowrootmode="open"><!----><div class="surface   "></div></template></md-ripple>
        <!--?lit$160999733$--><span class="icon"><slot></slot></span>
        <!--?lit$160999733$-->
        <!--?lit$160999733$--><span class="touch"></span>
  </button></template>
        <md-icon aria-hidden="true"><template shadowrootmode="open"><!----><slot></slot></template><!--?lit$160999733$--><svg viewBox="0 0 24 24"><!--?lit$160999733$--><path d="m15.9 3.07c-4.32 0.0742-8.64-0.0355-13 0.0568-1.37 0.307-1.74 2.1-1.41 3.26 0.469 0.606 1.86 0.384 1.66-0.525 0.0448-0.329-0.183-0.93 0.354-0.766h13.3v1.53h1.71c0.0709-1.13 0.141-2.62-0.968-3.3-0.511-0.264-1.11-0.252-1.67-0.259zm2.94 6.84v4.87c1.62-1.62 3.24-3.24 4.87-4.87h-4.87zm0 0h-1.71v3.43l1.57 1.57c0.32-1.65 0.0556-3.34 0.135-5zm-1.71 3.43v-3.43h-3.43c1.14 1.14 2.29 2.29 3.43 3.43zm1.4 4.27h-1.71v1.48h-13.6v-1.48h-1.71c-0.0473 1.15-0.16 2.72 1.09 3.29 1.47 0.506 3.02 0.0265 4.53 0.192 3.34-0.0051 6.68 0.0336 10-0.0245 1.49-0.366 1.56-2.22 1.42-3.45zm-10.1-1.12c-0.398-0.483-0.796-0.967-1.19-1.45 0.59-0.683 1.18-1.37 1.77-2.05h-8.67v-2h8.67c-0.59-0.683-1.18-1.37-1.77-2.05 0.398-0.483 0.796-0.967 1.19-1.45 1.28 1.5 2.56 3 3.84 4.5-1.28 1.5-2.56 3-3.84 4.5z"></path></svg></md-icon>
      </md-icon-button>
      <colab-tooltip-trigger aria-hidden="true" id="button-output-actions-tooltip" for="button-output-actions" message="Code cell output actions"><template shadowrootmode="open"><!----><!--?lit$160999733$--><!----><div><!--?lit$160999733$-->Code cell output actions</div><!----><!--?--></template></colab-tooltip-trigger></template></colab-output-info></div>
          <div class="output-iframe-container">
            <div class="output-iframe-sizer" style="min-height: 0px;"> <div><div><colab-static-output-renderer role="group" tabindex="0"><div><div class="stream output-id-1 output_text"><pre>Mean Squared Error (MSE Poly): 202.7943
Mean Absolute Error (MAE Poly): 9.0976
R-squared (R² Poly): 0.9521
</pre></div></div><div></div></colab-static-output-renderer></div></div></div>
          </div>
        </div></div></div><colab-cell-next-steps><template shadowrootmode="open"><!----></template></colab-cell-next-steps></div></div><div class="add-cell">
      <div class="add-cell-buttons">
        <md-outlined-button class="add-code add-button" data-aria-label="Add code cell
Ctrl+M B" title="Add code cell
Ctrl+M B" value="" has-icon=""><template shadowrootmode="open" shadowrootdelegatesfocus><!---->
      <!--?lit$160999733$--><div class="outline"></div>
      <div class="background"></div>
      <md-focus-ring part="focus-ring" for="button" aria-hidden="true"><template shadowrootmode="open"><!----></template></md-focus-ring>
      <md-ripple part="ripple" for="button" aria-hidden="true"><template shadowrootmode="open"><!----><div class="surface"></div></template></md-ripple>
      <!--?lit$160999733$--><button id="button" class="button" aria-label="Add code cell
Ctrl+M B">
      <!--?lit$160999733$-->
      <span class="touch"></span>
      <!--?lit$160999733$--><slot name="icon"></slot>
      <span class="label"><slot></slot></span>
      <!--?lit$160999733$-->
    
    </button>
    </template>
          <md-icon slot="icon" aria-hidden="true"><template shadowrootmode="open"><!----><slot></slot></template>add</md-icon>
          <!--?lit$160999733$-->Code
        </md-outlined-button>
        <md-outlined-button class="add-text add-button" data-aria-label="Add text cell" title="Add text cell" value="" has-icon=""><template shadowrootmode="open" shadowrootdelegatesfocus><!---->
      <!--?lit$160999733$--><div class="outline"></div>
      <div class="background"></div>
      <md-focus-ring part="focus-ring" for="button" aria-hidden="true"><template shadowrootmode="open"><!----></template></md-focus-ring>
      <md-ripple part="ripple" for="button" aria-hidden="true"><template shadowrootmode="open"><!----><div class="surface"></div></template></md-ripple>
      <!--?lit$160999733$--><button id="button" class="button" aria-label="Add text cell">
      <!--?lit$160999733$-->
      <span class="touch"></span>
      <!--?lit$160999733$--><slot name="icon"></slot>
      <span class="label"><slot></slot></span>
      <!--?lit$160999733$-->
    
    </button>
    </template>
          <md-icon slot="icon" aria-hidden="true"><template shadowrootmode="open"><!----><slot></slot></template>add</md-icon>
          <!--?lit$160999733$-->Text
        </md-outlined-button>
        <!--?lit$160999733$-->
      </div><hr>
    </div></div><div class="cell text" id="cell-4EJeEoVRssSp" role="region" aria-label="Cell 27: Text cell: " style="opacity: 1;" tabindex="-1"><div class="agent-focus-label">
      <md-icon aria-hidden="true"><template shadowrootmode="open"><!----><slot></slot></template>spark</md-icon>
      <!--?lit$160999733$-->Gemini
    </div><div class="cell-tag-editor sticky"></div><div class="cell-toolbar sticky"></div><div class="main-content" elevation="0"><div class="cell-contents"><div class="cell-mask"></div><span class="imported-info-area"></span><!----> <div class="toolbar-root"><div class="markdown-toolbar"><!----><!--?lit$160999733$--><!----><md-icon-button id="markdown-toolbar-header-4EJeEoVRssSp" class="markdown-toolbar-header" aria-describedby="markdown-toolbar-header-4EJeEoVRssSp-tooltip" data-aria-label="Toggle heading" value=""><template shadowrootmode="open" shadowrootdelegatesfocus><!----><button id="button" class="icon-button  standard " aria-label="Toggle heading">
        <!--?lit$160999733$--><md-focus-ring part="focus-ring" for="button" aria-hidden="true"><template shadowrootmode="open"><!----></template></md-focus-ring>
        <!--?lit$160999733$--><md-ripple aria-hidden="true"><template shadowrootmode="open"><!----><div class="surface   "></div></template></md-ripple>
        <!--?lit$160999733$--><span class="icon"><slot></slot></span>
        <!--?lit$160999733$-->
        <!--?lit$160999733$--><span class="touch"></span>
  </button></template>
        <!--?lit$160999733$--><md-icon aria-hidden="true"><template shadowrootmode="open"><!----><slot></slot></template><!--?lit$160999733$-->format_size</md-icon>
      </md-icon-button>
      <colab-tooltip-trigger aria-hidden="true" for="markdown-toolbar-header-4EJeEoVRssSp" id="markdown-toolbar-header-4EJeEoVRssSp-tooltip" message="Toggle heading"><template shadowrootmode="open"><!----><!--?lit$160999733$--><!----><div><!--?lit$160999733$-->Toggle heading</div><!----><!--?--></template></colab-tooltip-trigger><!----><!----><md-icon-button id="markdown-toolbar-bold-4EJeEoVRssSp" class="markdown-toolbar-bold" aria-describedby="markdown-toolbar-bold-4EJeEoVRssSp-tooltip" data-aria-label="Bold" value=""><template shadowrootmode="open" shadowrootdelegatesfocus><!----><button id="button" class="icon-button  standard " aria-label="Bold">
        <!--?lit$160999733$--><md-focus-ring part="focus-ring" for="button" aria-hidden="true"><template shadowrootmode="open"><!----></template></md-focus-ring>
        <!--?lit$160999733$--><md-ripple aria-hidden="true"><template shadowrootmode="open"><!----><div class="surface   "></div></template></md-ripple>
        <!--?lit$160999733$--><span class="icon"><slot></slot></span>
        <!--?lit$160999733$-->
        <!--?lit$160999733$--><span class="touch"></span>
  </button></template>
        <!--?lit$160999733$--><md-icon aria-hidden="true"><template shadowrootmode="open"><!----><slot></slot></template><!--?lit$160999733$-->format_bold</md-icon>
      </md-icon-button>
      <colab-tooltip-trigger aria-hidden="true" for="markdown-toolbar-bold-4EJeEoVRssSp" id="markdown-toolbar-bold-4EJeEoVRssSp-tooltip" message="Bold"><template shadowrootmode="open"><!----><!--?lit$160999733$--><!----><div><!--?lit$160999733$-->Bold</div><!----><!--?--></template></colab-tooltip-trigger><!----><!----><md-icon-button id="markdown-toolbar-italic-4EJeEoVRssSp" class="markdown-toolbar-italic" aria-describedby="markdown-toolbar-italic-4EJeEoVRssSp-tooltip" data-aria-label="Italicize" value=""><template shadowrootmode="open" shadowrootdelegatesfocus><!----><button id="button" class="icon-button  standard " aria-label="Italicize">
        <!--?lit$160999733$--><md-focus-ring part="focus-ring" for="button" aria-hidden="true"><template shadowrootmode="open"><!----></template></md-focus-ring>
        <!--?lit$160999733$--><md-ripple aria-hidden="true"><template shadowrootmode="open"><!----><div class="surface   "></div></template></md-ripple>
        <!--?lit$160999733$--><span class="icon"><slot></slot></span>
        <!--?lit$160999733$-->
        <!--?lit$160999733$--><span class="touch"></span>
  </button></template>
        <!--?lit$160999733$--><md-icon aria-hidden="true"><template shadowrootmode="open"><!----><slot></slot></template><!--?lit$160999733$-->format_italic</md-icon>
      </md-icon-button>
      <colab-tooltip-trigger aria-hidden="true" for="markdown-toolbar-italic-4EJeEoVRssSp" id="markdown-toolbar-italic-4EJeEoVRssSp-tooltip" message="Italicize"><template shadowrootmode="open"><!----><!--?lit$160999733$--><!----><div><!--?lit$160999733$-->Italicize</div><!----><!--?--></template></colab-tooltip-trigger><!----><!----><md-icon-button id="markdown-toolbar-code-4EJeEoVRssSp" class="markdown-toolbar-code" aria-describedby="markdown-toolbar-code-4EJeEoVRssSp-tooltip" data-aria-label="Format as code" value=""><template shadowrootmode="open" shadowrootdelegatesfocus><!----><button id="button" class="icon-button  standard " aria-label="Format as code">
        <!--?lit$160999733$--><md-focus-ring part="focus-ring" for="button" aria-hidden="true"><template shadowrootmode="open"><!----></template></md-focus-ring>
        <!--?lit$160999733$--><md-ripple aria-hidden="true"><template shadowrootmode="open"><!----><div class="surface   "></div></template></md-ripple>
        <!--?lit$160999733$--><span class="icon"><slot></slot></span>
        <!--?lit$160999733$-->
        <!--?lit$160999733$--><span class="touch"></span>
  </button></template>
        <!--?lit$160999733$--><md-icon aria-hidden="true"><template shadowrootmode="open"><!----><slot></slot></template><!--?lit$160999733$-->code</md-icon>
      </md-icon-button>
      <colab-tooltip-trigger aria-hidden="true" for="markdown-toolbar-code-4EJeEoVRssSp" id="markdown-toolbar-code-4EJeEoVRssSp-tooltip" message="Format as code"><template shadowrootmode="open"><!----><!--?lit$160999733$--><!----><div><!--?lit$160999733$-->Format as code</div><!----><!--?--></template></colab-tooltip-trigger><!----><!----><md-icon-button id="markdown-toolbar-link-4EJeEoVRssSp" class="markdown-toolbar-link" aria-describedby="markdown-toolbar-link-4EJeEoVRssSp-tooltip" data-aria-label="Insert link" value=""><template shadowrootmode="open" shadowrootdelegatesfocus><!----><button id="button" class="icon-button  standard " aria-label="Insert link">
        <!--?lit$160999733$--><md-focus-ring part="focus-ring" for="button" aria-hidden="true"><template shadowrootmode="open"><!----></template></md-focus-ring>
        <!--?lit$160999733$--><md-ripple aria-hidden="true"><template shadowrootmode="open"><!----><div class="surface"></div></template></md-ripple>
        <!--?lit$160999733$--><span class="icon"><slot></slot></span>
        <!--?lit$160999733$-->
        <!--?lit$160999733$--><span class="touch"></span>
  </button></template>
        <!--?lit$160999733$--><md-icon aria-hidden="true"><template shadowrootmode="open"><!----><slot></slot></template><!--?lit$160999733$-->link</md-icon>
      </md-icon-button>
      <colab-tooltip-trigger aria-hidden="true" for="markdown-toolbar-link-4EJeEoVRssSp" id="markdown-toolbar-link-4EJeEoVRssSp-tooltip" message="Insert link"><template shadowrootmode="open"><!----><!--?lit$160999733$--><!----><div><!--?lit$160999733$-->Insert link</div><!----><!--?--></template></colab-tooltip-trigger><!----><!----><label for="markdown-image-input-4EJeEoVRssSp" class="colab-icon markdown-toolbar-insert-image">
        <md-ripple aria-hidden="true"><template shadowrootmode="open"><!----><div class="surface"></div></template></md-ripple>
        <span role="button" id="markdown-toolbar-insert-image-4EJeEoVRssSp" aria-describedby="markdown-toolbar-insert-image-4EJeEoVRssSp-tooltip" aria-label="Insert image" tabindex="0">
          <md-focus-ring aria-hidden="true"><template shadowrootmode="open"><!----></template></md-focus-ring>
          <md-icon aria-hidden="true"><template shadowrootmode="open"><!----><slot></slot></template>image</md-icon>
        </span>
        <colab-tooltip-trigger aria-hidden="true" for="markdown-toolbar-insert-image-4EJeEoVRssSp" id="markdown-toolbar-insert-image-4EJeEoVRssSp-tooltip" message="Insert image"><template shadowrootmode="open"><!----><!--?lit$160999733$--><!----><div><!--?lit$160999733$-->Insert image</div><!----><!--?--></template></colab-tooltip-trigger>
      </label>
      <input class="markdown-image-input" type="file" multiple="" accept="image/*" id="markdown-image-input-4EJeEoVRssSp"><!----><!----><md-icon-button id="markdown-toolbar-blockquote-4EJeEoVRssSp" class="markdown-toolbar-blockquote" aria-describedby="markdown-toolbar-blockquote-4EJeEoVRssSp-tooltip" data-aria-label="Add blockquote" value=""><template shadowrootmode="open" shadowrootdelegatesfocus><!----><button id="button" class="icon-button  standard " aria-label="Add blockquote">
        <!--?lit$160999733$--><md-focus-ring part="focus-ring" for="button" aria-hidden="true"><template shadowrootmode="open"><!----></template></md-focus-ring>
        <!--?lit$160999733$--><md-ripple aria-hidden="true"><template shadowrootmode="open"><!----><div class="surface"></div></template></md-ripple>
        <!--?lit$160999733$--><span class="icon"><slot></slot></span>
        <!--?lit$160999733$-->
        <!--?lit$160999733$--><span class="touch"></span>
  </button></template>
        <!--?lit$160999733$--><md-icon aria-hidden="true"><template shadowrootmode="open"><!----><slot></slot></template><!--?lit$160999733$-->format_quote</md-icon>
      </md-icon-button>
      <colab-tooltip-trigger aria-hidden="true" for="markdown-toolbar-blockquote-4EJeEoVRssSp" id="markdown-toolbar-blockquote-4EJeEoVRssSp-tooltip" message="Add blockquote"><template shadowrootmode="open"><!----><!--?lit$160999733$--><!----><div><!--?lit$160999733$-->Add blockquote</div><!----><!--?--></template></colab-tooltip-trigger><!----><!----><md-icon-button id="markdown-toolbar-ol-4EJeEoVRssSp" class="markdown-toolbar-ol" aria-describedby="markdown-toolbar-ol-4EJeEoVRssSp-tooltip" data-aria-label="Add numbered list" value=""><template shadowrootmode="open" shadowrootdelegatesfocus><!----><button id="button" class="icon-button  standard " aria-label="Add numbered list">
        <!--?lit$160999733$--><md-focus-ring part="focus-ring" for="button" aria-hidden="true"><template shadowrootmode="open"><!----></template></md-focus-ring>
        <!--?lit$160999733$--><md-ripple aria-hidden="true"><template shadowrootmode="open"><!----><div class="surface   "></div></template></md-ripple>
        <!--?lit$160999733$--><span class="icon"><slot></slot></span>
        <!--?lit$160999733$-->
        <!--?lit$160999733$--><span class="touch"></span>
  </button></template>
        <!--?lit$160999733$--><md-icon aria-hidden="true"><template shadowrootmode="open"><!----><slot></slot></template><!--?lit$160999733$-->format_list_numbered</md-icon>
      </md-icon-button>
      <colab-tooltip-trigger aria-hidden="true" for="markdown-toolbar-ol-4EJeEoVRssSp" id="markdown-toolbar-ol-4EJeEoVRssSp-tooltip" message="Add numbered list"><template shadowrootmode="open"><!----><!--?lit$160999733$--><!----><div><!--?lit$160999733$-->Add numbered list</div><!----><!--?--></template></colab-tooltip-trigger><!----><!----><md-icon-button id="markdown-toolbar-ul-4EJeEoVRssSp" class="markdown-toolbar-ul" aria-describedby="markdown-toolbar-ul-4EJeEoVRssSp-tooltip" data-aria-label="Add bulleted list" value=""><template shadowrootmode="open" shadowrootdelegatesfocus><!----><button id="button" class="icon-button  standard " aria-label="Add bulleted list">
        <!--?lit$160999733$--><md-focus-ring part="focus-ring" for="button" aria-hidden="true"><template shadowrootmode="open"><!----></template></md-focus-ring>
        <!--?lit$160999733$--><md-ripple aria-hidden="true"><template shadowrootmode="open"><!----><div class="surface   "></div></template></md-ripple>
        <!--?lit$160999733$--><span class="icon"><slot></slot></span>
        <!--?lit$160999733$-->
        <!--?lit$160999733$--><span class="touch"></span>
  </button></template>
        <!--?lit$160999733$--><md-icon aria-hidden="true"><template shadowrootmode="open"><!----><slot></slot></template><!--?lit$160999733$-->format_list_bulleted</md-icon>
      </md-icon-button>
      <colab-tooltip-trigger aria-hidden="true" for="markdown-toolbar-ul-4EJeEoVRssSp" id="markdown-toolbar-ul-4EJeEoVRssSp-tooltip" message="Add bulleted list"><template shadowrootmode="open"><!----><!--?lit$160999733$--><!----><div><!--?lit$160999733$-->Add bulleted list</div><!----><!--?--></template></colab-tooltip-trigger><!----><!----><md-icon-button id="markdown-toolbar-hr-4EJeEoVRssSp" class="markdown-toolbar-hr" aria-describedby="markdown-toolbar-hr-4EJeEoVRssSp-tooltip" data-aria-label="Add horizontal rule" value=""><template shadowrootmode="open" shadowrootdelegatesfocus><!----><button id="button" class="icon-button  standard " aria-label="Add horizontal rule">
        <!--?lit$160999733$--><md-focus-ring part="focus-ring" for="button" aria-hidden="true"><template shadowrootmode="open"><!----></template></md-focus-ring>
        <!--?lit$160999733$--><md-ripple aria-hidden="true"><template shadowrootmode="open"><!----><div class="surface   "></div></template></md-ripple>
        <!--?lit$160999733$--><span class="icon"><slot></slot></span>
        <!--?lit$160999733$-->
        <!--?lit$160999733$--><span class="touch"></span>
  </button></template>
        <!--?lit$160999733$--><md-icon aria-hidden="true"><template shadowrootmode="open"><!----><slot></slot></template><!--?lit$160999733$-->horizontal_rule</md-icon>
      </md-icon-button>
      <colab-tooltip-trigger aria-hidden="true" for="markdown-toolbar-hr-4EJeEoVRssSp" id="markdown-toolbar-hr-4EJeEoVRssSp-tooltip" message="Add horizontal rule"><template shadowrootmode="open"><!----><!--?lit$160999733$--><!----><div><!--?lit$160999733$-->Add horizontal rule</div><!----><!--?--></template></colab-tooltip-trigger><!----><!----><md-icon-button id="markdown-toolbar-latex-4EJeEoVRssSp" class="markdown-toolbar-latex" aria-describedby="markdown-toolbar-latex-4EJeEoVRssSp-tooltip" data-aria-label="LaTeX" value=""><template shadowrootmode="open" shadowrootdelegatesfocus><!----><button id="button" class="icon-button  standard " aria-label="LaTeX">
        <!--?lit$160999733$--><md-focus-ring part="focus-ring" for="button" aria-hidden="true"><template shadowrootmode="open"><!----></template></md-focus-ring>
        <!--?lit$160999733$--><md-ripple aria-hidden="true"><template shadowrootmode="open"><!----><div class="surface   "></div></template></md-ripple>
        <!--?lit$160999733$--><span class="icon"><slot></slot></span>
        <!--?lit$160999733$-->
        <!--?lit$160999733$--><span class="touch"></span>
  </button></template>
        <!--?lit$160999733$--><span aria-hidden="true">ψ</span>
      </md-icon-button>
      <colab-tooltip-trigger aria-hidden="true" for="markdown-toolbar-latex-4EJeEoVRssSp" id="markdown-toolbar-latex-4EJeEoVRssSp-tooltip" message="LaTeX"><template shadowrootmode="open"><!----><!--?lit$160999733$--><!----><div><!--?lit$160999733$-->LaTeX</div><!----><!--?--></template></colab-tooltip-trigger><!----><!----><md-icon-button id="markdown-toolbar-emoji-4EJeEoVRssSp" class="markdown-toolbar-emoji" aria-describedby="markdown-toolbar-emoji-4EJeEoVRssSp-tooltip" data-aria-label="Insert emoji" value=""><template shadowrootmode="open" shadowrootdelegatesfocus><!----><button id="button" class="icon-button  standard " aria-label="Insert emoji">
        <!--?lit$160999733$--><md-focus-ring part="focus-ring" for="button" aria-hidden="true"><template shadowrootmode="open"><!----></template></md-focus-ring>
        <!--?lit$160999733$--><md-ripple aria-hidden="true"><template shadowrootmode="open"><!----><div class="surface   "></div></template></md-ripple>
        <!--?lit$160999733$--><span class="icon"><slot></slot></span>
        <!--?lit$160999733$-->
        <!--?lit$160999733$--><span class="touch"></span>
  </button></template>
        <!--?lit$160999733$--><md-icon aria-hidden="true"><template shadowrootmode="open"><!----><slot></slot></template><!--?lit$160999733$-->mood</md-icon>
      </md-icon-button>
      <colab-tooltip-trigger aria-hidden="true" for="markdown-toolbar-emoji-4EJeEoVRssSp" id="markdown-toolbar-emoji-4EJeEoVRssSp-tooltip" message="Insert emoji"><template shadowrootmode="open"><!----><!--?lit$160999733$--><!----><div><!--?lit$160999733$-->Insert emoji</div><!----><!--?--></template></colab-tooltip-trigger><!----><!----><md-icon-button id="markdown-toolbar-preview-4EJeEoVRssSp" class="markdown-toolbar-preview" aria-describedby="markdown-toolbar-preview-4EJeEoVRssSp-tooltip" data-aria-label="Reposition markdown preview" value=""><template shadowrootmode="open" shadowrootdelegatesfocus><!----><button id="button" class="icon-button  standard " aria-label="Reposition markdown preview">
        <!--?lit$160999733$--><md-focus-ring part="focus-ring" for="button" aria-hidden="true"><template shadowrootmode="open"><!----></template></md-focus-ring>
        <!--?lit$160999733$--><md-ripple aria-hidden="true"><template shadowrootmode="open"><!----><div class="surface   "></div></template></md-ripple>
        <!--?lit$160999733$--><span class="icon"><slot></slot></span>
        <!--?lit$160999733$-->
        <!--?lit$160999733$--><span class="touch"></span>
  </button></template>
        <!--?lit$160999733$--><md-icon aria-hidden="true"><template shadowrootmode="open"><!----><slot></slot></template><!--?lit$160999733$--><svg viewBox="0 0 24 24"><!--?lit$160999733$--><g id="markdown-preview-below">
  <rect width="20" height="18" x="2" y="2" rx="2" ry="2" style="fill:none;stroke:var(--colab-icon-color)"></rect>
  <line x1="4.5" y1="13" x2="19.5" y2="13" style="stroke:var(--colab-primary-text-color);stroke-dasharray:2"></line>
  <line x1="2.5" y1="4" x2="21.5" y2="4" style="stroke:var(--colab-icon-color);stroke-width:3px;"></line>
</g></svg></md-icon>
      </md-icon-button>
      <colab-tooltip-trigger aria-hidden="true" for="markdown-toolbar-preview-4EJeEoVRssSp" id="markdown-toolbar-preview-4EJeEoVRssSp-tooltip" message="Reposition markdown preview"><template shadowrootmode="open"><!----><!--?lit$160999733$--><!----><div><!--?lit$160999733$-->Reposition markdown preview</div><!----><!--?--></template></colab-tooltip-trigger><!----><!--?--></div></div>
      <div class="editor-container horizontal">
        <div class="editor-root"><div class="editor flex monaco" data-keybinding-context="60" data-mode-id="markdown" style="height: 200px; --vscode-editorCodeLens-lineHeight: 16px; --vscode-editorCodeLens-fontSize: 12px; --vscode-editorCodeLens-fontFeatureSettings: &quot;liga&quot; off, &quot;calt&quot; off; display: none;"><div class="monaco-editor no-user-select  showUnused showDeprecated vs" role="code" data-uri="inmemory://model/30" style="width: 338px; height: 200px;"><div data-mprt="3" class="overflow-guard" style="width: 338px; height: 200px; overflow: clip;"><div class="margin" role="presentation" aria-hidden="true" style="position: absolute; contain: strict; will-change: unset; top: 0px; height: 200px; width: 6px;"><div class="glyph-margin" style="left: 0px; width: 0px; height: 200px;"></div><div class="margin-view-zones" role="presentation" aria-hidden="true" style="position: absolute;"></div><div class="margin-view-overlays" role="presentation" aria-hidden="true" style="position: absolute; font-family: monospace, Consolas, &quot;Courier New&quot;, monospace; font-weight: normal; font-size: 14px; font-feature-settings: &quot;liga&quot; 0, &quot;calt&quot; 0; font-variation-settings: normal; line-height: 19px; letter-spacing: 0px; width: 6px; height: 200px;"><div style="position:absolute;top:0px;width:100%;height:19px;"></div><div style="position:absolute;top:19px;width:100%;height:19px;"></div><div style="position:absolute;top:38px;width:100%;height:19px;"></div><div style="position:absolute;top:57px;width:100%;height:19px;"></div><div style="position:absolute;top:76px;width:100%;height:19px;"></div><div style="position:absolute;top:95px;width:100%;height:19px;"></div><div style="position:absolute;top:114px;width:100%;height:19px;"></div><div style="position:absolute;top:133px;width:100%;height:19px;"></div><div style="position:absolute;top:152px;width:100%;height:19px;"></div><div style="position:absolute;top:171px;width:100%;height:19px;"><div class="current-line current-line-margin-both" style="width:6px; height:19px;"></div></div></div><div class="glyph-margin-widgets" style="position: absolute; top: 0px;"></div></div><div class="monaco-scrollable-element editor-scrollable vs" role="presentation" data-mprt="5" style="position: absolute; overflow: hidden; left: 6px; width: 332px; height: 200px;"><div class="lines-content monaco-editor-background" style="position: absolute; overflow: hidden; width: 1e+06px; height: 200px; contain: strict; will-change: unset; top: 0px; left: 0px;"><div class="view-overlays" role="presentation" aria-hidden="true" style="position: absolute; font-family: monospace, Consolas, &quot;Courier New&quot;, monospace; font-weight: normal; font-size: 14px; font-feature-settings: &quot;liga&quot; 0, &quot;calt&quot; 0; font-variation-settings: normal; line-height: 19px; letter-spacing: 0px; height: 0px; width: 332px;"><div style="position:absolute;top:0px;width:100%;height:19px;"></div><div style="position:absolute;top:19px;width:100%;height:19px;"></div><div style="position:absolute;top:38px;width:100%;height:19px;"></div><div style="position:absolute;top:57px;width:100%;height:19px;"></div><div style="position:absolute;top:76px;width:100%;height:19px;"></div><div style="position:absolute;top:95px;width:100%;height:19px;"></div><div style="position:absolute;top:114px;width:100%;height:19px;"></div><div style="position:absolute;top:133px;width:100%;height:19px;"></div><div style="position:absolute;top:152px;width:100%;height:19px;"></div><div style="position:absolute;top:171px;width:100%;height:19px;"><div class="current-line" style="width:332px; height:19px;"></div></div></div><div role="presentation" aria-hidden="true" class="view-rulers"><div class="view-ruler" style="width: 2px; height: 200px; left: 615.938px;"></div></div><div class="view-zones" role="presentation" aria-hidden="true" style="position: absolute;"></div><div class="view-lines monaco-mouse-cursor-text" role="presentation" aria-hidden="true" data-mprt="7" style="position: absolute; font-family: monospace, Consolas, &quot;Courier New&quot;, monospace; font-weight: normal; font-size: 14px; font-feature-settings: &quot;liga&quot; 0, &quot;calt&quot; 0; font-variation-settings: normal; line-height: 19px; letter-spacing: 0px; width: 332px; height: 200px;"><div style="top:0px;height:19px;" class="view-line"><span><span class="mtk1">Kode&nbsp;di&nbsp;atas&nbsp;mengevaluasi&nbsp;kinerja&nbsp;model&nbsp;</span></span></div><div style="top:19px;height:19px;" class="view-line"><span><span class="mtk1">regresi&nbsp;polinomial&nbsp;dengan&nbsp;menghitung&nbsp;MSE&nbsp;</span></span></div><div style="top:38px;height:19px;" class="view-line"><span><span class="mtk1">untuk&nbsp;mengukur&nbsp;rata-rata&nbsp;kesalahan&nbsp;</span></span></div><div style="top:57px;height:19px;" class="view-line"><span><span class="mtk1">kuadrat,&nbsp;MAE&nbsp;untuk&nbsp;mengukur&nbsp;rata-rata&nbsp;</span></span></div><div style="top:76px;height:19px;" class="view-line"><span><span class="mtk1">selisih&nbsp;absolut,&nbsp;dan&nbsp;R²&nbsp;untuk&nbsp;menilai&nbsp;</span></span></div><div style="top:95px;height:19px;" class="view-line"><span><span class="mtk1">seberapa&nbsp;baik&nbsp;model&nbsp;menjelaskan&nbsp;</span></span></div><div style="top:114px;height:19px;" class="view-line"><span><span class="mtk1">variabilitas&nbsp;data.&nbsp;Hasil&nbsp;evaluasi&nbsp;ini&nbsp;</span></span></div><div style="top:133px;height:19px;" class="view-line"><span><span class="mtk1">digunakan&nbsp;untuk&nbsp;membandingkan&nbsp;akurasi&nbsp;</span></span></div><div style="top:152px;height:19px;" class="view-line"><span><span class="mtk1">regresi&nbsp;polinomial&nbsp;dengan&nbsp;model&nbsp;regresi&nbsp;</span></span></div><div style="top:171px;height:19px;" class="view-line"><span><span class="mtk1">linear&nbsp;sebelumnya.</span></span></div></div><div data-mprt="1" class="contentWidgets" style="position: absolute; top: 0px;"><div class="lightBulbWidget codicon codicon-light-bulb" widgetid="LightBulbWidget" title="Show Code Actions (Ctrl+.)" style="position: absolute; display: none; visibility: hidden; max-width: 332px;"></div></div><div role="presentation" aria-hidden="true" class="cursors-layer cursor-line-style cursor-solid"><div class="cursor monaco-mouse-cursor-text " style="height: 19px; top: 171px; left: 138px; font-family: monospace, Consolas, &quot;Courier New&quot;, monospace; font-weight: normal; font-size: 14px; font-feature-settings: &quot;liga&quot; 0, &quot;calt&quot; 0; font-variation-settings: normal; line-height: 19px; letter-spacing: 0px; display: block; visibility: hidden; padding-left: 1px; width: 2px;"></div></div></div><div role="presentation" aria-hidden="true" class="invisible scrollbar horizontal" style="position: absolute; width: 318px; height: 10px; left: 0px; bottom: 0px;"><div class="slider" style="position: absolute; top: 0px; left: 0px; height: 10px; transform: translate3d(0px, 0px, 0px); contain: strict; will-change: unset; width: 318px;"></div></div><canvas class="decorationsOverviewRuler" aria-hidden="true" width="21" height="300" style="position: absolute; transform: translate3d(0px, 0px, 0px); contain: strict; top: 0px; right: 0px; width: 14px; height: 200px; will-change: unset; display: block;"></canvas><div role="presentation" aria-hidden="true" class="invisible scrollbar vertical" style="position: absolute; width: 14px; height: 200px; right: 0px; top: 0px;"><div class="slider" style="position: absolute; top: 0px; left: 0px; width: 14px; transform: translate3d(0px, 0px, 0px); contain: strict; will-change: unset; height: 200px;"></div></div></div><div role="presentation" aria-hidden="true" style="width: 338px;"></div><textarea data-mprt="6" class="inputarea monaco-mouse-cursor-text" wrap="on" autocorrect="off" autocapitalize="off" autocomplete="off" spellcheck="false" aria-label="Editor content;Press Alt+F1 for Accessibility Options." tabindex="0" role="textbox" aria-roledescription="editor" aria-multiline="true" aria-haspopup="false" aria-autocomplete="both" style="tab-size: 15.3984px; font-family: monospace, Consolas, &quot;Courier New&quot;, monospace; font-weight: normal; font-size: 14px; font-feature-settings: &quot;liga&quot; 0, &quot;calt&quot; 0; font-variation-settings: normal; line-height: 19px; letter-spacing: 0px; top: 171px; left: 6px; width: 316px; height: 1px;"></textarea><div style="position: absolute; top: 0px; left: 0px; width: 0px; height: 0px;" class="monaco-editor-background textAreaCover"></div><div data-mprt="4" class="overlayWidgets" style="width: 338px;"></div><div data-mprt="8" class="minimap slider-mouseover" role="presentation" aria-hidden="true" style="position: absolute; left: 0px; width: 0px; height: 200px;"><div class="minimap-shadow-hidden" style="height: 200px;"></div><canvas width="0" height="300" style="position: absolute; left: 0px; width: 0px; height: 200px;"></canvas><canvas class="minimap-decorations-layer" width="0" height="300" style="position: absolute; left: 0px; width: 0px; height: 200px;"></canvas><div class="minimap-slider" style="position: absolute; transform: translate3d(0px, 0px, 0px); contain: strict; width: 0px; will-change: unset;"><div class="minimap-slider-horizontal" style="position: absolute; width: 0px; height: 0px;"></div></div></div><div role="presentation" aria-hidden="true" class="blockDecorations-container"></div></div><div data-mprt="2" class="overflowingContentWidgets" style="display: none;"><div class="inlineSuggestionsHints withBorder" widgetid="InlineSuggestionHintsContentWidget58" style="position: fixed; display: none; visibility: hidden; max-width: 680px;"><div style="display: flex;"><div class="custom-actions"><div class="monaco-action-bar animated"><ul class="actions-container" role="toolbar"><li class="action-item disabled" role="presentation" title="Previous (Alt+[)"><a class="action-label codicon codicon-inline-suggestion-hints-previous disabled" role="button" aria-label="Previous (Alt+[)" aria-checked="" aria-disabled="true" tabindex="0"></a></li><li class="action-item disabled" role="presentation" title=""><a class="action-label disabled" role="button" aria-label="" aria-disabled="true" aria-checked=""></a></li><li class="action-item disabled" role="presentation" title="Next (Alt+])"><a class="action-label codicon codicon-inline-suggestion-hints-next disabled" role="button" aria-label="Next (Alt+])" aria-checked="" aria-disabled="true"></a></li></ul></div></div><div><div class="monaco-toolbar"><div class="monaco-action-bar animated"><ul class="actions-container" role="toolbar"><li class="action-item disabled menu-entry" role="presentation" title="Accept (Tab)"><a class="action-label inlineSuggestionStatusBarItemLabel disabled" role="button" aria-label="Accept (Tab)" aria-disabled="true" aria-checked="" tabindex="0">Accept<div class="keybinding"><div class="monaco-keybinding"><span class="monaco-keybinding-key">Tab</span></div></div></a></li><li class="action-item disabled menu-entry" role="presentation" title="Accept Word (Ctrl+RightArrow)"><a class="action-label inlineSuggestionStatusBarItemLabel disabled" role="button" aria-label="Accept Word (Ctrl+RightArrow)" aria-disabled="true" aria-checked="">Accept Word<div class="keybinding"><div class="monaco-keybinding"><span class="monaco-keybinding-key">Ctrl</span><span class="monaco-keybinding-key-separator">+</span><span class="monaco-keybinding-key">RightArrow</span></div></div></a></li><li class="action-item" role="presentation"><div class="monaco-dropdown"><div class="dropdown-label"><a class="action-label codicon codicon-toolbar-more" role="button" aria-haspopup="true" aria-expanded="false" title="More Actions..." aria-label="More Actions..."></a></div></div></li></ul></div></div></div></div></div><div widgetid="editor.contrib.resizableContentHoverWidget" style="position: fixed; height: 10px; width: 10px; z-index: 50; display: none; visibility: hidden; max-width: 680px;"><div class="monaco-sash vertical" style="left: 8px;"></div><div class="monaco-sash vertical" style="left: -2px;"></div><div class="monaco-sash orthogonal-edge-north horizontal" style="top: -2px;"><div class="orthogonal-drag-handle start"></div><div class="orthogonal-drag-handle end"></div></div><div class="monaco-sash orthogonal-edge-south horizontal" style="top: 8px;"><div class="orthogonal-drag-handle start"></div><div class="orthogonal-drag-handle end"></div></div><div class="monaco-hover hidden" role="tooltip" tabindex="0"><div class="monaco-scrollable-element " role="presentation" style="position: relative; overflow: hidden;"><div class="monaco-hover-content" style="overflow: hidden; font-size: 14px; line-height: 1.35714; max-width: 500px; max-height: 250px;"></div><div role="presentation" aria-hidden="true" class="invisible scrollbar horizontal" style="position: absolute;"><div class="slider" style="position: absolute; top: 0px; left: 0px; height: 10px; transform: translate3d(0px, 0px, 0px); contain: strict;"></div></div><div role="presentation" aria-hidden="true" class="invisible scrollbar vertical" style="position: absolute;"><div class="slider" style="position: absolute; top: 0px; left: 0px; width: 10px; transform: translate3d(0px, 0px, 0px); contain: strict;"></div></div><div class="shadow"></div><div class="shadow"></div><div class="shadow"></div></div></div></div></div><div class=".in-cell-overflowing"><div widgetid="editor.contrib.quickInputWidget" style="position: absolute; top: 0px; right: 50%;"></div></div></div></div></div>
        <div class="text-top-div">
          <div class="markdown"><span><p>Kode di atas mengevaluasi kinerja model regresi polinomial dengan menghitung MSE untuk mengukur rata-rata kesalahan kuadrat, MAE untuk mengukur rata-rata selisih absolut, dan R² untuk menilai seberapa baik model menjelaskan variabilitas data. Hasil evaluasi ini digunakan untuk membandingkan akurasi regresi polinomial dengan model regresi linear sebelumnya.</p>
</span></div>
        </div>
      </div>

      <div class="section-header" style="display: none;">
        <colab-run-button><template shadowrootmode="open"><!----> <div class="cell-execution">
      <button id="run-button" aria-label="Run cell" aria-disabled="false">
        <!--?lit$160999733$--><span class="execution-count"><!--?lit$160999733$-->[ ]</span>
        <span aria-hidden="true" class="cell-execution-indicator"><!--?lit$160999733$-->
<svg xmlns="http://www.w3.org/2000/svg" viewBox="0 0 24 24">
  <!--?lit$160999733$-->
  <mask id="playSymbolMask">
    <rect width="100%" height="100%" fill="white"></rect>
    <polygon points="10,8 17,12 10,16" fill="black"></polygon>
  </mask>
  <circle cx="12" cy="12" r="7.8" mask="url(#playSymbolMask)" id="filledCircle"></circle>
</svg></span>
      </button>
      <!--?lit$160999733$-->
      <!--?lit$160999733$--><!--?-->
    </div></template></colab-run-button>
        <div class="section-header-container" title="click to expand">
          <md-icon aria-hidden="true"><template shadowrootmode="open"><!----><slot></slot></template>subdirectory_arrow_right</md-icon>
          <span>0 cells hidden</span>
        </div>
      </div></div></div><div class="add-cell">
      <div class="add-cell-buttons">
        <md-outlined-button class="add-code add-button" data-aria-label="Add code cell
Ctrl+M B" title="Add code cell
Ctrl+M B" value="" has-icon=""><template shadowrootmode="open" shadowrootdelegatesfocus><!---->
      <!--?lit$160999733$--><div class="outline"></div>
      <div class="background"></div>
      <md-focus-ring part="focus-ring" for="button" aria-hidden="true"><template shadowrootmode="open"><!----></template></md-focus-ring>
      <md-ripple part="ripple" for="button" aria-hidden="true"><template shadowrootmode="open"><!----><div class="surface"></div></template></md-ripple>
      <!--?lit$160999733$--><button id="button" class="button" aria-label="Add code cell
Ctrl+M B">
      <!--?lit$160999733$-->
      <span class="touch"></span>
      <!--?lit$160999733$--><slot name="icon"></slot>
      <span class="label"><slot></slot></span>
      <!--?lit$160999733$-->
    
    </button>
    </template>
          <md-icon slot="icon" aria-hidden="true"><template shadowrootmode="open"><!----><slot></slot></template>add</md-icon>
          <!--?lit$160999733$-->Code
        </md-outlined-button>
        <md-outlined-button class="add-text add-button" data-aria-label="Add text cell" title="Add text cell" value="" has-icon=""><template shadowrootmode="open" shadowrootdelegatesfocus><!---->
      <!--?lit$160999733$--><div class="outline"></div>
      <div class="background"></div>
      <md-focus-ring part="focus-ring" for="button" aria-hidden="true"><template shadowrootmode="open"><!----></template></md-focus-ring>
      <md-ripple part="ripple" for="button" aria-hidden="true"><template shadowrootmode="open"><!----><div class="surface   "></div></template></md-ripple>
      <!--?lit$160999733$--><button id="button" class="button" aria-label="Add text cell">
      <!--?lit$160999733$-->
      <span class="touch"></span>
      <!--?lit$160999733$--><slot name="icon"></slot>
      <span class="label"><slot></slot></span>
      <!--?lit$160999733$-->
    
    </button>
    </template>
          <md-icon slot="icon" aria-hidden="true"><template shadowrootmode="open"><!----><slot></slot></template>add</md-icon>
          <!--?lit$160999733$-->Text
        </md-outlined-button>
        <!--?lit$160999733$-->
      </div><hr>
    </div></div></div>
              </div>
            </div>
          <section class="sidebar" aria-label="Comments" style="display: none;"></section></div>
          <!--?lit$160999733$--> <div class="footer-links">
      <a target="_blank" href="https://colab.research.google.com/signup?utm_source=footer&amp;utm_medium=link&amp;utm_campaign=footer_links">
        <!--?lit$160999733$-->Colab paid products
      </a>
      -
      <a href="https://colab.research.google.com/cancel-subscription" target="_blank">
        <!--?lit$160999733$-->Cancel contracts here
      </a>
    </div>
        </div>
      </colab-shaded-scroller>
      <div class="notebook-scroll-shadow" style=""></div>
    </div></colab-tab></div>
  </div></colab-tab-pane>
      <colab-resizer style="height: 33.3%" class="sn-resize no-tabs"><div class="resizer-thumb"></div>
        <!--?lit$160999733$--><colab-tab-pane class="layout vertical grow no-tabs" align="horizontal"><!----> <div class="layout vertical grow">
    <div class="tab-pane-header layout horizontal noshrink">
      <md-tabs><template shadowrootmode="open"><!---->
      <div class="tabs">
        <slot></slot>
      </div>
      <md-divider part="divider"><template shadowrootmode="open"><!----></template></md-divider>
    </template></md-tabs>
      <div class="layout grow"></div>
      <!--?lit$160999733$--> <md-icon-button data-aria-expanded="false" data-aria-haspopup="menu" title="More tab actions" data-aria-label="More tab actions" value=""><template shadowrootmode="open" shadowrootdelegatesfocus><!----><button id="button" class="icon-button  standard " aria-label="More tab actions" aria-haspopup="menu" aria-expanded="false">
        <!--?lit$160999733$--><md-focus-ring part="focus-ring" for="button" aria-hidden="true"><template shadowrootmode="open"><!----></template></md-focus-ring>
        <!--?lit$160999733$--><md-ripple aria-hidden="true"><template shadowrootmode="open"><!----><div class="surface   "></div></template></md-ripple>
        <!--?lit$160999733$--><span class="icon"><slot></slot></span>
        <!--?lit$160999733$-->
        <!--?lit$160999733$--><span class="touch"></span>
  </button></template>
    <md-icon aria-hidden="true"><template shadowrootmode="open"><!----><slot></slot></template>more_horiz</md-icon>
  </md-icon-button>
    </div>
    <div class="layout vertical grow tab-pane-container"> </div>
  </div></colab-tab-pane>
      </colab-resizer>
    </div>
      <colab-resizer style="width: 37%" class="we-resize no-tabs"><div class="resizer-thumb"></div>
        <!--?lit$160999733$--> <div class="layout vertical tab-pane-parent">
      <!--?lit$160999733$--><colab-tab-pane class="layout vertical grow no-tabs" align="horizontal"><!----> <div class="layout vertical grow">
    <div class="tab-pane-header layout horizontal noshrink">
      <md-tabs><template shadowrootmode="open"><!---->
      <div class="tabs">
        <slot></slot>
      </div>
      <md-divider part="divider"><template shadowrootmode="open"><!----></template></md-divider>
    </template></md-tabs>
      <div class="layout grow"></div>
      <!--?lit$160999733$--> <md-icon-button data-aria-expanded="false" data-aria-haspopup="menu" title="More tab actions" data-aria-label="More tab actions" value=""><template shadowrootmode="open" shadowrootdelegatesfocus><!----><button id="button" class="icon-button  standard " aria-label="More tab actions" aria-haspopup="menu" aria-expanded="false">
        <!--?lit$160999733$--><md-focus-ring part="focus-ring" for="button" aria-hidden="true"><template shadowrootmode="open"><!----></template></md-focus-ring>
        <!--?lit$160999733$--><md-ripple aria-hidden="true"><template shadowrootmode="open"><!----><div class="surface   "></div></template></md-ripple>
        <!--?lit$160999733$--><span class="icon"><slot></slot></span>
        <!--?lit$160999733$-->
        <!--?lit$160999733$--><span class="touch"></span>
  </button></template>
    <md-icon aria-hidden="true"><template shadowrootmode="open"><!----><slot></slot></template>more_horiz</md-icon>
  </md-icon-button>
    </div>
    <div class="layout vertical grow tab-pane-container"> </div>
  </div></colab-tab-pane>
      <colab-resizer style="height: 33.3%" class="sn-resize no-tabs"><div class="resizer-thumb"></div>
        <!--?lit$160999733$--><colab-tab-pane class="layout vertical grow no-tabs" align="horizontal"><!----> <div class="layout vertical grow">
    <div class="tab-pane-header layout horizontal noshrink">
      <md-tabs><template shadowrootmode="open"><!---->
      <div class="tabs">
        <slot></slot>
      </div>
      <md-divider part="divider"><template shadowrootmode="open"><!----></template></md-divider>
    </template></md-tabs>
      <div class="layout grow"></div>
      <!--?lit$160999733$--> <md-icon-button data-aria-expanded="false" data-aria-haspopup="menu" title="More tab actions" data-aria-label="More tab actions" value=""><template shadowrootmode="open" shadowrootdelegatesfocus><!----><button id="button" class="icon-button  standard " aria-label="More tab actions" aria-haspopup="menu" aria-expanded="false">
        <!--?lit$160999733$--><md-focus-ring part="focus-ring" for="button" aria-hidden="true"><template shadowrootmode="open"><!----></template></md-focus-ring>
        <!--?lit$160999733$--><md-ripple aria-hidden="true"><template shadowrootmode="open"><!----><div class="surface   "></div></template></md-ripple>
        <!--?lit$160999733$--><span class="icon"><slot></slot></span>
        <!--?lit$160999733$-->
        <!--?lit$160999733$--><span class="touch"></span>
  </button></template>
    <md-icon aria-hidden="true"><template shadowrootmode="open"><!----><slot></slot></template>more_horiz</md-icon>
  </md-icon-button>
    </div>
    <div class="layout vertical grow tab-pane-container"> </div>
  </div></colab-tab-pane>
      </colab-resizer>
    </div>
      </colab-resizer>
    </div></colab-tab-layout-container>
        </div>
        <div class="proxies"><div><colab-dom-lifecycle-events style="display: none;"></colab-dom-lifecycle-events><iframe allow="" sandbox="allow-downloads allow-forms allow-pointer-lock allow-popups allow-popups-to-escape-sandbox allow-same-origin allow-scripts allow-storage-access-by-user-activation" src="./AVD_TGS1_files/outputframe(4).html" style="width: 1px; height: 1px; position: absolute; top: -100px;"></iframe></div><div><colab-dom-lifecycle-events style="display: none;"></colab-dom-lifecycle-events><iframe allow="accelerometer; autoplay; gyroscope; magnetometer; xr-spatial-tracking; clipboard-write" sandbox="allow-downloads allow-forms allow-pointer-lock allow-popups allow-popups-to-escape-sandbox allow-same-origin allow-scripts allow-storage-access-by-user-activation allow-modals" src="./AVD_TGS1_files/outputframe(5).html" style="width: 1px; height: 1px; position: absolute; top: -100px;"></iframe></div></div>
      <colab-file-viewer-manager></colab-file-viewer-manager></div>
    <colab-status-bar role="region" aria-label="Runtime status bar" style="min-height: inherit;"><template shadowrootmode="open"><!----><!--?lit$160999733$--> <!--?lit$160999733$--> <div class="cell-status">
        <button><!--?lit$160999733$--><md-icon class="success" aria-hidden="true"><template shadowrootmode="open"><!----><slot></slot></template><!--?lit$160999733$--><svg viewBox="0 0 24 24"><!--?lit$160999733$--><path d="M9 16.17L4.83 12l-1.42 1.41L9 19 21 7l-1.41-1.41z"></path></svg></md-icon>&nbsp; <!--?lit$160999733$-->0s</button>
        <button><!--?lit$160999733$-->completed at 10:53 PM</button>
      </div>
      <md-icon-button class="visible-on-closed" title="Connected" disabled="" value="" data-aria-label="Connected"><template shadowrootmode="open" shadowrootdelegatesfocus><!----><button id="button" class="icon-button  standard " aria-label="Connected" disabled="">
        <!--?lit$160999733$--><md-focus-ring part="focus-ring" for="button" aria-hidden="true"><template shadowrootmode="open"><!----></template></md-focus-ring>
        <!--?lit$160999733$--><md-ripple disabled="" aria-hidden="true"><template shadowrootmode="open"><!----><div class="surface   "></div></template></md-ripple>
        <!--?lit$160999733$--><span class="icon"><slot></slot></span>
        <!--?lit$160999733$-->
        <!--?lit$160999733$--><span class="touch"></span>
  </button></template>
        <md-icon filled="" class="visible-on-closed" status="icon-okay" aria-hidden="true"><template shadowrootmode="open"><!----><slot></slot></template><!--?lit$160999733$-->fiber_manual_record</md-icon>
      </md-icon-button>
      <!--?lit$160999733$-->
      <md-icon-button title="Close" data-aria-label="Close" value=""><template shadowrootmode="open" shadowrootdelegatesfocus><!----><button id="button" class="icon-button  standard " aria-label="Close">
        <!--?lit$160999733$--><md-focus-ring part="focus-ring" for="button" aria-hidden="true"><template shadowrootmode="open"><!----></template></md-focus-ring>
        <!--?lit$160999733$--><md-ripple aria-hidden="true"><template shadowrootmode="open"><!----><div class="surface   "></div></template></md-ripple>
        <!--?lit$160999733$--><span class="icon"><slot></slot></span>
        <!--?lit$160999733$-->
        <!--?lit$160999733$--><span class="touch"></span>
  </button></template>
        <md-icon aria-hidden="true"><template shadowrootmode="open"><!----><slot></slot></template>close</md-icon>
      </md-icon-button></template></colab-status-bar></div><div class="goog-menu colab-styled-scroller" id="file-menu" role="menu" aria-haspopup="true" style="user-select: none; max-height: 526px; visibility: visible; left: 68px; top: 62px; display: none;"><!--?lit$160999733$--><div command="locate-in-drive" class="goog-menuitem" role="menuitem" id=":2" style="user-select: none;"><div class="goog-menuitem-content" style="user-select: none;"><!--?lit$160999733$-->Locate in Drive<!--?lit$160999733$--></div></div><div command="open-in-playground" class="goog-menuitem" role="menuitem" id=":3" style="user-select: none;"><div class="goog-menuitem-content" style="user-select: none;"><!--?lit$160999733$-->Open in playground mode<!--?lit$160999733$--></div></div><div class="goog-menuseparator goog-menuitem-disabled" aria-disabled="true" role="separator" id=":4" style="user-select: none;"></div><div command="new" class="goog-menuitem" role="menuitem" id=":5" style="user-select: none;"><div class="goog-menuitem-content" style="user-select: none;"><!--?lit$160999733$-->New notebook in Drive<!--?lit$160999733$--></div></div><div command="open" class=" goog-menuitem " role="menuitem" id=":6" style="user-select: none;"><div class="goog-menuitem-content" style="user-select: none;"><!--?lit$160999733$-->Open notebook<!--?lit$160999733$--><span class="goog-menuitem-accel">Ctrl+O</span></div></div><div command="import-notebook" class="goog-menuitem" role="menuitem" id=":7" style="user-select: none;"><div class="goog-menuitem-content" style="user-select: none;"><!--?lit$160999733$-->Upload notebook<!--?lit$160999733$--></div></div><div class="goog-menuseparator goog-menuitem-disabled" aria-disabled="true" role="separator" id=":8" style="user-select: none;"></div><div command="rename" class="goog-menuitem" role="menuitem" id=":9" style="user-select: none;"><div class="goog-menuitem-content" style="user-select: none;"><!--?lit$160999733$-->Rename<!--?lit$160999733$--></div></div><div command="move-notebook" class="goog-menuitem" role="menuitem" id=":a" style="user-select: none;"><div class="goog-menuitem-content" style="user-select: none;"><!--?lit$160999733$-->Move<!--?lit$160999733$--></div></div><div command="trash" class="goog-menuitem" role="menuitem" id=":b" style="user-select: none;"><div class="goog-menuitem-content" style="user-select: none;"><!--?lit$160999733$-->Move to trash<!--?lit$160999733$--></div></div><div class="goog-menuseparator goog-menuitem-disabled" aria-disabled="true" role="separator" id=":c" style="user-select: none;"></div><div command="clone" class=" goog-menuitem " role="menuitem" id=":d" style="user-select: none;"><div class="goog-menuitem-content" style="user-select: none;"><!--?lit$160999733$-->Save a copy in Drive<!--?lit$160999733$--></div></div><div command="copy-to-gist" class=" goog-menuitem " role="menuitem" id=":e" style="user-select: none;"><div class="goog-menuitem-content" style="user-select: none;"><!--?lit$160999733$-->Save a copy as a GitHub Gist<!--?lit$160999733$--></div></div><div command="copy-to-github" class=" goog-menuitem " role="menuitem" id=":f" style="user-select: none;"><div class="goog-menuitem-content" style="user-select: none;"><!--?lit$160999733$-->Save a copy in GitHub<!--?lit$160999733$--></div></div><div class="goog-menuseparator goog-menuitem-disabled" aria-disabled="true" role="separator" id=":g" style="user-select: none;"></div><div command="save" class=" goog-menuitem " role="menuitem" id=":h" style="user-select: none;"><div class="goog-menuitem-content" style="user-select: none;"><!--?lit$160999733$-->Save<!--?lit$160999733$--><span class="goog-menuitem-accel">Ctrl+S</span></div></div><div command="save-and-checkpoint" class=" goog-menuitem " role="menuitem" id=":i" style="user-select: none;"><div class="goog-menuitem-content" style="user-select: none;"><!--?lit$160999733$-->Save and pin revision<!--?lit$160999733$--><span class="goog-menuitem-accel">Ctrl+M S</span></div></div><div command="show-history" class=" goog-menuitem " role="menuitem" id=":j" style="user-select: none;"><div class="goog-menuitem-content" style="user-select: none;"><!--?lit$160999733$-->Revision history<!--?lit$160999733$--></div></div><div class="goog-menuseparator goog-menuitem-disabled" aria-disabled="true" role="separator" id=":k" style="user-select: none;"></div><div class="goog-submenu goog-menuitem" id="download-submenu-menu-button" role="menuitem" aria-haspopup="true" style="user-select: none;"><div class="goog-menuitem-content" style="user-select: none;">
      <!--?lit$160999733$-->Download
    <span class="goog-submenu-arrow" style="user-select: none;">►</span></div></div><div command="print" class=" goog-menuitem " role="menuitem" id=":o" style="user-select: none;"><div class="goog-menuitem-content" style="user-select: none;"><!--?lit$160999733$-->Print<!--?lit$160999733$--><span class="goog-menuitem-accel">Ctrl+P</span></div></div></div><div class="goog-menu" id="download-submenu-menu" role="menu" aria-haspopup="true" style="display: none; user-select: none;"><!--?lit$160999733$--><div command="download-ipynb" class=" goog-menuitem " role="menuitem" id=":m" style="user-select: none;"><div class="goog-menuitem-content" style="user-select: none;"><!--?lit$160999733$-->Download .ipynb<!--?lit$160999733$--></div></div><div command="download-python" class=" goog-menuitem " role="menuitem" id=":n" style="user-select: none;"><div class="goog-menuitem-content" style="user-select: none;"><!--?lit$160999733$-->Download .py<!--?lit$160999733$--></div></div></div><div class="goog-menu" id="edit-menu" role="menu" aria-haspopup="true" style="display: none; user-select: none;"><!--?lit$160999733$--><div command="undo" class=" goog-menuitem " role="menuitem" id=":q" style="user-select: none;"><div class="goog-menuitem-content" style="user-select: none;"><!--?lit$160999733$-->Undo<!--?lit$160999733$--></div></div><div command="redo" class=" goog-menuitem " role="menuitem" id=":r" style="user-select: none;"><div class="goog-menuitem-content" style="user-select: none;"><!--?lit$160999733$-->Redo<!--?lit$160999733$--></div></div><div class="goog-menuseparator goog-menuitem-disabled" aria-disabled="true" role="separator" id=":s" style="user-select: none;"></div><div command="select-all" class=" goog-menuitem " role="menuitem" id=":t" style="user-select: none;"><div class="goog-menuitem-content" style="user-select: none;"><!--?lit$160999733$-->Select all cells<!--?lit$160999733$--></div></div><div command="cut" class=" goog-menuitem " role="menuitem" id=":u" style="user-select: none;"><div class="goog-menuitem-content" style="user-select: none;"><!--?lit$160999733$-->Cut cell or selection<!--?lit$160999733$--></div></div><div command="copy" class=" goog-menuitem " role="menuitem" id=":v" style="user-select: none;"><div class="goog-menuitem-content" style="user-select: none;"><!--?lit$160999733$-->Copy cell or selection<!--?lit$160999733$--></div></div><div command="paste" class=" goog-menuitem " role="menuitem" id=":w" style="user-select: none;"><div class="goog-menuitem-content" style="user-select: none;"><!--?lit$160999733$-->Paste<!--?lit$160999733$--></div></div><div command="delete-cell-or-selection" class=" goog-menuitem " role="menuitem" id=":x" style="user-select: none;"><div class="goog-menuitem-content" style="user-select: none;"><!--?lit$160999733$-->Delete selected cells<!--?lit$160999733$--></div></div><div class="goog-menuseparator goog-menuitem-disabled" aria-disabled="true" role="separator" id=":y" style="user-select: none;"></div><div command="find" class=" goog-menuitem " role="menuitem" id=":z" style="user-select: none;"><div class="goog-menuitem-content" style="user-select: none;"><!--?lit$160999733$-->Find and replace<!--?lit$160999733$--></div></div><div command="find-next" class=" goog-menuitem " role="menuitem" id=":10" style="user-select: none;"><div class="goog-menuitem-content" style="user-select: none;"><!--?lit$160999733$-->Find next<!--?lit$160999733$--></div></div><div command="find-previous" class=" goog-menuitem " role="menuitem" id=":11" style="user-select: none;"><div class="goog-menuitem-content" style="user-select: none;"><!--?lit$160999733$-->Find previous<!--?lit$160999733$--></div></div><div class="goog-menuseparator goog-menuitem-disabled" aria-disabled="true" role="separator" id=":12" style="user-select: none;"></div><div command="notebook-settings" class=" goog-menuitem " role="menuitem" id=":13" style="user-select: none;"><div class="goog-menuitem-content" style="user-select: none;"><!--?lit$160999733$-->Notebook settings<!--?lit$160999733$--></div></div><div class="goog-menuseparator goog-menuitem-disabled" aria-disabled="true" role="separator" id=":14" style="user-select: none;"></div><div command="clear-outputs" class=" goog-menuitem " role="menuitem" id=":15" style="user-select: none;"><div class="goog-menuitem-content" style="user-select: none;"><!--?lit$160999733$-->Clear all outputs<!--?lit$160999733$--></div></div></div><div class="goog-menu" id="view-menu" role="menu" aria-haspopup="true" style="display: none; user-select: none;"><!--?lit$160999733$--><div command="show-toc-pane" class="goog-menuitem goog-option" role="menuitemcheckbox" aria-checked="false" id=":17" style="user-select: none;"><div class="goog-menuitem-content" style="user-select: none;"><div class="goog-menuitem-checkbox" style="user-select: none;"><!----><md-icon aria-hidden="true"><template shadowrootmode="open"><!----><slot></slot></template>check</md-icon> </div><!--?lit$160999733$-->Table of contents<!--?lit$160999733$--></div></div><div command="show-fileinfo" class=" goog-menuitem " role="menuitem" id=":18" style="user-select: none;"><div class="goog-menuitem-content" style="user-select: none;"><!--?lit$160999733$-->Notebook info<!--?lit$160999733$--></div></div><div command="show-executedcode" class=" goog-menuitem " role="menuitem" id=":19" style="user-select: none;"><div class="goog-menuitem-content" style="user-select: none;"><!--?lit$160999733$-->Executed code history<!--?lit$160999733$--></div></div><div class="goog-submenu goog-menuitem" id="comments-submenu-menu-button" role="menuitem" aria-haspopup="true" style="user-select: none;"><div class="goog-menuitem-content" style="user-select: none;">
      <!--?lit$160999733$-->Comments
    <span class="goog-submenu-arrow" style="user-select: none;">►</span></div></div><div class="goog-menuseparator goog-menuitem-disabled" aria-disabled="true" role="separator" id=":1e" style="user-select: none;"></div><div command="collapse-sections" class=" goog-menuitem " role="menuitem" id=":1f" style="user-select: none;"><div class="goog-menuitem-content" style="user-select: none;"><!--?lit$160999733$-->Collapse sections<!--?lit$160999733$--></div></div><div command="expand-sections" class=" goog-menuitem " role="menuitem" id=":1g" style="user-select: none;"><div class="goog-menuitem-content" style="user-select: none;"><!--?lit$160999733$-->Expand sections<!--?lit$160999733$--></div></div><div command="save-section-layout" class=" goog-menuitem " role="menuitem" id=":1h" style="user-select: none;"><div class="goog-menuitem-content" style="user-select: none;"><!--?lit$160999733$-->Save collapsed section layout<!--?lit$160999733$--></div></div><div class="goog-menuseparator goog-menuitem-disabled" aria-disabled="true" role="separator" id=":1i" style="user-select: none;"></div><div command="hide-code" class=" goog-menuitem " role="menuitem" id=":1j" style="user-select: none;"><div class="goog-menuitem-content" style="user-select: none;"><!--?lit$160999733$-->Show/hide code<!--?lit$160999733$--></div></div><div command="toggle-output" class=" goog-menuitem " role="menuitem" id=":1k" style="user-select: none;"><div class="goog-menuitem-content" style="user-select: none;"><!--?lit$160999733$-->Show/hide output<!--?lit$160999733$--></div></div><div class="goog-menuseparator goog-menuitem-disabled" aria-disabled="true" role="separator" id=":1l" style="user-select: none;"></div><div command="focus-next-tab" class=" goog-menuitem " role="menuitem" id=":1m" style="user-select: none;"><div class="goog-menuitem-content" style="user-select: none;"><!--?lit$160999733$-->Focus next tab<!--?lit$160999733$--></div></div><div command="focus-previous-tab" class=" goog-menuitem " role="menuitem" id=":1n" style="user-select: none;"><div class="goog-menuitem-content" style="user-select: none;"><!--?lit$160999733$-->Focus previous tab<!--?lit$160999733$--></div></div><div command="move-tab-to-next" class=" goog-menuitem " role="menuitem" id=":1o" style="user-select: none;"><div class="goog-menuitem-content" style="user-select: none;"><!--?lit$160999733$-->Move tab to next pane<!--?lit$160999733$--></div></div><div command="move-tab-to-prev" class=" goog-menuitem " role="menuitem" id=":1p" style="user-select: none;"><div class="goog-menuitem-content" style="user-select: none;"><!--?lit$160999733$-->Move tab to previous pane<!--?lit$160999733$--></div></div></div><div class="goog-menu" id="comments-submenu-menu" role="menu" aria-haspopup="true" style="display: none; user-select: none;"><!--?lit$160999733$--><div command="hide-sidebar-comments" class=" goog-menuitem goog-option-selectable " role="menuitem" id=":1b" style="user-select: none;"><div class="goog-menuitem-content" style="user-select: none;"><!--?lit$160999733$-->Hide comments<!--?lit$160999733$--></div></div><div command="show-minimized-sidebar-comments" class=" goog-menuitem goog-option-selectable " role="menuitem" id=":1c" style="user-select: none;"><div class="goog-menuitem-content" style="user-select: none;"><!--?lit$160999733$-->Minimize comments<!--?lit$160999733$--></div></div><div command="show-expanded-sidebar-comments" class=" goog-menuitem goog-option-selectable " role="menuitem" id=":1d" style="user-select: none;"><div class="goog-menuitem-content" style="user-select: none;"><!--?lit$160999733$-->Expand comments<!--?lit$160999733$--></div></div></div><div class="goog-menu" id="insert-menu" role="menu" aria-haspopup="true" style="display: none; user-select: none;"><!--?lit$160999733$--><div command="insert-cell-below" class=" goog-menuitem " role="menuitem" id=":1r" style="user-select: none;"><div class="goog-menuitem-content" style="user-select: none;"><!--?lit$160999733$-->Code cell<!--?lit$160999733$--></div></div><div command="add-text" class=" goog-menuitem " role="menuitem" id=":1s" style="user-select: none;"><div class="goog-menuitem-content" style="user-select: none;"><!--?lit$160999733$-->Text cell<!--?lit$160999733$--></div></div><div command="add-section-header" class=" goog-menuitem " role="menuitem" id=":1t" style="user-select: none;"><div class="goog-menuitem-content" style="user-select: none;"><!--?lit$160999733$-->Section header cell<!--?lit$160999733$--></div></div><div class="goog-menuseparator goog-menuitem-disabled" aria-disabled="true" role="separator" id=":1u" style="user-select: none;"></div><div command="open-scratch-code-cell" class=" goog-menuitem " role="menuitem" id=":1v" style="user-select: none;"><div class="goog-menuitem-content" style="user-select: none;"><!--?lit$160999733$-->Scratch code cell<!--?lit$160999733$--></div></div><div command="snippets" class=" goog-menuitem " role="menuitem" id=":1w" style="user-select: none;"><div class="goog-menuitem-content" style="user-select: none;"><!--?lit$160999733$-->Code snippets<!--?lit$160999733$--></div></div><div class="goog-menuseparator goog-menuitem-disabled" aria-disabled="true" role="separator" id=":1x" style="user-select: none;"></div><div command="add-form-field" class=" goog-menuitem " role="menuitem" id=":1y" style="user-select: none;"><div class="goog-menuitem-content" style="user-select: none;"><!--?lit$160999733$-->Add a form field<!--?lit$160999733$--></div></div></div><div class="goog-menu" id="runtime-menu" role="menu" aria-haspopup="true" style="display: none; user-select: none;"><!--?lit$160999733$--><div command="runall" class=" goog-menuitem " role="menuitem" id=":20" style="user-select: none;"><div class="goog-menuitem-content" style="user-select: none;"><!--?lit$160999733$-->Run all<!--?lit$160999733$--></div></div><div command="runbefore" class=" goog-menuitem " role="menuitem" id=":21" style="user-select: none;"><div class="goog-menuitem-content" style="user-select: none;"><!--?lit$160999733$-->Run before<!--?lit$160999733$--></div></div><div command="runfocused" class=" goog-menuitem " role="menuitem" id=":22" style="user-select: none;"><div class="goog-menuitem-content" style="user-select: none;"><!--?lit$160999733$-->Run the focused cell<!--?lit$160999733$--></div></div><div command="runselected" class=" goog-menuitem " role="menuitem" id=":23" style="user-select: none;"><div class="goog-menuitem-content" style="user-select: none;"><!--?lit$160999733$-->Run selection<!--?lit$160999733$--></div></div><div command="runafter" class=" goog-menuitem " role="menuitem" id=":24" style="user-select: none;"><div class="goog-menuitem-content" style="user-select: none;"><!--?lit$160999733$-->Run cell and below<!--?lit$160999733$--></div></div><div class="goog-menuseparator goog-menuitem-disabled" aria-disabled="true" role="separator" id=":25" style="user-select: none;"></div><div command="interrupt" class=" goog-menuitem " role="menuitem" id=":26" style="user-select: none;"><div class="goog-menuitem-content" style="user-select: none;"><!--?lit$160999733$-->Interrupt execution<!--?lit$160999733$--></div></div><div command="restart" class=" goog-menuitem " role="menuitem" id=":27" style="user-select: none;"><div class="goog-menuitem-content" style="user-select: none;"><!--?lit$160999733$-->Restart session<!--?lit$160999733$--></div></div><div command="restart-and-run-all" class=" goog-menuitem " role="menuitem" id=":28" style="user-select: none;"><div class="goog-menuitem-content" style="user-select: none;"><!--?lit$160999733$-->Restart session and run all<!--?lit$160999733$--></div></div><div command="powerwash-current-vm" class=" goog-menuitem " role="menuitem" id=":29" style="user-select: none;"><div class="goog-menuitem-content" style="user-select: none;"><!--?lit$160999733$-->Disconnect and delete runtime<!--?lit$160999733$--></div></div><div class="goog-menuseparator goog-menuitem-disabled" aria-disabled="true" role="separator" id=":2a" style="user-select: none;"></div><div command="change-runtime-type" class=" goog-menuitem " role="menuitem" id=":2b" style="user-select: none;"><div class="goog-menuitem-content" style="user-select: none;"><!--?lit$160999733$-->Change runtime type<!--?lit$160999733$--></div></div><div class="goog-menuseparator goog-menuitem-disabled" aria-disabled="true" role="separator" id=":2c" style="user-select: none;"></div><div command="manage-sessions" class=" goog-menuitem " role="menuitem" id=":2d" style="user-select: none;"><div class="goog-menuitem-content" style="user-select: none;"><!--?lit$160999733$-->Manage sessions<!--?lit$160999733$--></div></div><div command="open-resource-viewer" class=" goog-menuitem " role="menuitem" id=":2e" style="user-select: none;"><div class="goog-menuitem-content" style="user-select: none;"><!--?lit$160999733$-->View resources<!--?lit$160999733$--></div></div><div command="view-runtime-logs" class=" goog-menuitem " role="menuitem" id=":2f" style="user-select: none;"><div class="goog-menuitem-content" style="user-select: none;"><!--?lit$160999733$-->View runtime logs<!--?lit$160999733$--></div></div></div><div class="goog-menu" id="tools-menu" role="menu" aria-haspopup="true" style="display: none; user-select: none;"><!--?lit$160999733$--><div command="show-command-palette" class=" goog-menuitem " role="menuitem" id=":2h" style="user-select: none;"><div class="goog-menuitem-content" style="user-select: none;"><!--?lit$160999733$-->Command palette<!--?lit$160999733$--></div></div><div class="goog-menuseparator goog-menuitem-disabled" aria-disabled="true" role="separator" id=":2i" style="user-select: none;"></div><div command="preferences" class=" goog-menuitem " role="menuitem" id=":2j" style="user-select: none;"><div class="goog-menuitem-content" style="user-select: none;"><!--?lit$160999733$-->Settings<!--?lit$160999733$--></div></div><div command="shortcuts" class=" goog-menuitem " role="menuitem" id=":2k" style="user-select: none;"><div class="goog-menuitem-content" style="user-select: none;"><!--?lit$160999733$-->Keyboard shortcuts<!--?lit$160999733$--></div></div><div class="goog-menuseparator goog-menuitem-disabled" aria-disabled="true" role="separator" id=":2l" style="user-select: none;"></div><div command="open-differ" class=" goog-menuitem " role="menuitem" id=":2m" style="user-select: none;"><div class="goog-menuitem-content" style="user-select: none;"><!--?lit$160999733$-->Diff notebooks<!--?lit$160999733$--> <span class="screenreader-only" style="user-select: none;"><!--?lit$160999733$-->(opens in a new tab)</span></div></div></div><div class="goog-menu" id="help-menu" role="menu" aria-haspopup="true" style="display: none; user-select: none;"><!--?lit$160999733$--><div command="faq" class=" goog-menuitem " role="menuitem" id=":2o" style="user-select: none;"><div class="goog-menuitem-content" style="user-select: none;"><!--?lit$160999733$-->Frequently asked questions<!--?lit$160999733$--></div></div><div command="view-relnotes" class=" goog-menuitem " role="menuitem" id=":2p" style="user-select: none;"><div class="goog-menuitem-content" style="user-select: none;"><!--?lit$160999733$-->View release notes<!--?lit$160999733$--></div></div><div command="snippets" class=" goog-menuitem " role="menuitem" id=":2q" style="user-select: none;"><div class="goog-menuitem-content" style="user-select: none;"><!--?lit$160999733$-->Search code snippets<!--?lit$160999733$--></div></div><div class="goog-menuseparator goog-menuitem-disabled" aria-disabled="true" role="separator" id=":2r" style="user-select: none;"></div><div command="report-bug" class=" goog-menuitem " role="menuitem" id=":2s" style="user-select: none;"><div class="goog-menuitem-content" style="user-select: none;"><!--?lit$160999733$-->Report a bug<!--?lit$160999733$--></div></div><div command="report-abuse" class=" goog-menuitem " role="menuitem" id=":2t" style="user-select: none;"><div class="goog-menuitem-content" style="user-select: none;"><!--?lit$160999733$-->Report Drive abuse<!--?lit$160999733$--></div></div><div command="send-feedback" class=" goog-menuitem " role="menuitem" id=":2u" style="user-select: none;"><div class="goog-menuitem-content" style="user-select: none;"><!--?lit$160999733$-->Send feedback<!--?lit$160999733$--></div></div><div command="view-tos" class=" goog-menuitem " role="menuitem" id=":2v" style="user-select: none;"><div class="goog-menuitem-content" style="user-select: none;"><!--?lit$160999733$-->View terms of service<!--?lit$160999733$--></div></div></div><dialog class="doc-comments-area" aria-label="Comments"><!----><div class="doc-comments-buttons">
        <md-text-button command="add-comment" value="" has-icon=""><template shadowrootmode="open" shadowrootdelegatesfocus><!---->
      <!--?lit$160999733$-->
      <div class="background"></div>
      <md-focus-ring part="focus-ring" for="button" aria-hidden="true"><template shadowrootmode="open"><!----></template></md-focus-ring>
      <md-ripple part="ripple" for="button" aria-hidden="true"><template shadowrootmode="open"><!----><div class="surface   "></div></template></md-ripple>
      <!--?lit$160999733$--><button id="button" class="button">
      <!--?lit$160999733$-->
      <span class="touch"></span>
      <!--?lit$160999733$--><slot name="icon"></slot>
      <span class="label"><slot></slot></span>
      <!--?lit$160999733$-->
    
    </button>
    </template>
          <md-icon slot="icon" filled="" aria-hidden="true"><template shadowrootmode="open"><!----><slot></slot></template>comment</md-icon>
          <!--?lit$160999733$-->Add a comment
        </md-text-button>
      </div></dialog><div class="thumbnail"></div><iframe id="apiproxyb4ca6ba0ad853deb9ac9cda83eee963bb2f374840.1081111415" name="apiproxyb4ca6ba0ad853deb9ac9cda83eee963bb2f374840.1081111415" src="./AVD_TGS1_files/proxy.html" tabindex="-1" aria-hidden="true" style="width: 1px; height: 1px; position: absolute; top: -100px; display: none;"></iframe><div class="monaco-aria-container"><div class="monaco-alert" role="alert" aria-atomic="true" style="visibility: visible;">X: Any, Predict using the linear model.

Parameters
----------
X : array-like or sparse matrix, shape (n\_samples, n\_features)  
&amp;nbsp;&amp;nbsp;&amp;nbsp;&amp;nbsp;Samples.

Returns
-------
C : array, shape (n\_samples,)  
&amp;nbsp;&amp;nbsp;&amp;nbsp;&amp;nbsp;Returns predicted values., hint</div><div class="monaco-alert" role="alert" aria-atomic="true" style="visibility: visible;"></div><div class="monaco-status" role="complementary" aria-live="polite" aria-atomic="true"></div><div class="monaco-status" role="complementary" aria-live="polite" aria-atomic="true"></div></div><div><div class="grecaptcha-badge" data-style="bottomright" style="width: 256px; height: 60px; position: fixed; visibility: hidden; display: block; transition: right 0.3s; bottom: 14px; right: -186px; box-shadow: gray 0px 0px 5px; border-radius: 2px; overflow: hidden;"><div class="grecaptcha-logo"><iframe title="reCAPTCHA" width="256" height="60" role="presentation" name="a-77u51h29vx8u" frameborder="0" scrolling="no" sandbox="allow-forms allow-popups allow-same-origin allow-scripts allow-top-navigation allow-modals allow-popups-to-escape-sandbox allow-storage-access-by-user-activation" src="./AVD_TGS1_files/anchor.html"></iframe></div><div class="grecaptcha-error"></div><textarea id="g-recaptcha-response-100000" name="g-recaptcha-response" class="g-recaptcha-response" style="width: 250px; height: 40px; border: 1px solid rgb(193, 193, 193); margin: 10px 25px; padding: 0px; resize: none; display: none;"></textarea></div><iframe style="display: none;" src="./AVD_TGS1_files/saved_resource(1).html"></iframe></div><iframe src="./AVD_TGS1_files/bscframe.html" style="display: none;"></iframe><iframe frameborder="0" src="./AVD_TGS1_files/saved_resource(2).html" class="modal-dialog-bg" style="border: 0px; vertical-align: bottom; opacity: 0; width: 1280px; height: 593px; display: none;"></iframe><div class="modal-dialog-bg" style="opacity: 0.5; width: 1280px; height: 593px; display: none;"></div><div class="modal-dialog share-client-loading-dialog" tabindex="0" role="dialog" aria-labelledby=":80" style="left: 404.5px; top: 222.5px; display: none;"><div class="modal-dialog-title modal-dialog-title-draggable"><span class="modal-dialog-title-text" id=":80" role="heading">Loading...</span><span class="modal-dialog-title-close" role="button" tabindex="0" aria-label="Close"></span></div><div class="modal-dialog-content" id=":80.contentEl"><div class="share-client-loading-contents"><div class="share-client-spinner"> </div></div></div><div class="modal-dialog-buttons" style="display: none;"></div></div><span tabindex="0" style="position: absolute; left: 404.5px; top: 222.5px; display: none;"></span><div class="modal-dialog share-client-dialog full-screen-share-client-dialog team-drive-share-client-dialog share-client-offscreen" tabindex="-1" role="dialog" aria-labelledby=":81" guidedhelpid="drive_share_dialog" aria-hidden="true" style=""><div class="modal-dialog-title modal-dialog-title-draggable"><span class="modal-dialog-title-text" id=":81" role="heading"></span><span class="modal-dialog-title-close" role="button" tabindex="0" aria-label="Close" aria-hidden="true" style="display: none;"></span></div><div class="modal-dialog-content" id=":81.contentEl"><iframe frameborder="0" src="./AVD_TGS1_files/driveshare.html" class="share-client-content-iframe" title="Content" tabindex="-1"></iframe></div><div class="modal-dialog-buttons" style="display: none;"></div><div class="share-client-debug"></div></div><span tabindex="-1" style="position: absolute; left: 0px; top: 0px;"></span></body></html>